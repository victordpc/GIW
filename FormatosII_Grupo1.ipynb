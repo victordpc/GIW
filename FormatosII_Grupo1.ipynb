{
 "cells": [
  {
   "cell_type": "markdown",
   "metadata": {},
   "source": [
    "### Práctica de Formatos de datos: XML"
   ]
  },
  {
   "cell_type": "markdown",
   "metadata": {},
   "source": [
    "El objetivo de esta práctica es crear una aplicación que gestionará información sobre los parques y jardines públicos de Madrid. Para ello se van a utilizar dos APIS diferentes ofrecidas por el portal de datos abiertos del ayuntamiento de Madrid.\n",
    "\n",
    "En primer lugar se va a usar el catálogo \"Principales parques y jardines municipales\". Este catálogo ofrece una relación de los parques y zonas verdes cuya gestión corresponde al Ayuntamiento de Madrid, con datos de dirección y de localización para georeferenciarlos. El siguiente trozo de código permite recuperar el archivo xml en cuestion, y lo almacena en disco."
   ]
  },
  {
   "cell_type": "code",
   "execution_count": 3,
   "metadata": {},
   "outputs": [],
   "source": [
    "import urllib.request\n",
    "x = urllib.request.urlopen('https://datos.madrid.es/egob/catalogo/200761-0-parques-jardines.xml')\n",
    "a=x.read()\n",
    "a=a.decode(\"utf-8\")\n",
    "prueba=open(\"catalogo.xml\",\"w\")\n",
    "prueba.write(str(a))\n",
    "prueba.close()"
   ]
  },
  {
   "cell_type": "markdown",
   "metadata": {},
   "source": [
    "__[Ejercicio 1 [5 puntos]]__\n",
    "\n",
    "Se pide mostrar al usuario un listado de los nombres de los parques que contiene el archivo con el objetivo de que elija uno de los parques y se le muestre de forma amigable(sin etiquetas) por pantalla la información asociada al parque que se encuentra en el fichero recuperado:\n",
    "Nombre del parque: atributo <NOMBRE>\n",
    "Descripción del parque: atributo <DESCRIPCION-ENTIDAD>\n",
    "Información conservación: atributo <DESCRIPCION>\n",
    "Horario: atributo <HORARIO>\n",
    "Equipamiento: atributo <EQUIPAMIENTO>\n",
    "Transporte: atributo <TRANSPORTE>\n",
    "Dirección: atributos <NOMBRE-VIA>,<CLASE-VIAL>,<NUM>,<LOCALIDAD>,<PROVINCIA>,<CODIGO-POSTAL>    \n",
    "Por ejemplo si el usuario hubiera elegido el parque \"Jardines de El Buen Retiro\" debería mostrarse por pantalla:\n",
    "\n",
    "__Nombre del parque:__\n",
    "\n",
    "Jardines de El Buen Retiro\n",
    "\n",
    "__Descripción del parque:__\n",
    "\n",
    "Jardín Histórico Artístico creado en el siglo XVII. Es la zona verde más importante del centro urbano, tanto por su extensión como por su riqueza vegetal. La diversidad de sus trazados corresponde con las intervenciones realizadas a lo largo de sus diferentes etapas históricas. Destacan el Parterre de estilo francés; el Estanque Grande, las Rías y Lagos artificiales; el Campo Grande de estilo paisajista donde se ubican los Palacios de Velázquez y Cristal; los jardines de Cecilio Rodríguez caracterizado por sus cipreses recortados, setos de boj y pérgolas y la Rosaleda; los jardines de los Planteles formados por cuadros de bosquetes delimitados por setos y el Bosque del Recuerdo.Este parque se incluye entre las visitas recomendadas a turistas que visitan la ciudad, según la web oficial de turismo de Madrid. Limitación de acceso y reordenación de uso de vehículos a motor en los Jardines del Buen Retiro, Decreto 619 de 20 de diciembre de 2007.  Otras denominaciones: Parque del Retiro. El Retiro\n",
    "\n",
    "__Información conservación:__\n",
    "\n",
    "Conservación: Dirección General de Gestión del Agua y Zonas Verdes. Área de Gobierno de Medio Ambiente y Movilidad Superficie: 1.177.300 m2   Zona verde del Retiro: 113, 76 hectáreasViveros Estufas del Retiro: 3,23 hectáreasTalleres Estufas del Retiro: 0,74 hectáreas % Especies predominantes (nombre común) con respecto a especies principales:  Árboles.  N&ordm; total de unidades arbóreas: 19.859Platano de sombra 4%Pino piñonero 3% Arbustos. N&ordm; total de unidadesarbustivas: 7.922Madroño 3%Lauro 5%Durillo 16% Macizos arbustivos. Superficie de macizos arbustivos: 27.450 m2  Rosal 13%Abelia 15%Enebro 5%\n",
    "    \n",
    "__Horario:__\n",
    "\n",
    "Horario del parque  Primavera y verano (de abril a septiembre): desde las 6 hasta las 24 h. Otoño e invierno (de octubre a marzo): desde las 6 hasta las 22 h.  Horario de las áreas caninas  Desde las 7:30 h hasta el cierre del parque.Para labores puntuales de mantenimiento o reparaciones, se cerrará parcialmente el área, permitiendo el paso por una de las dos puertas a la zona que quede libre de la actuación.Se instalarán carteles para informar de estos periodos de cierre parcial del espacio con 24 h de antelación a su comienzo.\n",
    "\n",
    "__Equipamiento: __\n",
    "\n",
    "Zonas infantiles:Zona del Pinar (Puerta del Ángel Caído)Campanillas Bajas (Puerta de España)Povar (Puerta de la Independencia)Hernani (Puerta de la Independencia)Plaza de Galicia (Puerta de Madrid)Plaza Sevilla (Puerta de América Española)Florida Park (Puerta de Reina Mercedes)Antigua Junta de Distrito (Puerta de Sainz  Baranda)Jardines de Herrero PalaciosCampo GrandeLa Cabaña (Puerta de Mariano de Cavia)Paseo Coches, a la altura del Instituto MeteorológicoZonas de mayores:Paseo Coches, a la altura de Puerta de América EspañolaPaseo Coches, a la altura del Instituto MeteorológicoZonas caninas:Entrada por Puerta de Mariano de CaviaInstalaciones deportivas:El Pinar (Puerta del Ángel Caído)Huerto Francés (Puerta del Ángel Caído)Puntos de información ambiental:Acceso por  C/ O&acute;Donnell, 1.Acceso por la Puerta del Niño Jesús. C/ Alfonso XII, junto a instalaciones deportivas.Otros:P: Viveros de Estufas - Plaza del Ángel CaídoQ: Teatro de Títeres, entrada por Plaza de la IndependenciaR: Embarcadero, entrada por Plaza de la IndependenciaS: Casita de la Cabaña, entrada por Puerta de Mariano de Cavia\n",
    "    \n",
    "__Transporte:__ \n",
    "\n",
    "Metro: Retiro (línea 2), Príncipe de Vergara (líneas 2 y 9), Ibiza (línea 9), Atocha (línea 1), Atocha. Renfe (línea 1)Autobuses: 1, 2, 9, 14, 15, 19, 20, 26, 28, 32, 51, 52, 61, 63, 74, 146, 152, 202, C Servicio Bicimad, para consultar la estación más cercana, acceda al mapa de geolocalización de las estaciones.\n",
    "\n",
    "__Dirección:__ \n",
    "\n",
    "PLAZA INDEPENDENCIA, 7. MADRID. MADRID 28001\n",
    "\n",
    "Para facilitar la selección del parque se puede asignar a cada parque un número. Después de haber elegido un parque y habérsele mostrado la información, se le volverá a mostrar el menú de jardines por si quiere consultar otro parque. Entre las opciones del menú deberá existir una que sea para finaliza la búsqueda.\n",
    "\n",
    "Observar que no en todos los parques del fichero aparecen todos los campos de información requeridos. Por ejemplo,hay parques que no tienen horario o no tienen equipamiento."
   ]
  },
  {
   "cell_type": "markdown",
   "metadata": {},
   "source": [
    " __[Ejercicio 2 [5 puntos]]__\n",
    "\n",
    "Este ejercicio se pide crear un buscador sobre la información recuperada, de forma que el usuario podrá buscar parques por diferentes criterios:\n",
    "\n",
    " * Accesibilidad\n",
    " \n",
    " * Nombre\n",
    " \n",
    " * Barrio\n",
    " \n",
    " * Distrito\n",
    " \n",
    "Como resultado debería mostrarse un listado de todos los parques que cumplen las condiciones impuestas por el usuario. Se mostrará de cada parque la misma información que en el caso anterior.  En caso de no existir un parque con las condiciones dada, se mostrará un mensaje informativo.\n",
    "\n",
    "Observar que habrá que preguntar al usuario por cada uno de los criterios, y éste tendrá que seleccionar un valor por cada criterio o no seleccionarlo. Después de lista la información habérsele mostrado la información, se le volverá a preguntar si quiere seguir buscando. Entre las opciones del menú deberá existir una que sea para finaliza la búsqueda."
   ]
  },
  {
   "cell_type": "markdown",
   "metadata": {
    "collapsed": true
   },
   "source": [
    "Normas de entrega\n",
    "\n",
    "   * Fecha tope de entrega: 10/10/2018\n",
    "   * La entrega se realizará subiendo al campus virtual un notebook de Jupyter con la solución. El archivo tendrá como nombre FormatosII_GrupoX donde X será el número de grupo correspondiente.\n"
   ]
  }
 ],
 "metadata": {
  "kernelspec": {
   "display_name": "Python 3",
   "language": "python",
   "name": "python3"
  },
  "language_info": {
   "codemirror_mode": {
    "name": "ipython",
    "version": 3
   },
   "file_extension": ".py",
   "mimetype": "text/x-python",
   "name": "python",
   "nbconvert_exporter": "python",
   "pygments_lexer": "ipython3",
   "version": "3.7.3"
  }
 },
 "nbformat": 4,
 "nbformat_minor": 2
}

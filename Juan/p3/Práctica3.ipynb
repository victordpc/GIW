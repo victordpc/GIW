{
 "cells": [
  {
   "cell_type": "markdown",
   "metadata": {},
   "source": [
    "### Práctica de Formatos de datos: XML"
   ]
  },
  {
   "cell_type": "markdown",
   "metadata": {},
   "source": [
    "El objetivo de esta práctica es crear una aplicación que gestionará información sobre los parques y jardines públicos de Madrid. Para ello se van a utilizar dos APIS diferentes ofrecidas por el portal de datos abiertos del ayuntamiento de Madrid.\n",
    "\n",
    "En primer lugar se va a usar el catálogo \"Principales parques y jardines municipales\". Este catálogo ofrece una relación de los parques y zonas verdes cuya gestión corresponde al Ayuntamiento de Madrid, con datos de dirección y de localización para georeferenciarlos. El siguiente trozo de código permite recuperar el archivo xml en cuestion, y lo almacena en disco."
   ]
  },
  {
   "cell_type": "code",
   "execution_count": 3,
   "metadata": {},
   "outputs": [],
   "source": [
    "import urllib.request\n",
    "x = urllib.request.urlopen('https://datos.madrid.es/egob/catalogo/200761-0-parques-jardines.xml')\n",
    "a=x.read()\n",
    "a=a.decode(\"utf-8\")\n",
    "prueba=open(\"catalogo.xml\",\"w\")\n",
    "prueba.write(str(a))\n",
    "prueba.close()"
   ]
  },
  {
   "cell_type": "markdown",
   "metadata": {},
   "source": [
    "__[Ejercicio 1 [5 puntos]]__\n",
    "\n",
    "Se pide mostrar al usuario un listado de los nombres de los parques que contiene el archivo con el objetivo de que elija uno de los parques y se le muestre de forma amigable(sin etiquetas) por pantalla la información asociada al parque que se encuentra en el fichero recuperado:\n",
    "Nombre del parque: atributo <NOMBRE>\n",
    "Descripción del parque: atributo <DESCRIPCION-ENTIDAD>\n",
    "Información conservación: atributo <DESCRIPCION>\n",
    "Horario: atributo <HORARIO>\n",
    "Equipamiento: atributo <EQUIPAMIENTO>\n",
    "Transporte: atributo <TRANSPORTE>\n",
    "Dirección: atributos <NOMBRE-VIA>,<CLASE-VIAL>,<NUM>,<LOCALIDAD>,<PROVINCIA>,<CODIGO-POSTAL>    \n",
    "Por ejemplo si el usuario hubiera elegido el parque \"Jardines de El Buen Retiro\" debería mostrarse por pantalla:\n",
    "\n",
    "__Nombre del parque:__\n",
    "\n",
    "Jardines de El Buen Retiro\n",
    "\n",
    "__Descripción del parque:__\n",
    "\n",
    "Jardín Histórico Artístico creado en el siglo XVII. Es la zona verde más importante del centro urbano, tanto por su extensión como por su riqueza vegetal. La diversidad de sus trazados corresponde con las intervenciones realizadas a lo largo de sus diferentes etapas históricas. Destacan el Parterre de estilo francés; el Estanque Grande, las Rías y Lagos artificiales; el Campo Grande de estilo paisajista donde se ubican los Palacios de Velázquez y Cristal; los jardines de Cecilio Rodríguez caracterizado por sus cipreses recortados, setos de boj y pérgolas y la Rosaleda; los jardines de los Planteles formados por cuadros de bosquetes delimitados por setos y el Bosque del Recuerdo.Este parque se incluye entre las visitas recomendadas a turistas que visitan la ciudad, según la web oficial de turismo de Madrid. Limitación de acceso y reordenación de uso de vehículos a motor en los Jardines del Buen Retiro, Decreto 619 de 20 de diciembre de 2007.  Otras denominaciones: Parque del Retiro. El Retiro\n",
    "\n",
    "__Información conservación:__\n",
    "\n",
    "Conservación: Dirección General de Gestión del Agua y Zonas Verdes. Área de Gobierno de Medio Ambiente y Movilidad Superficie: 1.177.300 m2   Zona verde del Retiro: 113, 76 hectáreasViveros Estufas del Retiro: 3,23 hectáreasTalleres Estufas del Retiro: 0,74 hectáreas % Especies predominantes (nombre común) con respecto a especies principales:  Árboles.  N&ordm; total de unidades arbóreas: 19.859Platano de sombra 4%Pino piñonero 3% Arbustos. N&ordm; total de unidadesarbustivas: 7.922Madroño 3%Lauro 5%Durillo 16% Macizos arbustivos. Superficie de macizos arbustivos: 27.450 m2  Rosal 13%Abelia 15%Enebro 5%\n",
    "    \n",
    "__Horario:__\n",
    "\n",
    "Horario del parque  Primavera y verano (de abril a septiembre): desde las 6 hasta las 24 h. Otoño e invierno (de octubre a marzo): desde las 6 hasta las 22 h.  Horario de las áreas caninas  Desde las 7:30 h hasta el cierre del parque.Para labores puntuales de mantenimiento o reparaciones, se cerrará parcialmente el área, permitiendo el paso por una de las dos puertas a la zona que quede libre de la actuación.Se instalarán carteles para informar de estos periodos de cierre parcial del espacio con 24 h de antelación a su comienzo.\n",
    "\n",
    "__Equipamiento: __\n",
    "\n",
    "Zonas infantiles:Zona del Pinar (Puerta del Ángel Caído)Campanillas Bajas (Puerta de España)Povar (Puerta de la Independencia)Hernani (Puerta de la Independencia)Plaza de Galicia (Puerta de Madrid)Plaza Sevilla (Puerta de América Española)Florida Park (Puerta de Reina Mercedes)Antigua Junta de Distrito (Puerta de Sainz  Baranda)Jardines de Herrero PalaciosCampo GrandeLa Cabaña (Puerta de Mariano de Cavia)Paseo Coches, a la altura del Instituto MeteorológicoZonas de mayores:Paseo Coches, a la altura de Puerta de América EspañolaPaseo Coches, a la altura del Instituto MeteorológicoZonas caninas:Entrada por Puerta de Mariano de CaviaInstalaciones deportivas:El Pinar (Puerta del Ángel Caído)Huerto Francés (Puerta del Ángel Caído)Puntos de información ambiental:Acceso por  C/ O&acute;Donnell, 1.Acceso por la Puerta del Niño Jesús. C/ Alfonso XII, junto a instalaciones deportivas.Otros:P: Viveros de Estufas - Plaza del Ángel CaídoQ: Teatro de Títeres, entrada por Plaza de la IndependenciaR: Embarcadero, entrada por Plaza de la IndependenciaS: Casita de la Cabaña, entrada por Puerta de Mariano de Cavia\n",
    "    \n",
    "__Transporte:__ \n",
    "\n",
    "Metro: Retiro (línea 2), Príncipe de Vergara (líneas 2 y 9), Ibiza (línea 9), Atocha (línea 1), Atocha. Renfe (línea 1)Autobuses: 1, 2, 9, 14, 15, 19, 20, 26, 28, 32, 51, 52, 61, 63, 74, 146, 152, 202, C Servicio Bicimad, para consultar la estación más cercana, acceda al mapa de geolocalización de las estaciones.\n",
    "\n",
    "__Dirección:__ \n",
    "\n",
    "PLAZA INDEPENDENCIA, 7. MADRID. MADRID 28001\n",
    "\n",
    "Para facilitar la selección del parque se puede asignar a cada parque un número. Después de haber elegido un parque y habérsele mostrado la información, se le volverá a mostrar el menú de jardines por si quiere consultar otro parque. Entre las opciones del menú deberá existir una que sea para finaliza la búsqueda.\n",
    "\n",
    "Observar que no en todos los parques del fichero aparecen todos los campos de información requeridos. Por ejemplo,hay parques que no tienen horario o no tienen equipamiento."
   ]
  },
  {
   "cell_type": "code",
   "execution_count": 47,
   "outputs": [
    {
     "name": "stdout",
     "text": [
      "1 .  Jardines Gregorio Ordóñez\n2 .  Jardines San Francisco el Grande\n3 .  Jardines de Andrés Saborit\n4 .  Jardines de El Buen Retiro\n5 .  Jardines de Gloria Fuertes\n6 .  Jardines de José Luis Jiménez Manso\n7 .  Jardines de Perón\n8 .  Jardines de Sabatini\n9 .  Jardines de San Fernando\n10 .  Jardines de la Avenida de Brasil\n11 .  Jardines de la Basílica\n12 .  Jardines de la Plaza Conde del Valle de Suchil\n13 .  Jardines de la Plaza de Chamberí\n14 .  Jardines de la Plaza de Olavide\n15 .  Jardines de la Plaza de Oriente, Lepanto y Cabo Noval\n16 .  Jardines de la Plaza de la Villa de París\n17 .  Jardines de la Vega\n18 .  Jardines de la calle Teresita González Quevedo\n19 .  Jardines de las Vistillas\n20 .  Jardines del Arquitecto Ribera\n21 .  Jardines del Descubrimiento\n22 .  Jardines del Doctor Fleming\n23 .  Jardines del Mundial. Castellana\n24 .  Jardines del Príncipe de Anglona\n25 .  Jardín Botánico de Pradolongo\n26 .  Jardín Concejal Alejandro Muñoz Revenga\n27 .  Jardín Doña Concha Piquer\n28 .  Jardín Fachada Pirámides I\n29 .  Jardín Glorieta de Azorín\n30 .  Jardín Jazmín\n31 .  Jardín Palacio O'Reilly\n32 .  Jardín de Embajadores M-30\n33 .  Jardín de Larra\n34 .  Jardín de la Colonia Congosto\n35 .  Jardín de las Bellas Artes\n36 .  Jardín del Bulevar de Peña Gorbea\n37 .  Jardín del Maestro Padilla\n38 .  Jardín del Templo de Debod\n39 .  Jardín del paseo Federico García Lorca\n40 .  Jardín el Torero\n41 .  Jardín histórico El Capricho de la Alameda Osuna\n42 .  Palacio de Cristal de la Arganzuela: Invernadero\n43 .  Parque Agustín Rodríguez Sahagún\n44 .  Parque Alcalde Jesús Pérez Quijano\n45 .  Parque Alfredo Kraus\n46 .  Parque Almansa\n47 .  Parque Aluche\n48 .  Parque Aluche - Poblados\n49 .  Parque Alzola\n50 .  Parque Antonio Pirala\n51 .  Parque Anunciación\n52 .  Parque Arquitecto Antonio Palacios\n53 .  Parque Arroyo Fontarrón\n54 .  Parque Arroyo Fresno\n55 .  Parque Arroyo Pozuelo\n56 .  Parque Arroyo de los Pinos\n57 .  Parque Avenida de Portugal\n58 .  Parque Azorín\n59 .  Parque Barrio Las Musas\n60 .  Parque Begoña\n61 .  Parque Biosaludable\n62 .  Parque Campo de la Paloma\n63 .  Parque Caramuel\n64 .  Parque Cerro Almodóvar\n65 .  Parque Cerro Peñabel\n66 .  Parque Cerro del Tío Pío\n67 .  Parque Cerro Águila\n68 .  Parque Ciudad de los Ángeles\n69 .  Parque Cuesta del Galbán\n70 .  Parque Cuña Verde de Vicálvaro. Zona A\n71 .  Parque Cuña Verde de Vicálvaro. Zona B\n72 .  Parque Cuña Verde de Vicálvaro. Zona C\n73 .  Parque Dehesa de la Villa\n74 .  Parque Duque de Ahumada\n75 .  Parque El Calero\n76 .  Parque El Cedral\n77 .  Parque El Cruce\n78 .  Parque Emir Mohamed I\n79 .  Parque Emperatriz María de Austria\n80 .  Parque Enrique Tierno Galván\n81 .  Parque Entrevías Forestal\n82 .  Parque Entrevías Urbano\n83 .  Parque Este de Valdebernardo\n84 .  Parque Eugenia de Montijo\n85 .  Parque Eva Duarte\n86 .  Parque Forestal Fuente Carrantona\n87 .  Parque Forestal Julio Alguacil Gómez\n88 .  Parque Forestal de Valdebebas-Felipe VI\n89 .  Parque Forestal de Vicálvaro\n90 .  Parque Félix Rodríguez de la Fuente\n91 .  Parque General Fanjul - Santa Margarita\n92 .  Parque Hortaleza\n93 .  Parque Huerta del Obispo.\n94 .  Parque Juan Carlos I\n95 .  Parque Juan Pablo II\n96 .  Parque La Rinconada\n97 .  Parque La Viña\n98 .  Parque Ladera de los Almendros\n99 .  Parque Lineal de Palomeras\n100 .  Parque Lineal del Manzanares (Usera - Pte de Vallecas)\n101 .  Parque Madrid Río\n102 .  Parque Martala\n103 .  Parque Martin Luther King\n104 .  Parque Meseta de Orcasitas\n105 .  Parque Mirador de Tierno Galván\n106 .  Parque Mirador de las Cárcavas\n107 .  Parque Norte\n108 .  Parque Nudo Norte de Begoña\n109 .  Parque Olof Palme\n110 .  Parque Orlando Zapata Tamayo\n111 .  Parque Paseo Muñoz Grandes\n112 .  Parque Payaso Fofó\n113 .  Parque Peñuelas\n114 .  Parque Pinar de la Elipa\n115 .  Parque Pinar del Rey\n116 .  Parque Plaza Chozas de Canales\n117 .  Parque Plaza Colonia Oroquieta\n118 .  Parque Plaza de España\n119 .  Parque Quinta de los Molinos\n120 .  Parque Ramírez de Prado\n121 .  Parque Roma\n122 .  Parque Salvador de Madariaga\n123 .  Parque San Blas. El Paraíso\n124 .  Parque San José de Calasanz\n125 .  Parque San Juan Bautista\n126 .  Parque Sancho Dávila\n127 .  Parque Santa Eugenia\n128 .  Parque Santa Rita\n129 .  Parque Segura\n130 .  Parque Soto de Entrevías\n131 .  Parque Urpisa\n132 .  Parque Valdebernardo Este\n133 .  Parque Valle de Enmedio\n134 .  Parque Vallecas Villa\n135 .  Parque Vandel\n136 .  Parque Virgen de la Esperanza\n137 .  Parque de Alfonso XIII\n138 .  Parque de Amos Acero\n139 .  Parque de Ana Tutor\n140 .  Parque de Arriaga\n141 .  Parque de Atenas\n142 .  Parque de Berlín\n143 .  Parque de Breogán\n144 .  Parque de Canillejas\n145 .  Parque de Comillas\n146 .  Parque de Darwin\n147 .  Parque de Enrique Herreros\n148 .  Parque de Francos Rodríguez\n149 .  Parque de Fuencarral\n150 .  Parque de Fuentechica\n151 .  Parque de Fuentelarreina\n152 .  Parque de Gabriela Mistral\n153 .  Parque de Isabel Clara Eugenia\n154 .  Parque de Juan XXIII\n155 .  Parque de Las Cruces\n156 .  Parque de Malmoe\n157 .  Parque de Manoteras\n158 .  Parque de Pan Bendito\n159 .  Parque de Peñagrande\n160 .  Parque de Pinar de Barajas\n161 .  Parque de Plata y Castañar\n162 .  Parque de Pradolongo\n163 .  Parque de Rafael Finat\n164 .  Parque de Salvador Allende\n165 .  Parque de San Isidro\n166 .  Parque de Santa Ana\n167 .  Parque de Villa Rosa-Paco Caño\n168 .  Parque de la Alcazaba\n169 .  Parque de la Almudena\n170 .  Parque de la Amistad\n171 .  Parque de la Bombilla\n172 .  Parque de la Casa de Campo\n173 .  Parque de la Cuña Verde de Latina\n174 .  Parque de la Cuña Verde de O´Donnell\n175 .  Parque de la Dehesa Boyal\n176 .  Parque de la Gavia\n177 .  Parque de la Maceta\n178 .  Parque de la Supermanzana\n179 .  Parque de la Ventilla\n180 .  Parque de la Vicalvarada\n181 .  Parque de las Avenidas\n182 .  Parque de las Delicias\n183 .  Parque de los Llanos\n184 .  Parque de los Tilos\n185 .  Parque del Bronce\n186 .  Parque del Espinillo\n187 .  Parque del Museo del Prado\n188 .  Parque del Oeste\n189 .  Parque del Pueblo del Pardo\n190 .  Pinar Santa Eugenia\n191 .  Plaza Mayor de Barajas\n192 .  Plaza de Murillo\n193 .  Plaza de la Lealtad\n194 .  Quinta de Torre Arias\n195 .  Quinta de la Fuente del Berro\n196 .  Rosaleda de Madrid. Parque del Oeste\n197 .  Vivero Estufas de El Retiro\n198 .  Vivero de la Casa de Campo\n199 .  Vivero municipal de Migas Calientes\n200 .  Zona verde C/ Fresnedillas\n201 .  Área Forestal de Tres Cantos\n0. Salir\n",
      "{'idEntidad': <Element 'atributo' at 0x04A68270>, 'nombre': 'Jardines Gregorio Ordóñez', 'transporte': 'Metro: Núñez de Balboa (líneas 5 y 9)Bus: 1, 29, 52, 74 Servicio Bicimad, para consultar la estación más cercana, acceda al mapa de geolocalización de las estaciones.', 'descripcionEntidad': 'Jardines en memoria de Gregorio Ordóñez. Este cuidado jardín presenta dos amplias zonas infantiles, para diversión de los pequeños y posee un pequeño estanque en el centro del mismo rodeado de distintas especies de palmeras.', 'descripcion': 'Conservación: Dirección General de Gestión del Agua y Zonas Verdes. Área de Gobierno de Medio Ambiente y Movilidad Superficie: 3.975 m2     % Especies predominantes (nombre común) con respecto a especies principales:  Árboles. N&ordm; total de unidades arbóreas: 120Ciruelo rojo 53%Plátano de sombra 20%Liquidambar 11%Cinamomo 9% Arbustos. N&ordm; total de unidades arbustivas: 49Palmito 78%Palmito de la China 22% Macizos arbustivos. Superficie de macizos arbustivos: 32 m2  Rosas 50%Madroño 28%', 'localizacion': '\\n                '}\n1 .  Jardines Gregorio Ordóñez\n2 .  Jardines San Francisco el Grande\n3 .  Jardines de Andrés Saborit\n4 .  Jardines de El Buen Retiro\n5 .  Jardines de Gloria Fuertes\n6 .  Jardines de José Luis Jiménez Manso\n7 .  Jardines de Perón\n8 .  Jardines de Sabatini\n9 .  Jardines de San Fernando\n10 .  Jardines de la Avenida de Brasil\n11 .  Jardines de la Basílica\n12 .  Jardines de la Plaza Conde del Valle de Suchil\n13 .  Jardines de la Plaza de Chamberí\n14 .  Jardines de la Plaza de Olavide\n15 .  Jardines de la Plaza de Oriente, Lepanto y Cabo Noval\n16 .  Jardines de la Plaza de la Villa de París\n17 .  Jardines de la Vega\n18 .  Jardines de la calle Teresita González Quevedo\n19 .  Jardines de las Vistillas\n20 .  Jardines del Arquitecto Ribera\n21 .  Jardines del Descubrimiento\n22 .  Jardines del Doctor Fleming\n23 .  Jardines del Mundial. Castellana\n24 .  Jardines del Príncipe de Anglona\n25 .  Jardín Botánico de Pradolongo\n26 .  Jardín Concejal Alejandro Muñoz Revenga\n27 .  Jardín Doña Concha Piquer\n28 .  Jardín Fachada Pirámides I\n29 .  Jardín Glorieta de Azorín\n30 .  Jardín Jazmín\n31 .  Jardín Palacio O'Reilly\n32 .  Jardín de Embajadores M-30\n33 .  Jardín de Larra\n34 .  Jardín de la Colonia Congosto\n35 .  Jardín de las Bellas Artes\n36 .  Jardín del Bulevar de Peña Gorbea\n37 .  Jardín del Maestro Padilla\n38 .  Jardín del Templo de Debod\n39 .  Jardín del paseo Federico García Lorca\n40 .  Jardín el Torero\n41 .  Jardín histórico El Capricho de la Alameda Osuna\n42 .  Palacio de Cristal de la Arganzuela: Invernadero\n43 .  Parque Agustín Rodríguez Sahagún\n44 .  Parque Alcalde Jesús Pérez Quijano\n45 .  Parque Alfredo Kraus\n46 .  Parque Almansa\n47 .  Parque Aluche\n48 .  Parque Aluche - Poblados\n49 .  Parque Alzola\n50 .  Parque Antonio Pirala\n51 .  Parque Anunciación\n52 .  Parque Arquitecto Antonio Palacios\n53 .  Parque Arroyo Fontarrón\n54 .  Parque Arroyo Fresno\n55 .  Parque Arroyo Pozuelo\n56 .  Parque Arroyo de los Pinos\n57 .  Parque Avenida de Portugal\n58 .  Parque Azorín\n59 .  Parque Barrio Las Musas\n60 .  Parque Begoña\n61 .  Parque Biosaludable\n62 .  Parque Campo de la Paloma\n63 .  Parque Caramuel\n64 .  Parque Cerro Almodóvar\n65 .  Parque Cerro Peñabel\n66 .  Parque Cerro del Tío Pío\n67 .  Parque Cerro Águila\n68 .  Parque Ciudad de los Ángeles\n69 .  Parque Cuesta del Galbán\n70 .  Parque Cuña Verde de Vicálvaro. Zona A\n71 .  Parque Cuña Verde de Vicálvaro. Zona B\n72 .  Parque Cuña Verde de Vicálvaro. Zona C\n73 .  Parque Dehesa de la Villa\n74 .  Parque Duque de Ahumada\n75 .  Parque El Calero\n76 .  Parque El Cedral\n77 .  Parque El Cruce\n78 .  Parque Emir Mohamed I\n79 .  Parque Emperatriz María de Austria\n80 .  Parque Enrique Tierno Galván\n81 .  Parque Entrevías Forestal\n82 .  Parque Entrevías Urbano\n83 .  Parque Este de Valdebernardo\n84 .  Parque Eugenia de Montijo\n85 .  Parque Eva Duarte\n86 .  Parque Forestal Fuente Carrantona\n87 .  Parque Forestal Julio Alguacil Gómez\n88 .  Parque Forestal de Valdebebas-Felipe VI\n89 .  Parque Forestal de Vicálvaro\n90 .  Parque Félix Rodríguez de la Fuente\n91 .  Parque General Fanjul - Santa Margarita\n92 .  Parque Hortaleza\n93 .  Parque Huerta del Obispo.\n94 .  Parque Juan Carlos I\n95 .  Parque Juan Pablo II\n96 .  Parque La Rinconada\n97 .  Parque La Viña\n98 .  Parque Ladera de los Almendros\n99 .  Parque Lineal de Palomeras\n100 .  Parque Lineal del Manzanares (Usera - Pte de Vallecas)\n101 .  Parque Madrid Río\n102 .  Parque Martala\n103 .  Parque Martin Luther King\n104 .  Parque Meseta de Orcasitas\n105 .  Parque Mirador de Tierno Galván\n106 .  Parque Mirador de las Cárcavas\n107 .  Parque Norte\n108 .  Parque Nudo Norte de Begoña\n109 .  Parque Olof Palme\n110 .  Parque Orlando Zapata Tamayo\n111 .  Parque Paseo Muñoz Grandes\n112 .  Parque Payaso Fofó\n113 .  Parque Peñuelas\n114 .  Parque Pinar de la Elipa\n115 .  Parque Pinar del Rey\n116 .  Parque Plaza Chozas de Canales\n117 .  Parque Plaza Colonia Oroquieta\n118 .  Parque Plaza de España\n119 .  Parque Quinta de los Molinos\n120 .  Parque Ramírez de Prado\n121 .  Parque Roma\n122 .  Parque Salvador de Madariaga\n123 .  Parque San Blas. El Paraíso\n124 .  Parque San José de Calasanz\n125 .  Parque San Juan Bautista\n126 .  Parque Sancho Dávila\n127 .  Parque Santa Eugenia\n128 .  Parque Santa Rita\n129 .  Parque Segura\n130 .  Parque Soto de Entrevías\n131 .  Parque Urpisa\n132 .  Parque Valdebernardo Este\n133 .  Parque Valle de Enmedio\n134 .  Parque Vallecas Villa\n135 .  Parque Vandel\n136 .  Parque Virgen de la Esperanza\n137 .  Parque de Alfonso XIII\n138 .  Parque de Amos Acero\n139 .  Parque de Ana Tutor\n140 .  Parque de Arriaga\n141 .  Parque de Atenas\n142 .  Parque de Berlín\n143 .  Parque de Breogán\n144 .  Parque de Canillejas\n145 .  Parque de Comillas\n146 .  Parque de Darwin\n147 .  Parque de Enrique Herreros\n148 .  Parque de Francos Rodríguez\n149 .  Parque de Fuencarral\n150 .  Parque de Fuentechica\n151 .  Parque de Fuentelarreina\n152 .  Parque de Gabriela Mistral\n153 .  Parque de Isabel Clara Eugenia\n154 .  Parque de Juan XXIII\n155 .  Parque de Las Cruces\n156 .  Parque de Malmoe\n157 .  Parque de Manoteras\n158 .  Parque de Pan Bendito\n159 .  Parque de Peñagrande\n160 .  Parque de Pinar de Barajas\n161 .  Parque de Plata y Castañar\n162 .  Parque de Pradolongo\n163 .  Parque de Rafael Finat\n164 .  Parque de Salvador Allende\n165 .  Parque de San Isidro\n166 .  Parque de Santa Ana\n167 .  Parque de Villa Rosa-Paco Caño\n168 .  Parque de la Alcazaba\n169 .  Parque de la Almudena\n170 .  Parque de la Amistad\n171 .  Parque de la Bombilla\n172 .  Parque de la Casa de Campo\n173 .  Parque de la Cuña Verde de Latina\n174 .  Parque de la Cuña Verde de O´Donnell\n175 .  Parque de la Dehesa Boyal\n176 .  Parque de la Gavia\n177 .  Parque de la Maceta\n178 .  Parque de la Supermanzana\n179 .  Parque de la Ventilla\n180 .  Parque de la Vicalvarada\n181 .  Parque de las Avenidas\n182 .  Parque de las Delicias\n183 .  Parque de los Llanos\n184 .  Parque de los Tilos\n185 .  Parque del Bronce\n186 .  Parque del Espinillo\n187 .  Parque del Museo del Prado\n188 .  Parque del Oeste\n189 .  Parque del Pueblo del Pardo\n190 .  Pinar Santa Eugenia\n191 .  Plaza Mayor de Barajas\n192 .  Plaza de Murillo\n193 .  Plaza de la Lealtad\n194 .  Quinta de Torre Arias\n195 .  Quinta de la Fuente del Berro\n196 .  Rosaleda de Madrid. Parque del Oeste\n197 .  Vivero Estufas de El Retiro\n198 .  Vivero de la Casa de Campo\n199 .  Vivero municipal de Migas Calientes\n200 .  Zona verde C/ Fresnedillas\n201 .  Área Forestal de Tres Cantos\n0. Salir\n"
     ],
     "output_type": "stream"
    }
   ],
   "source": [
    "from xml.etree import ElementTree\n",
    "\n",
    "import urllib.request\n",
    "x = urllib.request.urlopen('https://datos.madrid.es/egob/catalogo/200761-0-parques-jardines.xml')\n",
    "a=x.read()\n",
    "a=a.decode(\"utf-8\")\n",
    "prueba=open(\"Catalogo.xml\",\"w\")\n",
    "prueba.write(str(a))\n",
    "prueba.close()\n",
    "\n",
    "def leerParques(nombre=\"Catalogo.xml\"): \n",
    "    fp=open(nombre,\"rt\")\n",
    "    arbol=ElementTree.parse(fp)\n",
    "    parques = []\n",
    "    for nodo in arbol.findall('./contenido/atributos'):\n",
    "        parque = {}\n",
    "        \n",
    "        idEntidad = nodo.find('atributo[@nombre=\"ID-ENTIDAD\"]')\n",
    "        parque[\"idEntidad\"] = idEntidad.text\n",
    "\n",
    "        nombre = nodo.find('atributo[@nombre=\"NOMBRE\"]')\n",
    "        parque[\"nombre\"] = nombre.text \n",
    "    \n",
    "        transporte = nodo.find('atributo[@nombre=\"TRANSPORTE\"]')\n",
    "        if(transporte is not None): parque[\"transporte\"] = transporte.text \n",
    "\n",
    "        descripcionEntidad = nodo.find('atributo[@nombre=\"DESCRIPCION-ENTIDAD\"]')\n",
    "        if(descripcionEntidad is not None): parque[\"descripcionEntidad\"] = descripcionEntidad.text \n",
    "    \n",
    "        descripcion = nodo.find('atributo[@nombre=\"DESCRIPCION\"]')\n",
    "        if(descripcion is not None): parque[\"descripcion\"] = descripcion.text \n",
    "\n",
    "        localizacion = nodo.find('atributo[@nombre=\"LOCALIZACION\"]')\n",
    "        if(localizacion is not None): parque[\"localizacion\"] = localizacion.text\n",
    "        \n",
    "        parques.append(parque)\n",
    "    fp.close()\n",
    "    return parques\n",
    "\n",
    "def mostrarMenu(parques):\n",
    "    i = 1\n",
    "    for parque in parques:\n",
    "        print(i,\". \",parque[\"nombre\"])\n",
    "        i+=1\n",
    "    print(\"0. Salir\")\n",
    "\n",
    "def recogerOpcion():\n",
    "    return int(input(\"Introduzca una opcion: \"))\n",
    "\n",
    "def mostrarInfo(parque):\n",
    "    print(parque)\n",
    "\n",
    "parques = leerParques()\n",
    "salir = False\n",
    "while salir:\n",
    "  mostrarMenu(parques)\n",
    "  opcion = recogerOpcion()\n",
    "  salir = opcion == 0\n",
    "  if  not salir:\n",
    "    mostrarInfo(parques[opcion-1])\n",
    "\n",
    "prueba.close()"
   ],
   "metadata": {
    "collapsed": false,
    "pycharm": {
     "name": "#%%\n",
     "is_executing": false
    }
   }
  },
  {
   "cell_type": "markdown",
   "metadata": {},
   "source": [
    " __[Ejercicio 2 [5 puntos]]__\n",
    "\n",
    "Este ejercicio se pide crear un buscador sobre la información recuperada, de forma que el usuario podrá buscar parques por diferentes criterios:\n",
    "\n",
    " * Accesibilidad\n",
    " \n",
    " * Nombre\n",
    " \n",
    " * Barrio\n",
    " \n",
    " * Distrito\n",
    " \n",
    "Como resultado debería mostrarse un listado de todos los parques que cumplen las condiciones impuestas por el usuario. Se mostrará de cada parque la misma información que en el caso anterior.  En caso de no existir un parque con las condiciones dada, se mostrará un mensaje informativo.\n",
    "\n",
    "Observar que habrá que preguntar al usuario por cada uno de los criterios, y éste tendrá que seleccionar un valor por cada criterio o no seleccionarlo. Después de lista la información habérsele mostrado la información, se le volverá a preguntar si quiere seguir buscando. Entre las opciones del menú deberá existir una que sea para finaliza la búsqueda."
   ]
  },
  {
   "cell_type": "markdown",
   "metadata": {
    "collapsed": true
   },
   "source": [
    "Normas de entrega\n",
    "\n",
    "   * Fecha tope de entrega: 10/10/2018\n",
    "   * La entrega se realizará subiendo al campus virtual un notebook de Jupyter con la solución. El archivo tendrá como nombre FormatosII_GrupoX donde X será el número de grupo correspondiente.\n"
   ]
  }
 ],
 "metadata": {
  "kernelspec": {
   "display_name": "Python 3",
   "language": "python",
   "name": "python3"
  },
  "language_info": {
   "codemirror_mode": {
    "name": "ipython",
    "version": 3
   },
   "file_extension": ".py",
   "mimetype": "text/x-python",
   "name": "python",
   "nbconvert_exporter": "python",
   "pygments_lexer": "ipython3",
   "version": "3.7.3"
  },
  "pycharm": {
   "stem_cell": {
    "cell_type": "raw",
    "source": [],
    "metadata": {
     "collapsed": false
    }
   }
  }
 },
 "nbformat": 4,
 "nbformat_minor": 2
}
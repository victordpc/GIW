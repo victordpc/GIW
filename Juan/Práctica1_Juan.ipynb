{
 "cells": [
  {
   "cell_type": "markdown",
   "metadata": {},
   "source": [
    "### Práctica de Introducción al lenguaje Python"
   ]
  },
  {
   "cell_type": "markdown",
   "metadata": {},
   "source": [
    "#### Ejercicio 1[4 puntos]\n",
    "Un autómata finito deteminista (AFD) es una modelo matemática que permite representar un tipo de lenguaje formal denominado lenguaje regular. Se caracterizan por un alfabeto, un conjunto finito de estados, un estado inicial, un conjunto de estados finales y una función de transición. La función de transición toma un estado  y  un símbolo,  y devuelve como resultado un estado.\n",
    "El automáta toma como entrada una cadena, y aplica la función de transición sucesivamente sobre los elementos de la entrada. Una vez que ha consumido toda la cadena, se mira el estado al que se ha llegado, y si es un estado final entonces la entrada es aceptada. En caso contrario, la cadena no es aceptada.\n",
    "\n",
    "Se pide simular un AFD que tomará como entrada una cadena que representa la entrada, una lista de tuplas donde cada tupla representa un estado y un símbolo representando la función de transición, un conjunto de estado representando el conjunto de estados finales y un estado representando el estado inicial. El programa ante una entrada dirá si la cadena es aceptada o no lo es.\n",
    "\n",
    "Intentad estructurar el programa separando lo que es el programa que acepta la entrada y nos dice si es aceptado o no, y el programa que simula el AFD.\n",
    "\n",
    "Más información: https://en.wikipedia.org/wiki/Deterministic_finite_automaton\n",
    "\n",
    "No se pueden usar ninguna función o método que simule un AFD."
   ]
  },
  {
   "cell_type": "code",
   "execution_count": null,
   "outputs": [],
   "source": [],
   "metadata": {
    "collapsed": false,
    "pycharm": {
     "name": "#%%\n"
    }
   }
  },
  {
   "cell_type": "markdown",
   "metadata": {},
   "source": [
    "#### Ejercicio 2[4 puntos]\n",
    "Considera el problema de cálculo del determinante de una matriz cuadrado de cualquier orden:\n",
    "https://es.wikipedia.org/wiki/Determinante_(matem%C3%A1tica)\n",
    "\n",
    "Se pide implementar un programa que dada una matriz expresada en forma de una lista de listas donde cada lista representa una fila de la matriz, devuelva el determinante de dicha matriz.\n",
    "\n",
    "No se pueden usar ninguna función o método que calcule directamente el determinante."
   ]
  },
  {
   "cell_type": "code",
   "execution_count": 77,
   "outputs": [
    {
     "name": "stdout",
     "text": [
      "60\n"
     ],
     "output_type": "stream"
    }
   ],
   "source": [
    "#Determinante por método de Laplace (desarrollo por filas)\n",
    "\n",
    "def submatriz(matriz,i,j):\n",
    "    tam = len(matriz)\n",
    "    tamSubM = tam - 1\n",
    "    subm = [[0 for x in range(tamSubM)] for y in range(tamSubM)]\n",
    "    filaSubM = 0\n",
    "    colSubM = 0\n",
    "    for fila in range(0,tam):\n",
    "        for col in range(0,tam):\n",
    "            if fila != i and col != j:\n",
    "                subm[filaSubM][colSubM] = matriz[fila][col]\n",
    "                colSubM += 1\n",
    "                if colSubM == tamSubM:\n",
    "                    colSubM = 0\n",
    "                    filaSubM += 1\n",
    "    return subm\n",
    "\n",
    "def coef(i,j):\n",
    "    return pow(-1,i+j)\n",
    "\n",
    "def filaMasCeros(matriz):\n",
    "    tam = len(matriz)\n",
    "    mejorFila = 0\n",
    "    maxCeros = 0\n",
    "    for fila in range(0,tam):\n",
    "        cerosFila = 0\n",
    "        for col in range(0,tam):\n",
    "            if matriz[fila][col] == 0:\n",
    "                cerosFila += 1\n",
    "            if cerosFila > maxCeros:\n",
    "                maxCeros = cerosFila\n",
    "                mejorFila = fila      \n",
    "    return mejorFila\n",
    "            \n",
    "def determinante(matriz):\n",
    "    tam = len(matriz)\n",
    "    filaAdecuada = filaMasCeros(matriz)\n",
    "    if tam == 2: # caso base\n",
    "        return (matriz[0][0] * matriz[1][1]) - (matriz[1][0] * matriz[0][1])\n",
    "    \n",
    "    total = 0\n",
    "    for col in range(0,len(matriz)):\n",
    "            parcial = matriz[filaAdecuada][col] * coef(filaAdecuada,col) *  determinante(submatriz(matriz,filaAdecuada,col))\n",
    "            total += parcial\n",
    "    return total\n",
    "\n",
    "matriz = [\n",
    "    [1,2,3],\n",
    "    [-5,5,0],\n",
    "    [-2,-3,-1],\n",
    "]\n",
    "\n",
    "print(determinante(matriz))\n",
    "        "
   ],
   "metadata": {
    "collapsed": false,
    "pycharm": {
     "name": "#%%\n",
     "is_executing": false
    }
   }
  },
  {
   "cell_type": "markdown",
   "metadata": {},
   "source": [
    "#### Ejercicio 3[2 puntos]\n",
    "Implementar un programa en Python tal que tomecomo entrada el nombre de dos archivos de texto. En un archivo hay un conjunto de palabras separadas por coma en una linea y en el otro archivo un texto cualquiera. El programa debe buscar las palabras del primer archivo en el texto del segundo archivo. Como resultado debe mostrar por pantalla cada palabra buscada y junto a ella el núméro de veces que aparece la palabra en el texto. En caso de no aparecer se indicará que no aparece esa palabra. Para realizar la búsqueda no se distingue entre mayúsculas y minúsculas. \n",
    "\n",
    "No se pueden usar ninguna función o método que realice directamente el procesamiento."
   ]
  },
  {
   "cell_type": "code",
   "execution_count": 89,
   "outputs": [
    {
     "name": "stdout",
     "text": [
      "hola : 1  veces\nadios : No aparece\n"
     ],
     "output_type": "stream"
    }
   ],
   "source": [
    "ficheroPalabras = \"palabras.txt\"\n",
    "ficheroTexto = \"texto.txt\"\n",
    "\n",
    "def comparar(ficheroPalabras,ficheroTexto):\n",
    "    try:\n",
    "        with open(ficheroPalabras,'r') as palabrasInput:\n",
    "            with open(ficheroTexto,'r') as textoInput:\n",
    "\n",
    "                diccionario = {}\n",
    "                palabras = palabrasInput.read().split(\",\")\n",
    "                for palabra in palabras:\n",
    "                    diccionario[palabra] = 0\n",
    "    \n",
    "                palabrasTexto = textoInput.read().split()\n",
    "\n",
    "                for palabra in palabrasTexto:\n",
    "                    if palabra in diccionario:\n",
    "                        diccionario[palabra] += 1\n",
    "                \n",
    "                resultado = {}        \n",
    "                for palabra in palabras:\n",
    "                    resultado[palabra] = diccionario[palabra]\n",
    "                    \n",
    "                return resultado\n",
    "    except IOError:\n",
    "        print(\"Ocurrió un error durante la lectura de los ficheros\")\n",
    "\n",
    "resultados = comparar(ficheroPalabras,ficheroTexto)\n",
    "for palabra,veces, in resultados.items():\n",
    "    if veces == 0:\n",
    "        print(palabra, \":\", \"No aparece\")\n",
    "    else:\n",
    "        print(palabra,\":\",veces,\" veces\")"
   ],
   "metadata": {
    "collapsed": false,
    "pycharm": {
     "name": "#%%\n",
     "is_executing": false
    }
   }
  },
  {
   "cell_type": "markdown",
   "metadata": {},
   "source": [
    "#### Normas de entrega\n",
    "\n",
    "* Fecha tope de entrega: 26/09/2019\n",
    "* La entrega se realizará subiendo al campus virtual un notebook de Jupyter con la solución. El archivo tendrá como nombre IntroPython_GrupoX donde X será el número de grupo correspondiente."
   ]
  },
  {
   "cell_type": "code",
   "execution_count": null,
   "metadata": {},
   "outputs": [],
   "source": []
  }
 ],
 "metadata": {
  "anaconda-cloud": {},
  "kernelspec": {
   "display_name": "Python 3",
   "language": "python",
   "name": "python3"
  },
  "language_info": {
   "codemirror_mode": {
    "name": "ipython",
    "version": 3
   },
   "file_extension": ".py",
   "mimetype": "text/x-python",
   "name": "python",
   "nbconvert_exporter": "python",
   "pygments_lexer": "ipython3",
   "version": "3.7.3"
  },
  "pycharm": {
   "stem_cell": {
    "cell_type": "raw",
    "source": [],
    "metadata": {
     "collapsed": false
    }
   }
  }
 },
 "nbformat": 4,
 "nbformat_minor": 1
}
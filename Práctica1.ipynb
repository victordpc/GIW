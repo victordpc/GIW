{
 "cells": [
  {
   "cell_type": "markdown",
   "metadata": {},
   "source": [
    "### Práctica de Introducción al lenguaje Python"
   ]
  },
  {
   "cell_type": "markdown",
   "metadata": {},
   "source": [
    "#### Ejercicio 1[4 puntos]\n",
    "Un autómata finito deteminista (AFD) es una modelo matemática que permite representar un tipo de lenguaje formal denominado lenguaje regular. Se caracterizan por un alfabeto, un conjunto finito de estados, un estado inicial, un conjunto de estados finales y una función de transición. La función de transición toma un estado  y  un símbolo,  y devuelve como resultado un estado.\n",
    "El automáta toma como entrada una cadena, y aplica la función de transición sucesivamente sobre los elementos de la entrada. Una vez que ha consumido toda la cadena, se mira el estado al que se ha llegado, y si es un estado final entonces la entrada es aceptada. En caso contrario, la cadena no es aceptada.\n",
    "\n",
    "Se pide simular un AFD que tomará como entrada una cadena que representa la entrada, una lista de tuplas donde cada tupla representa un estado y un símbolo representando la función de transición, un conjunto de estado representando el conjunto de estados finales y un estado representando el estado inicial. El programa ante una entrada dirá si la cadena es aceptada o no lo es.\n",
    "\n",
    "Intentad estructurar el programa separando lo que es el programa que acepta la entrada y nos dice si es aceptado o no, y el programa que simula el AFD.\n",
    "\n",
    "Más información: https://en.wikipedia.org/wiki/Deterministic_finite_automaton\n",
    "\n",
    "No se pueden usar ninguna función o método que simule un AFD."
   ]
  },
  {
   "cell_type": "code",
   "execution_count": 1,
   "metadata": {},
   "outputs": [],
   "source": [
    "def tratarFuncionTransicion(original):\n",
    "    \"\"\"Tratamiento de una colección de tuplas de tres elementos para generar un diccionario de diccionarios usando como \n",
    "    clave para el primer diccionario el primer elemento, clave para el segundo diccionario el segundo elemento y valor \n",
    "    el tercer elemento\n",
    "    \"\"\"\n",
    "    resultado = dict()\n",
    "\n",
    "    for funcion in original:\n",
    "        if funcion[0] in resultado:\n",
    "            (resultado[funcion[0]])[funcion[1]] = funcion[2]\n",
    "        else:\n",
    "            resultado[funcion[0]] = {funcion[1]: funcion[2]}\n",
    "\n",
    "    return resultado\n",
    "\n",
    "\n",
    "def ejecutarAutomata(inicial, cadena, transicion):\n",
    "    \"\"\"Ejecución de un AFD\"\"\"\n",
    "    actual = inicial\n",
    "    seguir = True\n",
    "    indice = 1\n",
    "    resultado = True\n",
    "\n",
    "    while(resultado and seguir):\n",
    "        entrada = cadena[indice-1:indice]\n",
    "\n",
    "        if actual not in transicion or entrada not in transicion[actual]:\n",
    "            resultado = False\n",
    "        else:\n",
    "            actual = transicion[actual][entrada]\n",
    "\n",
    "            indice += 1\n",
    "            if indice > len(cadena):\n",
    "                seguir = False\n",
    "    return resultado, actual\n",
    "\n",
    "\n",
    "def automata(estados, estadosFinales, funcionTransicion, cadena, inicial):\n",
    "    \"\"\"Implementación de un AFD.\n",
    "     : estados -> Lista de estados posibles.\n",
    "     : estadosFinales -> Lista de estados finales aceptables.\n",
    "     : funcionTransicion -> Lista de tuplas con la función de transición entre estados.\n",
    "     : cadena -> Cadena con la secuencia de datos de entrada.\n",
    "     : inicial -> Estado inicial del automata.\n",
    "\n",
    "     % Retorno -> True si se ha llegado a un estado aceptado, False en otro caso.\"\"\"\n",
    "\n",
    "    # Comprobamos la validez de la entrada\n",
    "    # or (estadosFinales not in estados):\n",
    "    if not estados or not estadosFinales or not funcionTransicion or not cadena:\n",
    "        return False\n",
    "\n",
    "    # Tratamos la entrada\n",
    "    transicion = tratarFuncionTransicion(funcionTransicion)\n",
    "\n",
    "    # Ejecutamos el automata\n",
    "    resultado, actual = ejecutarAutomata(inicial, cadena, transicion)\n",
    "\n",
    "    \n",
    "    salida = \"\"\n",
    "    if not resultado:\n",
    "        salida = \"Se ha producido un error con los datos proporcionados\"\n",
    "    elif actual in estadosFinales:\n",
    "        salida = \"Cadena válida\"\n",
    "    else:\n",
    "        salida = \"Cadena invalida\"\n",
    "\n",
    "    return salida"
   ]
  },
  {
   "cell_type": "code",
   "execution_count": 2,
   "metadata": {},
   "outputs": [
    {
     "data": {
      "text/plain": [
       "'Cadena válida'"
      ]
     },
     "execution_count": 2,
     "metadata": {},
     "output_type": "execute_result"
    }
   ],
   "source": [
    "estados = [1, 2, 3]\n",
    "estadosFinales = [3]\n",
    "transicion = [[1, \"a\", 2], [1, \"b\", 1], [1, \"c\", 3], [2, \"a\", 1],\n",
    "              [2, \"b\", 3], [2, \"c\", 2], [3, \"a\", 3], [3, \"b\", 2], [3, \"c\", 1]]\n",
    "cadena = \"abcab\"\n",
    "inicial = 1\n",
    "\n",
    "automata(estados, estadosFinales, transicion, cadena, inicial)\n"
   ]
  },
  {
   "cell_type": "markdown",
   "metadata": {},
   "source": [
    "#### Ejercicio 2[4 puntos]\n",
    "Considera el problema de cálculo del determinante de una matriz cuadrado de cualquier orden:\n",
    "https://es.wikipedia.org/wiki/Determinante_(matem%C3%A1tica)\n",
    "\n",
    "Se pide implementar un programa que dada una matriz expresada en forma de una lista de listas donde cada lista representa una fila de la matriz, devuelva el determinante de dicha matriz.\n",
    "\n",
    "No se pueden usar ninguna función o método que calcule directamente el determinante."
   ]
  },
  {
   "cell_type": "code",
   "execution_count": null,
   "metadata": {},
   "outputs": [],
   "source": []
  },
  {
   "cell_type": "markdown",
   "metadata": {},
   "source": [
    "#### Ejercicio 3[2 puntos]\n",
    "Implementar un programa en Python tal que tome como entrada el nombre de dos archivos de texto. En un archivo hay un conjunto de palabras separadas por coma en una linea y en el otro archivo un texto cualquiera. El programa debe buscar las palabras del primer archivo en el texto del segundo archivo. Como resultado debe mostrar por pantalla cada palabra buscada y junto a ella el núméro de veces que aparece la palabra en el texto. En caso de no aparecer se indicará que no aparece esa palabra. Para realizar la búsqueda no se distingue entre mayúsculas y minúsculas. \n",
    "\n",
    "No se pueden usar ninguna función o método que realice directamente el procesamiento."
   ]
  },
  {
   "cell_type": "code",
   "execution_count": 1,
   "metadata": {},
   "outputs": [],
   "source": [
    "import csv\n",
    "import re\n",
    "\n",
    "def buscarPalabras():\n",
    "    regex1 = r'(\\W|^)('\n",
    "    regex2 = r')(\\W|$)'\n",
    "    resultado = dict()\n",
    "\n",
    "    texto=open(fichero2,encoding='utf-8').read()\n",
    "    texto=texto.upper()\n",
    "\n",
    "    # Limpiamos el texto de entrada\n",
    "    texto = texto.replace(\"\\n\",\" \")\n",
    "    texto = texto.replace(\" \",\"  \")\n",
    "\n",
    "    with open(fichero1,encoding='utf-8') as origen:\n",
    "        reader = csv.reader(origen, delimiter=',')\n",
    "\n",
    "        for lista in reader:\n",
    "            for palabra in lista:\n",
    "                palabra= palabra.upper()\n",
    "\n",
    "                regex = regex1+palabra+regex2\n",
    "\n",
    "                x = re.findall(regex, texto)\n",
    "                resultado[palabra]=len(x)\n",
    "    return resultado\n"
   ]
  },
  {
   "cell_type": "code",
   "execution_count": 3,
   "metadata": {},
   "outputs": [
    {
     "name": "stdout",
     "output_type": "stream",
     "text": [
      "{'SANCHO': 691, 'QUIJOTE': 848, 'MOLINO': 9, 'DULCINEA': 90}\n"
     ]
    }
   ],
   "source": [
    "fichero1=\"file1.csv\"\n",
    "fichero2=\"file2.txt\"\n",
    "\n",
    "resultado = buscarPalabras()\n",
    "            \n",
    "print(resultado)"
   ]
  },
  {
   "cell_type": "markdown",
   "metadata": {},
   "source": [
    "#### Normas de entrega\n",
    "\n",
    "* Fecha tope de entrega: 26/09/2019\n",
    "* La entrega se realizará subiendo al campus virtual un notebook de Jupyter con la solución. El archivo tendrá como nombre IntroPython_GrupoX donde X será el número de grupo correspondiente."
   ]
  }
 ],
 "metadata": {
  "anaconda-cloud": {},
  "kernelspec": {
   "display_name": "Python 3",
   "language": "python",
   "name": "python3"
  },
  "language_info": {
   "codemirror_mode": {
    "name": "ipython",
    "version": 3
   },
   "file_extension": ".py",
   "mimetype": "text/x-python",
   "name": "python",
   "nbconvert_exporter": "python",
   "pygments_lexer": "ipython3",
   "version": "3.7.2"
  }
 },
 "nbformat": 4,
 "nbformat_minor": 1
}

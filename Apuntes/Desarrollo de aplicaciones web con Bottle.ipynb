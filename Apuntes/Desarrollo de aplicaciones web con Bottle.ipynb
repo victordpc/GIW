{
 "cells": [
  {
   "cell_type": "markdown",
   "metadata": {},
   "source": [
    "## Desarrollo de aplicaciones web con Bottle"
   ]
  },
  {
   "cell_type": "code",
   "execution_count": null,
   "metadata": {
    "collapsed": true
   },
   "outputs": [],
   "source": []
  },
  {
   "cell_type": "markdown",
   "metadata": {
    "collapsed": true
   },
   "source": [
    "### BOOTLE"
   ]
  },
  {
   "cell_type": "markdown",
   "metadata": {
    "collapsed": true
   },
   "source": [
    "__1.Introducción__\n",
    "\n",
    "Bottle es una framework web para Python que no tiene dependencias externas con otras librerías.\n",
    "\n",
    "Para usarla basta tener el archivo bottle.py en el mismo directorio en el que se crea la aplicación web.\n"
   ]
  },
  {
   "cell_type": "code",
   "execution_count": null,
   "metadata": {},
   "outputs": [],
   "source": [
    "from bottle import route, run\n",
    "\n",
    "@route ('/hola')\n",
    "def hola():\n",
    "    return \"<h1> ¡Hola Mundo!</h1>\"\n",
    "\n",
    "run(host='0.0.0.0', port=8080)"
   ]
  },
  {
   "cell_type": "markdown",
   "metadata": {
    "collapsed": true
   },
   "source": [
    "Observar:\n",
    "\n",
    "* La primera línea importa los módulos route y run de Bottle:\n",
    "\n",
    "   * El módulo run es usado para ejecutar una aplicación en el servidor de desarrollo.\n",
    "\n",
    "   * El módulo route indica a la aplicación en que URL hay que solicitar la petición. En las aplicaciones bottle se implementa llamando a una función Python por cada URL solicitada, retornando los resultados de la función al usuario.\n",
    "   \n",
    "             from bottle import route, run\n",
    "   \n",
    "   * A continuación se define el patrón de la ruta que se va asociar a la función definida posteriormente.\n",
    "\n",
    "             @route ('/hola')\n",
    "             \n",
    "   * La función retorna una cadena HTML que será mostrada en el navegador.\n",
    "\n",
    "             def hola():\n",
    "                return \"<h1> ¡Hola Mundo!</h1>\"\n",
    "                \n",
    "   * La línea con la instancia sobre run indica que se ejecute en el servidor de desarrollo. Además el parámetro host=‘0.0.0.0’ indica que el contenido puede ser servido en cualquier ordenador, y el parámetro puerto indica el puerto que se va a usar.\n",
    "   \n",
    "             run(host='0.0.0.0', port=8080)\n",
    "\n",
    "   * Una vez ejecutado el programa se introduce la siguiente url en el navegador:\n",
    "\n",
    "             http://localhost:8080/hola\n",
    "             \n",
    "   * El servidor se puede parar tecleando en el terminal “CTRL-C”\n",
    "\n"
   ]
  },
  {
   "cell_type": "markdown",
   "metadata": {
    "collapsed": true
   },
   "source": [
    "__2.Rutas__\n",
    "\n",
    "Se pueden asociar más de una ruta a una función:"
   ]
  },
  {
   "cell_type": "code",
   "execution_count": null,
   "metadata": {},
   "outputs": [],
   "source": [
    "from bottle import route, run, template\n",
    "@route('/')\n",
    "@route('/hola/<name>')\n",
    "def greet(name='Pepito'):\n",
    "    return template('Hola {{name}}, ¿qué tal estás?',name=name)\n",
    "run(host='0.0.0.0', port=8080)"
   ]
  },
  {
   "cell_type": "markdown",
   "metadata": {},
   "source": [
    "Se pueden definir rutas dinámicas que encajen con más de una URL a la vez. Para ello se usan términos parametrizados que van entre “&lt;” y “>”. Así en el ejemplo anterior __/hola/&lt;name>__  aceptará diferentes peticiones de acuerdo al valor que tome la variable “name”."
   ]
  },
  {
   "cell_type": "raw",
   "metadata": {},
   "source": [
    "@route('/wiki/<pagename>') #encaja con /wiki/Learning_Python\n",
    "def show_wiki_page(pagename):\n",
    "    pass\n",
    "    \n",
    "@route('/<action>/<user>') #encaja con /follow/defnull\n",
    "def user_api(action,user):\n",
    "    pass"
   ]
  },
  {
   "cell_type": "markdown",
   "metadata": {},
   "source": [
    "Se pueden usar filtros para definir rutas más específicas. En este caso se usa la sintaxis &lt;nombre:filtro> o bien &lt;nombre:filtro:configuración>. \n",
    "\n",
    "Algunos filtros:\n",
    "\n",
    ":int encaja con digitos y convierte el valor a entero.\n",
    "\n",
    ":float es similar a :int para números decimales. \n",
    "\n",
    ":path encaja todos los caracteres incluyendo el caracter “/” y puede ser usado para encajar más de un segmento de una ruta.\n",
    "\n",
    ":re permite especificar una expresión regular para el campo configuración. El valor encajado no es modificado . \n"
   ]
  },
  {
   "cell_type": "raw",
   "metadata": {},
   "source": [
    "@route('/object/<id:int>')\n",
    "def callback(id):\n",
    "    assert isinstance(id,int)\n",
    "    \n",
    "@route('/show/<name:re:[a-z]+>')\n",
    "def callback(name):\n",
    "    assert name.isalpha()\n",
    "\n",
    "@route('/static/<path:path>')\n",
    "def callback(path):\n",
    "    assert static_file(path,...)"
   ]
  },
  {
   "cell_type": "markdown",
   "metadata": {},
   "source": [
    "__3.Métodos de petición HTTP__\n",
    "\n",
    "El protocolo HTTP define varios métodos para realizar peticiones: GET, POST, PUT, DELETE or PATCH. Por defecto se usa GET.\n",
    "\n",
    "Para usarlos se añade la palabra al método route() o bien se utilizan las palabras clave: get(), post(), put(), delete() or patch()"
   ]
  },
  {
   "cell_type": "code",
   "execution_count": null,
   "metadata": {},
   "outputs": [],
   "source": [
    "from bottle import get, post, request #or route\n",
    "\n",
    "def check_login(user,password):\n",
    "    if user==\"Pepe\" and password==\"789\":\n",
    "        return True\n",
    "    else:\n",
    "        return False\n",
    "\n",
    "@get('/login') #or @route('/login')\n",
    "def login():\n",
    "    return '''\n",
    "       <form action=\"/login\" method=\"post\">\n",
    "          Username: <input name=\"username\" type=\"text\" />\n",
    "          Password: <input name=\"password\" type=\"password\" />\n",
    "          <input value=\"Login\" type=\"submit\" />\n",
    "       </form>\n",
    "    '''\n",
    "\n",
    "@post('/login') #or @route('/login', method='POST')\n",
    "def do_login():\n",
    "    username= request.forms.get('username')\n",
    "    password= request.forms.get('password')\n",
    "    if check_login(username,password):\n",
    "        return \"<p> Tu información de login es correcta.</p>\"\n",
    "    else:\n",
    "        return \"<p>Login fallado</p>\"\n",
    "\n",
    "run(host='0.0.0.0', port=8080)"
   ]
  },
  {
   "cell_type": "markdown",
   "metadata": {},
   "source": [
    "En este ejemplo la URL /login es enlazada a dos funciones diferentes, una para una petición GET y otra para una petición POST. La primera muestra un formulario HTML al usuario y el segundo es invocado cuando se envía un formulario y se chequea la información que el usuario ha entrado en el formulario.\n",
    "\n",
    "__4.Archivos estáticos__\n",
    "\n",
    "Los archivos estáticos tales como imágenes no son servidos automáticamente, debiendo añadir una ruta y una función para controlar que los archivos son servidos y dónde se encuentran."
   ]
  },
  {
   "cell_type": "raw",
   "metadata": {},
   "source": [
    "from bottle import static_file\n",
    "@route('/static/<filename>')\n",
    "def server_static(filename):\n",
    "    return static_file(filename, root='/path/to/your/static/files')"
   ]
  },
  {
   "cell_type": "markdown",
   "metadata": {},
   "source": [
    "En el ejemplo anterior se sirven los archivos que se encuentran directamente en el directorio /path/to/your/static/files\n",
    "\n",
    "Para servir archivos en subdirectorios se debe usar un filtro:"
   ]
  },
  {
   "cell_type": "raw",
   "metadata": {},
   "source": [
    "from bottle import static_file\n",
    "@route('/images/<filename:re:.*\\.png>')\n",
    "def send_image(filename):\n",
    "    return static_file(filename, root='/path/to/image/files', mimetype=\"image/png\")\n",
    "\n",
    "@route('/static/<filename:path>')\n",
    "def send_static(filename):\n",
    "    return static_file(filename, root=\"/path/to/static/files\")"
   ]
  },
  {
   "cell_type": "markdown",
   "metadata": {},
   "source": [
    "Se puede forzar a que un archivo sea descargado o sugerir un nombre al usuario de la siguiente manera:"
   ]
  },
  {
   "cell_type": "raw",
   "metadata": {},
   "source": [
    "from bottle import static_file\n",
    "@route('/download/<filename:path>')\n",
    "def download(filename):\n",
    "    return static_file(filename, root=\"/path/to/static/files\", download=filename)"
   ]
  },
  {
   "cell_type": "markdown",
   "metadata": {},
   "source": [
    "__5.Páginas de error__\n",
    "\n",
    "Cuando se produce un error, Bottle muestra información sobre el mismo. Esta información puede ser sobreescrita usando la palabra reservada error() "
   ]
  },
  {
   "cell_type": "raw",
   "metadata": {},
   "source": [
    "from bottle import error\n",
    "@error(404)\n",
    "def error404(error):\n",
    "    return \"Nada. Lo siento.\""
   ]
  },
  {
   "cell_type": "markdown",
   "metadata": {},
   "source": [
    "El único parámetro que se pasa al gestor de errores es una instancia de HTTPError.\n",
    "\n",
    "Se puede leer una petición, escribir una respuesta y retornar cualquier tipo de datos excepto instancias HTTPError.\n",
    "\n",
    "Los gestores de errores solo son usados para aplicaciones que retornan o lanzan excepciones del tipo HTTPError.\n",
    "\n",
    "__6.Generación de contenidos__\n",
    "\n",
    "Los tipos de datos que se pueden devolver desde Bottle son los siguientes:\n",
    "\n",
    "* Diccionarios: Los diccionarios de Python son transformados en cadenas JSON y retornadas al navegador con el Content-Type de la cabecera configurada a application/json.\n",
    "\n",
    "* Cadena vacía, Falso, None y valores booleanos. Producen una salida vacía con el Content-Length de la cabecera a 0.\n",
    "\n",
    "* Cadenas Unicode son automaticamente codificadas con el codec especificado en el Content-Type de la cabecera (utf8 por defecto) y es tratada como una cadena de bytes normal.\n",
    "\n",
    "* Cadenas de Bytes. Bottle retorna una cadena entera y añade un Content-Length  de la cabecera basado en la longitud de la cadena.\n",
    "\n",
    "* Instancias de HTTPError o HTTPResponse. Tiene el mismo efecto que lanzar una excepción. En caso de un HTTPError, el gestor de errores es aplicado.\n",
    "\n",
    "* Objetos de archivo. Todas las cosas que tienen un método read() son tratados como un archivo.\n",
    "\n",
    "__7.Codificación__\n",
    "\n",
    "Bottle usa el parámetro charset del Content-Type de la cabecera para decidir como codificar las cadenas unicode. Por defecto es text/html; charset=UTF8 y puede ser cambiado usando el atributo response.content_type o configurando el atributo response.charset"
   ]
  },
  {
   "cell_type": "raw",
   "metadata": {},
   "source": [
    "from bottle import response \n",
    "@route('/iso') \n",
    "def get_iso():\n",
    "    response.charset=\"ISO-8859-15\"\n",
    "    return u'Esto será enviado con codificación ISO-8859-15.'\n",
    "\n",
    "@route('/latin9')\n",
    "def get_latin():\n",
    "    response.content_type=\"text/html; charset=latin9\"\n",
    "    return u'ISO-8859-15 es también conocido como latin9.'"
   ]
  },
  {
   "cell_type": "markdown",
   "metadata": {},
   "source": [
    "Alguna veces Python codifica los nombres de forma diferente a los nombres que son soportados por la especificación HTTP. En estos casos primero se configure la cabecera response.content_type y a continuación se configure el atributo response.charset"
   ]
  },
  {
   "cell_type": "markdown",
   "metadata": {},
   "source": [
    "__8.Cookies__\n",
    "\n",
    "Es un trozo de texto almacenado perfil de usuario del navegador. Se puede acceder mediante request.get_cookie() y se puede configurar nuevas cookies con el método request.set_cookie()"
   ]
  },
  {
   "cell_type": "raw",
   "metadata": {},
   "source": [
    "@route('/hola2')\n",
    "def hola_de_nuevo():\n",
    "    if request.get_cookie(\"visited\"):\n",
    "        return \"Bienvenido de vuelta. Encantado de verte de nuevo\"\n",
    "    else:\n",
    "        response.set_cookie(\"visited\",\"yes\")\n",
    "        return \"Hola. Encantado de conocerte\""
   ]
  },
  {
   "cell_type": "markdown",
   "metadata": {},
   "source": [
    "El método Request.set_cookie() tiene un conjunto de parámetros:\n",
    "    \n",
    "   * max_age: Máxima edad en segundos(Por defecto None)\n",
    "    \n",
    "   * expires: Tiempo en que expira(Por defecto None)\n",
    "    \n",
    "   * domain: Dominio es es permitido para leer la cookie(Por defecto el dominio actual)\n",
    "    \n",
    "   * path: Limita la cookie a un camino dado.\n",
    "   \n",
    "   * secure: Limita la cookie a conexiones Https(Por defecto a inactivo)\n",
    "    \n",
    "   * httponly: Previene la lectura de la cookie desde javascript.(Por defecto inactivo).\n",
    "\n",
    "Observaciones:\n",
    "\n",
    "* Las cookies están limitadas a 4kb de texto en muchos navegadores.\n",
    "\n",
    "* Muchos usuarios configuran sus navegadores para no aceptar cookies.\n",
    "\n",
    "* Las cookies son almacenadas en el lado del cliente y no son encriptadas\n",
    "\n",
    "Las cookies pueden ser firmadas criptográficamente de forma que no pueden ser manipuladas, para lo cual se debe proporcionar una clave de firma via un argumento que sea una clave secreta."
   ]
  },
  {
   "cell_type": "raw",
   "metadata": {},
   "source": [
    "@route('/login')\n",
    "def do_login():\n",
    "    username=request.forms.get(\"username\")\n",
    "    password=request.forms.get(\"password\")\n",
    "    if check_login(username,password):\n",
    "        response.set_cookie(\"account\", username,secret=\"some-secret-key\")\n",
    "        return template(\"<p>¡Bienvenido {{name}}! Tú estás ahora logueado.</p>\", name=username)\n",
    "    else:\n",
    "        return \"<p>Login fallado</p>\"\n",
    "\n",
    "@route('/restricted')\n",
    "def restricted_area():\n",
    "    username=request.get_cookie(\"account\",secret=\"some-secret-key\")\n",
    "    if username:\n",
    "        password=request.forms.get(\"password\")\n",
    "        if check_login(username,password):\n",
    "            return template(\"Hola{{name}}.Bienvenido de vuelta\", name=username)\n",
    "        else:\n",
    "            return \"Tú no estás logueado. Acceso denegado.\""
   ]
  },
  {
   "cell_type": "markdown",
   "metadata": {},
   "source": [
    "__9.Objeto request__\n",
    "\n",
    "Las cookies, las cabeceras http , los campos de los formularios HTML y otros datos solicitados se pueden obtener a través del objeto global request."
   ]
  },
  {
   "cell_type": "raw",
   "metadata": {},
   "source": [
    "from bottle import request, route, template\n",
    "\n",
    "@route('/hola')\n",
    "def hola():\n",
    "    name=request.cookies.username\n",
    "    return template(\"Hola {{name}}\",name=name)"
   ]
  },
  {
   "cell_type": "markdown",
   "metadata": {},
   "source": [
    "Bottle usa un tipo especial de diccionario para almacenar los datos de los formularios y las cookies, y sus valores en el diccionario son accesibles como atributos retornando cadenas unicode. Incluso si no tiene valor se devuelve la cadena vacía."
   ]
  },
  {
   "cell_type": "raw",
   "metadata": {},
   "source": [
    "name= request.cookies.name\n",
    "\n",
    "#es equivalente a\n",
    "\n",
    "name=request.cookies.getunicode(\"name\") #encoding='utf-8 (default)\n",
    "\n",
    "#Lo que hace es lo siguiente:\n",
    "\n",
    "try:\n",
    "    name=request.cookies.get('name','').decode('utf-8')\n",
    "except UnicodeError:\n",
    "    name=u''"
   ]
  },
  {
   "cell_type": "markdown",
   "metadata": {},
   "source": [
    "__a.Cookies__\n",
    "\n",
    "Todas las cookies del clientes son accesible mediante __BaseRequest.cookies__. En el siguiente ejemplo se muestra un simple contador basado en las cookies."
   ]
  },
  {
   "cell_type": "raw",
   "metadata": {},
   "source": [
    "from bottle import route, request, response\n",
    "@route('/counter')\n",
    "def counter():\n",
    "    count=int(request.cookies.get('counter','0'))\n",
    "    count=count+1\n",
    "    response.set_cookie('counter',str(count))\n",
    "    return \"Has visitado la página %d veces\" % count\n"
   ]
  },
  {
   "cell_type": "markdown",
   "metadata": {},
   "source": [
    "__b.Cabeceras http__\n",
    "\n",
    "Todas las cabeceras enviadas por el cliente son almacenadas en un diccionario sensitivo a mayúsculas y minúsculas que es accesible desde el atributo __BaseRequest.headers__"
   ]
  },
  {
   "cell_type": "raw",
   "metadata": {},
   "source": [
    "from bottle import route,request\n",
    "@route('is_ajax')\n",
    "def is_ajax():\n",
    "    if request.headers.get(\"X-Requested_With\")==\"XMLHttpRequest\":\n",
    "        return \"Esto es una petición AJAX\"\n",
    "    else:\n",
    "        return \"Esto es un peticion normal\""
   ]
  },
  {
   "cell_type": "markdown",
   "metadata": {},
   "source": [
    "__c.Variables Query__\n",
    "\n",
    "La cadena de consulta como /forum?id=1&page=5, usadas para enviar pares de clave/valor al servidores, se puede acceder a sus valores mediante el atributo __BaseRequest.query__, y mediante __BaseRequest.query_string__ se puede acceder a la cadena entera."
   ]
  },
  {
   "cell_type": "raw",
   "metadata": {},
   "source": [
    "from bottle import route, request, response, template\n",
    "@route('/forum')\n",
    "def display_forum():\n",
    "    forum_id=request.query.id\n",
    "    page=request.query.page or \"1\"\n",
    "    return template(\"Forum id:{{id}} (page {{page}})\", id=forum_id, page=page)"
   ]
  },
  {
   "cell_type": "markdown",
   "metadata": {},
   "source": [
    "__d.Formularios HTML__\n",
    "\n",
    "Considerar un formulario típico de html:"
   ]
  },
  {
   "cell_type": "raw",
   "metadata": {},
   "source": [
    "<form action=\"/login\" method=\"post\">\n",
    "  Username: <input name=\"username\" type=\"text\" />\n",
    "  Password: <input name=\"password\" type=\"password\" />\n",
    "  <input value=\"Login\" type=\"submit\" />\n",
    "</form>"
   ]
  },
  {
   "cell_type": "markdown",
   "metadata": {},
   "source": [
    "El atributo action especifica la URL que recibirá los datos del formulario, el método define se usa GET o POST( si usa GET los valores del formulario serán accesibles a través de la URL y por tanto del método __BaseRequest.query__)\n",
    "\n",
    "Los campos del formulario transmtidos mediante POST son almacenados en __BaseReques.forms__."
   ]
  },
  {
   "cell_type": "raw",
   "metadata": {},
   "source": [
    "from bottle import route, request\n",
    "\n",
    "@route('/login')\n",
    "def login():\n",
    "    return '''\n",
    "     <form action=\"/login\" method=\"post\">\n",
    "       Username: <input name=\"username\" type=\"text\" />\n",
    "       Password: <input name=\"password\" type=\"password\" />\n",
    "       <input value=\"Login\" type=\"submit\" />\n",
    "     </form>\n",
    "    '''\n",
    "\n",
    "@route('/login', method=\"POST\")\n",
    "def do_login():\n",
    "    username= request.forms.get(\"username\")\n",
    "    password= request.forms.get(\"password\")\n",
    "    if check_login(username,password):\n",
    "        return \"<p> Tu información de login es correct.</p>\"\n",
    "    else:\n",
    "        return \"<p>Login fallado</p>\""
   ]
  },
  {
   "cell_type": "markdown",
   "metadata": {},
   "source": [
    "__e.Archivos cargados__\n",
    "\n",
    "Para subir un fichero al servidor se codifica el formulario de una forma diferente, añadiendo el atributo enctype=\"multipart/form-data\"  a la etiqueta &lt;form>. Además se añade las etiquetas &lt;input type=\"file\" />  para poder seleccionar el fichero."
   ]
  },
  {
   "cell_type": "raw",
   "metadata": {},
   "source": [
    "<form action=\"/upload\" method=\"post\" enctype=\"multipart/form-dat\">\n",
    "  Categoria: <input type=\"text\" name=\"category\" />\n",
    "  Seleccionar un archivo: <input type=\"file\" name=\"upload\" />\n",
    "  <input type=\"submit\" value=\"Empezar subida\" />\n",
    "</form>"
   ]
  },
  {
   "cell_type": "markdown",
   "metadata": {},
   "source": [
    "Bottle almacena los archivos cargados en __BaseRequest.files__ . En el siguiente ejemplo se quiere guardar un archivo al disco:"
   ]
  },
  {
   "cell_type": "raw",
   "metadata": {},
   "source": [
    "@route('/upload',method=\"POST\")\n",
    "def do_upload():\n",
    "    category= request.form.get(\"category\")\n",
    "    upload= request.files.get(\"upload\")\n",
    "    name, ext= os.path.splitext(upload,filename)\n",
    "    if ext not in (\".png\", \".jpg\", \".jpeg\"):\n",
    "        return \"Extensión de archivos no permitidos\"\n",
    "    save_path=get_save_path_for_category(category)\n",
    "    upload.save(save_path)\n",
    "    return \"¡Perfecto!\""
   ]
  },
  {
   "cell_type": "markdown",
   "metadata": {},
   "source": [
    "FileUpload.filename contiene el nombre del archivo sobre el sistema de archivos cliente, y el método FileUpload.save se usa para guardar un archivo en disco. Además se puede acceder al archivo directamente mediante FileUpload.file\n",
    "\n",
    "__f.JSON__\n",
    "\n",
    "Algunas aplicaciones envían contenido del tipo application/json al servidor. Este contenido se encuentra en el atributo __BaseRequest.json__"
   ]
  },
  {
   "cell_type": "markdown",
   "metadata": {},
   "source": [
    "__10.Plantillas__\n",
    "\n",
    "Bottle dispone de un motor de plantillas. Para usar una plantilla se puede usar la función template(). Se debe proporcionar el nombre de la plantilla y las variables que se desean pasar como argumentos clave/valor"
   ]
  },
  {
   "cell_type": "raw",
   "metadata": {},
   "source": [
    "@route('/hello')\n",
    "@route('/hello/<name>')\n",
    "def hello(name=\"World\"):\n",
    "    return template(\"hello_template\", name=name)"
   ]
  },
  {
   "cell_type": "markdown",
   "metadata": {},
   "source": [
    "En este ejemplo se carga la plantilla hello_template.tpl y se pasa como argumento la variable name. Las plantillas son almacenadas en memoria , y las modificaciones no tendrán efecto hasta que se limpie la cache."
   ]
  },
  {
   "cell_type": "markdown",
   "metadata": {},
   "source": [
    "__11.Modelo MVC__\n",
    "\n",
    "El modelo MVC establece que en toda aplicación web se debe separar la funcionalidad de la interface de usuario, para lo cual se definen 3 componentes:\n",
    "\n",
    "* Modelo: Representación de los datos y responsable de almacenar, consultar y modificar los datos.\n",
    "\n",
    "* Vista: Describe como la información debería ser mostrado al usuario. Es usado para formatear y controlar la presentación de los datos.\n",
    "\n",
    "* Controlador: Es aquella que realiza el procesamiento decidiendo como responder a las peticiones de usuario.\n",
    "\n",
    "__Creación de un modelo__\n",
    "\n",
    "Se va a usar como componente para la persistencia de los datos una base de datos SQLite. Para ello se creará una base de datos con un conjunto de datos."
   ]
  },
  {
   "cell_type": "code",
   "execution_count": null,
   "metadata": {},
   "outputs": [],
   "source": [
    "import sqlite3\n",
    "db=sqlite3.connect(\"libreria.sqlite3\")\n",
    "db.execute(\"CREATE TABLE Libros (id INTEGER PRIMARY KEY, item CHAR(100) NOT NULL, cantidad INTEGER NOT NULL)\")\n",
    "db.execute(\"INSERT INTO Libros (item,cantidad) VALUES ('El Quijote', 4)\")\n",
    "db.execute(\"INSERT INTO Libros (item,cantidad) VALUES ('Drácula', 2)\")\n",
    "db.execute(\"INSERT INTO Libros (item,cantidad) VALUES ('Guerra y Paz', 30)\")\n",
    "db.execute(\"INSERT INTO Libros (item,cantidad) VALUES ('Hamlet', 1)\")\n",
    "db.execute(\"INSERT INTO Libros (item,cantidad) VALUES ('Frankestein', 4)\")\n",
    "db.commit()"
   ]
  },
  {
   "cell_type": "code",
   "execution_count": null,
   "metadata": {},
   "outputs": [],
   "source": [
    "db=sqlite3.connect(\"libreria.sqlite3\")\n",
    "a=db.execute(\"SELECT * from Libros\")\n",
    "print(list(a))\n",
    "db.commit()\n"
   ]
  },
  {
   "cell_type": "markdown",
   "metadata": {},
   "source": [
    "__Creación del controlador__\n",
    "\n",
    "En el controlador se implementa la funcionalidad \n",
    "principal de la aplicación:\n",
    "\n",
    "* Conectarse a la base de datos.\n",
    "\n",
    "* Obtener los datos de la tabla.\n",
    "\n",
    "* Llamar a la vista para generar la vista, y mostrar los datos formateados al usuario.\n"
   ]
  },
  {
   "cell_type": "code",
   "execution_count": null,
   "metadata": {},
   "outputs": [],
   "source": [
    "import sqlite3\n",
    "from bottle import route, run, template\n",
    "\n",
    "@route(\"/libreria\")\n",
    "def mostrar_libros():\n",
    "    db=sqlite3.connect(\"libreria.sqlite3\")\n",
    "    c=db.cursor()\n",
    "    c.execute(\"SELECT item, cantidad FROM Libros\")\n",
    "    data=c.fetchall()\n",
    "    c.close()\n",
    "    output=template(\"mostrar_libros\", rows=data)\n",
    "    return output\n",
    "\n",
    "run(host=\"0.0.0.0\", port=8080)"
   ]
  },
  {
   "cell_type": "markdown",
   "metadata": {},
   "source": [
    "Observar que la línea output = template('mostrar_libros', rows=data) llama a la vista para formatear los datos. La vista es una plantilla denominada “mostrar_libros.tpl” que formatea los datos que le son pasados a través de la variable rows que toma como valor los datos recuperados en la consulta.\n",
    "\n",
    "__Creación de la vista__\n",
    "\n",
    "La aplicación buscará una plantilla que coincida con el nombre dado en la función template() y finalizado con la extensión .tpl\n",
    "\n",
    "El archivo puede mezclar HTML con trozos de código en Python."
   ]
  },
  {
   "cell_type": "raw",
   "metadata": {},
   "source": [
    "<h1> Libros que se encuentran en la libreria </h1>\n",
    "<table>\n",
    "<tr> <th> Item </th><th> Cantidad </th></tr>\n",
    "%for row in rows: \n",
    "    <tr>\n",
    "    %for col in row:\n",
    "        <td> {{col}}</td>\n",
    "    %end\n",
    "    </tr>\n",
    "%end\n",
    "</table>"
   ]
  },
  {
   "cell_type": "markdown",
   "metadata": {},
   "source": [
    "Observar:\n",
    "\n",
    "* Se usa un bucle para crear una tabla que se rellena con los datos del modelo.\n",
    "\n",
    "* La variable rows que tenía los datos del modelo es accesible desde la plantilla.\n",
    "\n",
    "* Las líneas en Python van precedidas por “%”, siendo posible acceder a la variables desde HTML usando la sintaxis “{{var}}”\n",
    "\n",
    "__Ejecución__\n",
    "\n",
    "Se ejecuta el programa que implementa el controlador, y se visita la url:\n",
    "\n",
    "            http://localhost:8080/libreria"
   ]
  },
  {
   "cell_type": "markdown",
   "metadata": {},
   "source": [
    "### EJEMPLOS"
   ]
  },
  {
   "cell_type": "markdown",
   "metadata": {},
   "source": [
    "__Ejemplo 1__"
   ]
  },
  {
   "cell_type": "code",
   "execution_count": null,
   "metadata": {},
   "outputs": [],
   "source": [
    "from bottle import route, run\n",
    "@route('/hola')\n",
    "def hola():\n",
    "    return \"<h1>Hola Mundo</h1>\"\n",
    "\n",
    "run(host=\"localhost\", port=8080, debug=True)"
   ]
  },
  {
   "cell_type": "markdown",
   "metadata": {},
   "source": [
    "Observar:\n",
    "\n",
    "* @router permite definir una ruta URL para acceder a la página web. En este ejemplo se accede mediante http://localhost:8080/hola.\n",
    "\n",
    "* Para cada ruta o conjunto de rutas se define una función que debe devolver el código html que se mostrará al acceder a la ruta especificada.\n",
    "\n",
    "* La función run() ejecuta un servidor web al que se puede acceder desde localhost en el puerto 8080.\n"
   ]
  },
  {
   "cell_type": "markdown",
   "metadata": {},
   "source": [
    "__Ejemplo 2__"
   ]
  },
  {
   "cell_type": "code",
   "execution_count": null,
   "metadata": {},
   "outputs": [],
   "source": [
    "from bottle import route, run\n",
    "\n",
    "@route('/')\n",
    "@route('/hola/<nombre>')\n",
    "def saludo(nombre=\"Pepito\"):\n",
    "    return \"Hola %s, bienvenid@\"%nombre\n",
    "\n",
    "run(host=\"localhost\", port=8080, debug=True)"
   ]
  },
  {
   "cell_type": "markdown",
   "metadata": {},
   "source": [
    "Una ruta dinámica permite definir rutas utilizando variables, por lo que se puede asociar más de una URL.\n",
    "\n",
    "En el ejemplo:\n",
    "\n",
    "* Se han definimos dos rutas que muestran la misma página web.\n",
    "\n",
    "* La segunda ruta es dinámica ya que el segundo parámetro es una variable.\n",
    "\n",
    "* El valor de la variable de la ruta se envía a la función. También en este caso se ha utilizado un parámetro con un valor por defecto (“Pepito“) en la función.\n",
    "\n",
    "__Ejemplo 3__"
   ]
  },
  {
   "cell_type": "code",
   "execution_count": null,
   "metadata": {},
   "outputs": [],
   "source": [
    "from bottle import Bottle,route,run,request\n",
    "@route('/login') \n",
    "def login():\n",
    "    return '''\n",
    "        <form action=\"/login\" method=\"post\">\n",
    "            Username: <input name=\"usuario\" type=\"text\" />\n",
    "            Password: <input name=\"password\" type=\"password\" />\n",
    "            <input value=\"Login\" type=\"submit\" />\n",
    "        </form>'''\n",
    "\n",
    "@route('/login',method='POST') \n",
    "def do_login():\n",
    "    username = request.forms.get('usuario')\n",
    "    password = request.forms.get('password')\n",
    "    if username==\"antonio\" and password==\"antonio\":\n",
    "        return \"<p>Login correcto</p>\"\n",
    "    else:\n",
    "        return \"<p>Login incorrecto.</p>\"\n",
    "\n",
    "run(host='localhost', port=8080)"
   ]
  },
  {
   "cell_type": "markdown",
   "metadata": {},
   "source": [
    "En este ejemplo se definen dos rutas que se corresponden con la misma URL\n",
    "\n",
    "* La primera se utiliza para enviar información mediante un formulario. \n",
    "\n",
    "* La segunda es utilizada cuando se ha enviado información usando el método POST.\n",
    "\n",
    "* El objeto request almacena la información recibida, de forma que con el método request.forms.get se recupera el valor de loa atributos que aparecen en el elemento input del formulario.\n",
    "\n",
    "__Ejemplo 4__"
   ]
  },
  {
   "cell_type": "code",
   "execution_count": null,
   "metadata": {},
   "outputs": [
    {
     "name": "stderr",
     "output_type": "stream",
     "text": [
      "Bottle v0.13-dev server starting up (using WSGIRefServer())...\n",
      "Listening on http://0.0.0.0:8080/\n",
      "Hit Ctrl-C to quit.\n",
      "\n",
      "127.0.0.1 - - [28/Oct/2019 01:11:53] \"GET /hola HTTP/1.1\" 200 329\n",
      "127.0.0.1 - - [28/Oct/2019 01:11:53] \"GET /favicon.ico HTTP/1.1\" 404 748\n",
      "127.0.0.1 - - [28/Oct/2019 01:12:02] \"GET /hola/antonio HTTP/1.1\" 200 365\n"
     ]
    }
   ],
   "source": [
    "from bottle import Bottle,route,run,request,template\n",
    "@route('/hola')\n",
    "@route('/hola/')\n",
    "@route('/hola/<nombre1>')\n",
    "def hola(nombre1='Mundo'):\n",
    "    return template('template_hola.tpl', nombre=nombre1)\n",
    "run(host='0.0.0.0', port=8080)"
   ]
  },
  {
   "cell_type": "raw",
   "metadata": {},
   "source": [
    "<!DOCTYPE html>\n",
    "<html lang=\"es\">\n",
    "<head>\n",
    "<title>Bienvenido {{nombre}}</title>\n",
    "<meta charset=\"utf-8\" />\n",
    "</head>\n",
    " \n",
    "<body>\n",
    "    <header>\n",
    "       <h1>Este es mi sitio web</h1>\n",
    "       <p>Esta creado con tecnología bottle</p>\n",
    "    </header>\n",
    "    <h2>Bienvenido</h2>\n",
    "    % if nombre==\"Mundo\":\n",
    "      <p> Hola <strong>{{nombre}}</strong></p>\n",
    "    %else:\n",
    "      <h1>Hola {{nombre.title()}}!</h1>\n",
    "      <p>¿Cómo estás?\n",
    "    %end\n",
    "</body>\n",
    "</html>"
   ]
  },
  {
   "cell_type": "markdown",
   "metadata": {},
   "source": [
    "En este ejemplo la plantilla recibe una variable (nombre), con el nombre que indicado en la URL:\n",
    "\n",
    "* La variable se usa en el código html mediante  los caracteres {{    }}.\n",
    "* Con el símbolo % se permite la inclusión de una línea python. Dentro de las plantillas no funciona el tabulado propio de python, por lo hay que indicar el final de los bucles y las condicionales con una instrucción end.\n",
    "\n",
    "* Se puede hacer uso de los métodos de la clase String ({{nombre.tittle()}})\n",
    "\n",
    "__Ejemplo 5__"
   ]
  },
  {
   "cell_type": "code",
   "execution_count": null,
   "metadata": {},
   "outputs": [],
   "source": [
    "from bottle import Bottle,route,run,request,template\n",
    "@route('/suma/<num1>/<num2>')\n",
    "def suma(num1,num2):\n",
    "    return template('template_suma.tpl',numero1=num1,numero2=num2)\n",
    "run(host='0.0.0.0', port=8080)"
   ]
  },
  {
   "cell_type": "raw",
   "metadata": {},
   "source": [
    "<!DOCTYPE html>\n",
    "<html lang=\"es\">\n",
    "<head>\n",
    "<title>Suma de dos números</title>\n",
    "<meta charset=\"utf-8\" />\n",
    "</head>\n",
    "<body>\n",
    "    <header>\n",
    "       <h1>Suma {{numero1}}+{{numero2}}</h1>\n",
    "    </header>\n",
    "\t%suma=int(numero1)+int(numero2)\n",
    "\t%if suma>0:\n",
    "        %resultado=\"positivo\"\n",
    "    %else:\n",
    "        %resultado=\"negativo\"\n",
    "    %end\n",
    "\t<p> La suma es <strong>{{suma}}</strong> el resultado es {{resultado}}</p>\n",
    "</body>\n",
    "</html>"
   ]
  },
  {
   "cell_type": "markdown",
   "metadata": {},
   "source": [
    "En este ejemplo se realiza la suma de dos números recibidos en una ruta dinámica con dos variables (num1 y num2), cuyos valores son enviados a la plantilla en dos variables (numero1 y numero2):\n",
    "\n",
    "* El símbolo % indica una instrucción en Python, y se tiene que usar la instrucción end para indicar el final de la condicional.\n",
    "\n",
    "* Se usan dos variables: suma donde se guarda la suma de los dos números y resultado dónde se guarda si la suma es positiva o negativa.\n",
    "\n",
    "* Para escribir variables en html hay que usar los caracteres  {{  y }}\n",
    "\n",
    "__Ejemplo 6__\n"
   ]
  },
  {
   "cell_type": "code",
   "execution_count": null,
   "metadata": {},
   "outputs": [],
   "source": [
    "from bottle import Bottle,route,run,request,template\n",
    "@route('/lista')\n",
    "def lista():\n",
    "    lista=[\"El Quijote\",\"Hamlet\",\"Divina Comedia\"]\n",
    "    return template('template_lista.tpl',lista=lista)\n",
    "run(host='0.0.0.0', port=8080)"
   ]
  },
  {
   "cell_type": "raw",
   "metadata": {},
   "source": [
    "<!DOCTYPE html>\n",
    "<html lang=\"es\">\n",
    "<head>\n",
    "<title>Lista de libros</title>\n",
    "<meta charset=\"utf-8\" />\n",
    "</head>\n",
    " \n",
    "<body>\n",
    "    <header>\n",
    "       <h1>Libros</h1>\n",
    "    </header>\n",
    "    <ul>\n",
    "    % for libro in lista:\n",
    "      <li> {{libro}} </li>\n",
    "    % end\n",
    "    </ul>    \n",
    "</body>\n",
    "</html>"
   ]
  },
  {
   "cell_type": "markdown",
   "metadata": {},
   "source": [
    "En este ejemplo se envía una lista a través de la variable lista:\n",
    "\n",
    "* En el ejemplo se recorre la lista mediante un bucle que debe finalizar con la instrucción end para indicar el final del mismo.\n",
    "\n",
    "* Para escribir el valor de la variable en una línea html se usan los caracteres {{ }}.\n",
    "\n",
    "* Se puede usar cualquier método de la clase lista desde html.\n",
    "\n",
    "__Ejemplo 7__"
   ]
  },
  {
   "cell_type": "code",
   "execution_count": null,
   "metadata": {},
   "outputs": [],
   "source": [
    "from bottle import Bottle,route,run,request,template\n",
    "@route('/dict')\n",
    "def dict():\n",
    "    datos={\"Nombre\":\"Maria\",\"Telefono\":689933456}\n",
    "    return template('template_dict.tpl',dict=datos)\n",
    "run(host='0.0.0.0', port=8080)"
   ]
  },
  {
   "cell_type": "raw",
   "metadata": {},
   "source": [
    "<!DOCTYPE html>\n",
    "<html lang=\"es\">\n",
    "<head>\n",
    "<title>Un listín teléfonico</title>\n",
    "<meta charset=\"utf-8\" />\n",
    "</head>\n",
    " \n",
    "<body>\n",
    "    <header>\n",
    "       <h1>Listín teléfonico</h1>\n",
    "    </header>\n",
    "    <p>Nombre: {{dict[\"Nombre\"]}}, teléfono {{dict['Telefono']}} </p>\n",
    "    \n",
    "</body>\n",
    "</html>"
   ]
  },
  {
   "cell_type": "markdown",
   "metadata": {},
   "source": [
    "En este ejemplo se envía un diccionario a una plantilla mediante la variable dict:\n",
    "\n",
    "* En el ejemplo se puede ver como se accede a los distintos campos del diccionario como por ejemplo con dict[‘Telefono’].\n",
    "\n",
    "* Se puede usar cualquier método de los diccionarios para trabajar con ellos.\n",
    "\n",
    "__Ejemplo 8__\n"
   ]
  },
  {
   "cell_type": "code",
   "execution_count": null,
   "metadata": {},
   "outputs": [],
   "source": [
    "from bottle import route, default_app, template, run, static_file, error\n",
    "from lxml import etree\n",
    "@route('/')\n",
    "def index():\n",
    "    doc=etree.parse(\"madrid.xml\")\n",
    "    muni=doc.findall(\"municipio\")\n",
    "    return template(\"index.tpl\", mun=muni)\n",
    "@route('/<cod>/<name>')\n",
    "def temp(cod,name):\n",
    "    doc=etree.parse(\"http://www.aemet.es/xml/municipios/localidad_\"+cod+\".xml\")\n",
    "    p=doc.find(\"prediccion/dia\")\n",
    "    max=p.find(\"temperatura\").find(\"maxima\").text\n",
    "    min=p.find(\"temperatura\").find(\"minima\").text\n",
    "    return template(\"temp.tpl\",name=name,max=max,min=min)\n",
    "\n",
    "@route('/static/<filepath:path>')\n",
    "def server_static(filepath):\n",
    "    return static_file(filepath, root='static')\n",
    "\n",
    "@error(404)\n",
    "def error404(error):\n",
    "    return 'Error en la página solicitada'\n",
    "\n",
    "run(host='0.0.0.0', port=8080)"
   ]
  },
  {
   "cell_type": "raw",
   "metadata": {},
   "source": [
    "header.tpl\n",
    "\n",
    "<!DOCTYPE html PUBLIC \"-//W3C//DTD XHTML 1.1//EN\" \"http://www.w3.org/TR/xhtml11/DTD/xhtml11.dtd\">\n",
    "<html xmlns=\"http://www.w3.org/1999/xhtml\" xml:lang=\"en\">\n",
    "\n",
    "<head>\n",
    "  <title>{{title}}</title>\n",
    "  <meta http-equiv=\"content-type\" content=\"text/html; charset=iso-8859-1\" />\n",
    "  <link rel=\"stylesheet\" type=\"text/css\" href=\"/static/style/style.css\" />\n",
    "</head>\n",
    "\n",
    "<body>\n",
    "  <div id=\"main\">\n",
    "    <div id=\"header\">\n",
    "      <div id=\"logo\">\n",
    "        <h1>Temperaturas <span class=\"alternate_colour\">Madrid</span></h1>\n",
    "      </div>\n",
    "      <div id=\"menubar\">\n",
    "        <ul id=\"menu\">\n",
    "          <li class=\"tab_selected\"><a href=\"index.html\">Principal</a></li>\n",
    "          <li><a href=\"mapas.html\">Mapas</a></li>\n",
    "          <li><a href=\"basesdatos.html\">Bases de datos</a></li>\n",
    "        </ul>\n",
    "      </div>\n",
    "    </div>\n",
    "    <div id=\"site_content\">\n",
    "      <div id=\"panel\"><img src=\"/static/style/panel.jpg\" alt=\"tree tops\" /></div>\n",
    "      <div class=\"sidebar\">\n",
    "        <h1>Últimas noticias</h1>\n",
    "        <h2>Premio a la mejor web del año</h2>\n",
    "        <h1>Otros enlaces</h1>\n",
    "        <ul>\n",
    "          <li><a href=\"#\">AEMET</a></li>\n",
    "          <li><a href=\"#\">Instituto Geográfico Nacional</a></li>\n",
    "          <li><a href=\"#\">Ministerio de Fomento</a></li>\n",
    "        </ul>\n",
    "        </div>\n",
    "      <div id=\"content\">"
   ]
  },
  {
   "cell_type": "raw",
   "metadata": {},
   "source": [
    "footer.tpl\n",
    "\n",
    "</div>\n",
    "    </div>\n",
    "    <div id=\"footer\">Copyright &copy; Company Name. All Rights Reserved.</div>\n",
    "  </div>\n",
    "</body>\n",
    "</html>"
   ]
  },
  {
   "cell_type": "raw",
   "metadata": {},
   "source": [
    "index.tpl\n",
    "\n",
    "% include('header.tpl', title='Temperaturas')\n",
    "<h1>Municipios de Madrid</h1>\n",
    "\t<ul>\n",
    "\t% for m in mun:\n",
    "\t\t<li><a href=\"/{{m.attrib[\"value\"][-5:]}}/{{m.text}}\">{{m.text}}</a></li>\n",
    "\t%end\n",
    "\t</ul>\n",
    "% include('footer.tpl')"
   ]
  },
  {
   "cell_type": "raw",
   "metadata": {},
   "source": [
    "temp.tpl\n",
    "\n",
    "% include('header.tpl', title='Temperaturas '+name)\n",
    "    <h1>{{name}}</h1>\n",
    "\t\t<p>Temperatura máxima:{{max}}ºC</p>\n",
    "\t\t<p>temperatura mínima:{{min}}ºC</p>\n",
    "\t\t<a href=\"..\">Volver</a>\n",
    "% include('footer.tpl')"
   ]
  },
  {
   "cell_type": "markdown",
   "metadata": {},
   "source": [
    "En este ejemplo se muestra una lista de los municipios de la provincia de Madrid y se puede obtener de cada uno de ellos la temperatura máxima y mínima del día actual.\n",
    "\n",
    "Cuando se accede a la página principal, se muestra una lista de enlaces a  todas las localidades de la provincia de Madrid. Cada enlace tiene la estructura /cod_postal/nombre. Esta información es leída de un archivo xml denominado Madrid.xml y se paso a la plantilla index.tpl\n",
    "\n",
    "Cuando se accede a la url /cod_postal/nombre, se leen los datos climáticos del municipio de la página del aemet usando el código postal.  La plantilla temp.tpl recibe tras variables: el nombre del municipio, la temperatura máxima y la mínima.\n",
    "\n",
    "Sobre las plantillas observa que en las plantillas index.tpl como en temp.tpl se usa la función include añadir código html procedente de las plantillas header.tpl y footer.tpl.\n",
    "\n",
    "La función erro04 permite gestionar el acceso a URL incorrectas."
   ]
  },
  {
   "cell_type": "markdown",
   "metadata": {},
   "source": [
    "### HMTL\n",
    "\n",
    "HTML (HyperText Markup Language) es un lenguaje  diseñado para la publicación de contenidos en Internet. Permite formatear textos, incluir imágenes y animaciones, así como para enlazar con otros contenidos del mismo o de otro servidor.\n",
    "\n",
    "Características:\n",
    "\n",
    "* Es un lenguaje interpretado por los navegadores de tal forma que la apariencia de las páginas puede variar entre diferentes navegadores, versiones y plataformas.\n",
    "\n",
    "* El lenguaje está estructurado mediante etiquetas normalmente emparejadas y encerrando un contenido. Las etiquetas modifican la cualidad o formato del contenido mostrado en la pantalla del navegador.\n",
    "\n",
    "\t\t\t\t\t<etiqueta>\n",
    "\t\t\t\t\t\tcontenido\t\n",
    "\t\t\t\t\t</etiqueta>\n",
    "\n",
    "* Las etiquetas pueden estar anidadas ordenadamente:\n",
    "\n",
    "            <etiqueta1>\n",
    "\t\t\t\t<etiqueta2>\n",
    "\t\t\t\t   contenido\n",
    "\t\t\t      </etiqueta2>\n",
    "\t\t\t</etiqueta1>\n",
    "\n",
    "* Algunas etiquetas sólo están integradas por la etiqueta inicial y no se cierran. Es decir no existe <etiqueta/>\n",
    "\n",
    "* Las letras de las etiquetas pueden ser mayúsculas o minúsculas indistintamente.\n",
    "\n",
    "La estructura básica de un documento HTML es:\n",
    "\n",
    "    <!DOCTYPE html>\n",
    "\t  <HTML>\n",
    "\t\t<HEAD>\n",
    "\t\t\t<TITLE>Título de la página</TITLE>\n",
    "\t\t</HEAD>\n",
    "\t\t<BODY>\n",
    "\t\t\tAquí aparecen todas las etiquetas y contenidos\n",
    "\t\t\tque se visualizan en el navegador.\n",
    "\t\t</BODY>\n",
    "\t  </HTML>\n",
    "\n",
    "Las partes de un documento HTML:\n",
    "\n",
    "* La primera línea es la declaración del tipo de documento que indica la versión de HTML que se está usando.\n",
    "\n",
    "* Todo documento HTML empieza con la etiqueta &lt;HTML> indicando el inicio del documento y acaba con la etiqueta &lt;/HTML> para indicar el final del mismo\n",
    "\n",
    "* El documento en sí está dividido en 2 partes:\n",
    "\n",
    "    * El encabezado, encerrado por las etiquetas: &lt;HEAD> &lt;/HEAD>.En el encabezado se encuentra toda la información del documento que no se visualiza en el área principal del navegador, como el título de la página que se encuentra entre las etiquetas &lt;TITLE> &lt;/TITLE>.\n",
    "\n",
    "    * El cuerpo, encerrado por las etiquetas: &lt;BODY> &lt;/BODY>. Dentro del cuerpo se halla todo el contenido que se muestra en el área principal del navegador, como texto, imágenes, etc.\n",
    "\n",
    "HTML no interpreta los espacios en blanco o los saltos de línea del documento fuente, para lo cual existen caracteres especiales al efecto.\n",
    "\n",
    "Observar que si se quiere incluir un comentario dentro de la página HTML, se utilizaran los dos símbolos: &lt;!— (para abrir el comentario) y --> (para cerrarlo).\n",
    "\n",
    "__Instrucciones de formateo__\n",
    "\n",
    "Instrucción|Significado\n",
    "--|--\n",
    "&lt;B> Texto &lt;/B> | Muestra el contenido \"Texto\" en negrita\n",
    "&lt;I> Texto &lt;/I> | Muestra el contenido \"Texto\" en cursiva\n",
    "&lt;PRE> Texto &lt;/PRE> | Muestra el contenido como si hubiese sido escrito por una máquina de escribir con una fuente de espacio fijo(tipo Courier) respetando espacios y saltos de línea.\n",
    "&lt;BLOCKQUOTE> Texto &lt;/BLOCKQUOTE> | Destaca una cita dentro del texto general añadiendo márgenes izquierdo y derecho\n",
    "&lt;P>  | Efectúa un salto de línea y deja una línea en blanco\n",
    "&lt;BR> | Efectúa un salto de línea únicamente. Este elemento no se cierra\n",
    "&lt;HR> | Dibuja una línea horizontal. Este elemento no se cierra\n",
    "&lt;ADDRESS> Texto &lt;/ADDRESS> | Indica el nombre del autor del documento formateando el texto en cursiva y alineando a la izquierda\n",
    "&lt;H4> Texto cabecera &lt;/H4> | Las etiquetas &lt;Hx> con x desde 1 hasta 6, muestran diferentes tamaños de letras y un salto de línea variable. La cabecera de tipo 1 es la más grande, decreciendo el tamaño de la fuente al aumentar el número x.\n",
    "\n",
    "__Listas__\n",
    "\n",
    "Se pueden mostrar listas de contenidos, existiendo 3 tipos:\n",
    "\n",
    "Estructura| Significados\n",
    "--|--\n",
    "&lt;UL> &lt;LI> Palabra 1 &lt;LI> Palabra 2 &lt;LI> Palabra 3 &lt;LI> ....&lt;/UL> | Presenta una lista sin que sus elementos estén precedidos de un número secuencial\n",
    "&lt;OL> &lt;LI> Palabra 1 &lt;LI> Palabra 2 &lt;LI> Palabra 3 &lt;LI> ....&lt;/OL> | Presenta una lista cuyos elementos están precedidos de un número secuencial\n",
    "&lt;DL> &lt;DT> Término 1 &lt;DD> Def. término 1 &lt;DT> Término 2 &lt;DD> Def.término 2 &lt;/DL> | Se utiliza para glosarios o definiciones de términos. Cada bloque de texto está formado por 2 etiquetas <DT> que indica la palabra que deseamos definir, y <DD> que es la definición propiamente dicha.\n",
    "\n",
    "Observar que se pueden anidar unas listas dentro de otras.\n",
    "\n",
    "__Enlaces__\n",
    "\n",
    "Permiten conectar contenidos del mismo o de diferentes servidores de manera muy sencilla e intuitiva. Usualmente, los enlaces tienen la siguiente estructura:\n",
    "\t\t<A HREF=“Destino\"> Representación del enlace </A>\n",
    "\n",
    "Se pueden diferenciar 3 tipos de enlaces:\n",
    "\n",
    "* Enlaces dentro de una misma página: Son  utilizados para poder saltar dentro de una misma página. La primera línea es la marca en la página (también llamada ancla) e indica el sitio exacto adonde se desea saltar; la segunda línea es el enlace, que nos llevará al ancla.\n",
    "                <A NAME=\"marca\"> </A>\n",
    "                <A HREF=\"#marca\"> </A>\n",
    "\n",
    "* Enlaces a otras páginas: Son  utilizados para poder “enlazar” a páginas o alguna parte  concreta de la página(mediante un ancla) del mismo servidor o a páginas de diferentes servidores. \n",
    "\n",
    "                 <A HREF=\"pagina.htm\"> Representación del enlace </A>\n",
    "                 <A HREF=\"pagina.htm#marca\"> Representación del enlace </A>\n",
    "                 <A HREF=\"http://dominio/pag.htm\"> Representación del enlace </A>\n",
    "\n",
    "\n",
    "* Enlaces a una dirección e-mail: Son  usados para facilitar el envío de correo electrónico.\n",
    "    \t<A HREF=\"mailto:email@dominio\">\n",
    "   \t\t\tRepresentación del enlace\t\n",
    "\t    </A>\n",
    "\n",
    "__Imágenes__\n",
    "\n",
    "Para incluir imágenes se utiliza la etiqueta <IMG> (no tiene etiqueta de cierre)y se indica el nombre del fichero que contiene la imagen a  mostrar. \n",
    "                   <IMG SRC=\"imagen.gif\" ALT=\"descripción“ ALIGN=alineamiento WIDTH=ancho HEIGHT=alto>\n",
    "                   \n",
    "Los atributos de la etiqueta &lt;IMG> son:\n",
    "\n",
    "Atributo | Significado\n",
    "--|--\n",
    "SRC | Indica el camino y el nombre de fichero donde se encuentra la imagen que se quiere incluir. Ésta puede residir en el mismo o en otro servidor. Es el único que siempre debe aparecer en la etiqueta.\n",
    "ALT|Se utiliza para mostrar un texto emergente cada vez que se coloca sobre la imagen el puntero del ratón.\n",
    "ALIGN|Se emplea para alinear la imagen en la página HTML. Los valores posibles son: TOP, MIDDLE, BOTTOM, RIGHT y LEFT.\n",
    "WIDTH HEIGHT| Se usan para modificar el tamaño de la imagen en la página HTML. El tamaño se expresa en pixels (por ejemplo, WIDTH = 200) o con un porcentaje del tamaño de la imagen (por ejemplo, WIDTH = 60%). Si no se incluyen estos atributos, la imagen aparece con las mismas dimensiones con las que ha sido creada.\n",
    "\n",
    "__Fondos__\n",
    "\n",
    "Se puede cambiar el fondo de una página con un color uniforme o mediante una imagen tápiz. Para ello se introduce un atributo en la etiqueta BODY.\n",
    "\n",
    "Etiqueta | Significado\n",
    "--|--\n",
    "&lt;BODY BGCOLOR=\"#XXYYZZ\" TEXT=\"#XXYYZZ“ LINK=\"#XXYYZZ\" VLINK=\"#XXYYZZ\" ALINK=\"#XXYYZZ\"> | BGCOLOR: Color de fondo de la página en formato hexadecimal; TEXT : Color del texto; LINK : Color de los enlaces; VLINK: Color de los enlaces visitados; ALINK: Color de los enlaces activos (cuando se pulsan).\n",
    "&lt;BODY BACKGROUND=\"Archivo\">|BACKGROUND: Permite incluir una imagen en formato gif o jpg, de fondo en la página. \"Archivo\" hace referencia a la imagen. Además, se pueden añadir todos los modificadores vistos en el modo anterior para establecer los colores del texto y de los enlaces.\n",
    "\n",
    "__Fuente de un texto__\n",
    "\n",
    "Para establecer las características de la fuente de un texto, se usa la etiqueta <FONT>:\n",
    "\n",
    "             <FONT FACE=\"fuente\" SIZE=\"tamaño\"  COLOR=\"#XXYYZZ\">Texto</FONT>\n",
    "\n",
    "Los atributos de la etiqueta &lt;FONT> son:\n",
    "\n",
    "Atributo| Significado\n",
    "--|--\n",
    "FACE |Se elige el tipo o tipos de fuente para el \"Texto\" contenido entre la etiqueta de inicio y de cierre.\n",
    "COLOR |Selecciona el color de la fuente en formato hexadecimal.\n",
    "SIZE|Se cambia el tamaño de la fuente asignando un valor de 1 a 7 (1 es la más pequeña). El tamaño normal es el 3. Se puede cambiar relativamente respecto a este tamaño normal escribiendo por ejemplo, &lt;FONT SIZE=+1>. También  se puede cambiar el tipo de fuente normal de todo el documento incluyendo a continuación de la etiqueta BODY la etiqueta: &lt;BASEFONT SIZE=5>. \n",
    "\n",
    "__Alineación de textos e imágenes__\n",
    "\n",
    "Cualquier texto o imagen incluidos en una página se puede alinear usando llas etiquetas CENTER, LEFT, RIGHT como por ejemplo:\n",
    "\n",
    "\t\t\t             <CENTER>Texto o Imagen</CENTER>\n",
    "Además en el caso de las imágenes puede usarse el modificador ALIGN de la\n",
    "etiqueta IMG.\n",
    "\n",
    "__Tablas__\n",
    "\n",
    "Se pueden usar tablas para distribuir y presentar contenidos dentro de una página. El esquema básico:\n",
    "\n",
    "     <TABLE> Inicio de la tabla\n",
    "\t    <TR> Primera fila\n",
    "\t\t  <TD> Contenido </TD> Primera columna de la primera fila\n",
    "\t\t  <TD> Contenido </TD> Segunda columna de la primera fila\n",
    "\t    </TR> Final de la primera fila\n",
    "\t    <TR> Segunda fila\n",
    "\t\t  <TD> Contenido </TD> Primera columna de la segunda fila\n",
    "\t\t  <TD> Contenido </TD> Segunda columna de la segunda fila\n",
    "\t    </TR> Final de la segunda fila\n",
    "\t  ……\n",
    "     </TABLE> Final de la tabla\n",
    "     \n",
    "Etiqueta|Significado\n",
    "--|--\n",
    "&lt;TABLE BORDER=borde WIDTH=largo HEIGHT=ancho BGCOLOR=#XXYYZZ CELLSPACING=sep_celdas CELLPADDING=sep_cont> Filas &lt;/TABLE> |Indican el comienzo y final de una tabla. BORDER establece la anchura del borde de la tabla (BORDER=0 indica que la tabla no tiene bordes. WIDTH, HEIGHT fijan el largo y ancho de la tabla respectivamente. Se expresan en pixels o porcentaje de la dimensión de la pantalla. BGCOLOR establece el color de fondo de la tabla en formato hexadecimal. CELLSPACING fija la separación entre las celdas de la tabla en pixels. Por defecto 2 pixels. CELLPADDING determina la separación entre el borde y el contenido dentro de cada celda en pixels. Por defecto 1 pixel.\n",
    "&lt;TR>Celdas&lt;/TR>| Señalan el inicio y el final de una fila. Hay que repetirlas tantas veces como filas deseemos obtener.\n",
    "&lt;TD ALIGN=\"alineam_horiz\" VALIGN=\"alineam_vert\" COLSPAN=extender_horiz ROWSPAN=extender_vert BGCOLOR=#XXYYZZ> Contenido &lt;/TD> | Inicio y el final de una celda con contenido. Hay que repetirlas tantas veces como columnas deseemos obtener. ALIGN establece el alineamiento horizontal del contenido en la celda. Los valores posibles son: CENTER, RIGHT y LEFT. VALIGN establece el alineamiento vertical del contenido en la celda. Los valores posibles son: TOP, BOTTOM y MIDDLE. COLSPAN indica la extensión de la celda en nº de columnas. Así, una celda puede ocupar varias columnas. ROWSPAN indica la extensión de la celda en nº de filas. Así, una celda puede ocupar varias filas. BGCOLOR establece el color de fondo de la celda. Se expresa en formato hexadecimal. Si hemos incluido este atributo en &lt;TABLE>, cambiará el color por defecto de la celda.\n",
    "&lt;TH> Contenido &lt;/TH>|Establece el inicio y el final de una celda de tipo cabecera. Se distingue de &lt;TD> en que muestra el texto en negrita y centrado. Se pueden aplicar los mismos atributos que en la etiqueta &lt;TD>\n",
    "\n",
    "Observar que se pueden anidar unas tablas dentro de otras.\n",
    "\n",
    "__Formularios__\n",
    "\n",
    "Los formularios permiten al usuario introducir información y enviarla al servidor. Su estructura es la siguiente:\n",
    "\n",
    "\t     <FORM ACTION=\"acción_URL\" METHOD=\"método“ ENCTYPE=\"tipo_codificado\">\n",
    "\t\t      Cuerpo del formulario con los diferentes elementos para la introducción de datos\n",
    "               y los botones de envío o de borrado.\t\n",
    "\t     </FORM>\n",
    "\n",
    "Los atributos de la etiqueta <FORM> son:\n",
    "\n",
    "Atributo| Significado\n",
    "--|--\n",
    "ACTION | Indica la acción que se debe realizar. Normalmente es una URL que apunta a un CGI, Servlet o página dinámica.\n",
    "METHOD | Método utilizado para el envío de la información. Puede tomar los valores de “GET” (por defecto) o “POST”. Con “GET” el contenido introducido se añade a la URL como si fuera parte de ésta y con “POST” la información va en el cuerpo de datos separadamente.\n",
    "ENCTYPE | Denota el tipo de codificación utilizada para enviar los datos. Por ejemplo, “TEXT/PLAIN” consigue que las respuestas sean recibidas como un fichero de texto, perfectamente legible y sin codificar.\n",
    "\n",
    "Los elementos del cuerpo son de 5 tipos:\n",
    "\n",
    "* Introducción por medio de texto: el usuario debe completar la información que desea enviar al servidor. Tiene la estructura siguiente:\n",
    "\n",
    "           <INPUT TYPE=\"xxx\" NAME=\"yyy\" VALUE=\"zzz\" SIZE=\"aaa\" MAXLENGTH=\"bbb\">\n",
    "\n",
    "   Observar que la etiqueta &lt;INPUT> no tiene cierre. \n",
    "\n",
    "   Los atributos de la etiqueta &lt;INPUT> son:\n",
    "\n",
    "Atributo | Significado\n",
    "--|--\n",
    "TYPE |Indica el tipo de elemento utilizados para la introducción de información. Los valores posibles son: a) text para establecer el elemento como un ‘edit’ de texto, y b)password es igual que el anterior, pero al escribir sólo se muestran asteriscos.\n",
    "NAME|Establece el nombre del elemento para poder relacionarlo con su contenido.\n",
    "VALUE|Fija el contenido inicial del elemento.\n",
    "SIZE|Establece la longitud del elemento en la pantalla.\n",
    "MAXLENGTH | Establece el número máximo de caracteres que se pueden introducir.\n",
    "\n",
    "* Cuando es necesario introducir un texto que pueda alcanzar una gran longitud u ocupar varias líneas, como un comentario, es conveniente utilizar un elemento de texto de múltiples líneas(etiqueta &lt;TEXTAREA>) en vez de &lt;INPUT>:\n",
    "\n",
    "        <TEXTAREA NAME=\"yyy\" ROWS=\"número\" COLS=\"número\">\n",
    "             contenido inicial\n",
    "        </TEXTAREA>\n",
    "        \n",
    "   Los atributos de la etiqueta &lt;TEXTAREA> son:\n",
    "\n",
    "Atributo | Significado\n",
    "--|--\n",
    "NAME | Establece el nombre del elemento para poder relacionarlo con su contenido.\n",
    "ROWS | Representa el número de filas.\n",
    "COLS | Representa el número de columnas.\n",
    "\n",
    "* Introducción por medio de menús. El usuario escoja entre varias opciones.La etiqueta &lt;SELECT> se usa para señalar el inicio y el final del elemento menú y las etiquetas <OPTION> delimitan el inicio y final de las diferentes opciones:\n",
    "\n",
    "\n",
    "\t\t<SELECT NAME=\"yyy\" MULTIPLE SIZE=\"aaa\">\n",
    "\t\t\t<OPTION VALUE=\"bbb\" selected> literal_opción 1 </OPTION>\n",
    "\t\t\t<OPTION VALUE=\"ccc\"> literal_opción 2 </OPTION>\n",
    "\t\t\t<OPTION VALUE=\"ddd\" selected> literal_opción 3</OPTION>\n",
    "\t\t</SELECT>\n",
    "    \n",
    "   Los atributos de la etiqueta &lt;SELECT> son:\n",
    "   \n",
    "Atributo | Significado\n",
    "--|--\n",
    "NAME | Establece el nombre del elemento para poder relacionarlo con su contenido.\n",
    "MULTIPLE | Permite que se puedan seleccionar múltiples opciones.\n",
    "SIZE |Fija el número de opciones visibles en la pantalla sin necesidad de desplazarse. Sólo funciona conjuntamente con MULTIPLE. Si es mayor que 1, aparecerá una lista; en caso contrario, se verá una lista desplegable.\n",
    "\n",
    "    Los atributos de la etiqueta <OPTION> son:\n",
    "    \n",
    "Atributo | Significado\n",
    "--|-- \n",
    "VALUE |Establece el valor que se asigna a la variable.\n",
    "SELECTED | Si se incluye en alguna de las opciones, esta opción será seleccionada por defecto.\n",
    "\n",
    "* Introducción por medio de botones: El usuario confirme una opción determinada con Sí o No. Se utiliza un elemento de tipo checkbox con la estructura:\n",
    "\n",
    "\t\t<INPUT TYPE=\"checkbox\" NAME=\"yyy\" CHECKED>\t\n",
    "        \n",
    "  donde:\n",
    "\n",
    "Atributo | Significado\n",
    "--|-- \n",
    "NAME | Establece el nombre del elemento para poder relacionarlo con el contenido.\n",
    "CHECKED | Especifica el elemento que aparece seleccionado por defecto.\n",
    "\n",
    "* Si se  quiere que el usuario decida entre varias posibilidades, se utiliza el elemento radiobutton:\n",
    "\n",
    "\t\t<INPUT TYPE=\"radio\" NAME=\"yyy\" VALUE=\"zzz\" CHECKED>\n",
    "\n",
    "  donde:\n",
    "\n",
    "Atributo | Significado\n",
    "--|-- \n",
    "NAME |Nombre del elemento para poder relacionarlo con el contenido. Para asociar varios botones de radio a una única variable se pone a todos el mismo NAME.\n",
    "VALUE | Especifica el valor que se asignará a la variable.\n",
    "CHECKED | Fija la única opción seleccionada por defecto.\n",
    "\n",
    "\n",
    "* Botones de envío y de borrado. Sirven para que el usuario pulse en ellos y envíe la información al servidor o borre los datos introducidos en la página.\t\n",
    "\n",
    "\t\t<INPUT TYPE=\"tipo\" VALUE=\"zzz\">\n",
    " \n",
    "  donde:\n",
    "\n",
    "Atributo | Significado\n",
    "--|-- \n",
    "TYPE|Establece el tipo de botón. Para el envío de datos escribiremos \"SUBMIT\" y para borrar los datos de la página \"RESET\".\n",
    "VALUE | Especifica el texto que queremos que aparezca en el botón.\n",
    "\n",
    "* Elemento invisible: Sirven para guardar alguna variable oculta en el formulario para almacenarla en la página activa.\n",
    "\t\t\n",
    "        <INPUT TYPE=HIDDEN NAME=\"yyy\" VALUE=\"zzz\">\t\n",
    "        \n",
    "  donde:\n",
    "\n",
    "Atributo | Significado\n",
    "--|--    \n",
    "NAME | Establece el nombre del elemento para poder relacionarlo con su contenido.\n",
    "VALUE |  Especifica el valor que se asignará a la variable.\n",
    "\n",
    "__Marcos__\n",
    "\n",
    "Un marco es una ventana independiente dentro de la ventana general del navegador. \n",
    "\n",
    "Cada marco tiene sus propiedades diferenciadas: bordes y barras de desplazamiento propias. Usando marcos cada página se dividirá, en la práctica, en varias páginas independientes.\n",
    "\n",
    "Para crear marcos se necesita un documento HTML específico, que llamado documento de definición de marcos donde se especifica el tamaño y la posición de cada marco y el documento HTML que contendrá. Este documento no contendrá la etiqueta &lt;BODY>\n",
    "\n",
    "La estructura general de un marco es:\n",
    "\n",
    "\t<HTML>\n",
    "\t\t<HEAD>\n",
    "\t\t\t<TITLE>Título de la página</TITLE>\n",
    "\t\t</HEAD>\n",
    "\t\t <FRAMESET ROWS=\"xxx, yyy\" COLS=\"vvv, zzz\"> \n",
    "\t\t\t<FRAME NAME=“marco1\" SRC=“pagina1.html\">\n",
    "\t\t\t<FRAME NAME=“marco2\" SRC=\"página2.html\">\n",
    "\t\t\t<NOFRAMES>\n",
    "\t\t\t\tMENSAJE\n",
    "\t\t\t</NOFRAMES>\n",
    "\t\t</FRAMESET>\n",
    "\t</HTML>\n",
    "\n",
    "Donde:\n",
    "\n",
    "* &lt;FRAMESET>:Se usa para definir la distribución de los marcos en la página principal mediante columnas (COLS) y filas (ROWS). Son anidables, por lo que se pueden incluir unos marcos dentro de otros. Los formatos admitidos:\n",
    "\n",
    "   * Porcentual: Se indica el porcentaje que ocupará del espacio total disponible.\n",
    "   \n",
    "   * Absoluto: Se especifica el tamaño en pixels.\n",
    "\n",
    "   * Sobre el espacio sobrante: Un asterisco (*) indica que el marco debe ocupar todo el espacio sobrante. Si se pone en varios marcos, se repartirá el espacio equitativamente, y si se quiere que uno tenga más espacio, se debe poner un número delante del asterisco. Así, un marco con un espacio de 3* será tres veces más grande que su compañero con sólo 1*.\n",
    "   \n",
    "* &lt;FRAME>: Define las características de un marco, y sus atributos son:\n",
    "\n",
    "Atributo | Significado\n",
    "--|--  \n",
    "NAME|Asigna el nombre al marco para que podamos referirnos a él.\n",
    "SRC|Indica la URL del documento HTML que ocupará el marco.\n",
    "SCROLLING|Establece la aparición de barras de desplazamiento en el marco. Su valor por defecto es AUTO (el navegador decide si se ven o no) .Los otros valores son YES y NO.\n",
    "NORESIZE|Si lo escribimos, el usuario no podrá cambiar el tamaño del marco.\n",
    "FRAMEBORDER|Establece el borde del marco. Para eliminar el borde su valor debe ser 0.\n",
    "MARGINWIDTH|Fija los márgenes horizontales dentro de un marco y se expresa en pixels.\n",
    "MARGINHEIGHT|Fija los márgenes verticales dentro de un marco y se expresa en pixels.\n",
    "\n",
    "* &lt;NOFRAMES> : Se utilizan para mostrar un mensaje o una página alternativa cuando el navegador del usuario no soporta marcos.\n",
    "\n",
    "HTML no admite directamente determinados caracteres por compatibilidad internacional, y hay que sustituirlos por códigos:\n",
    "\n",
    "Código | Resultado\n",
    "--|--  \n",
    "&aacute ; , &Aacute ;,&eacute ; , &Eacute ;,etcetera... | á,Á,é,É,í,Í,ó,Ó,ú,Ú\n",
    "&ñtilde ; | ñ\n",
    "&iquest ; | &iquest;\n",
    "&iexcl ; |&iexcl;\n",
    "&deg ; | &deg;\n",
    "&ordf ; |&ordf;\n",
    "&euro ; | &euro;\n",
    "&copy ; | &copy;\n",
    "&reg ; | &reg;\n",
    "&nbsp ; | Espacio en blanco que no puede ser usado pra saltar de línea\n",
    "\n",
    "\n",
    "\n",
    "\n",
    "\n",
    "\n",
    "\n",
    "\n",
    "\n",
    "\n",
    "   \n",
    "\n",
    "\n",
    "\n",
    "\n",
    "\n",
    "\n",
    "\n",
    "\n",
    "\n",
    "\n",
    "\n",
    "\n",
    "\n"
   ]
  },
  {
   "cell_type": "code",
   "execution_count": null,
   "metadata": {},
   "outputs": [],
   "source": []
  }
 ],
 "metadata": {
  "kernelspec": {
   "display_name": "Python 3",
   "language": "python",
   "name": "python3"
  },
  "language_info": {
   "codemirror_mode": {
    "name": "ipython",
    "version": 3
   },
   "file_extension": ".py",
   "mimetype": "text/x-python",
   "name": "python",
   "nbconvert_exporter": "python",
   "pygments_lexer": "ipython3",
   "version": "3.7.4"
  }
 },
 "nbformat": 4,
 "nbformat_minor": 2
}

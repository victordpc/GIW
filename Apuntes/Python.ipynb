{
 "cells": [
  {
   "cell_type": "markdown",
   "metadata": {},
   "source": [
    "## Introducción a Python"
   ]
  },
  {
   "cell_type": "markdown",
   "metadata": {},
   "source": [
    "# Tabla de contenidos\n",
    "* [1. Elementos básicos del lenguaje](#1.-Elementos-básicos-del-lenguaje)\n",
    " * [1.1 Variables](#1.1.Variables)\n",
    " * [1.2 Palabras reservadas](#1.2.Palabras-reservadas)\n",
    " * [1.3 Operadores](#1.3.Operadores)\n",
    " * [1.4 Expresiones](#1.4.Expresiones)\n",
    " * [1.5 Comentarios](#1.5.Comentarios)\n",
    " * [1.6 Entrada de información](#1.6.Entrada-de-información)\n",
    " * [1.7 Expresiones booleanas](#1.7.Expresiones-booleanas)\n",
    " * [1.8 Operaciones lógicas](#1.8.Operaciones-lógicas)\n",
    "* [2. Estructuras de control](#2.-Estructuras-de-control)\n",
    " * [2.1 Condicionales](#2.1.Condicionales)\n",
    " * [2.2 Bucles](#2.2.Bucles)\n",
    "* [3. Estructuras de datos: tuplas, listas y diccionarios](#3.-Estructuras-de-datos:-tuplas,-listas-y-diccionarios)\n",
    " * [3.1 Tuplas](#3.1.Tuplas)\n",
    " * [3.2 Listas](#3.2.Listas)\n",
    " * [3.3 Diccionarios](#3.3.Diccionarios)\n",
    "* [4. Funciones](#4.-Funciones)\n",
    "* [5. Importación de módulos](#5.-Importación-de-módulos)\n",
    "* [6. Ficheros](#6.-Ficheros)\n",
    "* [Referencias](#Referencias)"
   ]
  },
  {
   "cell_type": "markdown",
   "metadata": {},
   "source": [
    "# 1. Elementos básicos del lenguaje"
   ]
  },
  {
   "cell_type": "markdown",
   "metadata": {},
   "source": [
    "Jupyter notebook ofrece una herramienta de ejecución interactiva con la cual es posible dar órdenes directamente al intérprete y obtener una respuesta inmediata para cada una de ellas. En los siguiente ejemplos, se usa a modo de calculadora:"
   ]
  },
  {
   "cell_type": "code",
   "execution_count": 113,
   "metadata": {},
   "outputs": [
    {
     "data": {
      "text/plain": [
       "1"
      ]
     },
     "execution_count": 113,
     "metadata": {},
     "output_type": "execute_result"
    }
   ],
   "source": [
    "2 + 4 - 5"
   ]
  },
  {
   "cell_type": "code",
   "execution_count": 114,
   "metadata": {},
   "outputs": [
    {
     "data": {
      "text/plain": [
       "10.3"
      ]
     },
     "execution_count": 114,
     "metadata": {},
     "output_type": "execute_result"
    }
   ],
   "source": [
    "2.3 + 8    # la coma decimal se representa como un punto en Python"
   ]
  },
  {
   "cell_type": "markdown",
   "metadata": {},
   "source": [
    "## 1.1.Variables\n",
    "Una __variable__ es un nombre que referencia un valor. Por ejemplo:"
   ]
  },
  {
   "cell_type": "code",
   "execution_count": 115,
   "metadata": {},
   "outputs": [],
   "source": [
    "titulo=\" Cálculo del área de un círculo\"\n",
    "pi=3.14159\n",
    "radio=5\n",
    "area= pi*(radio**2)"
   ]
  },
  {
   "cell_type": "markdown",
   "metadata": {},
   "source": [
    "Una __sentencia de asignación__ crea variables nuevas y las asocia valores. Por ejemplo:"
   ]
  },
  {
   "cell_type": "code",
   "execution_count": 116,
   "metadata": {},
   "outputs": [],
   "source": [
    "mensaje=\"Esto es un mensaje de prueba\"\n",
    "n=17\n",
    "pi=3.1415926535897931"
   ]
  },
  {
   "cell_type": "markdown",
   "metadata": {},
   "source": [
    "Para mostrar el valor de una variable, se puede usar la sentencia print. Por ejemplo:"
   ]
  },
  {
   "cell_type": "code",
   "execution_count": 117,
   "metadata": {},
   "outputs": [
    {
     "name": "stdout",
     "output_type": "stream",
     "text": [
      "17\n",
      "3.141592653589793\n"
     ]
    }
   ],
   "source": [
    "print (n) #17\n",
    "print (pi) # 3.1415926535897931"
   ]
  },
  {
   "cell_type": "markdown",
   "metadata": {},
   "source": [
    "Las variables son de un tipo, que coincide con el tipo del valor que referencian. El método __type ()__ indica el tipo de una variable. Por ejemplo: "
   ]
  },
  {
   "cell_type": "code",
   "execution_count": 118,
   "metadata": {
    "scrolled": true
   },
   "outputs": [
    {
     "data": {
      "text/plain": [
       "str"
      ]
     },
     "execution_count": 118,
     "metadata": {},
     "output_type": "execute_result"
    }
   ],
   "source": [
    "type (mensaje) #str"
   ]
  },
  {
   "cell_type": "code",
   "execution_count": 119,
   "metadata": {},
   "outputs": [
    {
     "data": {
      "text/plain": [
       "int"
      ]
     },
     "execution_count": 119,
     "metadata": {},
     "output_type": "execute_result"
    }
   ],
   "source": [
    "type (n) #int"
   ]
  },
  {
   "cell_type": "code",
   "execution_count": 120,
   "metadata": {},
   "outputs": [
    {
     "data": {
      "text/plain": [
       "float"
      ]
     },
     "execution_count": 120,
     "metadata": {},
     "output_type": "execute_result"
    }
   ],
   "source": [
    "type (pi) #float"
   ]
  },
  {
   "cell_type": "markdown",
   "metadata": {},
   "source": [
    "Algunos de los tipos más usados son:\n",
    "*\tint :enteros\n",
    "*\tfloat :números reales\n",
    "*\tbool :valores booleanos: cierto y falso\n",
    "*\tstr :cadenas\n",
    "*\tNone :corresponde al valor nulo\n"
   ]
  },
  {
   "cell_type": "markdown",
   "metadata": {},
   "source": [
    "Existen unas reglas de construcción de los nombres de las variables:\n",
    "*\tPueden ser arbitrariamente largos.\n",
    "*\tPueden contener tanto letras como números.\n",
    "*\tDeben empezar con letras.\n",
    "*\tPueden aparecer subrayados para unir múltiples palabras.\n",
    "*\tNo pueden ser palabras reservadas de Python."
   ]
  },
  {
   "cell_type": "markdown",
   "metadata": {},
   "source": [
    "Uno de los usos habituales de las sentencia de __asignación__ consiste en realizar una actualización sobre una variable en la cual el valor nuevo de esa variable depende del antiguo: x = x+1. Esto quiere decir `toma el valor actual de x, añádele 1, y luego actualiza x con el nuevo valor`. En el siguiente ejemplo se intercambian los valores dos variables x e y."
   ]
  },
  {
   "cell_type": "code",
   "execution_count": 121,
   "metadata": {},
   "outputs": [
    {
     "name": "stdout",
     "output_type": "stream",
     "text": [
      "x = 3\n",
      "y = 2\n"
     ]
    }
   ],
   "source": [
    "x, y=2,3\n",
    "x, y=y, x\n",
    "print (\"x =\", x) # x=3\n",
    "print (\"y =\", y) #y=2"
   ]
  },
  {
   "cell_type": "markdown",
   "metadata": {},
   "source": [
    "El ejemplo anterior se podría haber realizado sin utilizar la doble asignación:"
   ]
  },
  {
   "cell_type": "code",
   "execution_count": 122,
   "metadata": {},
   "outputs": [
    {
     "name": "stdout",
     "output_type": "stream",
     "text": [
      "x = 3\n",
      "y = 2\n"
     ]
    }
   ],
   "source": [
    "x=2\n",
    "y=3\n",
    "z=x\n",
    "x=y\n",
    "y=z\n",
    "print (\"x =\", x) # x=3\n",
    "print (\"y =\", y) #y=2"
   ]
  },
  {
   "cell_type": "markdown",
   "metadata": {},
   "source": [
    "Observar:\n",
    "* Si se intenta actualizar una variable que no existe, se obtiene un error, ya que Python evalúa el lado derecho antes de asignar el valor a x.\n",
    "* Antes de poder actualizar una variable, se debe inicializar mediante una asignación. A continuación se puede actualizar la variable aumentándola (incrementar) o disminuyendo (decrementar). Por ejemplo:"
   ]
  },
  {
   "cell_type": "code",
   "execution_count": 123,
   "metadata": {},
   "outputs": [],
   "source": [
    "x=0\n",
    "x=x+1"
   ]
  },
  {
   "cell_type": "markdown",
   "metadata": {},
   "source": [
    "## 1.2.Palabras reservadas\n",
    "Python reserva 31 palabras claves para su propio uso:"
   ]
  },
  {
   "cell_type": "code",
   "execution_count": 124,
   "metadata": {},
   "outputs": [
    {
     "name": "stdout",
     "output_type": "stream",
     "text": [
      "['False', 'None', 'True', 'and', 'as', 'assert', 'async', 'await', 'break', 'class', 'continue', 'def', 'del', 'elif', 'else', 'except', 'finally', 'for', 'from', 'global', 'if', 'import', 'in', 'is', 'lambda', 'nonlocal', 'not', 'or', 'pass', 'raise', 'return', 'try', 'while', 'with', 'yield']\n"
     ]
    }
   ],
   "source": [
    "import keyword\n",
    "print(keyword.kwlist)"
   ]
  },
  {
   "cell_type": "markdown",
   "metadata": {},
   "source": [
    "## 1.3.Operadores\n",
    "Los operadores son símbolos especiales que representan cálculos, como la suma o la multiplicación. Los valores a los cuales se aplican esos operadores reciben el nombre de operandos. Los principales operadores sobre los tipos int y float son:\n",
    "*\ti+j suma\n",
    "*\ti-j resta\n",
    "*\ti*j multiplicación\n",
    "*\ti/j división de dos números. Si son enteros, el resultado es un entero, y si son reales, el resultado es un real.\n",
    "*\ti//j cociente de la división entera\n",
    "*\ti%j resto de la división entera\n",
    "*\ti\\*\\*j que representa i elevado a la potencia j\n",
    "*\ti==j que representa i igual que j\n",
    "*\ti!=j que representa i distinto que j\n",
    "*\ti>j que representa i mayor que j, y de forma similar: >=, <, <=\n",
    "\n",
    "En el operador de la división, cuando ambos operandos son enteros, el resultado es también un entero. Sin embargo si cualquiera de los operandos es un número en punto flotante, entonces realiza división en punto flotante, y el resultado es un float. Por ejemplo:"
   ]
  },
  {
   "cell_type": "code",
   "execution_count": 125,
   "metadata": {},
   "outputs": [],
   "source": [
    "segundo=59"
   ]
  },
  {
   "cell_type": "code",
   "execution_count": 126,
   "metadata": {},
   "outputs": [
    {
     "data": {
      "text/plain": [
       "0.9833333333333333"
      ]
     },
     "execution_count": 126,
     "metadata": {},
     "output_type": "execute_result"
    }
   ],
   "source": [
    "segundo/60 #0"
   ]
  },
  {
   "cell_type": "code",
   "execution_count": 127,
   "metadata": {},
   "outputs": [
    {
     "data": {
      "text/plain": [
       "0.9833333333333333"
      ]
     },
     "execution_count": 127,
     "metadata": {},
     "output_type": "execute_result"
    }
   ],
   "source": [
    "segundo/60.0 #0.98333333"
   ]
  },
  {
   "cell_type": "markdown",
   "metadata": {},
   "source": [
    "Se pueden usar los operadores con las cadenas. Por ejemplo"
   ]
  },
  {
   "cell_type": "code",
   "execution_count": 128,
   "metadata": {},
   "outputs": [
    {
     "data": {
      "text/plain": [
       "'bbb'"
      ]
     },
     "execution_count": 128,
     "metadata": {},
     "output_type": "execute_result"
    }
   ],
   "source": [
    "3*\"b\" # ‘aaa’"
   ]
  },
  {
   "cell_type": "code",
   "execution_count": 129,
   "metadata": {},
   "outputs": [
    {
     "data": {
      "text/plain": [
       "'ba'"
      ]
     },
     "execution_count": 129,
     "metadata": {},
     "output_type": "execute_result"
    }
   ],
   "source": [
    "\"b\"+\"a\" # ‘aa’"
   ]
  },
  {
   "cell_type": "markdown",
   "metadata": {},
   "source": [
    "Pero existen algunas particularidades cuando se usan los operadores sobre las cadenas. Por ejemplo:"
   ]
  },
  {
   "cell_type": "code",
   "execution_count": 130,
   "metadata": {},
   "outputs": [
    {
     "ename": "TypeError",
     "evalue": "can't multiply sequence by non-int of type 'str'",
     "output_type": "error",
     "traceback": [
      "\u001b[1;31m---------------------------------------------------------------------------\u001b[0m",
      "\u001b[1;31mTypeError\u001b[0m                                 Traceback (most recent call last)",
      "\u001b[1;32m<ipython-input-130-cbbe39ec092c>\u001b[0m in \u001b[0;36m<module>\u001b[1;34m\u001b[0m\n\u001b[1;32m----> 1\u001b[1;33m \u001b[1;34m\"c\"\u001b[0m \u001b[1;33m*\u001b[0m \u001b[1;34m\"c\"\u001b[0m \u001b[1;31m#TypeError\u001b[0m\u001b[1;33m\u001b[0m\u001b[1;33m\u001b[0m\u001b[0m\n\u001b[0m",
      "\u001b[1;31mTypeError\u001b[0m: can't multiply sequence by non-int of type 'str'"
     ]
    }
   ],
   "source": [
    "\"c\" * \"c\" #TypeError"
   ]
  },
  {
   "cell_type": "code",
   "execution_count": null,
   "metadata": {},
   "outputs": [],
   "source": [
    "len (\"Psicología\") # 10"
   ]
  },
  {
   "cell_type": "code",
   "execution_count": null,
   "metadata": {},
   "outputs": [],
   "source": [
    "\"Psicología\" [5] # ‘l’"
   ]
  },
  {
   "cell_type": "code",
   "execution_count": null,
   "metadata": {},
   "outputs": [],
   "source": [
    "\"Psicología\" [12] # IndexError"
   ]
  },
  {
   "cell_type": "code",
   "execution_count": null,
   "metadata": {},
   "outputs": [],
   "source": [
    "\"Psicología\" [0:5] # ’Psico’"
   ]
  },
  {
   "cell_type": "code",
   "execution_count": null,
   "metadata": {},
   "outputs": [],
   "source": [
    "\"Psicología\" [5: len(\"Psicología\")] # ‘logía’"
   ]
  },
  {
   "cell_type": "markdown",
   "metadata": {},
   "source": [
    "## 1.4.Expresiones\n",
    "* Una expresión es una combinación de valores, variables y operadores. \n",
    "\n",
    "* Un valor por sí mismo se considera una expresión, y también lo es una variable. \n",
    "\n",
    "* Las expresiones tienen un tipo. Así por ejemplo 6 + 7 es una expresión que representa un entero. Cuando en una expresión aparece más de un operador, el orden de evaluación depende de las reglas de precedencia. Para los operadores matemáticos, Python sigue las convenciones matemáticas:\n",
    "  *\tEl orden de los operadores es: paréntesis, exponenciales, multiplicación/división, suma/resta. \n",
    "  *\tCuando existe la misma precedencia, se evalúa de izquierda a derecha.\n",
    "  \n",
    "Por ejemplo:\n"
   ]
  },
  {
   "cell_type": "code",
   "execution_count": null,
   "metadata": {},
   "outputs": [],
   "source": [
    "4**1 +1    # 5"
   ]
  },
  {
   "cell_type": "code",
   "execution_count": null,
   "metadata": {},
   "outputs": [],
   "source": [
    "6*1**2     # 6"
   ]
  },
  {
   "cell_type": "code",
   "execution_count": null,
   "metadata": {},
   "outputs": [],
   "source": [
    "(-1)**3*3 # -3"
   ]
  },
  {
   "cell_type": "code",
   "execution_count": null,
   "metadata": {},
   "outputs": [],
   "source": [
    "6*3/2        # 9"
   ]
  },
  {
   "cell_type": "code",
   "execution_count": null,
   "metadata": {},
   "outputs": [],
   "source": [
    "3/2*6        # 6"
   ]
  },
  {
   "cell_type": "markdown",
   "metadata": {},
   "source": [
    "## 1.5.Comentarios\n",
    "En Python comienzan con el símbolo __#__, de forma que todo lo que va desde __#__ hasta el final de la línea es ignorado y no afecta para al programa. Por ejemplo:"
   ]
  },
  {
   "cell_type": "code",
   "execution_count": null,
   "metadata": {},
   "outputs": [],
   "source": [
    "#Calcula el porcentaje de hora transcurrido\n",
    "minuto=300\n",
    "porcentaje = (minuto*100)/60\n",
    "porcentaje"
   ]
  },
  {
   "cell_type": "markdown",
   "metadata": {},
   "source": [
    "En el ejemplo anterior el comentario aparece como una línea completa, pero también puede ponerse comentarios al final de una línea. Por ejemplo:"
   ]
  },
  {
   "cell_type": "code",
   "execution_count": null,
   "metadata": {},
   "outputs": [],
   "source": [
    "porcentaje = (minuto*100)/60 #Calcula el porcentaje de hora transcurrido\n",
    "porcentaje"
   ]
  },
  {
   "cell_type": "markdown",
   "metadata": {},
   "source": [
    "## 1.6.Entrada de información\n",
    "Python proporciona una función llamada __input__ que recibe la entrada desde el teclado, de forma que cuando se llama el programa se detiene y espera a que el usuario escriba algo. Cuando el usuario pulsa Intro, el programa continúa y la función devuelve como una cadena aquello que el usuario escribió."
   ]
  },
  {
   "cell_type": "code",
   "execution_count": null,
   "metadata": {},
   "outputs": [],
   "source": [
    "entrada = input () # Hola\n",
    "print (\"Mi entrada es \", entrada) # Hola"
   ]
  },
  {
   "cell_type": "markdown",
   "metadata": {},
   "source": [
    "Antes de recibir cualquier dato desde el usuario, es mejor escribir un mensaje explicando qué debe introducir. Se puede pasar una cadena a __input__, que será mostrada al usuario antes de que el programa se detenga para recibir su entrada."
   ]
  },
  {
   "cell_type": "code",
   "execution_count": null,
   "metadata": {},
   "outputs": [],
   "source": [
    "nombre= input (\"¿Cómo te llamas?\\n\") # ¿Cómo te llamas? Pepa\n",
    "print (\"Mi nombre es\", nombre) #Pepa"
   ]
  },
  {
   "cell_type": "markdown",
   "metadata": {},
   "source": [
    "La secuencia __\\n__ al final del mensaje representa un __newline__, que es un carácter especial que provoca un salto de línea. Por eso la entrada del usuario aparece debajo del mensaje. Si se espera que el usuario escriba un entero, puedes intentar convertir el valor de retorno a int usando la función __int ()__, pero si el usuario escribe algo que no sea una cadena de dígitos, obtiene un error. Por ejemplo:"
   ]
  },
  {
   "cell_type": "code",
   "execution_count": null,
   "metadata": {},
   "outputs": [],
   "source": [
    "deuda= input (\"Deuda\\n\") # Es un número lo que esperamos recibir\n",
    "int (deuda)"
   ]
  },
  {
   "cell_type": "markdown",
   "metadata": {},
   "source": [
    "## 1.7.Expresiones booleanas\n",
    "Una expresión booleana es aquella que puede ser verdadera (__True__) o falsa (__False__). True y False son valores especiales que pertenecen al tipo bool (booleano). Por ejemplo:"
   ]
  },
  {
   "cell_type": "code",
   "execution_count": null,
   "metadata": {},
   "outputs": [],
   "source": [
    "type (True) # bool"
   ]
  },
  {
   "cell_type": "code",
   "execution_count": null,
   "metadata": {},
   "outputs": [],
   "source": [
    "type (False) # bool"
   ]
  },
  {
   "cell_type": "markdown",
   "metadata": {},
   "source": [
    "Los ejemplos siguientes usan el operador ==, que compara dos operandos y devuelve True si son iguales y False en caso contrario."
   ]
  },
  {
   "cell_type": "code",
   "execution_count": null,
   "metadata": {},
   "outputs": [],
   "source": [
    "5==5 # True"
   ]
  },
  {
   "cell_type": "code",
   "execution_count": null,
   "metadata": {},
   "outputs": [],
   "source": [
    "5==6 # False"
   ]
  },
  {
   "cell_type": "markdown",
   "metadata": {},
   "source": [
    "Los principales operadores de comparación son:\n",
    "* x == y      # x es igual que y\n",
    "* x != y       # x es distinto de y\n",
    "* x > y        # x es mayor que y\n",
    "* x < y        # x es menor que y\n",
    "* x >= y      # x es mayor o igual que y\n",
    "* x <= y      # x es menor o igual que y\n",
    "* x is y         # x es lo mismo que y\n",
    "* x is not y   # x no es lo mismo que y"
   ]
  },
  {
   "cell_type": "markdown",
   "metadata": {},
   "source": [
    "## 1.8.Operaciones lógicas\n",
    "Existen tres operadores lógicos que se usan en las expresiones condicionales:\n",
    "* __not__ representa la negación.\n",
    "* __and__ cierto si las dos expresiones que relaciona son ciertas, y falso en caso contrario.\n",
    "* __or__ falso si las dos expresiones que relaciona son falsas, y cierto en caso contrario.\n",
    "\n",
    "Por ejemplo:\n",
    "* x >0 and x <10 es verdadero sólo cuando x es mayor que 0 y menor que 10.\n",
    "* n%2 == 0 or n%3 == 0 es verdadero si el número es divisible por 2 o por 3.\n",
    "* not (x>y) es verdadero si x es menor o igual que y.\n",
    "\n",
    "Observar que cualquier número distinto de cero se interpreta como “verdadero”. Por ejemplo:\n"
   ]
  },
  {
   "cell_type": "code",
   "execution_count": null,
   "metadata": {},
   "outputs": [],
   "source": [
    "23 and True # True"
   ]
  },
  {
   "cell_type": "markdown",
   "metadata": {},
   "source": [
    "Cuando Python detecta que no se gana nada evaluando el resto de una expresión lógica, detiene su evaluación y no realiza el cálculo del resto de la expresión. En este sentido cuando la evaluación de una expresión lógica se detiene debido a que ya se conoce el valor final, eso es conocido como cortocircuitar la evaluación."
   ]
  },
  {
   "cell_type": "markdown",
   "metadata": {},
   "source": [
    "# 2. Estructuras de control"
   ]
  },
  {
   "cell_type": "markdown",
   "metadata": {},
   "source": [
    "## 2.1.Condicionales\n",
    "Las expresiones condicionales facilitan la codificación de estructuras que bifurcan la ejecución del código en varias ramas o caminos de ejecución. Existen varias formas.\n",
    "La primera forma es la siguiente:\n",
    "\n",
    "__if__ expresión booleana:         \n",
    "            \n",
    "            ejecutar código \n",
    "\n",
    "Por ejemplo:"
   ]
  },
  {
   "cell_type": "code",
   "execution_count": null,
   "metadata": {},
   "outputs": [],
   "source": [
    "x=5\n",
    "if  x>0:\n",
    "     print (\"x es positivo\")"
   ]
  },
  {
   "cell_type": "markdown",
   "metadata": {},
   "source": [
    "Observar:\n",
    "* La expresión booleana después de la sentencia __if__ recibe el nombre de condición. La sentencia if se finaliza con un carácter de dos puntos __(:)__ y la(s) línea(s) que van detrás de la sentencia if van indentadas. Este código se denomina __bloque__. \n",
    "* Si la condición lógica es verdadera, la sentencia indentada será ejecutada. Si la condición es falsa, la sentencia indentada será omitida.\n",
    "* No hay límite en el número de sentencias que pueden aparecer en el cuerpo, pero debe haber al menos una. A veces puede resultar útil tener un cuerpo sin sentencias, usándose en este caso la sentencia __pass__, que no hace nada.\n",
    "\n",
    "La segunda forma de la sentencia __if__ es la ejecución alternativa, en la cual existen dos posibilidades y la condición determina cuál de ellas sería ejecutada:\n",
    "\n",
    "__if__ expresión booleana:\n",
    "\n",
    "    ejecutar código1\n",
    "\n",
    "__else__:\n",
    "\n",
    "    ejecutar código2\n",
    "\n",
    "Por ejemplo:"
   ]
  },
  {
   "cell_type": "code",
   "execution_count": null,
   "metadata": {},
   "outputs": [],
   "source": [
    "x=-5\n",
    "if x>0:\n",
    "  print (\"x es positivo\")\n",
    "else:\n",
    "  print (\"x es negativo\")"
   ]
  },
  {
   "cell_type": "markdown",
   "metadata": {},
   "source": [
    "Dado que la condición debe ser obligatoriamente verdadera o falsa, solamente una de las alternativas será ejecutada. Las alternativas reciben el nombre de ramas, dado que se trata de ramificaciones en el flujo de la ejecución.\n",
    "\n",
    "La tercera forma de la sentencia __if__ es el condicional encadenado que permite que haya más de dos posibilidades o ramas:\n",
    "\n",
    "__if__ expresión booleana:\n",
    "\n",
    "      ejecutar código 1\n",
    "      \n",
    "__elif:__\n",
    "\n",
    "      ejecutar código 2\n",
    "      \n",
    "__else:__\n",
    "\n",
    "      ejecutar por defecto\n",
    "\n",
    "Por ejemplo:"
   ]
  },
  {
   "cell_type": "code",
   "execution_count": null,
   "metadata": {},
   "outputs": [],
   "source": [
    "x=1\n",
    "y=2\n",
    "z=3\n",
    "if x < y and x < z:\n",
    "   print (\"x es el más pequeño\")\n",
    "elif y < z:\n",
    "   print (\"y es el más pequeño\")\n",
    "else:\n",
    "   print (\"z es el más pequeño\")"
   ]
  },
  {
   "cell_type": "markdown",
   "metadata": {},
   "source": [
    "Observar:\n",
    "* No hay un límite para el número de sentencias elif. Si hay una clausula else, debe ir al final, pero tampoco es obligatorio que ésta exista.\n",
    "* Cada condición es comprobada en orden. Si la primera es falsa, se comprueba la siguiente y así con las demás. Si una de ellas es verdadera, se ejecuta la rama correspondiente, y la sentencia termina. Incluso si hay más de una condición que sea verdadera, sólo se ejecuta la primera que se encuentra.\n",
    "\n",
    "Un condicional puede también estar anidado dentro de otro:"
   ]
  },
  {
   "cell_type": "code",
   "execution_count": null,
   "metadata": {},
   "outputs": [],
   "source": [
    "x=14\n",
    "if (x >0):\n",
    "   print (\"x es positivo\")\n",
    "   if (x<=20):\n",
    "        print (\"x es menor o igual que 20\")\n",
    "   else:\n",
    "        print (\"x es más grande que 20\")\n",
    "else:\n",
    "    print (\"x es negativo\")"
   ]
  },
  {
   "cell_type": "markdown",
   "metadata": {},
   "source": [
    "El condicional exterior contiene dos ramas. La primera contiene otra sentencia if, que tiene a su vez sus propias dos ramas. Esas dos ramas son ambas sentencias simples, pero podrían haber sido sentencias condicionales también. La segunda rama ejecuta una sentencia simple. Los condicionales anidados pueden volverse difíciles de leer por lo que deben evitarse y usar operadores lógicos que permiten simplificar las sentencias condicionales anidadas."
   ]
  },
  {
   "cell_type": "markdown",
   "metadata": {},
   "source": [
    "## 2.2.Bucles"
   ]
  },
  {
   "cell_type": "markdown",
   "metadata": {},
   "source": [
    "Los bucles permiten la repetición de acciones y generalmente se construyen así:\n",
    "* Se inicializan una o más variables antes de que el bucle comience\n",
    "* Se realiza alguna operación con cada elemento en el cuerpo del bucle, posiblemente cambiando las variables dentro de ese cuerpo.\n",
    "* Se revisan las variables resultantes cuando el bucle se completa\n",
    "El primer tipo de bucle es el __while__, que tiene la siguiente estructura: \n",
    "\n",
    "      while (expresión booleana): \n",
    "      \n",
    "            código\n",
    "\n",
    "Por ejemplo:"
   ]
  },
  {
   "cell_type": "code",
   "execution_count": null,
   "metadata": {},
   "outputs": [],
   "source": [
    "x=3\n",
    "ans=0\n",
    "bucle=x\n",
    "while (bucle !=0):\n",
    "   ans=ans+x\n",
    "   bucle= bucle-1\n",
    "print (str(x) , \"*\" , str(x) , \"=\" , str(ans))\n"
   ]
  },
  {
   "cell_type": "markdown",
   "metadata": {},
   "source": [
    "Observar que:\n",
    "* El bucle nunca se ejecuta cuando x=0 y nunca terminará si empieza con x<0.\n",
    "* Cada vez que se ejecuta el cuerpo del bucle se dice que se realiza una __iteración__. \n",
    "* El cuerpo del bucle debe cambiar el valor de una o más variables, de modo que la condición pueda en algún momento evaluarse como falsa y el bucle termine. La variable que cambia cada vez que el bucle se ejecuta y controla cuándo termina éste, recibe el nombre de variable de iteración.  Si no hay variable de iteración, el bucle se repetirá para siempre, resultando así un bucle infinito. \n",
    "* A veces no se sabe si hay que terminar un bucle hasta que se ha recorrido la mitad del cuerpo del mismo. En ese caso se puede crear un bucle infinito a propósito y usar la sentencia __break__ para salir explícitamente cuando se haya alcanzado la condición de salida. Por ejemplo:"
   ]
  },
  {
   "cell_type": "code",
   "execution_count": null,
   "metadata": {},
   "outputs": [],
   "source": [
    "while True:\n",
    "    linea= input (\"Introducir fin para finalizar:\")\n",
    "    if linea==\"fin\":\n",
    "         break\n",
    "    print (linea)"
   ]
  },
  {
   "cell_type": "markdown",
   "metadata": {},
   "source": [
    "La condición del bucle es True, lo cual es verdadero siempre, así que el bucle se repetirá hasta que se ejecute la sentencia break. Cada vez que se entre en el bucle, se pedirá una entrada al usuario. Si el usuario escribe fin, la sentencia break hará que se salga del bucle. En cualquier otro caso, el programa repetirá cualquier cosa que el usuario escriba y volverá al principio del bucle. \n",
    "\n",
    "Algunas veces, estando dentro de un bucle se necesita terminar con la iteración actual y saltar a la siguiente de forma inmediata. En ese caso se puede utilizar la sentencia __continue__ para pasar a la siguiente iteración sin terminar la ejecución del cuerpo del bucle para la actual."
   ]
  },
  {
   "cell_type": "code",
   "execution_count": 131,
   "metadata": {},
   "outputs": [
    {
     "name": "stdout",
     "output_type": "stream",
     "text": [
      "Introducir fin para finalizar:fin\n"
     ]
    }
   ],
   "source": [
    "while True:\n",
    "    linea= input (\"Introducir fin para finalizar:\")\n",
    "    if linea [0] ==\"#\":\n",
    "        continue\n",
    "    if linea==\"fin\":\n",
    "         break\n",
    "    print (linea)"
   ]
  },
  {
   "cell_type": "markdown",
   "metadata": {},
   "source": [
    "Todas las líneas se imprimen en pantalla, excepto la que comienza con el símbolo de almohadilla, ya que en ese caso se ejecuta __continue__, finaliza la iteración actual y salta de vuelta a la sentencia while para comenzar la siguiente iteración, de modo que se omite la sentencia print.\n",
    "\n",
    "El siguiente tipo de bucle es el __for__, que tiene la siguiente estructura:\n",
    "\n",
    "       for variable in secuencia: \n",
    "       \n",
    "           código\n",
    "\n",
    "Por ejemplo:"
   ]
  },
  {
   "cell_type": "code",
   "execution_count": 132,
   "metadata": {},
   "outputs": [
    {
     "name": "stdout",
     "output_type": "stream",
     "text": [
      "0\n",
      "1\n",
      "2\n",
      "3\n",
      "4\n"
     ]
    }
   ],
   "source": [
    "x=5\n",
    "for i in range(x):\n",
    "    print (i)"
   ]
  },
  {
   "cell_type": "markdown",
   "metadata": {},
   "source": [
    "El bucle for se repite a través de un conjunto conocido de elementos, de modo que ejecuta tantas iteraciones como elementos hay en el conjunto. Es útil utilizar la función __range__ para crear una secuencia. Range puede tomar uno o dos valores:\n",
    "* Si toma dos valores, genera todos los enteros desde la primer entrada hasta la segunda entrada-1.Por ejemplo: range (2, 5) = (2, 3, 4).\n",
    "* Y si toma un sólo parámetro, entonces range(x) = range(0,x)\n",
    "\n",
    "Los bucles pueden estar anidados como por ejemplo:"
   ]
  },
  {
   "cell_type": "code",
   "execution_count": 133,
   "metadata": {},
   "outputs": [
    {
     "name": "stdout",
     "output_type": "stream",
     "text": [
      "0\n",
      "0\n",
      "0\n",
      "0\n",
      "0\n",
      "1\n",
      "2\n",
      "3\n",
      "0\n",
      "2\n",
      "4\n",
      "6\n",
      "0\n",
      "3\n",
      "6\n",
      "9\n"
     ]
    }
   ],
   "source": [
    "x=4\n",
    "for j in range(x):\n",
    "   for i in range(x):\n",
    "       print (i*j)"
   ]
  },
  {
   "cell_type": "markdown",
   "metadata": {},
   "source": [
    "## 3. Estructuras de datos: tuplas, listas y diccionarios"
   ]
  },
  {
   "cell_type": "markdown",
   "metadata": {},
   "source": [
    "### 3.1.Tuplas\n",
    "Una tupla es una secuencia de valores de cualquier tipo indexada por enteros. Las tuplas son inmutables (tienen una longitud fija y no pueden cambiarse sus elementos) y son comparables.\n",
    "\n",
    "Sintácticamente, una tupla es una lista de valores separados por comas y encerradas entre paréntesis. Por ejemplo:"
   ]
  },
  {
   "cell_type": "code",
   "execution_count": 134,
   "metadata": {},
   "outputs": [],
   "source": [
    "t=(\"a\", \"b\", \"c\", \"d\", \"e\", 2)"
   ]
  },
  {
   "cell_type": "markdown",
   "metadata": {},
   "source": [
    "Para crear una tupla con un único elemento, es necesario incluir una coma al final."
   ]
  },
  {
   "cell_type": "code",
   "execution_count": null,
   "metadata": {},
   "outputs": [],
   "source": [
    "(4,)"
   ]
  },
  {
   "cell_type": "markdown",
   "metadata": {},
   "source": [
    "Otra forma de construir una tupla es usar la función interna __tuple__ que crea una tupla vacía si se invoca sin argumentos, y si se le proporciona como argumento una secuencia (cadena, lista o tulpa) genera una tulpa con los elementos de la secuencia.\n",
    "\n",
    "Por ejemplo:"
   ]
  },
  {
   "cell_type": "code",
   "execution_count": null,
   "metadata": {},
   "outputs": [],
   "source": [
    "t=tuple ()\n",
    "print (t)"
   ]
  },
  {
   "cell_type": "code",
   "execution_count": 138,
   "metadata": {},
   "outputs": [
    {
     "name": "stdout",
     "output_type": "stream",
     "text": [
      "('s', 'u', 'p', 'e', 'r', 'c', 'a', 'l', 'i', 'f', 'r', 'a', 's', 't', 'i', 'l', 'i', 's', 't', 'i', 'c', 'o', 'e', 's', 'p', 'i', 'd', 'a', 'l', 'i', 'd', 'o', 's', 'o')\n"
     ]
    }
   ],
   "source": [
    "t=tuple(\"supercalifrastilisticoespidalidoso\")\n",
    "print (t)"
   ]
  },
  {
   "cell_type": "markdown",
   "metadata": {},
   "source": [
    "Los principales operadores sobre tuplas son:\n",
    "* El operador corchete indexa un elemento."
   ]
  },
  {
   "cell_type": "code",
   "execution_count": 232,
   "metadata": {},
   "outputs": [
    {
     "name": "stdout",
     "output_type": "stream",
     "text": [
      "3\n",
      "d\n"
     ]
    }
   ],
   "source": [
    "t=(3, 5, \"c\", \"d\", \"e\")\n",
    "print (t[0])\n",
    "print(t[-2])"
   ]
  },
  {
   "cell_type": "markdown",
   "metadata": {},
   "source": [
    "* El operador slice selecciona un rango de elementos."
   ]
  },
  {
   "cell_type": "code",
   "execution_count": 233,
   "metadata": {},
   "outputs": [
    {
     "name": "stdout",
     "output_type": "stream",
     "text": [
      "(5, 'd')\n"
     ]
    }
   ],
   "source": [
    "print (t[1:5:2])"
   ]
  },
  {
   "cell_type": "markdown",
   "metadata": {},
   "source": [
    "* No se pueden modificar los elementos de una tupla, pero se puede reemplazar una tupla con otra."
   ]
  },
  {
   "cell_type": "code",
   "execution_count": 234,
   "metadata": {},
   "outputs": [
    {
     "ename": "TypeError",
     "evalue": "'tuple' object does not support item assignment",
     "output_type": "error",
     "traceback": [
      "\u001b[1;31m---------------------------------------------------------------------------\u001b[0m",
      "\u001b[1;31mTypeError\u001b[0m                                 Traceback (most recent call last)",
      "\u001b[1;32m<ipython-input-234-593912020364>\u001b[0m in \u001b[0;36m<module>\u001b[1;34m\u001b[0m\n\u001b[1;32m----> 1\u001b[1;33m \u001b[0mt\u001b[0m\u001b[1;33m[\u001b[0m\u001b[1;36m1\u001b[0m\u001b[1;33m]\u001b[0m\u001b[1;33m=\u001b[0m\u001b[1;36m45\u001b[0m\u001b[1;33m\u001b[0m\u001b[1;33m\u001b[0m\u001b[0m\n\u001b[0m",
      "\u001b[1;31mTypeError\u001b[0m: 'tuple' object does not support item assignment"
     ]
    }
   ],
   "source": [
    "t[1]=45"
   ]
  },
  {
   "cell_type": "code",
   "execution_count": 235,
   "metadata": {},
   "outputs": [
    {
     "name": "stdout",
     "output_type": "stream",
     "text": [
      "('h', 'o', 'l', 'a')\n"
     ]
    }
   ],
   "source": [
    "t=(\"h\",\"o\",\"l\",\"a\")\n",
    "print (t)"
   ]
  },
  {
   "cell_type": "markdown",
   "metadata": {},
   "source": [
    "* Se pueden comparar dos tuplas. Se comienza comparando el primer elemento de cada secuencia. Si es igual en ambas, pasa al siguiente elemento, y así sucesivamente, hasta que encuentra uno que es diferente. A partir de ese momento, los elementos siguientes ya no son tenidos en cuenta."
   ]
  },
  {
   "cell_type": "code",
   "execution_count": 236,
   "metadata": {},
   "outputs": [
    {
     "data": {
      "text/plain": [
       "True"
      ]
     },
     "execution_count": 236,
     "metadata": {},
     "output_type": "execute_result"
    }
   ],
   "source": [
    "(0, 1, 2) < (0, 3, 4)"
   ]
  },
  {
   "cell_type": "markdown",
   "metadata": {},
   "source": [
    "### 3.2.Listas\n",
    "Una lista es una secuencia de valoresde cualquier tipo que reciben el nombre de elementos. El método más simple para crear una lista es encerrar los elementos entre corchetes. Por ejemplo:"
   ]
  },
  {
   "cell_type": "code",
   "execution_count": null,
   "metadata": {},
   "outputs": [],
   "source": [
    "t=[10,20,30,40]"
   ]
  },
  {
   "cell_type": "markdown",
   "metadata": {},
   "source": [
    "La asignación de valores a una lista no retorna nada, sin embargo si usamos el nombre de la lista, podemos ver el contenido de la variable. Por ejemplo:"
   ]
  },
  {
   "cell_type": "code",
   "execution_count": 143,
   "metadata": {},
   "outputs": [
    {
     "data": {
      "text/plain": [
       "(3, 5, 'c', 'd', 'e')"
      ]
     },
     "execution_count": 143,
     "metadata": {},
     "output_type": "execute_result"
    }
   ],
   "source": [
    "t"
   ]
  },
  {
   "cell_type": "markdown",
   "metadata": {},
   "source": [
    "Una lista que no contiene elementos recibe el nombre de lista vacía(se crea con unos corchetes vacíos []).  Por ejemplo:"
   ]
  },
  {
   "cell_type": "code",
   "execution_count": 238,
   "metadata": {},
   "outputs": [
    {
     "data": {
      "text/plain": [
       "[]"
      ]
     },
     "execution_count": 238,
     "metadata": {},
     "output_type": "execute_result"
    }
   ],
   "source": [
    "t=[]\n",
    "t"
   ]
  },
  {
   "cell_type": "code",
   "execution_count": 239,
   "metadata": {},
   "outputs": [
    {
     "data": {
      "text/plain": [
       "[]"
      ]
     },
     "execution_count": 239,
     "metadata": {},
     "output_type": "execute_result"
    }
   ],
   "source": [
    "t=list()\n",
    "t"
   ]
  },
  {
   "cell_type": "markdown",
   "metadata": {},
   "source": [
    "Para acceder a los elementos de una lista se usa el operador corchete que contiene una expresión que especifica el índice (los índices comienzan por 0). Los índices de una lista se caracterizan por:\n",
    "* Cualquier expresión entera puede ser utilizada como índice.\n",
    "* Si se intenta leer o escribir un elemento que no existe, se obtiene un IndexError.\n",
    "* Si un índice tiene un valor negativo, se cuenta hacia atrás desde el final de la lista.\n",
    "\n",
    "Por ejemplo:"
   ]
  },
  {
   "cell_type": "code",
   "execution_count": 145,
   "metadata": {},
   "outputs": [
    {
     "data": {
      "text/plain": [
       "30"
      ]
     },
     "execution_count": 145,
     "metadata": {},
     "output_type": "execute_result"
    }
   ],
   "source": [
    "t=[10,20,30,40]\n",
    "t[2]"
   ]
  },
  {
   "cell_type": "markdown",
   "metadata": {},
   "source": [
    "Las listas son mutables puesto que su estructura puede ser cambiada después de creadas. Por ejemplo:"
   ]
  },
  {
   "cell_type": "code",
   "execution_count": 146,
   "metadata": {},
   "outputs": [
    {
     "name": "stdout",
     "output_type": "stream",
     "text": [
      "[17, 5]\n"
     ]
    }
   ],
   "source": [
    "numeros=[17, 123]\n",
    "numeros[1] =5\n",
    "print (numeros)"
   ]
  },
  {
   "cell_type": "markdown",
   "metadata": {},
   "source": [
    "Los elementos en una lista no tienen por qué ser todos del mismo tipo.Por ejemplo:"
   ]
  },
  {
   "cell_type": "code",
   "execution_count": 147,
   "metadata": {},
   "outputs": [
    {
     "data": {
      "text/plain": [
       "['casa', 3.0, 5, [11, 20]]"
      ]
     },
     "execution_count": 147,
     "metadata": {},
     "output_type": "execute_result"
    }
   ],
   "source": [
    "[\"casa\",3.0,5,[11,20]]"
   ]
  },
  {
   "cell_type": "markdown",
   "metadata": {},
   "source": [
    "Una lista dentro de otra se dice que está anidada. En una lista anidada, cada lista interna sólo cuenta como un único elemento.Por ejemplo:"
   ]
  },
  {
   "cell_type": "code",
   "execution_count": 148,
   "metadata": {},
   "outputs": [
    {
     "data": {
      "text/plain": [
       "[1, 2, [4, 5, 6]]"
      ]
     },
     "execution_count": 148,
     "metadata": {},
     "output_type": "execute_result"
    }
   ],
   "source": [
    "t=[1,2,[4,5,6]]\n",
    "t"
   ]
  },
  {
   "cell_type": "markdown",
   "metadata": {},
   "source": [
    "Soporta indexación con números negativos, que permite seleccionar por el final de la lista. Por ejemplo:"
   ]
  },
  {
   "cell_type": "code",
   "execution_count": 149,
   "metadata": {},
   "outputs": [
    {
     "data": {
      "text/plain": [
       "[4, 5, 6]"
      ]
     },
     "execution_count": 149,
     "metadata": {},
     "output_type": "execute_result"
    }
   ],
   "source": [
    "t=[1,2,[4,5,6]]\n",
    "t[-1]"
   ]
  },
  {
   "cell_type": "markdown",
   "metadata": {},
   "source": [
    "__Operadores y funciones asociados con las listas__\n",
    "* El operador __+__ concatena listas."
   ]
  },
  {
   "cell_type": "code",
   "execution_count": 150,
   "metadata": {},
   "outputs": [
    {
     "name": "stdout",
     "output_type": "stream",
     "text": [
      "[1, 2, 3, 4, 5, 6]\n"
     ]
    }
   ],
   "source": [
    "a = [1, 2, 3]\n",
    "b = [4, 5, 6]\n",
    "c = a+b\n",
    "print (c)"
   ]
  },
  {
   "cell_type": "markdown",
   "metadata": {},
   "source": [
    "* El operador __in__ permite preguntar la pertenencia de un elemento a una lista"
   ]
  },
  {
   "cell_type": "code",
   "execution_count": 151,
   "metadata": {},
   "outputs": [
    {
     "data": {
      "text/plain": [
       "True"
      ]
     },
     "execution_count": 151,
     "metadata": {},
     "output_type": "execute_result"
    }
   ],
   "source": [
    "a = [1, 2, 3]\n",
    "2 in a"
   ]
  },
  {
   "cell_type": "markdown",
   "metadata": {},
   "source": [
    "El operador __in__ se puede usar para recorrer los elementos de una lista usando un bucle __for__ como por ejemplo:"
   ]
  },
  {
   "cell_type": "code",
   "execution_count": 152,
   "metadata": {},
   "outputs": [
    {
     "name": "stdout",
     "output_type": "stream",
     "text": [
      "1\n",
      "2\n",
      "3\n"
     ]
    }
   ],
   "source": [
    "a = [1, 2, 3]\n",
    "for i in a:\n",
    "    print (i)"
   ]
  },
  {
   "cell_type": "markdown",
   "metadata": {},
   "source": [
    "* El operador __\\*__ repite una lista el número especificado de veces. "
   ]
  },
  {
   "cell_type": "code",
   "execution_count": 242,
   "metadata": {},
   "outputs": [
    {
     "data": {
      "text/plain": [
       "[1, 2, 3, 1, 2, 3, 1, 2, 3, 1, 2, 3]"
      ]
     },
     "execution_count": 242,
     "metadata": {},
     "output_type": "execute_result"
    }
   ],
   "source": [
    "[1, 2, 3] *  4"
   ]
  },
  {
   "cell_type": "markdown",
   "metadata": {},
   "source": [
    "* El operador __(slice)__ cuya sintaxis es __[inicio:final:salto]__ permite seleccionar secciones de una lista:"
   ]
  },
  {
   "cell_type": "code",
   "execution_count": 154,
   "metadata": {},
   "outputs": [
    {
     "data": {
      "text/plain": [
       "[2]"
      ]
     },
     "execution_count": 154,
     "metadata": {},
     "output_type": "execute_result"
    }
   ],
   "source": [
    "t=[1,2,[4,5,6]]\n",
    "t[1:2]"
   ]
  },
  {
   "cell_type": "code",
   "execution_count": 155,
   "metadata": {},
   "outputs": [
    {
     "data": {
      "text/plain": [
       "[1, 2, [4, 5, 6]]"
      ]
     },
     "execution_count": 155,
     "metadata": {},
     "output_type": "execute_result"
    }
   ],
   "source": [
    "t[:]"
   ]
  },
  {
   "cell_type": "code",
   "execution_count": 156,
   "metadata": {},
   "outputs": [
    {
     "data": {
      "text/plain": [
       "[2, [4, 5, 6]]"
      ]
     },
     "execution_count": 156,
     "metadata": {},
     "output_type": "execute_result"
    }
   ],
   "source": [
    "t[1:]"
   ]
  },
  {
   "cell_type": "code",
   "execution_count": 157,
   "metadata": {},
   "outputs": [
    {
     "data": {
      "text/plain": [
       "[1, 2]"
      ]
     },
     "execution_count": 157,
     "metadata": {},
     "output_type": "execute_result"
    }
   ],
   "source": [
    "t[:2]"
   ]
  },
  {
   "cell_type": "code",
   "execution_count": 158,
   "metadata": {},
   "outputs": [
    {
     "data": {
      "text/plain": [
       "[1, [4, 5, 6]]"
      ]
     },
     "execution_count": 158,
     "metadata": {},
     "output_type": "execute_result"
    }
   ],
   "source": [
    "t[::2]"
   ]
  },
  {
   "cell_type": "markdown",
   "metadata": {},
   "source": [
    "Un operador de slice en la parte izquierda de una asignación puede modificar múltiples elementos."
   ]
  },
  {
   "cell_type": "code",
   "execution_count": 159,
   "metadata": {},
   "outputs": [
    {
     "data": {
      "text/plain": [
       "[1, 'hola', 'adios']"
      ]
     },
     "execution_count": 159,
     "metadata": {},
     "output_type": "execute_result"
    }
   ],
   "source": [
    "t=[1,2,[4,5,6]]\n",
    "t[1:3]=[\"hola\",\"adios\"]\n",
    "t"
   ]
  },
  {
   "cell_type": "markdown",
   "metadata": {},
   "source": [
    "* El operador __del__ elimina un elemento de la lista referenciado en forma de índice."
   ]
  },
  {
   "cell_type": "code",
   "execution_count": 160,
   "metadata": {},
   "outputs": [
    {
     "data": {
      "text/plain": [
       "['d', 'e', 'b', 'a']"
      ]
     },
     "execution_count": 160,
     "metadata": {},
     "output_type": "execute_result"
    }
   ],
   "source": [
    "t=[\"d\", \"c\", \"e\", \"b\", \"a\"]\n",
    "del t[1]\n",
    "t"
   ]
  },
  {
   "cell_type": "markdown",
   "metadata": {},
   "source": [
    "Con el operador __del__ se puede utilizar un índice slice, que selecciona todos los elementos hasta (pero sin incluir) el segundo índice."
   ]
  },
  {
   "cell_type": "code",
   "execution_count": 161,
   "metadata": {},
   "outputs": [
    {
     "data": {
      "text/plain": [
       "['d', 'b', 'a']"
      ]
     },
     "execution_count": 161,
     "metadata": {},
     "output_type": "execute_result"
    }
   ],
   "source": [
    "t=[\"d\", \"c\", \"e\", \"b\", \"a\"]\n",
    "del t[1:3]\n",
    "t"
   ]
  },
  {
   "cell_type": "markdown",
   "metadata": {},
   "source": [
    "* La función __sum ()__ permite realizar la suma de una lista de números."
   ]
  },
  {
   "cell_type": "code",
   "execution_count": 162,
   "metadata": {},
   "outputs": [
    {
     "data": {
      "text/plain": [
       "10"
      ]
     },
     "execution_count": 162,
     "metadata": {},
     "output_type": "execute_result"
    }
   ],
   "source": [
    "t=[1,2,3,4]\n",
    "sum(t)"
   ]
  },
  {
   "cell_type": "markdown",
   "metadata": {},
   "source": [
    "* Las funciones __max ()__ y __min ()__ proporcionan el elemento máximo/mínimo de una lista."
   ]
  },
  {
   "cell_type": "code",
   "execution_count": 243,
   "metadata": {},
   "outputs": [
    {
     "name": "stdout",
     "output_type": "stream",
     "text": [
      "4 1\n"
     ]
    }
   ],
   "source": [
    "t=[1,2,3,4]\n",
    "print (max(t),min(t))"
   ]
  },
  {
   "cell_type": "markdown",
   "metadata": {},
   "source": [
    "* La función __len ()__ proporciona la longitud de una lista."
   ]
  },
  {
   "cell_type": "code",
   "execution_count": 244,
   "metadata": {},
   "outputs": [
    {
     "data": {
      "text/plain": [
       "4"
      ]
     },
     "execution_count": 244,
     "metadata": {},
     "output_type": "execute_result"
    }
   ],
   "source": [
    "t=[1,2,3,4]\n",
    "len(t)"
   ]
  },
  {
   "cell_type": "markdown",
   "metadata": {},
   "source": [
    "* La función __range ()__ crea una secuencia de valores a partir del dado como parámetro. Es útil para los bucles de tipo __for__. Por ejemplo:"
   ]
  },
  {
   "cell_type": "code",
   "execution_count": 245,
   "metadata": {},
   "outputs": [
    {
     "name": "stdout",
     "output_type": "stream",
     "text": [
      "-3\n",
      "-2\n",
      "-1\n",
      "0\n",
      "1\n",
      "2\n"
     ]
    }
   ],
   "source": [
    "lista=range(-3,3)\n",
    "for i in lista: \n",
    "    print(i)"
   ]
  },
  {
   "cell_type": "markdown",
   "metadata": {},
   "source": [
    "Para ver el contenido generado por __range()__, se debe usar el constructor __list__"
   ]
  },
  {
   "cell_type": "code",
   "execution_count": 246,
   "metadata": {},
   "outputs": [
    {
     "data": {
      "text/plain": [
       "[-3, -2, -1, 0, 1, 2]"
      ]
     },
     "execution_count": 246,
     "metadata": {},
     "output_type": "execute_result"
    }
   ],
   "source": [
    "lista=range(-3,3)\n",
    "list(lista)"
   ]
  },
  {
   "cell_type": "markdown",
   "metadata": {},
   "source": [
    "La función __range()__ también se puede usar para escribir o modificar los elementos usando los índices.Por ejemplo:"
   ]
  },
  {
   "cell_type": "code",
   "execution_count": 247,
   "metadata": {},
   "outputs": [
    {
     "data": {
      "text/plain": [
       "[3, 6, 8, 9, 10]"
      ]
     },
     "execution_count": 247,
     "metadata": {},
     "output_type": "execute_result"
    }
   ],
   "source": [
    "t=[2,5,7,8,9]\n",
    "for i in range(len(t)):\n",
    "    t[i]=t[i]+1\n",
    "t"
   ]
  },
  {
   "cell_type": "markdown",
   "metadata": {},
   "source": [
    "__Métodos para manipular listas__\n",
    "* __append__ añade un nuevo elemento al final de una lista."
   ]
  },
  {
   "cell_type": "code",
   "execution_count": 250,
   "metadata": {},
   "outputs": [
    {
     "data": {
      "text/plain": [
       "[3, 4, 5, [3, 4, 5, 'd']]"
      ]
     },
     "execution_count": 250,
     "metadata": {},
     "output_type": "execute_result"
    }
   ],
   "source": [
    "t=[3,4,5]\n",
    "t.append([3,4,5,\"d\"])\n",
    "t"
   ]
  },
  {
   "cell_type": "code",
   "execution_count": 253,
   "metadata": {},
   "outputs": [
    {
     "data": {
      "text/plain": [
       "[3, 4, 5, 'Fin']"
      ]
     },
     "execution_count": 253,
     "metadata": {},
     "output_type": "execute_result"
    }
   ],
   "source": [
    "t=[3,4,5]\n",
    "t.append(\"Fin\")\n",
    "t"
   ]
  },
  {
   "cell_type": "markdown",
   "metadata": {},
   "source": [
    "* __extend__ toma una lista como argumento y añade al final de la actual todos sus elementos."
   ]
  },
  {
   "cell_type": "code",
   "execution_count": 169,
   "metadata": {},
   "outputs": [
    {
     "data": {
      "text/plain": [
       "[3, 4, 5, 6, 7]"
      ]
     },
     "execution_count": 169,
     "metadata": {},
     "output_type": "execute_result"
    }
   ],
   "source": [
    "t1=[3,4,5]\n",
    "t2=[6,7]\n",
    "t1.extend(t2)\n",
    "t1"
   ]
  },
  {
   "cell_type": "code",
   "execution_count": 255,
   "metadata": {},
   "outputs": [
    {
     "data": {
      "text/plain": [
       "[3, 4, 5, 6, 7]"
      ]
     },
     "execution_count": 255,
     "metadata": {},
     "output_type": "execute_result"
    }
   ],
   "source": [
    "t1=[3,4,5]\n",
    "t2=[6,7]\n",
    "t1+t2\n"
   ]
  },
  {
   "cell_type": "markdown",
   "metadata": {},
   "source": [
    "* __sort__ ordena los elementos de una lista de menor a mayor."
   ]
  },
  {
   "cell_type": "code",
   "execution_count": 170,
   "metadata": {},
   "outputs": [
    {
     "data": {
      "text/plain": [
       "['a', 'b', 'c', 'd', 'e']"
      ]
     },
     "execution_count": 170,
     "metadata": {},
     "output_type": "execute_result"
    }
   ],
   "source": [
    "t=[\"d\", \"c\", \"e\", \"b\", \"a\"]\n",
    "t.sort()\n",
    "t\n"
   ]
  },
  {
   "cell_type": "markdown",
   "metadata": {},
   "source": [
    "* El método __pop__ elimina un elemento de la lista referenciado en forma de índice. Devuelve el elemento que ha sido eliminado. Si no se proporciona un índice, borra y devuelve el último elemento."
   ]
  },
  {
   "cell_type": "code",
   "execution_count": 171,
   "metadata": {},
   "outputs": [
    {
     "name": "stdout",
     "output_type": "stream",
     "text": [
      "c ['d', 'e', 'b', 'a']\n"
     ]
    }
   ],
   "source": [
    "t=[\"d\", \"c\", \"e\", \"b\", \"a\"]\n",
    "x= t.pop(1)\n",
    "print(x, t)"
   ]
  },
  {
   "cell_type": "markdown",
   "metadata": {},
   "source": [
    "* El método __remove__ permite eliminar un elemento de la lista referenciandolo por su valor."
   ]
  },
  {
   "cell_type": "code",
   "execution_count": 172,
   "metadata": {},
   "outputs": [
    {
     "data": {
      "text/plain": [
       "['d', 'c', 'b', 'a']"
      ]
     },
     "execution_count": 172,
     "metadata": {},
     "output_type": "execute_result"
    }
   ],
   "source": [
    "t=[\"d\", \"c\", \"e\", \"b\", \"a\"]\n",
    "t.remove(\"e\")\n",
    "t"
   ]
  },
  {
   "cell_type": "markdown",
   "metadata": {},
   "source": [
    "__Equivalencia en las listas__"
   ]
  },
  {
   "cell_type": "markdown",
   "metadata": {},
   "source": [
    "En Python dos listas son equivalentes, si tienen los mismos elementos, pero no son idénticas. Sin embargo si dos listas son idénticas, también son equivalentes, es decir, la equivalencia no implica que sean idénticas. Para comprobar si dos variables son idénticas se puede usar el operador __is__.\n",
    "\n",
    "En este ejemplo a y b son equivalentes pero no idénticas"
   ]
  },
  {
   "cell_type": "code",
   "execution_count": 173,
   "metadata": {},
   "outputs": [
    {
     "data": {
      "text/plain": [
       "False"
      ]
     },
     "execution_count": 173,
     "metadata": {},
     "output_type": "execute_result"
    }
   ],
   "source": [
    "a=[1, 2, 3]\n",
    "b=[1, 2, 3]\n",
    "a is b"
   ]
  },
  {
   "cell_type": "markdown",
   "metadata": {},
   "source": [
    "En este ejemplo a y b son idénticas"
   ]
  },
  {
   "cell_type": "code",
   "execution_count": 174,
   "metadata": {},
   "outputs": [
    {
     "data": {
      "text/plain": [
       "True"
      ]
     },
     "execution_count": 174,
     "metadata": {},
     "output_type": "execute_result"
    }
   ],
   "source": [
    "a=[1, 2, 3]\n",
    "b=a\n",
    "a is b"
   ]
  },
  {
   "cell_type": "markdown",
   "metadata": {},
   "source": [
    "Si a y b son idénticas significa que la lista tiene dos referencias o nombres diferentes. Así, los cambios que se hagan usando cualquiera de los nombres afectan a la misma lista"
   ]
  },
  {
   "cell_type": "code",
   "execution_count": 175,
   "metadata": {},
   "outputs": [
    {
     "data": {
      "text/plain": [
       "[45, 2, 3]"
      ]
     },
     "execution_count": 175,
     "metadata": {},
     "output_type": "execute_result"
    }
   ],
   "source": [
    "a=[1, 2, 3]\n",
    "b=a\n",
    "b[0]=45\n",
    "a"
   ]
  },
  {
   "cell_type": "markdown",
   "metadata": {},
   "source": [
    "Observar que:\n",
    " * Las operaciones que se realizan sobre las listas hay operaciones que modifican listas y otras que crean listas nuevas. Por ejemplo el método __append__ modifica una lista, pero el operador __+__ crea una lista nueva.\n"
   ]
  },
  {
   "cell_type": "code",
   "execution_count": 176,
   "metadata": {},
   "outputs": [
    {
     "name": "stdout",
     "output_type": "stream",
     "text": [
      "[2, 3, 4] [2, 3, 4, 5]\n"
     ]
    }
   ],
   "source": [
    "t1=[2,3]\n",
    "t2=[5]\n",
    "t1.append(4)\n",
    "print (t1, t1+t2)"
   ]
  },
  {
   "cell_type": "markdown",
   "metadata": {},
   "source": [
    "* La mayoría de los métodos modifican la lista y devuelven el valor __None__ ."
   ]
  },
  {
   "cell_type": "markdown",
   "metadata": {},
   "source": [
    "__Cadenas y listas__"
   ]
  },
  {
   "cell_type": "markdown",
   "metadata": {},
   "source": [
    "Una cadena es una secuencia de caracteres y una lista es una secuencia de valores, pero una lista de caracteres no es lo mismo que una cadena. Para convertir desde una cadena a una lista de caracteres, se puede usar la función list que divide una cadena en letras individuales."
   ]
  },
  {
   "cell_type": "code",
   "execution_count": 177,
   "metadata": {},
   "outputs": [
    {
     "name": "stdout",
     "output_type": "stream",
     "text": [
      "['c', 'a', 's', 'a']\n"
     ]
    }
   ],
   "source": [
    "s= \"casa\"\n",
    "t= list(s)\n",
    "print (t)"
   ]
  },
  {
   "cell_type": "markdown",
   "metadata": {},
   "source": [
    "Si se quiere dividir una cadena en palabras, puedes usar el método __split__.Por ejemplo:"
   ]
  },
  {
   "cell_type": "code",
   "execution_count": 178,
   "metadata": {},
   "outputs": [
    {
     "name": "stdout",
     "output_type": "stream",
     "text": [
      "['El', 'camión', 'rojo', 'de', 'Juan']\n"
     ]
    }
   ],
   "source": [
    "s = \"El camión rojo de Juan\"\n",
    "t= s.split()\n",
    "print (t)"
   ]
  },
  {
   "cell_type": "markdown",
   "metadata": {},
   "source": [
    "Una vez usado __split__ se puede utilizar el operador índice (corchetes) para buscar una palabra concreta en la lista."
   ]
  },
  {
   "cell_type": "code",
   "execution_count": 179,
   "metadata": {},
   "outputs": [
    {
     "name": "stdout",
     "output_type": "stream",
     "text": [
      "rojo\n"
     ]
    }
   ],
   "source": [
    "print (t[2])"
   ]
  },
  {
   "cell_type": "markdown",
   "metadata": {},
   "source": [
    "Se puede llamar a __split__ con un argumento opcional llamado delimitador, que especifica qué caracteres se deben usar como delimitadores de palabras."
   ]
  },
  {
   "cell_type": "code",
   "execution_count": 180,
   "metadata": {},
   "outputs": [
    {
     "data": {
      "text/plain": [
       "['El', 'camión', 'rojo', 'de', 'Juan']"
      ]
     },
     "execution_count": 180,
     "metadata": {},
     "output_type": "execute_result"
    }
   ],
   "source": [
    "s=\"El-camión-rojo-de-Juan\"\n",
    "delimitador = \"-\"\n",
    "s.split(delimitador)"
   ]
  },
  {
   "cell_type": "markdown",
   "metadata": {},
   "source": [
    "__join__ es la inversa de __split__ y toma una lista de cadenas y concatena sus elementos. Al ser un método de cadena debe invocarse sobre el delimitador y pasarle la lista como un parámetro. Por ejemplo:"
   ]
  },
  {
   "cell_type": "code",
   "execution_count": 256,
   "metadata": {},
   "outputs": [
    {
     "data": {
      "text/plain": [
       "'El camión rojo de Juan'"
      ]
     },
     "execution_count": 256,
     "metadata": {},
     "output_type": "execute_result"
    }
   ],
   "source": [
    "t=[\"El\",\"camión\",\"rojo\",\"de\",\"Juan\"]\n",
    "delimitador = \" \"\n",
    "delimitador.join(t)"
   ]
  },
  {
   "cell_type": "markdown",
   "metadata": {},
   "source": [
    "__Definición de listas por comprensión__"
   ]
  },
  {
   "cell_type": "markdown",
   "metadata": {},
   "source": [
    "Una lista por comprensión (en inglés: list comprehension) es una expresión compacta para definir listas, conjuntos y diccionarios en Python.\n",
    "\n",
    "  * Se trata de definir cada uno de los elementos sin tener que nombrar cada uno de ellos.\n",
    "\n",
    "  * La forma general es:\n",
    "\n",
    "         [exp for val in <coleccion> if <condicion>]\n",
    "\n",
    "Ejemplos:"
   ]
  },
  {
   "cell_type": "code",
   "execution_count": 182,
   "metadata": {},
   "outputs": [
    {
     "data": {
      "text/plain": [
       "[3, 4, 5]"
      ]
     },
     "execution_count": 182,
     "metadata": {},
     "output_type": "execute_result"
    }
   ],
   "source": [
    "lista=[x for x in [3,4,5]]\n",
    "lista"
   ]
  },
  {
   "cell_type": "code",
   "execution_count": 183,
   "metadata": {},
   "outputs": [
    {
     "data": {
      "text/plain": [
       "[6, 7, 8, 9, 10]"
      ]
     },
     "execution_count": 183,
     "metadata": {},
     "output_type": "execute_result"
    }
   ],
   "source": [
    "lista=[x+5 for x in [1,2,3,4,5]]\n",
    "lista"
   ]
  },
  {
   "cell_type": "code",
   "execution_count": 184,
   "metadata": {},
   "outputs": [
    {
     "data": {
      "text/plain": [
       "[9, 10]"
      ]
     },
     "execution_count": 184,
     "metadata": {},
     "output_type": "execute_result"
    }
   ],
   "source": [
    "lista=[x+5 for x in [1,2,3,4,5] if x>3]\n",
    "lista"
   ]
  },
  {
   "cell_type": "code",
   "execution_count": 185,
   "metadata": {},
   "outputs": [
    {
     "data": {
      "text/plain": [
       "[1, 3, 5]"
      ]
     },
     "execution_count": 185,
     "metadata": {},
     "output_type": "execute_result"
    }
   ],
   "source": [
    "lista = [ x for x,y in [(1,2), (3,4), (5,6)] ]\n",
    "lista"
   ]
  },
  {
   "cell_type": "code",
   "execution_count": 186,
   "metadata": {},
   "outputs": [
    {
     "data": {
      "text/plain": [
       "[1, 3, 5]"
      ]
     },
     "execution_count": 186,
     "metadata": {},
     "output_type": "execute_result"
    }
   ],
   "source": [
    "lista = [ f[0] for f in [(1,2), (3,4), (5,6)] ]\n",
    "lista"
   ]
  },
  {
   "cell_type": "code",
   "execution_count": 187,
   "metadata": {},
   "outputs": [
    {
     "data": {
      "text/plain": [
       "[16, 36]"
      ]
     },
     "execution_count": 187,
     "metadata": {},
     "output_type": "execute_result"
    }
   ],
   "source": [
    "lista_pow =   [ y**2 for x,y in [(1,2), (3,4), (5,6)] if x > 2 ]\n",
    "lista_pow"
   ]
  },
  {
   "cell_type": "code",
   "execution_count": 188,
   "metadata": {},
   "outputs": [
    {
     "data": {
      "text/plain": [
       "['A', 'B', 'G', 'H', 'N']"
      ]
     },
     "execution_count": 188,
     "metadata": {},
     "output_type": "execute_result"
    }
   ],
   "source": [
    "letras = ['a', 'b', 'g', 'h', 'n' ]\n",
    "mayusculas = [a.upper() for a in letras ]\n",
    "mayusculas"
   ]
  },
  {
   "cell_type": "markdown",
   "metadata": {},
   "source": [
    "### 3.3.Diccionarios\n",
    "Un diccionario es una colección  __no ordenada__ de pares __clave - valor__ donde la clave y el valor son objetos pueden ser de (casi) cualquier tipo. \n",
    "\n",
    "La función dict () crea un diccionario nuevo sin elementos."
   ]
  },
  {
   "cell_type": "code",
   "execution_count": 189,
   "metadata": {},
   "outputs": [
    {
     "name": "stdout",
     "output_type": "stream",
     "text": [
      "{}\n"
     ]
    }
   ],
   "source": [
    "ejemplo= dict()\n",
    "print (ejemplo)"
   ]
  },
  {
   "cell_type": "markdown",
   "metadata": {},
   "source": [
    "Las llaves {}, representan un diccionario vacío. \n",
    "\n",
    "Para añadir elementos al diccionario se pueden usar corchetes, y usar acceso indexado a través de la clave.\n",
    "\n",
    "Por ejemplo:"
   ]
  },
  {
   "cell_type": "code",
   "execution_count": 190,
   "metadata": {},
   "outputs": [
    {
     "name": "stdout",
     "output_type": "stream",
     "text": [
      "{'primero': 'Libro'}\n"
     ]
    }
   ],
   "source": [
    "ejemplo[\"primero\"] = \"Libro\"\n",
    "print (ejemplo)"
   ]
  },
  {
   "cell_type": "markdown",
   "metadata": {},
   "source": [
    "Otra forma de crear un diccionario es mediante una secuencia de pares clave-valor separados por comas y encerrados entre llaves.\n",
    "\n",
    "Por ejemplo:"
   ]
  },
  {
   "cell_type": "code",
   "execution_count": 191,
   "metadata": {},
   "outputs": [
    {
     "name": "stdout",
     "output_type": "stream",
     "text": [
      "{'primero': 'libro', 'segundo': 34, 'tercero': (3, 4)}\n"
     ]
    }
   ],
   "source": [
    "ejemplo2={\"primero\": \"libro\", \"segundo\":34, \"tercero\":(3,4)}\n",
    "print (ejemplo2)"
   ]
  },
  {
   "cell_type": "markdown",
   "metadata": {
    "collapsed": true
   },
   "source": [
    "El orden de los elementos en un diccionario es impredecible, pero eso no es importante dado que se usan las claves para buscar los valores correspondientes. En este sentido si la clave especificada no está en el diccionario se obtiene una excepción. \n",
    "\n",
    "Algunos métodos:\n",
    "* La función __len__ devuelve el número de parejas clave-valor."
   ]
  },
  {
   "cell_type": "code",
   "execution_count": 192,
   "metadata": {},
   "outputs": [
    {
     "data": {
      "text/plain": [
       "3"
      ]
     },
     "execution_count": 192,
     "metadata": {},
     "output_type": "execute_result"
    }
   ],
   "source": [
    "len(ejemplo2)"
   ]
  },
  {
   "cell_type": "markdown",
   "metadata": {},
   "source": [
    "* El operador __in__ dice si algo aparece como clave en el diccionario."
   ]
  },
  {
   "cell_type": "code",
   "execution_count": 193,
   "metadata": {},
   "outputs": [
    {
     "data": {
      "text/plain": [
       "True"
      ]
     },
     "execution_count": 193,
     "metadata": {},
     "output_type": "execute_result"
    }
   ],
   "source": [
    "\"primero\" in ejemplo2"
   ]
  },
  {
   "cell_type": "markdown",
   "metadata": {},
   "source": [
    "* Para ver si algo aparece como valor en un diccionario, se puede usar el método __values__, que devuelve los valores como una lista, y después usar el operador __in__ sobre esa lista"
   ]
  },
  {
   "cell_type": "code",
   "execution_count": 194,
   "metadata": {},
   "outputs": [
    {
     "data": {
      "text/plain": [
       "False"
      ]
     },
     "execution_count": 194,
     "metadata": {},
     "output_type": "execute_result"
    }
   ],
   "source": [
    "valores= ejemplo2.values()\n",
    "\"uno\" in valores\n"
   ]
  },
  {
   "cell_type": "markdown",
   "metadata": {},
   "source": [
    "* El método __get__ toma una clave y un valor por defecto. Si la clave aparece en el diccionario get devuelve el valor correspondiente. En caso contrario devuelve el valor por defecto."
   ]
  },
  {
   "cell_type": "code",
   "execution_count": 195,
   "metadata": {},
   "outputs": [
    {
     "name": "stdout",
     "output_type": "stream",
     "text": [
      "0\n"
     ]
    }
   ],
   "source": [
    "contadores={\"naranjas\": 1, \"limones\": 42, \"peras\": 100}\n",
    "print (contadores.get(\"uvas\", 0))\n"
   ]
  },
  {
   "cell_type": "markdown",
   "metadata": {},
   "source": [
    "* El método __keys__ crea una lista con las claves de un diccionario."
   ]
  },
  {
   "cell_type": "code",
   "execution_count": 196,
   "metadata": {},
   "outputs": [
    {
     "data": {
      "text/plain": [
       "dict_keys(['naranjas', 'limones', 'peras'])"
      ]
     },
     "execution_count": 196,
     "metadata": {},
     "output_type": "execute_result"
    }
   ],
   "source": [
    "contadores.keys()"
   ]
  },
  {
   "cell_type": "markdown",
   "metadata": {},
   "source": [
    "* El método __items()__ devuelve una lista de tuplas, cada una de las cuales es una pareja clave-valor sin ningún orden definido."
   ]
  },
  {
   "cell_type": "code",
   "execution_count": 197,
   "metadata": {},
   "outputs": [
    {
     "name": "stdout",
     "output_type": "stream",
     "text": [
      "dict_items([('naranjas', 1), ('limones', 42), ('peras', 100)])\n"
     ]
    }
   ],
   "source": [
    "t= contadores.items()\n",
    "print (t)"
   ]
  },
  {
   "cell_type": "markdown",
   "metadata": {},
   "source": [
    "Observar:\n",
    "* Se puede utilizar un diccionario como una secuencia en una sentencia for, de manera que se recorren todas las claves del diccionario. Por ejemplo:"
   ]
  },
  {
   "cell_type": "code",
   "execution_count": 198,
   "metadata": {},
   "outputs": [
    {
     "name": "stdout",
     "output_type": "stream",
     "text": [
      "1 hola\n",
      "2 42\n",
      "3 100\n"
     ]
    }
   ],
   "source": [
    "diccionario={1: \"hola\", 2: 42, 3: 100}\n",
    "for clave in diccionario:\n",
    "      print (clave, diccionario[clave])"
   ]
  },
  {
   "cell_type": "markdown",
   "metadata": {},
   "source": [
    "* El ejemplo anterior se podría haber realizado de una manera equivalente utilizando el método items()"
   ]
  },
  {
   "cell_type": "code",
   "execution_count": 199,
   "metadata": {},
   "outputs": [
    {
     "name": "stdout",
     "output_type": "stream",
     "text": [
      "1 hola\n",
      "2 42\n",
      "3 100\n"
     ]
    }
   ],
   "source": [
    "diccionario={1: \"hola\", 2: 42, 3: 100}\n",
    "for clave,valor in diccionario.items():\n",
    "      print (clave, valor)"
   ]
  },
  {
   "cell_type": "markdown",
   "metadata": {},
   "source": [
    "## 4. Funciones\n",
    "Una función es una secuencia de sentencias que realizan una operación y que reciben un nombre. Sus principales características son:\n",
    "* Cuando se define una función, se especifica el nombre y la secuencia de sentencias.\n",
    "\n",
    "* Una vez que se ha definido una función, se puede llamar a la función por ese nombre y reutilizarla a lo largo del progama.\n",
    "\n",
    "* El resultado de la función se llama valor de retorno. \n",
    "\n",
    "Para crear una función se utiliza la palabra reservada __def__ . A continuación, aparece el nombre de la función, entre paréntesis los parámetros, y finaliza con __:__. Esta línea se denomina cabecera de la función. Después de los __:__, aparece el código que se ejecuta cuando se llama a la función. Este trozo de código, se denomina cuerpo de la función y debe estar indentado. El cuerpo puede contener cualquier número de sentencias. Para devolver el valor se usa la palabra reservada __return__.\n",
    "\n",
    "Por ejemplo:"
   ]
  },
  {
   "cell_type": "code",
   "execution_count": 200,
   "metadata": {},
   "outputs": [],
   "source": [
    "# función que suma 3 números y devuelve el resultado\n",
    "def suma_tres(x, y, z):   # 3 argumentos posicionales.\n",
    "    m1 = x + y\n",
    "    m2 = m1 + z\n",
    "    return m2"
   ]
  },
  {
   "cell_type": "markdown",
   "metadata": {},
   "source": [
    "Las reglas para los nombres de las funciones son los mismos que para las variables: se pueden usar letras, números y algunos signos de puntuación, pero el primer carácter no puede ser un número. No se puede usar una palabra clave como nombre de una función, y se debería evitar también tener una variable y una función con el mismo nombre. Las funciones con paréntesis vacíos después del nombre indican que esta función no toma ningún argumento.\n",
    "\n",
    "La sintaxis para llamar a una función definida consiste en indicar el nombre de la función junto a una expresión entre paréntesis denominados argumentos de la función. El argumento es un valor o variable que se pasa a la función como parámetro de entrada."
   ]
  },
  {
   "cell_type": "code",
   "execution_count": 201,
   "metadata": {},
   "outputs": [
    {
     "data": {
      "text/plain": [
       "6"
      ]
     },
     "execution_count": 201,
     "metadata": {},
     "output_type": "execute_result"
    }
   ],
   "source": [
    "# invocación de la función\n",
    "r = suma_tres(1, 2, 3)\n",
    "r"
   ]
  },
  {
   "cell_type": "markdown",
   "metadata": {},
   "source": [
    "Algunas características:\n",
    "\n",
    "* La definición de una función debe ser ejecutada antes de que la función se llame por primera vez, y no generan ninguna salida. Sin embargo, las sentencias dentro de cada función son ejecutadas solamente cuando se llama a esa función. \n",
    "\n",
    "* En las funciones, no se especifica el tipo de parámetro ni lo que se retorna.\n",
    "\n",
    "* Las definiciones de funciones no alteran el flujo de la ejecución de un programa debido a que las sentencias dentro de una función no son ejecutadas.  Sin embargo, una llamada a una función es como un desvío en el flujo de la ejecución. En vez de pasar a la siguiente sentencia, el flujo salta al cuerpo de la función, ejecuta todas las sentencias que hay allí, y después vuelve al punto donde lo dejó.\n",
    "\n",
    "* Las funciones que disponen de argumentos son asignados a variables llamadas parámetros. Se puede usar cualquier tipo de expresión como argumento, la cual será evaluada antes de que la función sea llamada. El nombre de la variable que se pasa como argumento no tiene nada que ver con el nombre del parámetro, de manera que dentro de la función recibirá el nombre del parámetro. "
   ]
  },
  {
   "cell_type": "code",
   "execution_count": 202,
   "metadata": {},
   "outputs": [
    {
     "name": "stdout",
     "output_type": "stream",
     "text": [
      "17\n"
     ]
    }
   ],
   "source": [
    "def sumados(a,b):\n",
    "    suma= a+b\n",
    "    return suma\n",
    "c=5\n",
    "x= sumados (c, c+7)\n",
    "print(x)"
   ]
  },
  {
   "cell_type": "markdown",
   "metadata": {},
   "source": [
    "\n",
    "* Cuando se definen los argumentos de una función, éstos pueden tener valores por defectos. Por ejemplo:"
   ]
  },
  {
   "cell_type": "code",
   "execution_count": 203,
   "metadata": {},
   "outputs": [
    {
     "name": "stdout",
     "output_type": "stream",
     "text": [
      "3\n"
     ]
    }
   ],
   "source": [
    "def ejemplo(a=3):\n",
    "    print(a)\n",
    "    \n",
    "ejemplo()"
   ]
  },
  {
   "cell_type": "markdown",
   "metadata": {},
   "source": [
    "* Una vez que se ha definido una función puede usarse dentro de otra, facilitando de esta manera la descomposición de un problema, y resolverlo mediante una combinación de llamadas a funciones. Por ejemplo:"
   ]
  },
  {
   "cell_type": "code",
   "execution_count": 204,
   "metadata": {},
   "outputs": [
    {
     "data": {
      "text/plain": [
       "12"
      ]
     },
     "execution_count": 204,
     "metadata": {},
     "output_type": "execute_result"
    }
   ],
   "source": [
    "def ejemplo1(a,b):\n",
    "    return a+b\n",
    "\n",
    "def ejemplo2(a,b,c):\n",
    "    return c+ejemplo1(a,b)\n",
    "ejemplo2(3,4,5)"
   ]
  },
  {
   "cell_type": "markdown",
   "metadata": {},
   "source": [
    "Hay dos tipos de funciones:\n",
    " * Aquellas que producen resultados, y se querrá hacer algo con el mismo como asignárselo a una variable."
   ]
  },
  {
   "cell_type": "code",
   "execution_count": 205,
   "metadata": {},
   "outputs": [
    {
     "name": "stdout",
     "output_type": "stream",
     "text": [
      "12\n"
     ]
    }
   ],
   "source": [
    "def ejemplo1(a):\n",
    "    return 3*a\n",
    "b=ejemplo1(4)\n",
    "print (b)"
   ]
  },
  {
   "cell_type": "markdown",
   "metadata": {},
   "source": [
    "   * Aquellas que realizan alguna acción pero no devuelven un valor pero pueden mostrar algo por pantalla. Si se asigna \n",
    " el resultado a una variable, se obtiene el valor None."
   ]
  },
  {
   "cell_type": "code",
   "execution_count": 206,
   "metadata": {},
   "outputs": [
    {
     "name": "stdout",
     "output_type": "stream",
     "text": [
      "12\n",
      "None\n"
     ]
    }
   ],
   "source": [
    "def ejemplo1(a):\n",
    "    print (3*a)\n",
    "b=ejemplo1(4)\n",
    "print (b)"
   ]
  },
  {
   "cell_type": "markdown",
   "metadata": {},
   "source": [
    "Python proporciona un número importante de funciones internas, que pueden ser usadas sin necesidad de tener que definirlas previamente tales como:\n",
    "* Las funciones __max__ y __min__ dan respectivamente el valor mayor y menor de una lista.\n",
    "* La función __len__ devuelve cuántos elementos hay en su argumento. Si el argumento es una cadena devuelve el número de caracteres que hay en la cadena.\n",
    "* Funciones que permiten convertir valores de un tipo a otro: __int()__, __float()__, y __str()__"
   ]
  },
  {
   "cell_type": "code",
   "execution_count": 207,
   "metadata": {},
   "outputs": [
    {
     "data": {
      "text/plain": [
       "32"
      ]
     },
     "execution_count": 207,
     "metadata": {},
     "output_type": "execute_result"
    }
   ],
   "source": [
    "int (\"32\")"
   ]
  },
  {
   "cell_type": "code",
   "execution_count": 208,
   "metadata": {},
   "outputs": [
    {
     "data": {
      "text/plain": [
       "3"
      ]
     },
     "execution_count": 208,
     "metadata": {},
     "output_type": "execute_result"
    }
   ],
   "source": [
    "int (3.99999)"
   ]
  },
  {
   "cell_type": "code",
   "execution_count": 209,
   "metadata": {},
   "outputs": [
    {
     "data": {
      "text/plain": [
       "32.0"
      ]
     },
     "execution_count": 209,
     "metadata": {},
     "output_type": "execute_result"
    }
   ],
   "source": [
    "float (32)"
   ]
  },
  {
   "cell_type": "code",
   "execution_count": 210,
   "metadata": {},
   "outputs": [
    {
     "data": {
      "text/plain": [
       "'3.14159'"
      ]
     },
     "execution_count": 210,
     "metadata": {},
     "output_type": "execute_result"
    }
   ],
   "source": [
    "str (3.14159)"
   ]
  },
  {
   "cell_type": "markdown",
   "metadata": {},
   "source": [
    "__Tipos de argumentos de las funciones__"
   ]
  },
  {
   "cell_type": "markdown",
   "metadata": {},
   "source": [
    "Las funciones tienen 4 tipos de argumentos:\n",
    "\n",
    "* posicionales\n",
    "* por clave\n",
    "* argumentos agrupados\n",
    " * tupla de argumentos posicionales (*args)\n",
    " * diccionario de argumentos accedidos por clave (**kwargs)\n",
    "\n",
    "Usamos *args para representar una tupla arbitraria de argumentos agrupados. No es necesario que el nombre sea args:\n"
   ]
  },
  {
   "cell_type": "markdown",
   "metadata": {},
   "source": [
    "Los __argumentos posicionales__ se usan para referenciar el argumento de acuerdo a la posición en la lista de argumentos"
   ]
  },
  {
   "cell_type": "code",
   "execution_count": 211,
   "metadata": {},
   "outputs": [
    {
     "data": {
      "text/plain": [
       "11"
      ]
     },
     "execution_count": 211,
     "metadata": {},
     "output_type": "execute_result"
    }
   ],
   "source": [
    "def suma_tres(x, y, z):                   \n",
    "    m1 = x + y\n",
    "    m2 = m1 + z\n",
    "    return m2\n",
    "\n",
    "suma_tres(1,2,8)"
   ]
  },
  {
   "cell_type": "markdown",
   "metadata": {},
   "source": [
    "Los __argumentos por clave__ se usan para indicar valores por defecto y siempre se sitúan después de los argumentos posicionales."
   ]
  },
  {
   "cell_type": "code",
   "execution_count": 212,
   "metadata": {},
   "outputs": [
    {
     "data": {
      "text/plain": [
       "(5, 6)"
      ]
     },
     "execution_count": 212,
     "metadata": {},
     "output_type": "execute_result"
    }
   ],
   "source": [
    "def suma_varios(x, y, z1=0, z2=0):\n",
    "    m = x + y + z1 + z2\n",
    "    return m\n",
    "resultado1 = suma_varios(2, 3)\n",
    "resultado2 = suma_varios(2, 3, z2=1)\n",
    "resultado1, resultado2"
   ]
  },
  {
   "cell_type": "markdown",
   "metadata": {},
   "source": [
    "Usamos __*args__ para representar una tupla arbitraria de argumentos agrupados. No es necesario que el nombre sea args:"
   ]
  },
  {
   "cell_type": "code",
   "execution_count": 1,
   "metadata": {},
   "outputs": [
    {
     "name": "stdout",
     "output_type": "stream",
     "text": [
      "x: 1\n",
      "y: 2\n",
      "otros: (3, 4, 5, 6, 7, 8, 9)\n"
     ]
    }
   ],
   "source": [
    "def suma_varios(x, y, *otros):\n",
    "    print( \"x:\", x )\n",
    "    print( \"y:\", y )\n",
    "    print(\"otros:\", otros)\n",
    "\n",
    "suma_varios(1,2,3,4,5,6,7,8,9)"
   ]
  },
  {
   "cell_type": "markdown",
   "metadata": {},
   "source": [
    "Se pueden definir los argumentos agrupados después de los argumentos posicionales y por clave. Usamos __**kwargs__ para representar una lista arbitraria de argumentos agrupados representada como un diccionario. Como en el caso anterior, no es necesario que el nombre sea kwargs:"
   ]
  },
  {
   "cell_type": "code",
   "execution_count": 2,
   "metadata": {},
   "outputs": [
    {
     "name": "stdout",
     "output_type": "stream",
     "text": [
      "x: 1\n",
      "y: 2\n",
      "otros: (3, 4, 5, 6, 7, 8, 9)\n",
      "mas: {'cien': 100, 'mil': 1000}\n"
     ]
    }
   ],
   "source": [
    "def suma_varios(x, y, *otros, **mas):\n",
    "    print( \"x:\", x )\n",
    "    print( \"y:\", y )\n",
    "    print(\"otros:\", otros)\n",
    "    print(\"mas:\", mas)\n",
    "    \n",
    "suma_varios(1,2,3,4,5,6,7,8,9, cien = 100 , mil= 1000 )"
   ]
  },
  {
   "cell_type": "markdown",
   "metadata": {},
   "source": [
    "__Paso de parámetros__"
   ]
  },
  {
   "cell_type": "markdown",
   "metadata": {},
   "source": [
    "En Python el paso de argumentos a una función se hace por referencia, de manera que las modificaciones que se hagan sobre los argumentos se mantienen después de la llamada y ejecución de la función"
   ]
  },
  {
   "cell_type": "code",
   "execution_count": 215,
   "metadata": {},
   "outputs": [
    {
     "data": {
      "text/plain": [
       "[1, 2, 4, 9]"
      ]
     },
     "execution_count": 215,
     "metadata": {},
     "output_type": "execute_result"
    }
   ],
   "source": [
    "def cambia(lista, num):\n",
    "    lista.append(num)\n",
    "\n",
    "a = [1, 2, 4]\n",
    "cambia(a, 9)\n",
    "a"
   ]
  },
  {
   "cell_type": "markdown",
   "metadata": {},
   "source": [
    "__Funciones como argumentos de otras funciones__"
   ]
  },
  {
   "cell_type": "markdown",
   "metadata": {},
   "source": [
    "En Python es posible pasar como argumento el nombre de la función y usarla. Supongamos que tenemos una lista de ciudades que necesitamos 'limpiar' o 'formatear'."
   ]
  },
  {
   "cell_type": "code",
   "execution_count": 216,
   "metadata": {},
   "outputs": [],
   "source": [
    "ciudades = ['   Madrid', ' BARcelona', 'SeVILLA  ' ]"
   ]
  },
  {
   "cell_type": "markdown",
   "metadata": {},
   "source": [
    "Para dar un formato uniforme a esta lista antes de realizar otras tareas de análisis, es necesario transformarla eliminado espacios en blanco y transformando cada nombre a tipo _título_. "
   ]
  },
  {
   "cell_type": "code",
   "execution_count": 217,
   "metadata": {},
   "outputs": [
    {
     "data": {
      "text/plain": [
       "['Madrid', 'Barcelona', 'Sevilla']"
      ]
     },
     "execution_count": 217,
     "metadata": {},
     "output_type": "execute_result"
    }
   ],
   "source": [
    "def formatear(lista):\n",
    "    resultado = []\n",
    "    for ciudad in lista:\n",
    "        ciudad = ciudad.strip()     # elimina espacios en blanco\n",
    "        ciudad = ciudad.title()     # tipo título        \n",
    "        resultado.append(ciudad)\n",
    "    return resultado\n",
    "\n",
    "formatear(ciudades)"
   ]
  },
  {
   "cell_type": "markdown",
   "metadata": {},
   "source": [
    "Una alternativa más flexible consiste en crear una lista de operaciones a realizar y posteriormente aplicarla a la lista de ciudades:"
   ]
  },
  {
   "cell_type": "code",
   "execution_count": 218,
   "metadata": {},
   "outputs": [
    {
     "data": {
      "text/plain": [
       "['Madrid', 'Barcelona', 'Sevilla']"
      ]
     },
     "execution_count": 218,
     "metadata": {},
     "output_type": "execute_result"
    }
   ],
   "source": [
    "operaciones = [str.strip, str.title]\n",
    "\n",
    "def formatear(lista, operaciones):\n",
    "    resultado = []\n",
    "    for ciudad in lista:\n",
    "        for op in operaciones:\n",
    "            ciudad = op(ciudad)    \n",
    "        resultado.append(ciudad)\n",
    "    return resultado\n",
    "\n",
    "formatear(ciudades, operaciones)"
   ]
  },
  {
   "cell_type": "markdown",
   "metadata": {},
   "source": [
    "El uso de funciones como argumentos de otras funciones es una característica de los lenguajes funcionales. La función __map__ de los lenguajes funcionales también está accesible en Python. Esta función aplica una función a una colección de objetos.En el siguiente ejemplo, la función map aplica la función strip a cada una de las ciudades en la lista de ciudades."
   ]
  },
  {
   "cell_type": "code",
   "execution_count": 219,
   "metadata": {},
   "outputs": [
    {
     "data": {
      "text/plain": [
       "['Madrid', 'BARcelona', 'SeVILLA']"
      ]
     },
     "execution_count": 219,
     "metadata": {},
     "output_type": "execute_result"
    }
   ],
   "source": [
    "m1 = map(str.strip , ciudades)\n",
    "list(m1)"
   ]
  },
  {
   "cell_type": "code",
   "execution_count": 220,
   "metadata": {},
   "outputs": [
    {
     "data": {
      "text/plain": [
       "['Madrid', 'Barcelona', 'Sevilla']"
      ]
     },
     "execution_count": 220,
     "metadata": {},
     "output_type": "execute_result"
    }
   ],
   "source": [
    "m2 = map(str.title, map(str.strip , ciudades))\n",
    "list(m2)"
   ]
  },
  {
   "cell_type": "markdown",
   "metadata": {},
   "source": [
    "__Funciones anónimas__"
   ]
  },
  {
   "cell_type": "markdown",
   "metadata": {},
   "source": [
    "Las funciones anónimas son aquellas que no tiene nombre y se refieren a una única instrucción. Se declaran con la palabra reservada __lambda__, y en general son funciones cortas dado que están sintácticamente restringidas a una sola expresión."
   ]
  },
  {
   "cell_type": "code",
   "execution_count": 221,
   "metadata": {},
   "outputs": [],
   "source": [
    "# función normal\n",
    "def producto(a):  \n",
    "    return a * 2\n",
    "\n",
    "# la función anónima equivalente:\n",
    "resultado = lambda x: x * 2"
   ]
  },
  {
   "cell_type": "markdown",
   "metadata": {},
   "source": [
    "Las __funciones lambda__ se utilizan mucho en análisis de datos ya que es muy usual transformar datos mediante funciones que tienen a otras funciones en sus argumentos. También se usan __funciones lambda__ en lugar de escribir funciones normales para hacer el código más claro y más corto.\n",
    "\n",
    "En el siguiente ejemplo, la función doble recibe como datos de entrada una lista de elementos y una función f. El valor devuelto por doble es una lista de elementos que son resultado de aplicar la función f a cada uno de los elementos en m."
   ]
  },
  {
   "cell_type": "code",
   "execution_count": 222,
   "metadata": {},
   "outputs": [
    {
     "data": {
      "text/plain": [
       "[2, 4, 6, 8]"
      ]
     },
     "execution_count": 222,
     "metadata": {},
     "output_type": "execute_result"
    }
   ],
   "source": [
    "s = [1, 2, 3, 4 ]\n",
    "def doble(lista, f):\n",
    "    \"\"\"  Devuelvo una nueva lista definida por comprensión \"\"\"\n",
    "    return [ f(x)  for x in lista ]\n",
    "\n",
    "doble(s, producto)"
   ]
  },
  {
   "cell_type": "markdown",
   "metadata": {},
   "source": [
    "Pero el mismo efecto lo conseguimos mediante una función anónima, evitando así la definición de la función __producto__:"
   ]
  },
  {
   "cell_type": "code",
   "execution_count": 223,
   "metadata": {},
   "outputs": [
    {
     "data": {
      "text/plain": [
       "[2, 4, 6, 8]"
      ]
     },
     "execution_count": 223,
     "metadata": {},
     "output_type": "execute_result"
    }
   ],
   "source": [
    "doble(s, lambda x: x * 2)"
   ]
  },
  {
   "cell_type": "markdown",
   "metadata": {},
   "source": [
    "## 5. Importación de módulos\n",
    "\n",
    "Python dispone de una amplia variedad de módulos y librerias. Los módulos son programas que amplían las funciones y clases de Python para realizar tareas específicas. Lo habitual cuando se desarrollan aplicaciones es que los programas se vuelvan muy largos. En estos casos conviene organizar el código en distintos archivos dependiendo de su funcionalidad. Con esto conseguimos que el mantenimiento sea más fácil y poder reutilizar código (usar una función en varias aplicaciones sin necesidad de copiarla varias veces). Estos archivos se llaman módulos y tienen extensión __py__. Contienen: definición de funciones, datos, definición de clases, etc\n",
    "\n",
    "En https://docs.python.org/3/py-modindex.html se puede encontar el índice de módulos de Python.\n",
    "\n",
    "\n",
    "Para poder utilizarlas, hay que importarlas previamente, lo cual se puede hacer de varias formas:\n",
    "* Importar todo el módulo mediante la palabra reservada __import__, de manera que para usar un elemento hay que usar el nombre del módulo, seguido de un punto (.) y el nombre del elemento que se desee obtener.\n",
    "\n",
    "* Importar solo algunos elementos del módulo mediante la estructura __from__ nombre_modulo __import__ lista_elementos, de manera que los elementos importados se usan directamente por su nombre.\n",
    "\n",
    "* Importar todo el módulo mediante la palabra reservada __import__ y definir un alias mediante la palabra reservada __as__ de manera que para usar un elemento hay que usar el nombre del módulo, seguido de un punto (.) y el nombre del elemento que se desee obtener.\n",
    "\n",
    "Por ejemplo, considerar el módulo random que proporciona funciones que generan números pseudoaleatorios. Se va a usar la función random devuelve un número flotante aleatorio entre 0.0 y 1.0 (incluyendo 0.0, pero no 1.0). Cada vez que se llama a random, se obtiene el número siguiente de una larga serie."
   ]
  },
  {
   "cell_type": "code",
   "execution_count": 224,
   "metadata": {},
   "outputs": [
    {
     "name": "stdout",
     "output_type": "stream",
     "text": [
      "0.810016723592379\n",
      "0.9162914072922502\n",
      "0.9670920798405224\n",
      "0.29300839110065025\n"
     ]
    }
   ],
   "source": [
    "import random\n",
    "for i in range (4):\n",
    "         x= random.random ()\n",
    "         print (x)"
   ]
  },
  {
   "cell_type": "markdown",
   "metadata": {},
   "source": [
    "En el siguiente código se usa el mismo ejemplo, pero se define un alias para el módulo random"
   ]
  },
  {
   "cell_type": "code",
   "execution_count": 225,
   "metadata": {},
   "outputs": [
    {
     "name": "stdout",
     "output_type": "stream",
     "text": [
      "0.5139280252674573\n",
      "0.6890958237336389\n",
      "0.2787570835485388\n",
      "0.4518860613034299\n"
     ]
    }
   ],
   "source": [
    "import random as rd\n",
    "for i in range (4):\n",
    "         x= rd.random ()\n",
    "         print (x)"
   ]
  },
  {
   "cell_type": "markdown",
   "metadata": {},
   "source": [
    "Ahora se va a usar la función randint que toma los parámetros inferior y superior, y devuelve un entero entre inferior y superior (incluyendo ambos extremos)."
   ]
  },
  {
   "cell_type": "code",
   "execution_count": 226,
   "metadata": {},
   "outputs": [
    {
     "name": "stdout",
     "output_type": "stream",
     "text": [
      "4\n",
      "2\n",
      "4\n",
      "9\n"
     ]
    }
   ],
   "source": [
    "from random import randint\n",
    "for i in range(4):\n",
    "    x=randint (1,10)\n",
    "    print(x)"
   ]
  },
  {
   "cell_type": "markdown",
   "metadata": {},
   "source": [
    "Para conocer las operaciones disponibles de un módulo se puede usar el comando __dir__"
   ]
  },
  {
   "cell_type": "code",
   "execution_count": 227,
   "metadata": {},
   "outputs": [
    {
     "data": {
      "text/plain": [
       "['__doc__',\n",
       " '__loader__',\n",
       " '__name__',\n",
       " '__package__',\n",
       " '__spec__',\n",
       " 'acos',\n",
       " 'acosh',\n",
       " 'asin',\n",
       " 'asinh',\n",
       " 'atan',\n",
       " 'atan2',\n",
       " 'atanh',\n",
       " 'ceil',\n",
       " 'copysign',\n",
       " 'cos',\n",
       " 'cosh',\n",
       " 'degrees',\n",
       " 'e',\n",
       " 'erf',\n",
       " 'erfc',\n",
       " 'exp',\n",
       " 'expm1',\n",
       " 'fabs',\n",
       " 'factorial',\n",
       " 'floor',\n",
       " 'fmod',\n",
       " 'frexp',\n",
       " 'fsum',\n",
       " 'gamma',\n",
       " 'gcd',\n",
       " 'hypot',\n",
       " 'inf',\n",
       " 'isclose',\n",
       " 'isfinite',\n",
       " 'isinf',\n",
       " 'isnan',\n",
       " 'ldexp',\n",
       " 'lgamma',\n",
       " 'log',\n",
       " 'log10',\n",
       " 'log1p',\n",
       " 'log2',\n",
       " 'modf',\n",
       " 'nan',\n",
       " 'pi',\n",
       " 'pow',\n",
       " 'radians',\n",
       " 'remainder',\n",
       " 'sin',\n",
       " 'sinh',\n",
       " 'sqrt',\n",
       " 'tan',\n",
       " 'tanh',\n",
       " 'tau',\n",
       " 'trunc']"
      ]
     },
     "execution_count": 227,
     "metadata": {},
     "output_type": "execute_result"
    }
   ],
   "source": [
    "import math\n",
    "dir(math) "
   ]
  },
  {
   "cell_type": "markdown",
   "metadata": {},
   "source": [
    "Y para saber los módulos que se tienen instalados,y que por tanto se pueden importar, se puede hacer de la siguiente manera:"
   ]
  },
  {
   "cell_type": "code",
   "execution_count": 228,
   "metadata": {},
   "outputs": [
    {
     "name": "stderr",
     "output_type": "stream",
     "text": [
      "\"conda\" no se reconoce como un comando interno o externo,\n",
      "programa o archivo por lotes ejecutable.\n"
     ]
    }
   ],
   "source": [
    "!conda list"
   ]
  },
  {
   "cell_type": "markdown",
   "metadata": {},
   "source": [
    "## 6. Ficheros"
   ]
  },
  {
   "cell_type": "markdown",
   "metadata": {},
   "source": [
    "__Apertura en modo lectura__"
   ]
  },
  {
   "cell_type": "markdown",
   "metadata": {},
   "source": [
    "En Python, para abrir  un fichero usaremos la función __open__, que recibe el nombre del archivo a abrir. Por defecto, si no indicamos nada, el fichero se abre en modo lectura."
   ]
  },
  {
   "cell_type": "markdown",
   "metadata": {},
   "source": [
    "Vamos a considerar el archivo cuna.txt que se encuentra en una carpeta denominada datos.La función __open__ abrirá el fichero con el nombre indicado, en este caso el fichero cuna.txt. Si no tiene éxito, se lanzará una excepción. Si se ha podido abrir el fichero correctamente, la variable fichero nos permitirá manipularlo."
   ]
  },
  {
   "cell_type": "code",
   "execution_count": 229,
   "metadata": {},
   "outputs": [
    {
     "ename": "FileNotFoundError",
     "evalue": "[Errno 2] No such file or directory: 'cuna.txt'",
     "output_type": "error",
     "traceback": [
      "\u001b[1;31m---------------------------------------------------------------------------\u001b[0m",
      "\u001b[1;31mFileNotFoundError\u001b[0m                         Traceback (most recent call last)",
      "\u001b[1;32m<ipython-input-229-da9912b33cc5>\u001b[0m in \u001b[0;36m<module>\u001b[1;34m\u001b[0m\n\u001b[1;32m----> 1\u001b[1;33m \u001b[0mfichero\u001b[0m \u001b[1;33m=\u001b[0m \u001b[0mopen\u001b[0m\u001b[1;33m(\u001b[0m\u001b[1;34m\"cuna.txt\"\u001b[0m\u001b[1;33m)\u001b[0m\u001b[1;33m\u001b[0m\u001b[1;33m\u001b[0m\u001b[0m\n\u001b[0m",
      "\u001b[1;31mFileNotFoundError\u001b[0m: [Errno 2] No such file or directory: 'cuna.txt'"
     ]
    }
   ],
   "source": [
    "fichero = open(\"cuna.txt\")"
   ]
  },
  {
   "cell_type": "markdown",
   "metadata": {},
   "source": [
    "La operación más sencilla a realizar sobre un archivo es leer su contenido. Para procesarlo línea por línea, es posible hacerlo de la siguiente forma:"
   ]
  },
  {
   "cell_type": "code",
   "execution_count": null,
   "metadata": {},
   "outputs": [],
   "source": [
    "fichero= open(\"cuna.txt\")\n",
    "for linea in fichero:\n",
    "    print(linea)"
   ]
  },
  {
   "cell_type": "markdown",
   "metadata": {},
   "source": [
    "Es posible, además, obtener todas las líneas del archivo utilizando una sola llamada a función __readlines__. "
   ]
  },
  {
   "cell_type": "code",
   "execution_count": null,
   "metadata": {},
   "outputs": [],
   "source": [
    "fichero = open(\"cuna.txt\")\n",
    "lineas = fichero.readlines()\n",
    "lineas"
   ]
  },
  {
   "cell_type": "markdown",
   "metadata": {},
   "source": [
    "En este caso, la variable líneas tendrá una lista de cadenas con todas las líneas del fichero.Es importante tener en cuenta que cuando se utilizan funciones como __archivo.readlines()__, se está cargando en memoria el fichero completo. Siempre que una instrucción cargue un fichero completo debe tenerse cuidado de utilizarla sólo con ficheros pequeños, ya que de otro modo podría agotarse la memoria.\n",
    "\n",
    "Es posible eliminar los saltos de línea"
   ]
  },
  {
   "cell_type": "code",
   "execution_count": null,
   "metadata": {},
   "outputs": [],
   "source": [
    "lineas[0].rstrip() "
   ]
  },
  {
   "cell_type": "markdown",
   "metadata": {},
   "source": [
    "__Apertura en modo escritura(w)__ "
   ]
  },
  {
   "cell_type": "markdown",
   "metadata": {},
   "source": [
    "Si queremos abrir un fichero en modo escritura, hay que indicar una w como segundo parámetro de la función __open__. En caso de que no exista el fichero se crea, y si existe, se pierde la información que hubiera."
   ]
  },
  {
   "cell_type": "code",
   "execution_count": null,
   "metadata": {},
   "outputs": [],
   "source": [
    "arc_write = open('nuevo.txt', 'w')\n",
    "for i, line in enumerate(lineas):\n",
    "    if i%2 == 0:    \n",
    "        arc_write.write(str(i) + ' ' + line)\n",
    "    else:\n",
    "        pass"
   ]
  },
  {
   "cell_type": "markdown",
   "metadata": {},
   "source": [
    "Al terminar de trabajar con un fichero, se debe cerrar ya que lo que se haya escrito no se guardará realmente hasta no cerrar el fichero. Para ello se usa __close__"
   ]
  },
  {
   "cell_type": "code",
   "execution_count": null,
   "metadata": {},
   "outputs": [],
   "source": [
    "arc_write.close()   "
   ]
  },
  {
   "cell_type": "markdown",
   "metadata": {},
   "source": [
    "Ahora se puede abrir el archivo escrito y comprobar el contenido del mismo"
   ]
  },
  {
   "cell_type": "code",
   "execution_count": null,
   "metadata": {},
   "outputs": [],
   "source": [
    "open('nuevo.txt').readlines()"
   ]
  },
  {
   "cell_type": "markdown",
   "metadata": {},
   "source": [
    "__Apertura en modo escritura posicionándose al final del mismo(a)__"
   ]
  },
  {
   "cell_type": "markdown",
   "metadata": {},
   "source": [
    "En este caso se crea el fichero, si no existe, pero en caso de que exista se posiciona al final, manteniendo el contenido original."
   ]
  },
  {
   "cell_type": "code",
   "execution_count": null,
   "metadata": {},
   "outputs": [],
   "source": [
    "open('nuevo.txt', 'a').write('\\nEste es el final')"
   ]
  },
  {
   "cell_type": "code",
   "execution_count": null,
   "metadata": {},
   "outputs": [],
   "source": [
    "open('nuevo.txt').readlines()"
   ]
  },
  {
   "cell_type": "markdown",
   "metadata": {},
   "source": [
    "# Referencias\n",
    "\n",
    "* Introducción a la programación con Python 3: http://repositori.uji.es/xmlui/bitstream/handle/10234/102653/s93_impressora.pdf?sequence=2&isAllowed=y\n",
    "* Python para principiantes: http://librosweb.es/libro/python/\n",
    "* Tutorial de Python: http://docs.python.org.ar/tutorial/pdfs/TutorialPython2.pdf\n",
    "* Guía de aprendizaje de Python: http://es.tldp.org/Tutoriales/Python/tut.pdf\n",
    "\n"
   ]
  }
 ],
 "metadata": {
  "anaconda-cloud": {},
  "kernelspec": {
   "display_name": "Python 3",
   "language": "python",
   "name": "python3"
  },
  "language_info": {
   "codemirror_mode": {
    "name": "ipython",
    "version": 3
   },
   "file_extension": ".py",
   "mimetype": "text/x-python",
   "name": "python",
   "nbconvert_exporter": "python",
   "pygments_lexer": "ipython3",
   "version": "3.7.3"
  }
 },
 "nbformat": 4,
 "nbformat_minor": 1
}

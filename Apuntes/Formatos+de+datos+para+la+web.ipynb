{
 "cells": [
  {
   "cell_type": "markdown",
   "metadata": {},
   "source": [
    "Se van a estudiar 3 formatos muy utilizados para intercambiar y almacenar datos en la web:\n",
    "* Archivos csv\n",
    "* Documentos JSON\n",
    "* Documentos XML \n"
   ]
  },
  {
   "cell_type": "markdown",
   "metadata": {},
   "source": [
    "## Archivos csv"
   ]
  },
  {
   "cell_type": "markdown",
   "metadata": {},
   "source": [
    "#### Introducción\n",
    "\n",
    "Un archivo CSV(Comma Separated Values) es un archivo de texto plano que almacenan los valores separados por comas.\n",
    "Los archivos se encuentran estructurados por líneas, y cada línea es un conjunto de valores separados por comas.\n",
    "<img src=\"Capt1.png\" style=\"width: 200px;\"/>\n",
    "\n",
    "Algunas características de los archivos csv:\n",
    "\n",
    "* Los valores no tienen tipos, son todo cadenas.\n",
    "\n",
    "* No tienen atributos de configuración acerca del tamaño de la fuente, color,…\n",
    "\n",
    "* No tienen imágenes o dibujos embebidos.\n",
    "\n",
    "* Los archivos tienen extensión .csv\n",
    "\n",
    "Las ventajas que ofrece este formato:\n",
    "\n",
    "* Es simple.\n",
    "\n",
    "* Está soportado por muchos programas.\n",
    "\n",
    "* Permiten representar los datos de las hojas de cálculo.\n",
    "\n",
    "* Puede ser visualizado por los editores de texto.\n",
    "\n",
    "Dado que los archivos CSV son archivos de texto, se podría intentar leer como una cadena y posteriormente procesar esa cadena. \n",
    "\n",
    "Como los valores están delimitados por comas, se podría usar el método split() sobre cada línea para obtener los valores. \n",
    "\n",
    "Sin embargo no siempre las comas representan los límites de un valor, dado que los archivos CSV también tienen su propio conjunto de caracteres de escape para permitir que las comas y otros caracteres formen parte de un valor, y esos caracteres no son soportados por split().\n"
   ]
  },
  {
   "cell_type": "markdown",
   "metadata": {},
   "source": [
    "#### El módulo csv de Python\n",
    "\n",
    "El modulo csv de Python permite leer y escribir archivos csv.\n",
    "\n",
    "Para leer datos de un archivo csv en primer lugar hay que crear un objeto Reader. Este objeto permite iterar sobre las líneas del archivo CSV."
   ]
  },
  {
   "cell_type": "code",
   "execution_count": 3,
   "metadata": {},
   "outputs": [
    {
     "name": "stdout",
     "output_type": "stream",
     "text": [
      "[['04/05/2015', '13:34', 'Manzanas', '73'], ['04/05/2015', '3:41', 'Cerezas', '85'], ['04/06/2015', '12:46', 'Peras', '14'], ['04/08/2015', '8:59', 'Naranjas', '52'], ['04/10/2015', '2:07', 'Manzanas', '152'], ['04/10/2015', '18:10', 'Platanos', '23'], ['04/10/2015', '2:40', 'Fresas', '98']]\n"
     ]
    }
   ],
   "source": [
    "import csv\n",
    "archivoEjemplo=open(\"Ejemplo.csv\")\n",
    "ejemploLector=csv.reader(archivoEjemplo)\n",
    "ejemploDatos=list(ejemploLector)\n",
    "print (ejemploDatos)"
   ]
  },
  {
   "cell_type": "markdown",
   "metadata": {},
   "source": [
    "En el ejemplo para leer el archivo CSV, se abre el archivo usando la función open() como si fuera un archivo texto normal, pero en vez de usar los métodos read() o readlines() se usa la función csv.reader(). Esta función devuelve un objeto de tipo Reader que puede ser usada para leer el archivo.\n",
    "\n",
    "Observar que a la función csv.reader() no se le pasa directamente el nombre de un archivo. \n",
    "\n",
    "Una vez que se dispone del objeto Reader, para accede a los valores se pueden convertir en una lista usando el método list(). Este método retorna una lista de listas.\n",
    "\n",
    "Una vez que se tiene almacenado el archivo CSV como una lista de listas, se puede accede a un valor concreto mediante indéxación sobre la lista: ejemploDatos[x][y]  donde x  representa una lista de la listas de lista e y representa el índice del elemento de esa lista al que se quiere acceder."
   ]
  },
  {
   "cell_type": "code",
   "execution_count": 4,
   "metadata": {},
   "outputs": [
    {
     "data": {
      "text/plain": [
       "'04/05/2015'"
      ]
     },
     "execution_count": 4,
     "metadata": {},
     "output_type": "execute_result"
    }
   ],
   "source": [
    "ejemploDatos[0][0]"
   ]
  },
  {
   "cell_type": "code",
   "execution_count": 5,
   "metadata": {},
   "outputs": [
    {
     "data": {
      "text/plain": [
       "'13:34'"
      ]
     },
     "execution_count": 5,
     "metadata": {},
     "output_type": "execute_result"
    }
   ],
   "source": [
    "ejemploDatos[0][1]"
   ]
  },
  {
   "cell_type": "code",
   "execution_count": 6,
   "metadata": {},
   "outputs": [
    {
     "data": {
      "text/plain": [
       "'Manzanas'"
      ]
     },
     "execution_count": 6,
     "metadata": {},
     "output_type": "execute_result"
    }
   ],
   "source": [
    "ejemploDatos[0][2]"
   ]
  },
  {
   "cell_type": "code",
   "execution_count": 7,
   "metadata": {},
   "outputs": [
    {
     "data": {
      "text/plain": [
       "'3:41'"
      ]
     },
     "execution_count": 7,
     "metadata": {},
     "output_type": "execute_result"
    }
   ],
   "source": [
    "ejemploDatos[1][1]"
   ]
  },
  {
   "cell_type": "code",
   "execution_count": 8,
   "metadata": {},
   "outputs": [
    {
     "data": {
      "text/plain": [
       "'2:40'"
      ]
     },
     "execution_count": 8,
     "metadata": {},
     "output_type": "execute_result"
    }
   ],
   "source": [
    "ejemploDatos[6][1]"
   ]
  },
  {
   "cell_type": "markdown",
   "metadata": {},
   "source": [
    "También es posible usar el objeto Reader en un bucle for, de forma que se itera sobre las líneas del objeto. Cada línea es una lista de valores."
   ]
  },
  {
   "cell_type": "code",
   "execution_count": 10,
   "metadata": {},
   "outputs": [
    {
     "name": "stdout",
     "output_type": "stream",
     "text": [
      "Linea #1 ['04/05/2015', '13:34', 'Manzanas', '73']\n",
      "Linea #2 ['04/05/2015', '3:41', 'Cerezas', '85']\n",
      "Linea #3 ['04/06/2015', '12:46', 'Peras', '14']\n",
      "Linea #4 ['04/08/2015', '8:59', 'Naranjas', '52']\n",
      "Linea #5 ['04/10/2015', '2:07', 'Manzanas', '152']\n",
      "Linea #6 ['04/10/2015', '18:10', 'Platanos', '23']\n",
      "Linea #7 ['04/10/2015', '2:40', 'Fresas', '98']\n"
     ]
    }
   ],
   "source": [
    "import csv\n",
    "archivoEjemplo=open(\"Ejemplo.csv\")\n",
    "ejemploLector=csv.reader(archivoEjemplo)\n",
    "for linea in ejemploLector:\n",
    "    print (\"Linea #\"+ str(ejemploLector.line_num)+\" \"+str(linea))"
   ]
  },
  {
   "cell_type": "markdown",
   "metadata": {},
   "source": [
    "Mediante print se imprime la línea actual y su contenido. Para conseguir la línea actual se usa el atributo line_num del objeto Reader que contiene el número de la línea actual.\n",
    "El objeto Reader solo puede recorrido una única vez, de forma que si se quiere volver a recorrer habría que usar nuevamente el método csv.reader.\n",
    "\n",
    "Para escribir datos en un archivo CSV se utiliza un objeto Writer que puede ser construido usando el método csv.writer()."
   ]
  },
  {
   "cell_type": "code",
   "execution_count": 13,
   "metadata": {},
   "outputs": [
    {
     "name": "stdout",
     "output_type": "stream",
     "text": [
      "[['naranjas', 'limones', 'peras', 'uvas'], [], ['jamón', 'chorizo', 'queso', 'salchichón'], [], ['1', '3', '4', '6'], []]\n"
     ]
    }
   ],
   "source": [
    "import csv\n",
    "archivoSalida=open(\"Salida.csv\",\"w\")\n",
    "salidaEscritor=csv.writer(archivoSalida)\n",
    "salidaEscritor.writerow([\"naranjas\",\"limones\",\"peras\",\"uvas\"])\n",
    "salidaEscritor.writerow([\"jamón\",\"chorizo\",\"queso\",\"salchichón\"])\n",
    "salidaEscritor.writerow([1,3,4,6])\n",
    "archivoSalida.close()\n",
    "archivoEjemplo=open(\"Salida.csv\")\n",
    "ejemploLector=csv.reader(archivoEjemplo)\n",
    "ejemploDatos=list(ejemploLector)\n",
    "print (ejemploDatos)"
   ]
  },
  {
   "cell_type": "markdown",
   "metadata": {},
   "source": [
    "En primer lugar se llama a open() con el parámetro “w” que indica que se abre un archivo en modo escritura.\n",
    "\n",
    "Se crea un objeto Writer mediante el método csv.writer().\n",
    "\n",
    "A continuación se utiliza el método writerow() del objeto Writer que toma como argumento una lista, de manera que cada valor de la lista es almacenado como un valor delimitado por comas en el archivo CSV. \n",
    "\n",
    "El valor retornado por el método writerow() es el número de caracteres escritos en el archivo para esa lista de valores.\n",
    "\n",
    "Observar que si uno de los valores contiene comas entonces el módulo lo gestiona como si fuera una única cadena almacenándolo con dobles comillas."
   ]
  },
  {
   "cell_type": "code",
   "execution_count": 14,
   "metadata": {},
   "outputs": [
    {
     "name": "stdout",
     "output_type": "stream",
     "text": [
      "[['naranjas', 'limones', 'peras', 'uvas'], [], ['jamón', 'chorizo , de salamanca', 'queso', 'salchichón'], [], ['1', '3', '4', '6'], []]\n"
     ]
    }
   ],
   "source": [
    "import csv\n",
    "archivoSalida=open(\"Salida.csv\",\"w\")\n",
    "salidaEscritor=csv.writer(archivoSalida)\n",
    "salidaEscritor.writerow([\"naranjas\",\"limones\",\"peras\",\"uvas\"])\n",
    "salidaEscritor.writerow([\"jamón\",\"chorizo , de salamanca\",\"queso\",\"salchichón\"])\n",
    "salidaEscritor.writerow([1,3,4,6])\n",
    "archivoSalida.close()\n",
    "archivoEjemplo=open(\"Salida.csv\")\n",
    "ejemploLector=csv.reader(archivoEjemplo)\n",
    "ejemploDatos=list(ejemploLector)\n",
    "print (ejemploDatos)"
   ]
  },
  {
   "cell_type": "markdown",
   "metadata": {},
   "source": [
    "Otras posibilidades son por ejemplo separar los valores por otro separador diferente a la coma o que por ejemplo las líneas estén a su vez separadas por más de un espacio."
   ]
  },
  {
   "cell_type": "code",
   "execution_count": 18,
   "metadata": {},
   "outputs": [
    {
     "name": "stdout",
     "output_type": "stream",
     "text": [
      "[['naranjas\\tlimones\\tperas\\tuvas'], ['jamón\\tchorizo ', ' de salamanca\\tqueso\\tsalchichón'], ['1\\t3\\t4\\t6']]\n"
     ]
    }
   ],
   "source": [
    "import csv\n",
    "archivoSalida=open(\"Salida.csv\",\"w\")\n",
    "salidaEscritor=csv.writer(archivoSalida, delimiter='\\t' ,lineterminator='\\n')\n",
    "salidaEscritor.writerow([\"naranjas\",\"limones\",\"peras\",\"uvas\"])\n",
    "salidaEscritor.writerow([\"jamón\",\"chorizo , de salamanca\",\"queso\",\"salchichón\"])\n",
    "salidaEscritor.writerow([1,3,4,6])\n",
    "archivoSalida.close()\n",
    "archivoEjemplo=open(\"Salida.csv\")\n",
    "ejemploLector=csv.reader(archivoEjemplo)\n",
    "ejemploDatos=list(ejemploLector)\n",
    "print (ejemploDatos)"
   ]
  },
  {
   "cell_type": "markdown",
   "metadata": {},
   "source": [
    "En el ejemplo se han modificado los atributos  “delimiter”(que especifica el carácter que delimita cada valor que por defecto es una coma) y “lineterminator”(que especifica el carácter que va al final de cada línea que por defecto son dos saltos de línea).\n"
   ]
  },
  {
   "cell_type": "markdown",
   "metadata": {},
   "source": [
    "#### Ejemplo\n",
    "Considerar un programa que permita:\n",
    "\n",
    "* Encontrar todos los archivos CSV del directorio actual.\n",
    "\n",
    "* Leer el contenido de cada archivo.\n",
    "\n",
    "* Escribir nuevamente el contenido saltándose la primera línea sobre un nuevo archivo csv.\n",
    "\n",
    "Para implementarlo:\n",
    "\n",
    "Creamos un bucle sobre una lista de todos los archivos del directorio para saltarse aquellos que no son CSV. Se usa el método os.listdir() para recuperar todos los archivos del directorio actual, y se comprueba para cada uno de ellos si su extensión es “.csv”."
   ]
  },
  {
   "cell_type": "raw",
   "metadata": {},
   "source": [
    "import csv, os\n",
    "#Se crea un directorio para almacenar los archivos sin cabecera\n",
    "os.makedirs('SinCabeceras', exist_ok=True)\n",
    "\n",
    "# Bucle para recuperar los archivos del directorio actual\n",
    "for csvFilename in os.listdir('.'):\n",
    "    if not csvFilename.endswith('.csv'):\n",
    "        continue # Saltar los archivos que no son csv"
   ]
  },
  {
   "cell_type": "markdown",
   "metadata": {},
   "source": [
    "Se lee el contenido de cada archivo csv mediante un objeto Reader saltándose la primera línea y se almacena en una variable. Para controlar la primera línea se usa el atributo “line_num”:"
   ]
  },
  {
   "cell_type": "raw",
   "metadata": {},
   "source": [
    "    print('Eliminando cabeceras de' + csvFilename + '...')\n",
    "\n",
    "    # Leer el archivo cvs y saltarse la primera línea\n",
    "    csvRows = []\n",
    "    csvFileObj = open(csvFilename)\n",
    "    readerObj = csv.reader(csvFileObj)\n",
    "    for row in readerObj:\n",
    "        if readerObj.line_num == 1:\n",
    "            continue # Saltar primera línea\n",
    "        csvRows.append(row)\n",
    "    csvFileObj.close()"
   ]
  },
  {
   "cell_type": "markdown",
   "metadata": {},
   "source": [
    "Se crea un objeto Writer para escribir el contenido del archivo leído en un nuevo archivo csv."
   ]
  },
  {
   "cell_type": "markdown",
   "metadata": {},
   "source": [
    "    # Escribir la salida al archivo csv\n",
    "    csvFileObj = open(os.path.join('SinCabeceras', csvFilename), 'w', newline='')\n",
    "    csvWriter = csv.writer(csvFileObj)\n",
    "    for row in csvRows:\n",
    "        csvWriter.writerow(row)\n",
    "    csvFileObj.close()"
   ]
  },
  {
   "cell_type": "markdown",
   "metadata": {},
   "source": [
    "El programa completo es:"
   ]
  },
  {
   "cell_type": "code",
   "execution_count": 20,
   "metadata": {
    "scrolled": true
   },
   "outputs": [
    {
     "name": "stdout",
     "output_type": "stream",
     "text": [
      "Eliminando cabeceras de Ejemplo.csv...\n",
      "Eliminando cabeceras de Salida.csv...\n"
     ]
    }
   ],
   "source": [
    "import csv, os\n",
    "#Se crea un directorio para almacenar los archivos sin cabecera\n",
    "os.makedirs('SinCabeceras', exist_ok=True)\n",
    "\n",
    "# Bucle para recuperar los archivos del directorio actual\n",
    "for csvFilename in os.listdir('.'):\n",
    "    if not csvFilename.endswith('.csv'):\n",
    "        continue # Saltar los archivos que no son csv\n",
    "\n",
    "    print('Eliminando cabeceras de ' + csvFilename + '...')\n",
    "\n",
    "    # Leer el archivo cvs y saltarse la primera línea\n",
    "    csvRows = []\n",
    "    csvFileObj = open(csvFilename)\n",
    "    readerObj = csv.reader(csvFileObj)\n",
    "    for row in readerObj:\n",
    "        if readerObj.line_num == 1:\n",
    "            continue # Saltar primera línea\n",
    "        csvRows.append(row)\n",
    "    csvFileObj.close()\n",
    "\n",
    "    # Escribir la salida al archivo csv\n",
    "    csvFileObj = open(os.path.join('SinCabeceras', csvFilename), 'w', newline='')\n",
    "    csvWriter = csv.writer(csvFileObj)\n",
    "    for row in csvRows:\n",
    "        csvWriter.writerow(row)\n",
    "    csvFileObj.close()"
   ]
  },
  {
   "cell_type": "markdown",
   "metadata": {},
   "source": [
    "## Archivos Json"
   ]
  },
  {
   "cell_type": "markdown",
   "metadata": {
    "collapsed": true
   },
   "source": [
    "#### Introducción\n",
    "\n",
    "JSON(JavaScript Object Notation) es un formato de datos que se caracteriza:\n",
    "* Está basado en JavaScript.\n",
    "* Es utilizado para el intercambio de datos.\n",
    "* Es utilizado por muchas APIs de sitios web tales como  Facebook, Twitter,…para devolver su contenido.\n",
    "* Es independiente del lenguaje\n",
    "* Los archivos tienen extensión .json\n",
    "\n",
    "JSON representa objetos de manera textual mediante parejas clave=valor. Por ejemplo:\n",
    "\n",
    "       {\n",
    "        \"libro\":[\n",
    "             {\n",
    "               \"id\":\"01\",\n",
    "               \"lenguaje\": \"Java\",\n",
    "               \"edición\":\"Tercera\",\n",
    "               \"autor\":\"Herbert Schildt\"\n",
    "             },\n",
    "             {\n",
    "               \"id\":\"07\",\n",
    "               \"lenguaje\": \"C++\",\n",
    "               \"edición\":\"Segunda\",\n",
    "               \"autor\":\"E.Balagurusamy\"\n",
    "             }\n",
    "            ]\n",
    "         }\n",
    "\n",
    "La sintaxis de JSON es:\n",
    "* Un objeto se representa como una secuencia de parejas clave=valor encerradas entre llaves { y }. \n",
    "* Las claves son cadenas de texto entre comillas “ y ”. \n",
    "* Los valores puedes ser: \n",
    "   * Tipos básicos: cadena, número, booleano, null \n",
    "   * Arrays de valores: entre corchetes [ y ] \n",
    "   * Otros objetos JSON: entre llaves { y }\n",
    "\n",
    "Para ilustrar el uso de JSON, considerar el siguiente ejemplo dónde se quiere representar la ficha de un estudiante con sus datos personales y asignaturas matriculadas:\n",
    "* Nombre=“Pepito Pérez”\n",
    "* DNI=“517899R”\n",
    "* Edad=“22”\n",
    "* Asignaturas matriculadas: \n",
    "   * Obligatorias:SistemasOperativos, Compiladores, y Bases de Datos.\n",
    "   * Optativas: Bases de Datos NoSQL, Minería de Datos, Programación Lógica.\n",
    "   * Libre Elección: Ajedrez, Música Clásica\n",
    "\n",
    "La ficha de información se puede representar en un documento JSON de la siguiente manera:\n",
    "\n",
    "    {\n",
    "       \"Nombre\": \"Pepito Pérez\",\n",
    "       \"DNI\": \"5167778E\",\n",
    "       \"Edad\":22,\n",
    "       \"Asignaturas\":{\n",
    "            \"Obligatorias\": [\"Sistemas Operativos\", \n",
    "                             \"Compiladores\", \"Bases de Datos\"],\n",
    "            \"Optativas\": [\"Bases de Datos NoSQL\", \n",
    "                          \"Minería de Datos\",\"Programación Lógica\"],\n",
    "            \"LibreElección\": [\"Ajedrez\", \"Música Clásica\"]\n",
    "                }\n",
    "     }\n",
    "\n",
    "\n",
    "      "
   ]
  },
  {
   "cell_type": "markdown",
   "metadata": {},
   "source": [
    "#### El módulo Json de Python"
   ]
  },
  {
   "cell_type": "markdown",
   "metadata": {},
   "source": [
    "* Para gestionar documentos JSON desde Python se usa el modulo JSON que permite la traducción de datos JSON en valores de Python.\n",
    "* JSON no puede almacenar cualquier tipo de valor Python, únicamente cadenas, enteros, reales, booleanos, listas, diccionarios y el tipo None.\n",
    "* JSON no puede representar objetos específicos de Python tales como Ficheros, expresiones regulares,…\n",
    "\n",
    "Para traducir una cadena que contiene datos JSON en un valor de Python se utiliza el método json.loads()."
   ]
  },
  {
   "cell_type": "code",
   "execution_count": 1,
   "metadata": {},
   "outputs": [
    {
     "name": "stdout",
     "output_type": "stream",
     "text": [
      "{'nombre': 'Sofia', 'matriculado': True, 'asignaturas': 34, 'ID': None}\n"
     ]
    }
   ],
   "source": [
    "JsonDatos='{\"nombre\":\"Sofia\",\"matriculado\":true,\"asignaturas\":34,\"ID\":null}'\n",
    "import json\n",
    "PythonDatos=json.loads(JsonDatos)\n",
    "print (PythonDatos)"
   ]
  },
  {
   "cell_type": "markdown",
   "metadata": {},
   "source": [
    "La llamada al método loads() del módulo json permite cargar una cadena de datos JSON en valores de Python, retornando como resultado una lista dónde cada elemento es un diccionario. Si se quiere acceder a los distintos elementos del diccionario se usan los índices. La cadena JSON utiliza dobles comillas para las claves.\n",
    "\n",
    "Observar que los valores en los diccionarios no están ordenados, por lo que los pares clave-valor pueden aparecer en orden diferente a como aparecían en la cadena original.\n",
    "\n",
    "La tabla de correspondencia entre JSON y valores Python:\n",
    "\n",
    "<dl>\n",
    "<table>\n",
    "<tr>\n",
    "<th>JSON</th>\n",
    "<th>Python</th>\n",
    "</tr>\n",
    "<tr>\n",
    "<td>object</td>\n",
    "<td>dict</td>\n",
    "</tr>\n",
    "<tr>\n",
    "<td>array</td>\n",
    "<td>list</td>\n",
    "</tr>\n",
    "<tr>\n",
    "<td>object</td>\n",
    "<td>dict</td>\n",
    "</tr>\n",
    "<tr>\n",
    "<td>string</td>\n",
    "<td>unicode</td>\n",
    "</tr>\n",
    "<tr>\n",
    "<td>number(int)</td>\n",
    "<td>int,long</td>\n",
    "</tr>\n",
    "<tr>\n",
    "<td>number(real)</td>\n",
    "<td>float</td>\n",
    "</tr>\n",
    "<tr>\n",
    "<td>true</td>\n",
    "<td>True</td>\n",
    "</tr>\n",
    "<tr>\n",
    "<td>false</td>\n",
    "<td>False</td>\n",
    "</tr>\n",
    "<tr>\n",
    "<td>null</td>\n",
    "<td>None</td>\n",
    "</tr>\n",
    "</table>\n",
    "</dl>\n",
    "\n",
    "Para escribir un valor de Python como una cadena de datos JSON se usa el método json.dumps()."
   ]
  },
  {
   "cell_type": "code",
   "execution_count": 2,
   "metadata": {},
   "outputs": [
    {
     "name": "stdout",
     "output_type": "stream",
     "text": [
      "{\"nombre\": \"Sofia\", \"matriculado\": true, \"asignaturas\": 34, \"ID\": null}\n"
     ]
    }
   ],
   "source": [
    "PythonDatos={\"nombre\":\"Sofia\",\"matriculado\":True, \"asignaturas\":34, \"ID\":None}\n",
    "import json\n",
    "JSONDatos=json.dumps(PythonDatos)\n",
    "print (JSONDatos)"
   ]
  },
  {
   "cell_type": "markdown",
   "metadata": {},
   "source": [
    "La tabla de correspondencia entre los valores de Python y JSON:\n",
    "<dl>\n",
    "<table>\n",
    "<tr>\n",
    "<th>Python</th>\n",
    "<th>JSON</th>\n",
    "</tr>\n",
    "<tr>\n",
    "<td>dict</td>\n",
    "<td>object</td>\n",
    "</tr>\n",
    "<tr>\n",
    "<td>list, tuple</td>\n",
    "<td>array</td>\n",
    "</tr>\n",
    "<tr>\n",
    "<td>str.unicode</td>\n",
    "<td>string</td>\n",
    "</tr>\n",
    "<tr>\n",
    "<td>int,long,float</td>\n",
    "<td>number</td>\n",
    "</tr>\n",
    "<tr>\n",
    "<td>True</td>\n",
    "<td>true</td>\n",
    "</tr>\n",
    "<tr>\n",
    "<td>False</td>\n",
    "<td>false</td>\n",
    "</tr>\n",
    "<tr>\n",
    "<td>None</td>\n",
    "<td>null</td>\n",
    "</tr>\n",
    "</table>\n",
    "</dl>"
   ]
  },
  {
   "cell_type": "markdown",
   "metadata": {},
   "source": [
    "Para ilustrar el uso de JSON, . se va a utilizar la API JSONPlaceholder. Se va a recuperar un recurso denominado \"todos\" que contiene 200 documentos json. Cada documento contiene un campo de id que identifica de manera única a un usuario y un campo \"completed\" que contiene un booleano. Se quiere:\n",
    "* Recuperar todos los documentos.\n",
    "* Obtener los usuarios que más documentos tienen asociados con el campo \"completed\" relleno del valor True.\n",
    "* Almacenar en un archivo JSON los documentos asociados a los usuarios obtenidos."
   ]
  },
  {
   "cell_type": "raw",
   "metadata": {},
   "source": [
    "1) Recuperar todos los documentos\n",
    "import json\n",
    "import requests\n",
    "response = requests.get(\"https://jsonplaceholder.typicode.com/todos\")\n",
    "todos = json.loads(response.text)"
   ]
  },
  {
   "cell_type": "raw",
   "metadata": {},
   "source": [
    "2) Obtener los usuarios que más documentos tienen asociados con el campo \"completed\" relleno del valor True.\n",
    "\n",
    "contador = {}\n",
    "for todo in todos:\n",
    "    if todo[\"completed\"]:\n",
    "        try:\n",
    "            contador[todo[\"userId\"]] += 1\n",
    "        except KeyError:\n",
    "            contador[todo[\"userId\"]] = 1\n",
    "\n",
    "ordenada = sorted(contador.items(), key=lambda x: x[1], reverse=True)\n",
    "maximo = ordenada[0][1]\n",
    "users = []\n",
    "for user, completados in ordenada:\n",
    "    if completados < maximo:\n",
    "        break\n",
    "    users.append(str(user))\n",
    "\n",
    "usuarios = \" y \".join(users)\n",
    "print (usuarios)\n"
   ]
  },
  {
   "cell_type": "raw",
   "metadata": {},
   "source": [
    "3) Almacenar en un archivo JSON los documentos asociados a los usuarios obtenidos.\n",
    "archivo=open(\"salida.json\",\"w\")\n",
    "lista=[todo for todo in todos if str(todo[\"userId\"]) in users and todo[\"completed\"]]\n",
    "json.dump(lista, archivo, indent=2)\n",
    "archivo.close()"
   ]
  },
  {
   "cell_type": "markdown",
   "metadata": {},
   "source": [
    "El programa completo sería:"
   ]
  },
  {
   "cell_type": "code",
   "execution_count": 10,
   "metadata": {},
   "outputs": [],
   "source": [
    "import json\n",
    "import requests\n",
    "response = requests.get(\"https://jsonplaceholder.typicode.com/todos\")\n",
    "todos = json.loads(response.text)\n",
    "contador = {}\n",
    "for todo in todos:\n",
    "    if todo[\"completed\"]:\n",
    "        try:\n",
    "            contador[todo[\"userId\"]] += 1\n",
    "        except KeyError:\n",
    "            contador[todo[\"userId\"]] = 1\n",
    "\n",
    "ordenada = sorted(contador.items(), key=lambda x: x[1], reverse=True)\n",
    "maximo = ordenada[0][1]\n",
    "users = []\n",
    "for user, completados in ordenada:\n",
    "    if completados < maximo:\n",
    "        break\n",
    "    users.append(str(user))\n",
    "archivo=open(\"salida.json\",\"w\")\n",
    "lista=[todo for todo in todos if str(todo[\"userId\"]) in users and todo[\"completed\"]]\n",
    "json.dump(lista, archivo, indent=2)\n",
    "archivo.close()"
   ]
  },
  {
   "cell_type": "code",
   "execution_count": null,
   "metadata": {},
   "outputs": [],
   "source": []
  }
 ],
 "metadata": {
  "kernelspec": {
   "display_name": "Python 3",
   "language": "python",
   "name": "python3"
  },
  "language_info": {
   "codemirror_mode": {
    "name": "ipython",
    "version": 3
   },
   "file_extension": ".py",
   "mimetype": "text/x-python",
   "name": "python",
   "nbconvert_exporter": "python",
   "pygments_lexer": "ipython3",
   "version": "3.7.2"
  }
 },
 "nbformat": 4,
 "nbformat_minor": 2
}

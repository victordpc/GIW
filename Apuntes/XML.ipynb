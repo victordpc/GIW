{
 "cells": [
  {
   "cell_type": "markdown",
   "metadata": {},
   "source": [
    "## INTRODUCCIÓN A XML"
   ]
  },
  {
   "cell_type": "markdown",
   "metadata": {},
   "source": [
    "__XML(Extensible Markup Language)__ es un metalenguaje que permite definir lenguajes de marcado. Los lenguajes de marcado permiten describir la estructura de los contenidos de un documento.\n",
    "\n",
    "Un __lenguaje de marcado__ está formado por un conjunto de etiquetas que se encierran entre corchetes angulares,<>, y se usan en pares:\n",
    "\n",
    "          <etiqueta> y </etiqueta>\n",
    "\n",
    "No existen conjuntos prefijados de etiquetas, se definen en cada lenguaje de marcado. Cada par de etiquetas delimita el comienzo y el final de una porción de documento a la que se refiere la etiqueta. Por ejemplo:\n",
    "\n",
    "```\n",
    "<asignatura>Bases de datos</asignatura>\n",
    "```\n",
    "Un __documento XML__ es aquel que se crea utilizando un lenguaje de marcado.Por ejemplo:\n",
    "\n",
    "```\n",
    "<cuenta>\n",
    "<numero_cuenta>C-101</numero_cuenta>\n",
    "<nombre_sucursal>Centro</nombre_sucursal>\n",
    "<saldo>500</saldo>\n",
    "</cuenta>\n",
    "<cliente>\n",
    "<nombre_cliente>González</nombre_cliente>\n",
    "<calle_cliente>Arenal</calle_cliente>\n",
    "<ciudad_cliente>La Granja</ciudad_cliente>\n",
    "</cliente>\n",
    "<impositor>\n",
    "<numero_cuenta> C-101</numero_cuenta>\n",
    "<nombre_cliente>González</nombre_cliente>\n",
    "</impositor>\n",
    "</banco>\n",
    "```"
   ]
  },
  {
   "cell_type": "markdown",
   "metadata": {},
   "source": [
    "## Estructura básica de un documento XML"
   ]
  },
  {
   "cell_type": "markdown",
   "metadata": {},
   "source": [
    "Todo documento XML está formado por:\n",
    "* __Prologo__. Consta de dos declaraciones: \n",
    "   * La declaración XML que indica la versión de XML utilizada y el tipo de codificación de caracteres.\n",
    "               <?xml version=“1.0” encoding=“UTF-8”?>\n",
    "   *  La declaración de tipo de documento que asocia el documento a una DTD o XSD respecto a la cual el documento es conforme. \n",
    "   \n",
    "* __Elementos__. Es un par de etiquetas de comienzo y final coincidentes que delimita una porción de información.\n",
    "                  <título>introducción</título>\n",
    "\n",
    "   * Existen elementos vacíos que no contienen contenido.Se representan indistintamente como:\n",
    "\n",
    "            <Nombre etiqueta/> o <Nombre etiqueta> </Nombre etiqueta>\n",
    "\n",
    "   * Los elementos se pueden anidar. Un texto aparece en el contexto de un elemento si aparece entre la etiqueta de inicio y final de dicho elemento. Las etiquetas se anidan correctamente si toda etiqueta de inicio tiene un única etiqueta de finalización coincidente que está en el contexto del mismo elemento padre.\n",
    "\n",
    "   * Un elemento puede aparecer varias veces en un documento XML.\n",
    "   * El texto en un documento XML puede estar mezclado con los subelementos de otro elemento.\n",
    "\n",
    "          <cuenta>Esta cuenta se usa muy rara vez, por no decir nunca\n",
    "          <numero_cuenta> C-102 </numero_cuenta>\n",
    "          <nombre_sucursal>Navacerrada</nombre_sucursal>\n",
    "          <saldo>400</saldo>\n",
    "          </cuenta>\n",
    "   \n",
    "  * Todo documento XML tiene un único elemento raíz que engloba al resto de elementos del documento. En el primer ejemplo el elemento ```<banco>``` era la raíz.\n",
    "\n",
    "   \n",
    "* __Atributos__. Las etiquetas de los elementos pueden incluir 1 o más atributos que representan propiedades de los elementos de la forma Nombre atributo=“Valor atributo” \n",
    "          <cuenta tipo_cuenta=“corriente”>\n",
    "\n",
    "   * Los atributos pueden aparecer solamente una vez en una etiqueta dada.\n",
    "\n",
    "* __Comentarios__. Es un texto que se escribe entre <!–- y -->. \n",
    "   * La cadena “--” no puede aparecer dentro de un comentario. \n",
    "   * Los comentarios pueden aparecer en cualquier sitio salvo dentro de declaraciones, etiquetas y dentro de otros comentarios.\n",
    "\n",
    "* __Espacio de nombres__. Es un mecanismo que permite especificar nombre únicos globalmente para que se usen como marcas de elementos en los documentos XML. \n",
    "   * Para ello se antepone a la etiqueta o atributo un identificador de recursos universal. \n",
    "   * En el ejemplo del banco podría ser http:///www.BancoPrincipal.com .\n",
    "   * Para abreviarlo se declaran abreviaturas del espacio de nombres mediante el atributo __xmlns__\n",
    "       \n",
    "         <banco xmlns:BP=\"http://www.BancoPrincipal.com\">\n",
    "          ...\n",
    "          <BP:sucursal>\n",
    "           <BP:nombre_sucursal>Centro</BP:nombre_sucursal>\n",
    "           <BP:ciudad_sucursal>Centro</BP:ciudad_sucursal>   \n",
    "          <BP:sucursal>\n",
    "          ...\n",
    "         </banco>\n",
    "         \n",
    "   * Un documento puede tener más de un espacio de nombres declarado como parte del elemento raíz, de manera que se puede asociar elementos diferentes con espacios de nombres distintos.\n",
    "   \n",
    "   * Se puede definir un espacio de nombres predeterminado mediante el uso del atributo __xmlns__ en el elemento raíz. Los elementos sin un prefijo de espacio de nombres explícito pertenecen entonces al espacio de nombres predeterminado.\n",
    "\n",
    "Observar que a veces es necesario almacenar valores que contienen etiquetas sin que se  interpreten como etiquetas XML, es decir como texto normal. Para ello se usa la construcción:\n",
    "              \n",
    "              <![CDATA]<cuenta>…</cuenta>]]>\n",
    "\n"
   ]
  },
  {
   "cell_type": "markdown",
   "metadata": {},
   "source": [
    " ## EJEMPLO"
   ]
  },
  {
   "cell_type": "markdown",
   "metadata": {},
   "source": [
    "Considerar que se quiere representar mediante un documento XML la siguiente información:\n",
    "\n",
    "__Persona 1:__\n",
    "\n",
    "Nombre: Roberto Casas\n",
    "\n",
    "Email: ro.casas@direccion.com\n",
    "\n",
    "Amigos: Leire, Pepe\n",
    "\n",
    "__Persona 2:__\n",
    "\n",
    "Nombre: Leire García\n",
    "\n",
    "Email: le.gracia@direccion.com,le.garcia@hotmail.com \n",
    "\n",
    "Amigos: Ricky\n",
    "\n",
    "__Persona 3:__\n",
    "\n",
    "Nombre: José Manzaneda\n",
    "\n",
    "Email: j.manzaneda@direccion.com , jman@hotmail.com \n",
    "\n",
    "Amigos: Ricky\n",
    "\n",
    "Enemigos: Leire\n",
    "\n",
    "Esta información se podría representar mediante un documento de la forma:\n",
    "\n",
    "     <?xml version=\"1.0\" encoding=\"UTF-8\" ?>\n",
    "      <listin>\n",
    "        <persona sexo=\"hombre\" id=\"ricky\">\n",
    "          <nombre> Roberto Casas </nombre>\n",
    "          <email> ro.casas@direccion.com </email>\n",
    "          <relacion amigo_de=\"leire pepe\"/>\n",
    "        </persona>\n",
    "        <persona sexo=\"mujer\" id=\"leire\">\n",
    "          <nombre> Leire Garcia </nombre>\n",
    "          <email> le.garcia@direccion.com </email>\n",
    "          <email> le.garcia@hotmail.com </email>\n",
    "          <relacion amigo_de=\"ricky\"/>\n",
    "        </persona>\n",
    "        <persona sexo=\"hombre\" id=\"pepe\">\n",
    "          <nombre> José Manzaneda </nombre>\n",
    "          <email> j.manzaneda@direccion.com </email>\n",
    "          <email> jman@hotmail.com </email>\n",
    "          <relacion enemigo_de=\"leire\" amigo_de=\"ricky\"/>\n",
    "        </persona>\n",
    "     </listin>\n"
   ]
  },
  {
   "cell_type": "markdown",
   "metadata": {},
   "source": [
    "## PROCESAMIENTO DE DOCUMENTOS XML USANDO PYTHON"
   ]
  },
  {
   "cell_type": "markdown",
   "metadata": {},
   "source": [
    "* Un procesador XML permite a una aplicación acceder a los contenidos de un documento XML así como detectar posibles errores.\n",
    "* Hay dos enfoques para acceder a los contenidos:\n",
    "   * __Dirigido por eventos__. El documento se procesa secuencialmente, de manera que cada elemento reconocido activa un evento que puede dar lugar a una acción por parte de la aplicación. SAX es un estándar para este enfoque\n",
    "\n",
    "   * __Manipulación del árbol__. El documento se estructura como árbol de nodos a los que se puede acceder en cualquier orden. DOM es un estándar para este enfoque\n"
   ]
  },
  {
   "cell_type": "markdown",
   "metadata": {},
   "source": [
    "### SAX(Simple API for XML)"
   ]
  },
  {
   "cell_type": "markdown",
   "metadata": {},
   "source": [
    "Es una interfaz dirigida por eventos que permite leer el contenido como una secuencia de datos e interpretar las etiquetas según se van encontrando.\n",
    "Se caracteriza por:\n",
    " * Las partes del documento siempre se leen en orden desde el inicio al final.\n",
    " * No se crea ninguna estructura de datos para representar el documento, sino que sólo se analiza secuencialmente y se generan eventos denominados eventos de análisis que corresponden con el reconocimiento de partes de un documento. \n",
    " * Por ejemplo cuando se encuentra el inicio de un elemento se genera un evento o cuando finaliza un elemento se genera otro evento.\n",
    " * Para gestionar los eventos se crean funciones controladoras para cada evento que se va a considerar  denominadas manejadores de eventos. De esta forma cuando ocurre un evento se llama al manejador correspondiente para que realice la acción definida en el manejador.\n",
    " * No es posible manipular información ya procesada, de manera que si fuera necesario entonces habría que guardarla en una estructura de datos o bien volver a llamar al procesador.\n",
    " \n",
    "\n",
    "Por ejemplo  considerar el siguiente documento XML:\n",
    "\n",
    "         <?xml version=“1.0”?>\n",
    "         <doc> \n",
    "             <par> \n",
    "             Hola Mundo \n",
    "             </par> \n",
    "         </doc>\n",
    "\n",
    "El procesamiento con SAX produciría la siguiente secuencia de eventos:\n",
    "    \n",
    "    1. inicio de documento\n",
    "    2. inicio de elemento doc\n",
    "    3. inicio de elemento par\n",
    "    4. caracteres Hola mundo\n",
    "    5. fin de elemento par\n",
    "    6. fin de elemento doc\n",
    "    7. fin documento\n",
    "\n",
    "\n",
    "\n",
    "\n"
   ]
  },
  {
   "cell_type": "markdown",
   "metadata": {},
   "source": [
    "### Procesamiento SAX en Python"
   ]
  },
  {
   "cell_type": "markdown",
   "metadata": {},
   "source": [
    "Para procesar usando SAX es necesario crearse un manejador propio ContentHandler como subclase de __xml.sax.ContentHandler__. El manejador gestionara las etiquetas y atributos que se deseen del documento XML que va a ser procesado.\n",
    "\n",
    "El manejador proporciona un conjunto de métodos para gestionar determinados eventos que se producen en el procesamiento:\n",
    "* Los métodos __startDocument__ y __endDocument__ son llamadas al comienzo y al final del archivo XML.\n",
    "* Los métodos __startElement__(etiqueta,atributos) y __endElement__(etiqueta) son llamados al comienzo y al final de cada elemento. En caso de utilizar espacios de nombres se utilizarían los métodos __startElementNS__ y __endElementNS.__\n",
    "* El método __character(texto)__ es llamado cuando es una cadena de texto.\n",
    "* __xml.sax.make_parser([Lista de parsers])__: Crea un nuevo objeto parser. Tiene como argumento optativo una lista de parsers.\n",
    "* __xml.sax.parse(archivo XML, Manejador,[ManejadorErrores])__: Crea un parser SAX  y lo usa para procesar el documento XML. Tiene como argumento el documento XML que va a ser procesado, el manejador de eventos, y optativamente un manejador de errores.\n",
    "* __xml.sax.parseString(NombreCadenaXML, Manejador,[ManejadorErrores])__: Crea un parser SAX y lo usa para procesar la cadena XML dada. Tiene como argumento la cadena XML que va a ser procesada, el manejador de eventos, y optativamente un manejador de errores.\n",
    "\n",
    "Vamos a crear un manejador y luego se va a usar para procesar el documento de ejemplo:\n",
    "* Hay que importar el paquete SAX: __import xml.sax__\n",
    "* Se crea un clase que es subclase de la clase __xml.sax.ContentHandler__.\n",
    "* Se definen dentro de la clase 4 métodos:\n",
    "   * El método __init__. Se define como atributos de la clase las etiquetas y atributos del documento XML que se quieren gestionar.\n",
    "\n",
    "    ``` def __init__(self):\n",
    "          self.Datos=\"\"\n",
    "          self.titulo=\"\"\n",
    "          self.fecha=\"\"\n",
    "          self.autor=\"\"```\n",
    "        \n",
    "   * El método __startElement__. Se indica que acciones se quieren llevar a cabo cuando se encuentre el comienzo de un elemento. En el ejemplo se quiere capturar el isbn del libro.\n",
    "\n",
    "         def startElement(self,etiqueta,atributos):\n",
    "             self.Datos=etiqueta\n",
    "             if etiqueta==\"Libro\":\n",
    "                print \"****Libro****\"\n",
    "                isbn=atributos[\"isbn\"]\n",
    "                print \"isbn:\", isbn```\n",
    "            \n",
    "   * El método __endElement__.Se indica que acciones se quieren llevar a cabo cuando se encuentre el final de un elemento. En el ejemplo se quiere imprimir el nombre del elemento, y el valor que contenía.\n",
    "\n",
    "         def endElement(self,etiqueta):\n",
    "            if self.Datos==\"titulo\":\n",
    "               print \"Titulo:\", self.titulo\n",
    "            elif self.Datos==\"fecha\":\n",
    "               print \"Fecha:\",self.fecha\n",
    "            elif self.Datos==\"autor\":\n",
    "               print \"Autor:\", self.autor\n",
    "            self.Datos=\"\"\n",
    "          \n",
    "   * El método __characters__. Se indica que acciones se quieren llevar cuando se encuentre contenido textual que forma parte de un elemento.En el ejemplo se quiere almacenar dicho contenido en un atributo de la clase que luego será imprimido por pantalla.\n",
    "\n",
    "          def characters(self,contenido):\n",
    "             if self.Datos==\"titulo\":\n",
    "              self.titulo=contenido\n",
    "             elif self.Datos==\"fecha\":\n",
    "              self.fecha=contenido\n",
    "             elif self.Datos==\"autor\":\n",
    "              self.autor=contenido\n",
    "\n",
    "La clase completa sería:"
   ]
  },
  {
   "cell_type": "code",
   "execution_count": null,
   "metadata": {
    "collapsed": false
   },
   "outputs": [],
   "source": [
    "import xml.sax\n",
    "class ManejadorCatalogo (xml.sax.ContentHandler):\n",
    "    def __init__(self):\n",
    "        self.Datos=\"\"\n",
    "        self.titulo=\"\"\n",
    "        self.fecha=\"\"\n",
    "        self.autor=\"\"\n",
    "        \n",
    "    def startElement(self,etiqueta,atributos):\n",
    "        self.Datos=etiqueta\n",
    "        if etiqueta==\"Libro\":\n",
    "            print (\"****Libro****\")\n",
    "            isbn=atributos[\"isbn\"]\n",
    "            print (\"isbn:\", isbn)\n",
    "            \n",
    "    def endElement(self,etiqueta):\n",
    "        if self.Datos==\"titulo\":\n",
    "            print (\"Titulo:\", self.titulo)\n",
    "        elif self.Datos==\"fecha\":\n",
    "            print (\"Fecha:\",self.fecha)\n",
    "        elif self.Datos==\"autor\":\n",
    "            print (\"Autor:\", self.autor)\n",
    "        self.Datos=\"\"\n",
    "\n",
    "    def characters(self,contenido):\n",
    "        if self.Datos==\"titulo\":\n",
    "            self.titulo=contenido\n",
    "        elif self.Datos==\"fecha\":\n",
    "            self.fecha=contenido\n",
    "        elif self.Datos==\"autor\":\n",
    "            self.autor=contenido"
   ]
  },
  {
   "cell_type": "markdown",
   "metadata": {},
   "source": [
    "Una vez que se tiene definida la clase, se puede llevar a cabo el procesamiento:\n",
    "* Se crea un objeto parser XML.\n",
    "* Se configura el parser.\n",
    "* Se fija el manejador de eventos.\n",
    "* Se procesa el documento.\n"
   ]
  },
  {
   "cell_type": "code",
   "execution_count": null,
   "metadata": {
    "collapsed": false
   },
   "outputs": [],
   "source": [
    "parser=xml.sax.make_parser()\n",
    "parser.setFeature(xml.sax.handler.feature_namespaces,0)\n",
    "Handler=ManejadorCatalogo()\n",
    "parser.setContentHandler(Handler)\n",
    "parser.parse(\"Catalogo.xml\")"
   ]
  },
  {
   "cell_type": "markdown",
   "metadata": {},
   "source": [
    "### DOM(Document Object Model)"
   ]
  },
  {
   "cell_type": "markdown",
   "metadata": {},
   "source": [
    "Es una especificación que proporciona una API que representa los documentos como un árbol de objetos nodo en las que hay nodos con hijos y otros nodos sin hijos denominados nodos hoja. Toda la jerarquía de nodos se carga en memoria de forma que se pueda recorrer y acceder a los nodos comenzando desde la raíz.\n",
    "\n",
    "Por ejemplo considerar el siguiente documento XML:\n",
    "\n",
    "     <?xml version=“1.0” encoding=“UTF-16”?>\n",
    "       <doc>\n",
    "         <saludo> Hola <enfatico> estimados </enfatico> oyentes</saludo>\n",
    "         <aplausos tipo=“sostenido”/>\n",
    "       </doc>\n",
    "\n",
    "Su procesamiento daría lugar a la siguiente jerarquía de nodos:\n",
    "\n",
    "                                documento\n",
    "                   |             |            |         \n",
    "              Ins.Procesa   comentario     elemento\n",
    "                                        |           |\n",
    "                                    elemento    elemento\n",
    "                                   |      |         |\n",
    "                                 texto   texto   atributo\n",
    "                                       |\n",
    "                                    elemento\n",
    "                                        |\n",
    "                                    atributo"
   ]
  },
  {
   "cell_type": "markdown",
   "metadata": {},
   "source": [
    "### Procesamiento DOM en Python"
   ]
  },
  {
   "cell_type": "markdown",
   "metadata": {},
   "source": [
    "Para procesar un documento XML usando DOM se debe utilizar la librería __xml.dom.__  Esta librería permite crear un objeto minidom que dispone de un método que procesa un documento XML dado y genera un árbol __DOM__.\n",
    "\n",
    "En primer lugar se abre el documento XML con el método __parse__ del objeto __minidom__  que proporciona un árbol __DOM__ del documento.A continuación, se puede empezar a recorrer el árbol. En primer lugar se accede a la raíz del árbol a través del atributo __documentElement.__\n",
    "\n",
    "Desde la raíz del árbol se puede visitar utilizando un conjunto de métodos:\n",
    "* __getElementsByTagName(Elemento)__: Devuelve una lista de todos los elementos que tienen el  nombre proporcionado.\n",
    "* __getAttribute(Atributo)__: Devuelve el valor del atributo proporcionado como parámetro.\n",
    "* __hasAttribute(Atributo)__: Indica si un elemento tiene el atributo proporcionado como parámetro.\n",
    "\n",
    "Para acceder al contenido de cada elemento se utiliza el atributo data del objeto __childNodes__\n",
    "\n",
    "Se va a realizar el procesamiento del documento XML de ejemplo usando DOM."
   ]
  },
  {
   "cell_type": "code",
   "execution_count": null,
   "metadata": {
    "collapsed": true
   },
   "outputs": [],
   "source": [
    "from xml.dom.minidom import parse\n",
    "import xml.dom.minidom\n",
    "\n",
    "ArbolDOM=xml.dom.minidom.parse(\"Catalogo.xml\")\n",
    "catalogo=ArbolDOM.documentElement\n",
    "libros=catalogo.getElementsByTagName(\"Libro\")\n",
    "for libro in libros:\n",
    "    print (\"***Libro***\")\n",
    "    if libro.hasAttribute(\"isbn\"):\n",
    "        print (\"isbn:\",libro.getAttribute(\"isbn\"))\n",
    "    Titulo=libro.getElementsByTagName(\"titulo\")[0]\n",
    "    print (\"Titulo:\",Titulo.childNodes[0].data)\n",
    "    Fecha=libro.getElementsByTagName(\"fecha\")[0]\n",
    "    print (\"Fecha:\",Fecha.childNodes[0].data)\n",
    "    Autor=libro.getElementsByTagName(\"autor\")[0]\n",
    "    print (\"Titulo:\",Autor.childNodes[0].data)\n"
   ]
  },
  {
   "cell_type": "markdown",
   "metadata": {},
   "source": [
    "### SAX VS DOM"
   ]
  },
  {
   "cell_type": "markdown",
   "metadata": {},
   "source": [
    "* SAX es un procesador bastante eficiente que permite manejar documentos muy extensos en tiempo lineal y con una cantidad de memoria constante. Sin embargo requiere de un esfuerzo mayor por parte de los desarrolladores.\n",
    "* DOM es más fácil de usar para los desarrolladores pero aumenta el coste de memoria y tiempo.\n",
    "* Será mejor usar SAX cuando el documento a procesar no quepa en memoria o cuando las tareas son irrelevantes con respecto a la estructura del documento (contar el número de elementos, extraer contenido de un elemento determinado)\n",
    "\n"
   ]
  },
  {
   "cell_type": "markdown",
   "metadata": {},
   "source": [
    "### Procesamiento XML con ElementTree"
   ]
  },
  {
   "cell_type": "markdown",
   "metadata": {},
   "source": [
    "* Es una librería estándar para procesar y crear documentos XML con características similares a DOM dado que crea un árbol de objetos representado por la clase ElementTree. Sin embargo la navegación es más ligera con un estilo específico de Python.\n",
    "\n",
    "* El árbol generado esta formado por  objetos “elemento” de tipo Element  donde cada uno de ellos dispone de un conjunto de atributos: nombre, diccionario de atributos, valor textual y secuencia de elementos hijo.\n",
    "\n",
    "* Para procesar un documento basta abrir el documento con el método open() como si se tratara de un fichero y usar el método parse de ElementTree"
   ]
  },
  {
   "cell_type": "code",
   "execution_count": 1,
   "metadata": {
    "collapsed": false
   },
   "outputs": [
    {
     "name": "stdout",
     "output_type": "stream",
     "text": [
      "<xml.etree.ElementTree.ElementTree object at 0x000001B5115D4EB8>\n"
     ]
    }
   ],
   "source": [
    "from xml.etree import ElementTree\n",
    "f=open(\"Catalogo.xml\",\"rt\")\n",
    "arbol=ElementTree.parse(f)\n",
    "print(arbol)"
   ]
  },
  {
   "cell_type": "markdown",
   "metadata": {},
   "source": [
    "Si se quiere visitar todo el árbol se usa el método iter() que crea un generador que itera sobre todos los nodos del árbol.\n"
   ]
  },
  {
   "cell_type": "code",
   "execution_count": 2,
   "metadata": {
    "collapsed": false
   },
   "outputs": [
    {
     "name": "stdout",
     "output_type": "stream",
     "text": [
      "catalogo {}\n",
      "Libro {'isbn': '0-596-00128-2'}\n",
      "titulo {}\n",
      "fecha {}\n",
      "autor {}\n",
      "Libro {'isbn': '0-596-15810-6'}\n",
      "titulo {}\n",
      "fecha {}\n",
      "autor {}\n",
      "Libro {'isbn': '0-596-15806-8'}\n",
      "titulo {}\n",
      "fecha {}\n",
      "autor {}\n",
      "Libro {'isbn': '0-596-15808-4'}\n",
      "titulo {}\n",
      "fecha {}\n",
      "autor {}\n",
      "Libro {'isbn': '0-596-00797-3'}\n",
      "titulo {}\n",
      "fecha {}\n",
      "autor {}\n",
      "Libro {'isbn': '0-596-10046-9'}\n",
      "titulo {}\n",
      "fecha {}\n",
      "autor {}\n"
     ]
    }
   ],
   "source": [
    "from xml.etree import ElementTree\n",
    "f=open(\"Catalogo.xml\",\"rt\")\n",
    "arbol=ElementTree.parse(f)\n",
    "for nodo in arbol.iter():\n",
    "    print(nodo.tag, nodo.attrib)"
   ]
  },
  {
   "cell_type": "markdown",
   "metadata": {},
   "source": [
    "Puede que se esté interesado sólo en determinados elementos del árbol, y no en todos. Para ello se pasa como parámetro del método iter() el nombre del elemento de interés."
   ]
  },
  {
   "cell_type": "code",
   "execution_count": 4,
   "metadata": {
    "collapsed": false
   },
   "outputs": [
    {
     "name": "stdout",
     "output_type": "stream",
     "text": [
      "Libro 1  con isbn  0-596-00128-2\n",
      "Libro 2  con isbn  0-596-15810-6\n",
      "Libro 3  con isbn  0-596-15806-8\n",
      "Libro 4  con isbn  0-596-15808-4\n",
      "Libro 5  con isbn  0-596-00797-3\n",
      "Libro 6  con isbn  0-596-10046-9\n"
     ]
    }
   ],
   "source": [
    "from xml.etree import ElementTree\n",
    "f=open(\"Catalogo.xml\",\"rt\")\n",
    "arbol=ElementTree.parse(f)\n",
    "i=1\n",
    "for nodo in arbol.iter(\"Libro\"):\n",
    "    isbn=nodo.attrib.get(\"isbn\")\n",
    "    print(nodo.tag, i, \" con isbn \", isbn)\n",
    "    i=i+1"
   ]
  },
  {
   "cell_type": "markdown",
   "metadata": {},
   "source": [
    "Otra posibilidad de iterar sobre los elementos del árbol es acceder a la raíz del árbol y desde ella iterar sobre los hijos."
   ]
  },
  {
   "cell_type": "code",
   "execution_count": 5,
   "metadata": {
    "collapsed": false
   },
   "outputs": [
    {
     "name": "stdout",
     "output_type": "stream",
     "text": [
      "catalogo   {}\n",
      "Libro   {'isbn': '0-596-00128-2'}\n",
      "Libro   {'isbn': '0-596-15810-6'}\n",
      "Libro   {'isbn': '0-596-15806-8'}\n",
      "Libro   {'isbn': '0-596-15808-4'}\n",
      "Libro   {'isbn': '0-596-00797-3'}\n",
      "Libro   {'isbn': '0-596-10046-9'}\n"
     ]
    }
   ],
   "source": [
    "import xml.etree.ElementTree as ET\n",
    "arbol=ET.parse(\"Catalogo.xml\")\n",
    "raiz=arbol.getroot()\n",
    "print(raiz.tag, \" \", raiz.attrib)\n",
    "for hijo in raiz:\n",
    "    print(hijo.tag, \" \", hijo.attrib)"
   ]
  },
  {
   "cell_type": "markdown",
   "metadata": {},
   "source": [
    "También es posible acceder a los elementos de forma indexada."
   ]
  },
  {
   "cell_type": "code",
   "execution_count": 6,
   "metadata": {
    "collapsed": false
   },
   "outputs": [
    {
     "name": "stdout",
     "output_type": "stream",
     "text": [
      "Titulo : Python y XML\n"
     ]
    }
   ],
   "source": [
    "import xml.etree.ElementTree as ET\n",
    "arbol=ET.parse(\"Catalogo.xml\")\n",
    "raiz=arbol.getroot()\n",
    "print(\"Titulo :\",raiz[0][0].text)"
   ]
  },
  {
   "cell_type": "markdown",
   "metadata": {},
   "source": [
    "Existe otro conjunto de métodos que permiten recorrer el árbol tomando como argumento una expresión XPath que caracteriza al elemento que se está buscando:\n",
    "  * find(): recupera el primer subelemento del elemento actual encajando con la descripción dada\n",
    "  * findall(): recupera todos los subelementos del elemento actual encajando con la descripción dada\n",
    "  * iterfind(): recupera todos los elementos encajando con la descripción dada.\n",
    "  * text:  accede al contenido textual de un elemento\n",
    "  * get(atributo): accede al atributo dado del elemento.\n",
    "\n",
    "Se van a encontrar todos los títulos de los libros usando findall()"
   ]
  },
  {
   "cell_type": "code",
   "execution_count": 10,
   "metadata": {
    "collapsed": false
   },
   "outputs": [
    {
     "name": "stdout",
     "output_type": "stream",
     "text": [
      "Titulo : 1   Python y XML\n",
      "Titulo : 2   Programacion avanzada de XML\n",
      "Titulo : 3   Aprendiendo Java\n",
      "Titulo : 4   Python para moviles\n",
      "Titulo : 5   R para estadistica\n",
      "Titulo : 6   Python en 100 paginas\n"
     ]
    }
   ],
   "source": [
    "from xml.etree import ElementTree\n",
    "f=open(\"Catalogo.xml\",\"rt\")\n",
    "arbol=ElementTree.parse(f)\n",
    "i=1\n",
    "for nodo in arbol.findall(\"./Libro/titulo\"):\n",
    "    print(\"Titulo :\",i, \" \",nodo.text)\n",
    "    i=i+1"
   ]
  },
  {
   "cell_type": "markdown",
   "metadata": {},
   "source": [
    "Esta API permite realizar un procesamiento basado en eventos al estilo de SAX usando el método iterparse().\n",
    "\n",
    "Genera eventos “start” en las aperturas de elemento y eventos “end” en los cierres de elemento. Además los datos pueden ser extraídos del documento durante la fase de parseo.\n",
    "\n",
    "Se va a realizar un procesamiento similar al que se hizo con SAX:"
   ]
  },
  {
   "cell_type": "code",
   "execution_count": 14,
   "metadata": {
    "collapsed": false
   },
   "outputs": [
    {
     "name": "stdout",
     "output_type": "stream",
     "text": [
      "****Libro****\n",
      "isbn 0-596-00128-2\n",
      "Titulo : Python y XML\n",
      "Fecha : Diciembre 2001\n",
      "Autor : Pepito Perez\n",
      "****Libro****\n",
      "isbn 0-596-15810-6\n",
      "Titulo : Programacion avanzada de XML\n",
      "Fecha : Octoubre 2010\n",
      "Autor : Juan Garcia\n",
      "****Libro****\n",
      "isbn 0-596-15806-8\n",
      "Titulo : Aprendiendo Java\n",
      "Fecha : Septiembre 2009\n",
      "Autor : Juan Garcia\n",
      "****Libro****\n",
      "isbn 0-596-15808-4\n",
      "Titulo : Python para moviles\n",
      "Fecha : Octubre 2009\n",
      "Autor : Pepito Perez\n",
      "****Libro****\n",
      "isbn 0-596-00797-3\n",
      "Titulo : R para estadistica\n",
      "Fecha : Marzo 2005\n",
      "Autor : Juan, Pepe, Isabel\n",
      "****Libro****\n",
      "isbn 0-596-10046-9\n",
      "Titulo : Python en 100 paginas\n",
      "Fecha : Julio 2006\n",
      "Autor : Julia\n"
     ]
    }
   ],
   "source": [
    "from xml.etree.ElementTree import iterparse\n",
    "for (event,element) in iterparse(\"Catalogo.xml\",(\"start\",\"end\")):\n",
    "    if event==\"start\":\n",
    "        if element.tag==\"Libro\":\n",
    "            print (\"****Libro****\")\n",
    "            print (\"isbn\",element.attrib[\"isbn\"])\n",
    "    if event==\"end\":\n",
    "        if element.tag==\"titulo\":\n",
    "            print(\"Titulo :\", element.text)\n",
    "        if element.tag==\"fecha\":\n",
    "            print(\"Fecha :\", element.text)\n",
    "        if element.tag==\"autor\":\n",
    "            print(\"Autor :\",element.text)"
   ]
  },
  {
   "cell_type": "markdown",
   "metadata": {},
   "source": [
    "También es posible crear procesar cadenas que representan un documento XML usando el método fromstring que toma como argumento la cadena que representa el documento XML."
   ]
  },
  {
   "cell_type": "code",
   "execution_count": 19,
   "metadata": {
    "collapsed": false
   },
   "outputs": [
    {
     "name": "stdout",
     "output_type": "stream",
     "text": [
      "****Libro****\n",
      "isbn : 0-596-00128-2\n",
      "Titulo : Python y XML\n",
      "Fecha : Diciembre 2001\n",
      "Autor : Pepito Perez\n"
     ]
    }
   ],
   "source": [
    "import xml.etree.ElementTree as ET\n",
    "cadena='''\n",
    "<catalogo>\n",
    "  <Libro isbn=\"0-596-00128-2\">\n",
    "     <titulo>Python y XML</titulo>\n",
    "     <fecha>Diciembre 2001</fecha>\n",
    "     <autor>Pepito Perez</autor>\n",
    "  </Libro>\n",
    "</catalogo>\n",
    "'''\n",
    "doc=ET.fromstring(cadena)\n",
    "lista=doc.findall(\"Libro\")\n",
    "for l in lista:\n",
    "    print (\"****Libro****\")\n",
    "    print (\"isbn :\", l.get(\"isbn\"))\n",
    "    print (\"Titulo :\", l.find(\"titulo\").text)\n",
    "    print (\"Fecha :\", l.find(\"fecha\").text)\n",
    "    print (\"Autor :\", l.find(\"autor\").text)"
   ]
  },
  {
   "cell_type": "markdown",
   "metadata": {},
   "source": [
    "Otra posibilidad que ofrece la API es la modificación de un documento XML que ha sido leído:\n",
    "* A nivel de elemento se puede cambiar el contenido cambiando el valor de Element.text, añadir o modificar atributos con el método Element.set(),  y añadir nuevos hijos con el método Element.append().\n",
    "  \n",
    "* A nivel de documento, se escribe el nuevo documento con el método ElementTree.write()\n",
    "\n",
    "Se va a modificar el documento XML de ejemplo:\n",
    "\n",
    "  * Se va añadir un nuevo atributo que indica el orden.\n",
    "  \n",
    "  * Se va añadir un nuevo elemento que indica la editorial.\n",
    "  \n",
    "  * Se va añadir un nuevo atributo que indica si hay ejemplares."
   ]
  },
  {
   "cell_type": "code",
   "execution_count": 22,
   "metadata": {
    "collapsed": true
   },
   "outputs": [],
   "source": [
    "import xml.etree.ElementTree as ET\n",
    "arbol=ET.parse(\"Catalogo.xml\")\n",
    "i=1\n",
    "for libro in arbol.iter(\"Libro\"):\n",
    "    cadena=str(i)\n",
    "    libro.set(\"orden\", cadena)\n",
    "    libro.set(\"ejemplares\", \"si\")\n",
    "    editorial=ET.Element(\"editorial\")\n",
    "    editorial.text=\"Anaya\"\n",
    "    libro.append(editorial)\n",
    "    i=i+1\n",
    "\n",
    "arbol.write(\"Catalogo2.xml\")"
   ]
  },
  {
   "cell_type": "code",
   "execution_count": 25,
   "metadata": {
    "collapsed": false
   },
   "outputs": [
    {
     "name": "stdout",
     "output_type": "stream",
     "text": [
      "****Libro****\n",
      "isbn : 0-596-00128-2\n",
      "orden : 1\n",
      "Titulo : Python y XML\n",
      "Fecha : Diciembre 2001\n",
      "Autor : Pepito Perez\n",
      "Editorial : Anaya\n",
      "****Libro****\n",
      "isbn : 0-596-15810-6\n",
      "orden : 2\n",
      "Titulo : Programacion avanzada de XML\n",
      "Fecha : Octoubre 2010\n",
      "Autor : Juan Garcia\n",
      "Editorial : Anaya\n",
      "****Libro****\n",
      "isbn : 0-596-15806-8\n",
      "orden : 3\n",
      "Titulo : Aprendiendo Java\n",
      "Fecha : Septiembre 2009\n",
      "Autor : Juan Garcia\n",
      "Editorial : Anaya\n",
      "****Libro****\n",
      "isbn : 0-596-15808-4\n",
      "orden : 4\n",
      "Titulo : Python para moviles\n",
      "Fecha : Octubre 2009\n",
      "Autor : Pepito Perez\n",
      "Editorial : Anaya\n",
      "****Libro****\n",
      "isbn : 0-596-00797-3\n",
      "orden : 5\n",
      "Titulo : R para estadistica\n",
      "Fecha : Marzo 2005\n",
      "Autor : Juan, Pepe, Isabel\n",
      "Editorial : Anaya\n",
      "****Libro****\n",
      "isbn : 0-596-10046-9\n",
      "orden : 6\n",
      "Titulo : Python en 100 paginas\n",
      "Fecha : Julio 2006\n",
      "Autor : Julia\n",
      "Editorial : Anaya\n"
     ]
    }
   ],
   "source": [
    "from xml.etree.ElementTree import iterparse\n",
    "for (event,element) in iterparse(\"Catalogo2.xml\",(\"start\",\"end\")):\n",
    "    if event==\"start\":\n",
    "        if element.tag==\"Libro\":\n",
    "            print (\"****Libro****\")\n",
    "            print (\"isbn :\",element.attrib[\"isbn\"])\n",
    "            print (\"orden :\",element.attrib[\"orden\"])\n",
    "    if event==\"end\":\n",
    "        if element.tag==\"titulo\":\n",
    "            print(\"Titulo :\", element.text)\n",
    "        if element.tag==\"fecha\":\n",
    "            print(\"Fecha :\", element.text)\n",
    "        if element.tag==\"autor\":\n",
    "            print(\"Autor :\",element.text)\n",
    "        if element.tag==\"editorial\":\n",
    "            print(\"Editorial :\",element.text)"
   ]
  },
  {
   "cell_type": "markdown",
   "metadata": {},
   "source": [
    "También es posible eliminar elementos con el método Element.remove(). Tomando como entrada la salida del ejemplo anterior se van a eliminar todos los elementos de tipo “Libro” que tengan un número de orden mayor que 3.\n"
   ]
  },
  {
   "cell_type": "code",
   "execution_count": 24,
   "metadata": {
    "collapsed": true
   },
   "outputs": [],
   "source": [
    "import xml.etree.ElementTree as ET\n",
    "arbol=ET.parse(\"Catalogo2.xml\")\n",
    "raiz=arbol.getroot()\n",
    "for libro in raiz.iter(\"Libro\"):\n",
    "    orden=int(libro.get(\"orden\"))\n",
    "    if orden==3:\n",
    "        raiz.remove(libro)\n",
    "arbol.write(\"Catalogo3.xml\")"
   ]
  },
  {
   "cell_type": "code",
   "execution_count": 27,
   "metadata": {
    "collapsed": false
   },
   "outputs": [
    {
     "name": "stdout",
     "output_type": "stream",
     "text": [
      "****Libro****\n",
      "isbn : 0-596-00128-2\n",
      "orden : 1\n",
      "Titulo : Python y XML\n",
      "Fecha : Diciembre 2001\n",
      "Autor : Pepito Perez\n",
      "Editorial : Anaya\n",
      "****Libro****\n",
      "isbn : 0-596-15810-6\n",
      "orden : 2\n",
      "Titulo : Programacion avanzada de XML\n",
      "Fecha : Octoubre 2010\n",
      "Autor : Juan Garcia\n",
      "Editorial : Anaya\n",
      "****Libro****\n",
      "isbn : 0-596-15808-4\n",
      "orden : 4\n",
      "Titulo : Python para moviles\n",
      "Fecha : Octubre 2009\n",
      "Autor : Pepito Perez\n",
      "Editorial : Anaya\n",
      "****Libro****\n",
      "isbn : 0-596-00797-3\n",
      "orden : 5\n",
      "Titulo : R para estadistica\n",
      "Fecha : Marzo 2005\n",
      "Autor : Juan, Pepe, Isabel\n",
      "Editorial : Anaya\n",
      "****Libro****\n",
      "isbn : 0-596-10046-9\n",
      "orden : 6\n",
      "Titulo : Python en 100 paginas\n",
      "Fecha : Julio 2006\n",
      "Autor : Julia\n",
      "Editorial : Anaya\n"
     ]
    }
   ],
   "source": [
    "from xml.etree.ElementTree import iterparse\n",
    "for (event,element) in iterparse(\"Catalogo3.xml\",(\"start\",\"end\")):\n",
    "    if event==\"start\":\n",
    "        if element.tag==\"Libro\":\n",
    "            print (\"****Libro****\")\n",
    "            print (\"isbn :\",element.attrib[\"isbn\"])\n",
    "            print (\"orden :\",element.attrib[\"orden\"])\n",
    "    if event==\"end\":\n",
    "        if element.tag==\"titulo\":\n",
    "            print(\"Titulo :\", element.text)\n",
    "        if element.tag==\"fecha\":\n",
    "            print(\"Fecha :\", element.text)\n",
    "        if element.tag==\"autor\":\n",
    "            print(\"Autor :\",element.text)\n",
    "        if element.tag==\"editorial\":\n",
    "            print(\"Editorial :\",element.text)"
   ]
  },
  {
   "cell_type": "markdown",
   "metadata": {},
   "source": [
    "También es posible la creación de documentos XML desde cero. Para ello se disponen de los siguientes métodos en la clase Element:\n",
    "\n",
    "  * Element(): Crea un elemento nuevo.\n",
    "  \n",
    "  * subElement(): Añade un nuevo elemento al padre.\n",
    "  \n",
    "  * comment(): Crea un nodo que serializa el contenido usando la sintaxis de XML.\n",
    "\n",
    "En el siguiente ejemplo se va a crear un documento XML con información de un libro semejante a los ejemplos anteriores."
   ]
  },
  {
   "cell_type": "code",
   "execution_count": 28,
   "metadata": {
    "collapsed": false
   },
   "outputs": [
    {
     "name": "stdout",
     "output_type": "stream",
     "text": [
      "<?xml version=\"1.0\" ?>\n",
      "<Catalogo>\n",
      "  <Libro>\n",
      "    <titulo>Python y XML</titulo>\n",
      "    <fecha>Diciembre 2001</fecha>\n",
      "    <autor>Pepito Perez</autor>\n",
      "  </Libro>\n",
      "</Catalogo>\n",
      "\n"
     ]
    }
   ],
   "source": [
    "from xml.etree.ElementTree import Element, SubElement, Comment\n",
    "from xml.etree import ElementTree\n",
    "from xml.dom import minidom\n",
    "\n",
    "def prettify(elem):\n",
    "    \"\"\"Return a pretty-printed XML string for the Element.\"\"\"\n",
    "    rough_string=ElementTree.tostring(elem,\"utf-8\")\n",
    "    reparsed=minidom.parseString(rough_string)\n",
    "    return reparsed.toprettyxml(indent=\"  \")\n",
    "\n",
    "raiz=Element(\"Catalogo\")\n",
    "Libro=SubElement(raiz, \"Libro\")\n",
    "Titulo=SubElement(Libro,\"titulo\")\n",
    "Titulo.text=\"Python y XML\"\n",
    "Fecha=SubElement(Libro,\"fecha\")\n",
    "Fecha.text=\"Diciembre 2001\"\n",
    "Autor=SubElement(Libro,\"autor\")\n",
    "Autor.text=\"Pepito Perez\"\n",
    "print (prettify(raiz))\n",
    "    "
   ]
  },
  {
   "cell_type": "markdown",
   "metadata": {},
   "source": [
    "Observar que con a función definida prettify se consigue que las etiquetas del documento XML estén indentadas. Si no se usa se puede generar una cadena sin indentar."
   ]
  },
  {
   "cell_type": "code",
   "execution_count": 29,
   "metadata": {
    "collapsed": false
   },
   "outputs": [
    {
     "name": "stdout",
     "output_type": "stream",
     "text": [
      "b'<Catalogo><Libro><titulo>Python y XML</titulo><fecha>Diciembre 2001</fecha><autor>Pepito Perez</autor></Libro></Catalogo>'\n"
     ]
    }
   ],
   "source": [
    "from xml.etree.ElementTree import Element, SubElement, Comment, tostring\n",
    "raiz=Element(\"Catalogo\")\n",
    "Libro=SubElement(raiz, \"Libro\")\n",
    "Titulo=SubElement(Libro,\"titulo\")\n",
    "Titulo.text=\"Python y XML\"\n",
    "Fecha=SubElement(Libro,\"fecha\")\n",
    "Fecha.text=\"Diciembre 2001\"\n",
    "Autor=SubElement(Libro,\"autor\")\n",
    "Autor.text=\"Pepito Perez\"\n",
    "print (tostring(raiz))\n",
    "    "
   ]
  },
  {
   "cell_type": "markdown",
   "metadata": {},
   "source": [
    "En el ejemplo anterior se han creado elementos con contenido pero en ningún caso se han añadido atributos. Para añadir atributos a un elemento que se está creando basta pasar como argumento del elemento o subelemento un diccionario con los atributos expresados en forma de parejas clave-valor.\n",
    "\n",
    "Se va a modificar el código anterior para añadir atributos al elemento Libro. En concreto se va añadir el atributo isbn, orden y ejemplares."
   ]
  },
  {
   "cell_type": "code",
   "execution_count": 46,
   "metadata": {
    "collapsed": false
   },
   "outputs": [
    {
     "name": "stdout",
     "output_type": "stream",
     "text": [
      "<?xml version=\"1.0\" ?>\n",
      "<Catalogo version=\"1.0\">\n",
      "  <Libro ejemplares=\"si\" isbn=\"0-596-00128-2\" orden=\"1\">\n",
      "    <titulo>Python y XML</titulo>\n",
      "    <fecha>Diciembre 2001</fecha>\n",
      "    <autor>Pepito Perez</autor>\n",
      "  </Libro>\n",
      "</Catalogo>\n",
      "\n"
     ]
    }
   ],
   "source": [
    "from xml.etree.ElementTree import Element, SubElement, Comment, tostring\n",
    "from xml.etree import ElementTree\n",
    "from xml.dom import minidom\n",
    "\n",
    "def prettify(elem):\n",
    "    \"\"\"Return a pretty-printed XML string for the Element.\"\"\"\n",
    "    rough_string=ElementTree.tostring(elem,\"utf-8\")\n",
    "    reparsed=minidom.parseString(rough_string)\n",
    "    return reparsed.toprettyxml(indent=\"  \")\n",
    "\n",
    "raiz=Element(\"Catalogo\")\n",
    "raiz.set(\"version\",\"1.0\")\n",
    "Libro=SubElement(raiz, \"Libro\",{\"orden\":\"1\",\"ejemplares\":\"si\",\"isbn\":\"0-596-00128-2\"})\n",
    "Titulo=SubElement(Libro,\"titulo\")\n",
    "Titulo.text=\"Python y XML\"\n",
    "Fecha=SubElement(Libro,\"fecha\")\n",
    "Fecha.text=\"Diciembre 2001\"\n",
    "Autor=SubElement(Libro,\"autor\")\n",
    "Autor.text=\"Pepito Perez\"\n",
    "print (prettify(raiz))"
   ]
  },
  {
   "cell_type": "markdown",
   "metadata": {},
   "source": [
    "Se pueden añadir múltiples hijos a un elemento mediante el método extend() que recibe como argumento algo que sea iterable tal como una lista o bien otra instancia de Element. \n",
    "\n",
    "En el caso de una instancia de Element, los hijos del elemento dado se añaden como hijos del nuevo padre. Sin embargo el padre actual no es añadido.\n",
    "\n",
    "Se va a reconstruir el ejemplo anterior pero usando extend sobre una cadena dada.\n"
   ]
  },
  {
   "cell_type": "code",
   "execution_count": 48,
   "metadata": {
    "collapsed": false
   },
   "outputs": [
    {
     "name": "stdout",
     "output_type": "stream",
     "text": [
      "<?xml version=\"1.0\" ?>\n",
      "<Catalogo version=\"1.0\">\n",
      "  <Libro ejemplares=\"si\" isbn=\"0-596-00128-2\" orden=\"1\">\n",
      "    <titulo>Python y XML</titulo>\n",
      "    <fecha>Diciembre 2001</fecha>\n",
      "    <autor>Pepito Pérez</autor>\n",
      "  </Libro>\n",
      "</Catalogo>\n",
      "\n"
     ]
    }
   ],
   "source": [
    "from xml.etree.ElementTree import Element, SubElement, XML\n",
    "from xml.etree import ElementTree\n",
    "from xml.dom import minidom\n",
    "\n",
    "def prettify(elem):\n",
    "    \"\"\"Return a pretty-printed XML string for the Element.\"\"\"\n",
    "    rough_string=ElementTree.tostring(elem,\"utf-8\")\n",
    "    reparsed=minidom.parseString(rough_string)\n",
    "    return reparsed.toprettyxml(indent=\"  \")\n",
    "\n",
    "raiz=Element(\"Catalogo\")\n",
    "raiz.set(\"version\",\"1.0\")\n",
    "Libro=SubElement(raiz, \"Libro\",{\"orden\":\"1\",\"ejemplares\":\"si\",\"isbn\":\"0-596-00128-2\"})\n",
    "hijos=XML(\"\"\"<hijos><titulo>Python y XML</titulo><fecha>Diciembre 2001</fecha><autor>Pepito Pérez</autor></hijos>\"\"\")\n",
    "Libro.extend(hijos)\n",
    "print (prettify(raiz))"
   ]
  },
  {
   "cell_type": "markdown",
   "metadata": {
    "collapsed": true
   },
   "source": [
    "También se podría haber construido pasando una lista"
   ]
  },
  {
   "cell_type": "code",
   "execution_count": 2,
   "metadata": {
    "collapsed": false
   },
   "outputs": [
    {
     "name": "stdout",
     "output_type": "stream",
     "text": [
      "<?xml version=\"1.0\" ?>\n",
      "<Catalogo version=\"1.0\">\n",
      "  <Libro ejemplares=\"si\" isbn=\"0-596-00128-2\" orden=\"1\">\n",
      "    <titulo>Python y XML</titulo>\n",
      "    <fecha>Diciembre 2001</fecha>\n",
      "    <autor>Pepito Perez</autor>\n",
      "  </Libro>\n",
      "</Catalogo>\n",
      "\n"
     ]
    }
   ],
   "source": [
    "from xml.etree.ElementTree import Element, SubElement, Comment, tostring\n",
    "from xml.etree import ElementTree\n",
    "from xml.dom import minidom\n",
    "\n",
    "def prettify(elem):\n",
    "    \"\"\"Return a pretty-printed XML string for the Element.\"\"\"\n",
    "    rough_string=ElementTree.tostring(elem,\"utf-8\")\n",
    "    reparsed=minidom.parseString(rough_string)\n",
    "    return reparsed.toprettyxml(indent=\"  \")\n",
    "\n",
    "raiz=Element(\"Catalogo\")\n",
    "raiz.set(\"version\",\"1.0\")\n",
    "Libro=SubElement(raiz, \"Libro\",{\"orden\":\"1\",\"ejemplares\":\"si\",\"isbn\":\"0-596-00128-2\"})\n",
    "Titulo=Element(\"titulo\")\n",
    "Titulo.text=\"Python y XML\"\n",
    "Fecha=Element(\"fecha\")\n",
    "Fecha.text=\"Diciembre 2001\"\n",
    "Autor=Element(\"autor\")\n",
    "Autor.text=\"Pepito Perez\"\n",
    "Hijos=[Titulo, Fecha, Autor]\n",
    "Libro.extend(Hijos)\n",
    "print (prettify(raiz))"
   ]
  },
  {
   "cell_type": "markdown",
   "metadata": {},
   "source": [
    "En el ejemplo anterior se ha visto que el documento XML resultante se ha mostrado como una cadena. Sin embargo en otros contextos en los que se maneja documentos XML muy grandes, interesa guardarlo en un archivo. En estos casos se usará el método write de ElementTree."
   ]
  },
  {
   "cell_type": "markdown",
   "metadata": {},
   "source": [
    "Se va a realizar el mismo ejemplo de antes pero ahora el resultado se almacenará en un archivo."
   ]
  },
  {
   "cell_type": "code",
   "execution_count": 3,
   "metadata": {
    "collapsed": true
   },
   "outputs": [],
   "source": [
    "from xml.etree.ElementTree import Element, SubElement, ElementTree\n",
    "\n",
    "raiz=Element(\"Catalogo\")\n",
    "raiz.set(\"version\",\"1.0\")\n",
    "Libro=SubElement(raiz, \"Libro\",{\"orden\":\"1\",\"ejemplares\":\"si\",\"isbn\":\"0-596-00128-2\"})\n",
    "Titulo=Element(\"titulo\")\n",
    "Titulo.text=\"Python y XML\"\n",
    "Fecha=Element(\"fecha\")\n",
    "Fecha.text=\"Diciembre 2001\"\n",
    "Autor=Element(\"autor\")\n",
    "Autor.text=\"Pepito Perez\"\n",
    "Hijos=[Titulo, Fecha, Autor]\n",
    "Libro.extend(Hijos)\n",
    "ElementTree(raiz).write(\"Ejemplo.xml\")"
   ]
  },
  {
   "cell_type": "markdown",
   "metadata": {},
   "source": [
    "El método write() de ElementTree tiene un segundo argumento que sirve para controlar que se hace con elementos que son vacíos. Existen tres posibilidades según el valor de dicho argumento:\n",
    "\n",
    "* xml: Genera un elemento vacío con una sola etiqueta\n",
    "\n",
    "* html: Genera un elemento vacío con dos etiquetas.\n",
    "\n",
    "* text: Imprime solo elementos con contenido, el resto se los salta.\n"
   ]
  },
  {
   "cell_type": "markdown",
   "metadata": {},
   "source": [
    "Siguiendo con el ejemplo anterior se va añadir un elemento vacío y se van a probar los tres argumentos."
   ]
  },
  {
   "cell_type": "code",
   "execution_count": 4,
   "metadata": {
    "collapsed": false
   },
   "outputs": [
    {
     "name": "stdout",
     "output_type": "stream",
     "text": [
      "<?xml version=\"1.0\" ?>\n",
      "<Catalogo version=\"1.0\">\n",
      "  <Libro ejemplares=\"si\" isbn=\"0-596-00128-2\" orden=\"1\">\n",
      "    <titulo>Python y XML</titulo>\n",
      "    <fecha>Diciembre 2001</fecha>\n",
      "    <autor>Pepito Perez</autor>\n",
      "    <vacio/>\n",
      "  </Libro>\n",
      "</Catalogo>\n",
      "\n"
     ]
    }
   ],
   "source": [
    "from xml.etree.ElementTree import Element, SubElement, Comment, tostring\n",
    "from xml.etree import ElementTree\n",
    "from xml.dom import minidom\n",
    "\n",
    "def prettify(elem):\n",
    "    \"\"\"Return a pretty-printed XML string for the Element.\"\"\"\n",
    "    rough_string=ElementTree.tostring(elem,\"utf-8\")\n",
    "    reparsed=minidom.parseString(rough_string)\n",
    "    return reparsed.toprettyxml(indent=\"  \")\n",
    "\n",
    "raiz=Element(\"Catalogo\")\n",
    "raiz.set(\"version\",\"1.0\")\n",
    "Libro=SubElement(raiz, \"Libro\",{\"orden\":\"1\",\"ejemplares\":\"si\",\"isbn\":\"0-596-00128-2\"})\n",
    "Titulo=Element(\"titulo\")\n",
    "Titulo.text=\"Python y XML\"\n",
    "Fecha=Element(\"fecha\")\n",
    "Fecha.text=\"Diciembre 2001\"\n",
    "Autor=Element(\"autor\")\n",
    "Autor.text=\"Pepito Perez\"\n",
    "Hijos=[Titulo, Fecha, Autor]\n",
    "Libro.extend(Hijos)\n",
    "ElementVacio=SubElement(Libro,\"vacio\")\n",
    "print (prettify(raiz))"
   ]
  },
  {
   "cell_type": "code",
   "execution_count": 6,
   "metadata": {
    "collapsed": false
   },
   "outputs": [
    {
     "name": "stdout",
     "output_type": "stream",
     "text": [
      "xml\n",
      "<Catalogo version=\"1.0\"><Libro ejemplares=\"si\" isbn=\"0-596-00128-2\" orden=\"1\"><titulo>Python y XML</titulo><fecha>Diciembre 2001</fecha><autor>Pepito Perez</autor><vacio /></Libro></Catalogo>\n",
      "\n",
      "html\n",
      "<Catalogo version=\"1.0\"><Libro ejemplares=\"si\" isbn=\"0-596-00128-2\" orden=\"1\"><titulo>Python y XML</titulo><fecha>Diciembre 2001</fecha><autor>Pepito Perez</autor><vacio></vacio></Libro></Catalogo>\n",
      "\n",
      "text\n",
      "Python y XMLDiciembre 2001Pepito Perez\n",
      "\n"
     ]
    }
   ],
   "source": [
    "import sys\n",
    "from xml.etree.ElementTree import Element, SubElement, ElementTree\n",
    "\n",
    "raiz=Element(\"Catalogo\")\n",
    "raiz.set(\"version\",\"1.0\")\n",
    "Libro=SubElement(raiz, \"Libro\",{\"orden\":\"1\",\"ejemplares\":\"si\",\"isbn\":\"0-596-00128-2\"})\n",
    "Titulo=Element(\"titulo\")\n",
    "Titulo.text=\"Python y XML\"\n",
    "Fecha=Element(\"fecha\")\n",
    "Fecha.text=\"Diciembre 2001\"\n",
    "Autor=Element(\"autor\")\n",
    "Autor.text=\"Pepito Perez\"\n",
    "Hijos=[Titulo, Fecha, Autor]\n",
    "Libro.extend(Hijos)\n",
    "ElementVacio=SubElement(Libro,\"vacio\")\n",
    "for metodo in [\"xml\",\"html\",\"text\"]:\n",
    "    print(metodo)\n",
    "    ElementTree(raiz).write(sys.stdout,method=metodo)\n",
    "    print (\"\\n\")"
   ]
  },
  {
   "cell_type": "code",
   "execution_count": null,
   "metadata": {
    "collapsed": true
   },
   "outputs": [],
   "source": []
  }
 ],
 "metadata": {
  "kernelspec": {
   "display_name": "Python 3",
   "language": "python",
   "name": "python3"
  },
  "language_info": {
   "codemirror_mode": {
    "name": "ipython",
    "version": 3
   },
   "file_extension": ".py",
   "mimetype": "text/x-python",
   "name": "python",
   "nbconvert_exporter": "python",
   "pygments_lexer": "ipython3",
   "version": "3.6.0"
  }
 },
 "nbformat": 4,
 "nbformat_minor": 2
}

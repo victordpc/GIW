{
 "cells": [
  {
   "cell_type": "markdown",
   "metadata": {},
   "source": [
    "Almacenamos las posiciones del cubo como una lista\n",
    "Las caras van a estar ordenadas según su orientación f(rontal), d(erecha), t(rasera), i(zquierda), up(superior), down(nferior)\n",
    "Los colores son g(reen), r(ed), b(lue), o(range), w(hite), y(ellow)"
   ]
  },
  {
   "cell_type": "code",
   "execution_count": 58,
   "metadata": {},
   "outputs": [],
   "source": [
    "f,d,t,i,up,down=0,1,2,3,4,5\n",
    "g,r,b,o,w,y=0,1,2,3,4,5\n",
    "cubo_resuelto=[g,g,g,g,g,g,g,g,g,r,r,r,r,r,r,r,r,r,b,b,b,b,b,b,b,b,b,o,o,o,o,o,o,o,o,o,w,w,w,w,w,w,w,w,w,y,y,y,y,y,y,y,y,y]\n",
    "cubo=[g,g,g,g,g,g,g,g,g,r,r,r,r,r,r,r,r,r,b,b,b,b,b,b,b,b,b,o,o,o,o,o,o,o,o,o,w,w,w,w,w,w,w,w,w,y,y,y,y,y,y,y,y,y]\n"
   ]
  },
  {
   "cell_type": "markdown",
   "metadata": {},
   "source": [
    "Funciones para obtener las caras a las que afectar los giros"
   ]
  },
  {
   "cell_type": "code",
   "execution_count": 68,
   "metadata": {},
   "outputs": [
    {
     "name": "stdout",
     "output_type": "stream",
     "text": [
      "2\n",
      "5\n",
      "8\n"
     ]
    }
   ],
   "source": [
    "def celdas_superior(cara):\n",
    "    cara = cara%4\n",
    "    if(cara==0):\n",
    "        resultado= range(6,9)\n",
    "    elif(cara==1):\n",
    "        resultado= range(2,9,3)\n",
    "    elif(cara==2):\n",
    "        resultado= range(0,3)\n",
    "    elif(cara==3):\n",
    "        resultado= range(0,7,3)\n",
    "    return resultado\n",
    "\n",
    "\n",
    "for x in celdas_superior(5):\n",
    "    print(x)"
   ]
  },
  {
   "cell_type": "markdown",
   "metadata": {},
   "source": [
    "Para hacer rotaciones tenemos que girar los valores de la cara + cambiar los valores de las filas adyacentes a la cara"
   ]
  },
  {
   "cell_type": "code",
   "execution_count": 48,
   "metadata": {},
   "outputs": [
    {
     "data": {
      "text/plain": [
       "True"
      ]
     },
     "execution_count": 48,
     "metadata": {},
     "output_type": "execute_result"
    }
   ],
   "source": [
    "def girar_cara(cara):\n",
    "    cara=cara%6\n",
    "    proyeccion= cubo[cara*9:(cara+1)*9]\n",
    "    indice=0\n",
    "    for x in range(2,-1,-1):\n",
    "        for y in range(3):\n",
    "            cubo[cara*9+indice]= proyeccion[x+y*3]\n",
    "    \n",
    "    \n",
    "    #return proyeccion\n",
    "\n",
    "\n",
    "datos=girar_cara(0)\n",
    "cubo==cubo_resuelto"
   ]
  },
  {
   "cell_type": "code",
   "execution_count": 61,
   "metadata": {},
   "outputs": [
    {
     "name": "stdout",
     "output_type": "stream",
     "text": [
      "range(0, 3)\n"
     ]
    }
   ],
   "source": []
  }
 ],
 "metadata": {
  "kernelspec": {
   "display_name": "Python 3",
   "language": "python",
   "name": "python3"
  },
  "language_info": {
   "codemirror_mode": {
    "name": "ipython",
    "version": 3
   },
   "file_extension": ".py",
   "mimetype": "text/x-python",
   "name": "python",
   "nbconvert_exporter": "python",
   "pygments_lexer": "ipython3",
   "version": "3.7.4"
  }
 },
 "nbformat": 4,
 "nbformat_minor": 2
}

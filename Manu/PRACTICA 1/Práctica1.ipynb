{
 "cells": [
  {
   "cell_type": "markdown",
   "metadata": {},
   "source": [
    "### Práctica de Introducción al lenguaje Python"
   ]
  },
  {
   "cell_type": "markdown",
   "metadata": {},
   "source": [
    "#### Ejercicio 1[4 puntos]\n",
    "Un autómata finito deteminista (AFD) es una modelo matemática que permite representar un tipo de lenguaje formal denominado lenguaje regular. Se caracterizan por un alfabeto, un conjunto finito de estados, un estado inicial, un conjunto de estados finales y una función de transición. La función de transición toma un estado  y  un símbolo,  y devuelve como resultado un estado.\n",
    "El automáta toma como entrada una cadena, y aplica la función de transición sucesivamente sobre los elementos de la entrada. Una vez que ha consumido toda la cadena, se mira el estado al que se ha llegado, y si es un estado final entonces la entrada es aceptada. En caso contrario, la cadena no es aceptada.\n",
    "\n",
    "Se pide simular un AFD que tomará como entrada una cadena que representa la entrada, una lista de tuplas donde cada tupla representa un estado y un símbolo representando la función de transición, un conjunto de estado representando el conjunto de estados finales y un estado representando el estado inicial. El programa ante una entrada dirá si la cadena es aceptada o no lo es.\n",
    "\n",
    "Intentad estructurar el programa separando lo que es el programa que acepta la entrada y nos dice si es aceptado o no, y el programa que simula el AFD.\n",
    "\n",
    "Más información: https://en.wikipedia.org/wiki/Deterministic_finite_automaton\n",
    "\n",
    "No se pueden usar ninguna función o método que simule un AFD."
   ]
  },
  {
   "cell_type": "code",
   "execution_count": 10,
   "metadata": {},
   "outputs": [],
   "source": [
    "'''\n",
    "Dado un estado actual y un simbolo, devuelve el\n",
    "estado actual si el simbolo no le afecta o\n",
    "bien un estado nuevo si el simbolo le afecta.\n",
    "'''\n",
    "\n",
    "def obtainState(currentState,symbol):\n",
    "    \n",
    "    # Current , Symbol , Next\n",
    "    \n",
    "    for csn in transitionFuction:\n",
    "            \n",
    "        if(csn[0] == currentState and csn[1] == symbol):\n",
    "                \n",
    "            currentState = csn[2];\n",
    "            \n",
    "    return currentState; \n"
   ]
  },
  {
   "cell_type": "code",
   "execution_count": 11,
   "metadata": {},
   "outputs": [],
   "source": [
    "# Funcion que devuelve por pantalla si la cadena es aceptada en el estado actual o no.\n",
    "\n",
    "def isAccepted(currentState,finalStates):\n",
    "        \n",
    "    print( \"ACEPTADA\" if currentState in finalStates else \"NO ACEPTADA\" );\n",
    "    "
   ]
  },
  {
   "cell_type": "code",
   "execution_count": 12,
   "metadata": {},
   "outputs": [],
   "source": [
    "# Funcion que simula la maquina de estados.\n",
    "\n",
    "def finiteStateMachine(currentState,finalStates,inputInformation,transitionFuction):\n",
    "\n",
    "    for symbol in range(0,len(inputInformation)): \n",
    "    \n",
    "        currentState = obtainState(currentState,inputInformation[symbol]);\n",
    "        \n",
    "        isAccepted(currentState,finalStates);\n"
   ]
  },
  {
   "cell_type": "code",
   "execution_count": 14,
   "metadata": {},
   "outputs": [
    {
     "name": "stdout",
     "output_type": "stream",
     "text": [
      "NO ACEPTADA\n",
      "NO ACEPTADA\n",
      "NO ACEPTADA\n",
      "NO ACEPTADA\n",
      "NO ACEPTADA\n",
      "NO ACEPTADA\n",
      "NO ACEPTADA\n",
      "NO ACEPTADA\n",
      "NO ACEPTADA\n",
      "ACEPTADA\n",
      "ACEPTADA\n",
      "ACEPTADA\n",
      "ACEPTADA\n"
     ]
    }
   ],
   "source": [
    "# Main\n",
    "\n",
    "initialState = \"Tranquilo\";\n",
    "finalStates = (\"Dormido\");\n",
    "\n",
    "inputInformation = \"ajcjzvhcjawww\";\n",
    "\n",
    "transitionFuction = [\n",
    "    (\"Tranquilo\",\"j\",\"Jugando\"),\n",
    "    (\"Hambriento\",\"j\",\"Jugando\"),\n",
    "    (\"Hambriento\",\"c\",\"Jugando\"),\n",
    "    (\"Jugando\",\"j\",\"Cansado\"),\n",
    "    (\"Jugando\",\"c\",\"Tranquilo\"),\n",
    "    (\"Jugando\",\"h\",\"Hambriento\"),\n",
    "    (\"Cansado\",\"a\",\"Dormido\"),\n",
    "    (\"Cansado\",\"c\",\"Tranquilo\"),\n",
    "    (\"Dormido\",\"c\",\"Tranquilo\"),\n",
    "    (\"Dormido\",\"h\",\"Hambriento\")\n",
    "];\n",
    "\n",
    "finiteStateMachine(initialState,finalStates,inputInformation,transitionFuction);"
   ]
  },
  {
   "cell_type": "markdown",
   "metadata": {},
   "source": [
    "#### Ejercicio 2[4 puntos]\n",
    "Considera el problema de cálculo del determinante de una matriz cuadrado de cualquier orden:\n",
    "https://es.wikipedia.org/wiki/Determinante_(matem%C3%A1tica)\n",
    "\n",
    "Se pide implementar un programa que dada una matriz expresada en forma de una lista de listas donde cada lista representa una fila de la matriz, devuelva el determinante de dicha matriz.\n",
    "\n",
    "No se pueden usar ninguna función o método que calcule directamente el determinante."
   ]
  },
  {
   "cell_type": "code",
   "execution_count": 1,
   "metadata": {},
   "outputs": [],
   "source": [
    "# Determinante de orden 1\n",
    "\n",
    "def det1(detOrd1):\n",
    "    \n",
    "    return detOrd1;"
   ]
  },
  {
   "cell_type": "code",
   "execution_count": 2,
   "metadata": {},
   "outputs": [],
   "source": [
    "# Determinante de orden 2\n",
    "\n",
    "def det2(detOrd2):\n",
    "    \n",
    "    return detOrd2[0][0] * detOrd2[1][1] - detOrd2[0][1] * detOrd2[1][0];"
   ]
  },
  {
   "cell_type": "code",
   "execution_count": 3,
   "metadata": {},
   "outputs": [],
   "source": [
    "# Determinante de orden 3 resuelto por la Regla de Sarrus.\n",
    "    \n",
    "def det3(detOrd3):\n",
    "    \n",
    "    positivo = 0;\n",
    "    \n",
    "    positivo += detOrd3[0][0] * detOrd3[1][1] * detOrd3[2][2];\n",
    "    \n",
    "    positivo += detOrd3[0][1] * detOrd3[1][2] * detOrd3[2][0];\n",
    "    \n",
    "    positivo += detOrd3[0][2] * detOrd3[1][0] * detOrd3[2][1];\n",
    "    \n",
    "    negativo = 0;\n",
    "    \n",
    "    negativo += detOrd3[2][0] * detOrd3[1][1] * detOrd3[0][2];\n",
    "    \n",
    "    negativo += detOrd3[0][0] * detOrd3[1][2] * detOrd3[2][1];\n",
    "    \n",
    "    negativo += detOrd3[0][1] * detOrd3[1][0] * detOrd3[2][2];\n",
    "    \n",
    "    return positivo - negativo;"
   ]
  },
  {
   "cell_type": "code",
   "execution_count": 4,
   "metadata": {},
   "outputs": [],
   "source": [
    "# Funcion recursiva que calcula el determinante aplicando el metodo de Laplace.\n",
    "\n",
    "def calculateDet(det):\n",
    "    \n",
    "    if(len(det) == 1):\n",
    "    \n",
    "        return det1(det);\n",
    "    \n",
    "    elif(len(det) == 2):\n",
    "    \n",
    "        return det2(det);\n",
    "    \n",
    "    elif(len(det) == 3):\n",
    "    \n",
    "        return det3(det);\n",
    "    \n",
    "    else:\n",
    "    \n",
    "        total = 0;\n",
    "        \n",
    "        for row in range(0,len(det)):\n",
    "        \n",
    "            newDet = [ [ det[i][j] for j in range(1,len(det))] for i in range(0,len(det)) ];\n",
    "\n",
    "            del newDet[row];\n",
    "            \n",
    "            total += det[row][0] * (1 if row % 2 == 0 else -1) * calculateDet(newDet); \n",
    "            \n",
    "        return total;"
   ]
  },
  {
   "cell_type": "code",
   "execution_count": 5,
   "metadata": {},
   "outputs": [
    {
     "name": "stdout",
     "output_type": "stream",
     "text": [
      "DET2:  -2\n",
      "DET3:  0\n",
      "DET4:  32\n",
      "DET4:  -22\n",
      "DET5:  -1104\n"
     ]
    }
   ],
   "source": [
    "# Main\n",
    "\n",
    "det = [[1,2],[3,4]];\n",
    "print(\"DET2: \",calculateDet(det));\n",
    "det = [[1,2,3],[4,5,6],[7,8,9]];\n",
    "print(\"DET3: \",calculateDet(det));\n",
    "det = [[1,0,1,1],[2,1,3,0],[3,2,0,3],[4,0,1,0]];\n",
    "print(\"DET4: \",calculateDet(det));\n",
    "det = [[0,2,0,2],[1,0,1,-1],[-1,0,-2,1],[1,12,1,0]];\n",
    "print(\"DET4: \",calculateDet(det));\n",
    "det = [[2,1,5,-1,6],[1,4,0,3,7],[1,0,0,-7,9],[3,2,1,0,8],[1,1,0,3,4]];\n",
    "print(\"DET5: \",calculateDet(det));"
   ]
  },
  {
   "cell_type": "markdown",
   "metadata": {},
   "source": [
    "#### Ejercicio 3[2 puntos]\n",
    "Implementar un programa en Python tal que tomecomo entrada el nombre de dos archivos de texto. En un archivo hay un conjunto de palabras separadas por coma en una linea y en el otro archivo un texto cualquiera. El programa debe buscar las palabras del primer archivo en el texto del segundo archivo. Como resultado debe mostrar por pantalla cada palabra buscada y junto a ella el núméro de veces que aparece la palabra en el texto. En caso de no aparecer se indicará que no aparece esa palabra. Para realizar la búsqueda no se distingue entre mayúsculas y minúsculas. \n",
    "\n",
    "No se pueden usar ninguna función o método que realice directamente el procesamiento."
   ]
  },
  {
   "cell_type": "code",
   "execution_count": 1,
   "metadata": {},
   "outputs": [],
   "source": [
    "# Elimina los espacios en blanco, las comas y los puntos.\n",
    "\n",
    "def myFormat(myList):\n",
    "    \n",
    "    result = []\n",
    "    \n",
    "    for elem in myList:\n",
    "        \n",
    "        elem = elem.strip();\n",
    "        \n",
    "        elem = elem.replace(\",\",\"\");\n",
    "        \n",
    "        elem = elem.replace(\".\",\"\");\n",
    "        \n",
    "        result.append(elem);\n",
    "    \n",
    "    return result;"
   ]
  },
  {
   "cell_type": "code",
   "execution_count": 2,
   "metadata": {},
   "outputs": [],
   "source": [
    "# Busca las coincidencias y devuelve los matches EXACTOS en un diccionario.\n",
    "\n",
    "def findCoincidences(words,text):\n",
    "    \n",
    "    dictionary = { w : 0 for w in words };\n",
    "\n",
    "    for word in words:\n",
    "\n",
    "        for row in text:\n",
    "\n",
    "            for w in row.split():\n",
    "\n",
    "                if(word.lower() == w.lower()):\n",
    "\n",
    "                    dictionary[w.lower()] += 1;\n",
    "                    \n",
    "    return dictionary;"
   ]
  },
  {
   "cell_type": "code",
   "execution_count": 3,
   "metadata": {},
   "outputs": [],
   "source": [
    "# Lee y devuelve el contenido de los ficheros.\n",
    "\n",
    "def readContentFiles(firstName,secondName):\n",
    "\n",
    "    first = open(firstName);\n",
    "    second = open(secondName);\n",
    "\n",
    "    firstContent = first.readline();\n",
    "    secondContent = second.readlines();\n",
    "\n",
    "    first.close();\n",
    "    second.close();\n",
    "    \n",
    "    return firstContent,secondContent;"
   ]
  },
  {
   "cell_type": "code",
   "execution_count": 6,
   "metadata": {},
   "outputs": [
    {
     "name": "stdout",
     "output_type": "stream",
     "text": [
      "esperanza : NO SALE\n",
      "sol : 4\n",
      "día : 1\n",
      "sueño : NO SALE\n",
      "tormenta : NO SALE\n",
      "humano : NO SALE\n",
      "volverán : 4\n",
      "melodia : NO SALE\n",
      "compás : NO SALE\n",
      "llanto : 1\n"
     ]
    }
   ],
   "source": [
    "# Main\n",
    "\n",
    "try:\n",
    "\n",
    "    firstContent,secondContent = readContentFiles(\"first.csv\",\"second.txt\");\n",
    "\n",
    "    text = myFormat(secondContent);\n",
    "    words = myFormat(firstContent.split(\",\"));\n",
    "\n",
    "    for i in findCoincidences(words,text).items():\n",
    "    \n",
    "        print( i[0] , \":\" , i[1] if i[1] > 0 else \"NO SALE\" );\n",
    "    \n",
    "except:\n",
    "    \n",
    "    print(\"ERROR: LA RUTA NO ESTA BIEN DEFINIDA O EL FICHERO NO EXISTE.\");"
   ]
  },
  {
   "cell_type": "markdown",
   "metadata": {},
   "source": [
    "#### Normas de entrega\n",
    "\n",
    "* Fecha tope de entrega: 26/09/2019\n",
    "* La entrega se realizará subiendo al campus virtual un notebook de Jupyter con la solución. El archivo tendrá como nombre IntroPython_GrupoX donde X será el número de grupo correspondiente."
   ]
  }
 ],
 "metadata": {
  "anaconda-cloud": {},
  "kernelspec": {
   "display_name": "Python 3",
   "language": "python",
   "name": "python3"
  },
  "language_info": {
   "codemirror_mode": {
    "name": "ipython",
    "version": 3
   },
   "file_extension": ".py",
   "mimetype": "text/x-python",
   "name": "python",
   "nbconvert_exporter": "python",
   "pygments_lexer": "ipython3",
   "version": "3.7.3"
  }
 },
 "nbformat": 4,
 "nbformat_minor": 1
}

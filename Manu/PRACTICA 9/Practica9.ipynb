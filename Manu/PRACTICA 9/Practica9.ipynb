{
 "cells": [
  {
   "cell_type": "code",
   "execution_count": 1,
   "metadata": {
    "pycharm": {
     "is_executing": false
    }
   },
   "outputs": [
    {
     "data": {
      "text/plain": "'\\n\\n# CONSULTA 5\\n\\ncollection = db[\\'usuarios\\'];\\n\\nc = \"Canada\";\\n\\nresult = collection.aggregate([\\n    { \"$match\": { \"pais\": { \"$eq\": c } } } ,\\n    { \"$lookup\": { \"from\": \"pedidos\", \"localField\": \"_id\", \"foreignField\": \"cliente\", \"as\": \"pedidosUsuario\" } } ,\\n    { \"$unwind\": \"$pedidosUsuario\" } ,\\n    { \"$project\": { \"_id\": 0, \"pais\": 1, \"total\": \"$pedidosUsuario.total\" } } ,\\n    { \"$group\": { \"_id\": \"$pais\", \"totalPedidos\": { \"$sum\": \"$total\" } } } ,\\n    { \"$project\": { \"_id\": 0, \"pais\": \"$_id\", \"totalPedidos\": \"$totalPedidos\" } }\\n]);\\n\\nfor row in result:\\n    \\n    print(row);\\n\\n'"
     },
     "metadata": {},
     "output_type": "execute_result",
     "execution_count": 1
    }
   ],
   "source": [
    "# mongoimport --db giw --collection pedidos --file pedidos.json\n",
    "# mongoimport --db giw --collection usuarios --file usuarios.json\n",
    "\n",
    "from pymongo import MongoClient\n",
    "\n",
    "mongoClient = MongoClient()\n",
    "db = mongoClient['giw']\n",
    "\n",
    "#**********************************************************************************************************************\n",
    "\n",
    "'''\n",
    "\n",
    "# CONSULTA 1\n",
    "\n",
    "collection = db['usuarios'];\n",
    "\n",
    "n = 1;\n",
    "\n",
    "result = collection.aggregate([\n",
    "    { \"$group\": { \"_id\": \"$pais\" , \"usuarios\": { \"$sum\": 1  }  } } , \n",
    "    { \"$project\": { \"_id\": 0, \"pais\": \"$_id\", \"usuarios\": \"$usuarios\" } } ,\n",
    "    { \"$sort\": { \"usuarios\": -1 , \"_id\": 1  } } , \n",
    "    { \"$limit\": n }\n",
    "]);\n",
    "\n",
    "for row in result:\n",
    "    \n",
    "    print(row);\n",
    "\n",
    "'''\n",
    "\n",
    "#**********************************************************************************************************************\n",
    "\n",
    "'''\n",
    "# CONSULTA 2\n",
    "\n",
    "collection = db['pedidos'];\n",
    "\n",
    "m = 2.34; \n",
    "\n",
    "result = collection.aggregate([\n",
    "    { \"$unwind\": \"$lineas\" } ,\n",
    "    { \"$match\": { \"lineas.precio\": { \"$gte\": m } } } , \n",
    "    { \"$group\": { \"_id\": { \"nombre\": \"$lineas.nombre\" , \"precio\": \"$lineas.precio\" } , \"unidades\": { \"$sum\": 1 }  } } , \n",
    "    { \"$project\": { \"_id\": 0 , \"nombre\": \"$_id.nombre\" , \"unidades\": \"$unidades\" , \"precio\": \"$_id.precio\"  } } \n",
    "]);\n",
    "\n",
    "for row in result:\n",
    "    \n",
    "    print(row);\n",
    "'''\n",
    "\n",
    "#**********************************************************************************************************************\n",
    "\n",
    "'''\n",
    "# CONSULTA 3\n",
    "\n",
    "collection = db['usuarios'];\n",
    "\n",
    "n = 81;\n",
    "\n",
    "result = collection.aggregate([\n",
    "{ \"$group\": { \"_id\": \"$pais\" , \"mp\": { \"$min\": \"$edad\" } , \"mm\": { \"$max\": \"$edad\" } , \"usuarios\": { \"$sum\": 1 } } } ,                          \n",
    "{ \"$match\": { \"usuarios\": { \"$gt\": n } } } ,\n",
    "{ \"$project\": { \"_id\": 0 , \"pais\": \"$_id\", \"rango\": { \"$subtract\": [\"$mm\",\"$mp\"] } } } ,\n",
    "{ \"$sort\": { \"rango\": -1 , \"pais\": 1 } }\n",
    "]);\n",
    "\n",
    "for row in result:\n",
    "    \n",
    "    print(row);\n",
    "'''\n",
    "\n",
    "#**********************************************************************************************************************\n",
    "\n",
    "'''\n",
    "# CONSULTA 4\n",
    "\n",
    "collection = db['usuarios'];\n",
    "\n",
    "result = collection.aggregate([\n",
    "    { \"$lookup\": { \"from\": \"pedidos\", \"localField\": \"_id\", \"foreignField\": \"cliente\", \"as\": \"pedidosUsuario\" } } ,\n",
    "    { \"$unwind\": \"$pedidosUsuario\" } , { \"$project\": { \"_id\": 1, \"pais\": 1, \"totalLineasPedido\": { \"$size\": \"$pedidosUsuario.lineas\" } } } ,\n",
    "    { \"$group\": { \"_id\": \"$pais\", \"totalPedidos\": { \"$sum\": 1 } , \"totalLineas\": { \"$sum\": \"$totalLineasPedido\" } } } ,                                               \n",
    "    { \"$project\": { \"_id\": 0, \"pais\": \"$_id\", \"numeroMedioDeLineas\": { \"$divide\": [\"$totalLineas\",\"$totalPedidos\"] } } } \n",
    "]);\n",
    "\n",
    "for row in result:\n",
    "    \n",
    "    print(row);\n",
    "'''\n",
    "\n",
    "#**********************************************************************************************************************\n",
    "\n",
    "'''\n",
    "\n",
    "# CONSULTA 5\n",
    "\n",
    "collection = db['usuarios'];\n",
    "\n",
    "c = \"Canada\";\n",
    "\n",
    "result = collection.aggregate([\n",
    "    { \"$match\": { \"pais\": { \"$eq\": c } } } ,\n",
    "    { \"$lookup\": { \"from\": \"pedidos\", \"localField\": \"_id\", \"foreignField\": \"cliente\", \"as\": \"pedidosUsuario\" } } ,\n",
    "    { \"$unwind\": \"$pedidosUsuario\" } ,\n",
    "    { \"$project\": { \"_id\": 0, \"pais\": 1, \"total\": \"$pedidosUsuario.total\" } } ,\n",
    "    { \"$group\": { \"_id\": \"$pais\", \"totalPedidos\": { \"$sum\": \"$total\" } } } ,\n",
    "    { \"$project\": { \"_id\": 0, \"pais\": \"$_id\", \"totalPedidos\": \"$totalPedidos\" } }\n",
    "]);\n",
    "\n",
    "for row in result:\n",
    "    \n",
    "    print(row);\n",
    "\n",
    "'''\n"
   ]
  },
  {
   "cell_type": "code",
   "execution_count": 2,
   "metadata": {
    "pycharm": {
     "is_executing": false
    }
   },
   "outputs": [
    {
     "name": "stdout",
     "text": [
      "{'nombre': 'velit', 'unidades': 1325, 'precio': 3.44}\n{'nombre': 'delectus', 'unidades': 1318, 'precio': 4.34}\n{'nombre': 'autem', 'unidades': 1308, 'precio': 5.27}\n{'nombre': 'ducimus', 'unidades': 1355, 'precio': 3.8}\n{'nombre': 'quis', 'unidades': 1324, 'precio': 3.34}\n{'nombre': 'mollitia', 'unidades': 1334, 'precio': 3.62}\n{'nombre': 'ea', 'unidades': 1318, 'precio': 2.44}\n{'nombre': 'est', 'unidades': 1322, 'precio': 5.59}\n{'nombre': 'iusto', 'unidades': 1341, 'precio': 4.48}\n{'nombre': 'id', 'unidades': 1311, 'precio': 3.63}\n{'nombre': 'veritatis', 'unidades': 1325, 'precio': 4.55}\n{'nombre': 'nihil', 'unidades': 1294, 'precio': 2.73}\n{'nombre': 'ab', 'unidades': 1357, 'precio': 3.43}\n{'nombre': 'quae', 'unidades': 1318, 'precio': 4.04}\n{'nombre': 'voluptatibus', 'unidades': 1378, 'precio': 3.74}\n{'nombre': 'numquam', 'unidades': 1360, 'precio': 3.2}\n{'nombre': 'possimus', 'unidades': 1293, 'precio': 4.03}\n"
     ],
     "output_type": "stream"
    }
   ],
   "source": [
    "# CONSULTA 2\n",
    "\n",
    "collection = db['pedidos'];\n",
    "\n",
    "m = 2.34; \n",
    "\n",
    "result = collection.aggregate([\n",
    "    { \"$unwind\": \"$lineas\" } ,\n",
    "    { \"$match\": { \"lineas.precio\": { \"$gte\": m } } } , \n",
    "    { \"$group\": { \"_id\": { \"nombre\": \"$lineas.nombre\" , \"precio\": \"$lineas.precio\" } , \"unidades\": { \"$sum\": 1 }  } } , \n",
    "    { \"$project\": { \"_id\": 0 , \"nombre\": \"$_id.nombre\" , \"unidades\": \"$unidades\" , \"precio\": \"$_id.precio\"  } } \n",
    "]);\n",
    "\n",
    "for row in result:\n",
    "    \n",
    "    print(row);"
   ]
  },
  {
   "cell_type": "code",
   "execution_count": null,
   "metadata": {},
   "outputs": [],
   "source": []
  }
 ],
 "metadata": {
  "kernelspec": {
   "display_name": "Python 3",
   "language": "python",
   "name": "python3"
  },
  "language_info": {
   "codemirror_mode": {
    "name": "ipython",
    "version": 3
   },
   "file_extension": ".py",
   "mimetype": "text/x-python",
   "name": "python",
   "nbconvert_exporter": "python",
   "pygments_lexer": "ipython3",
   "version": "3.7.3"
  },
  "pycharm": {
   "stem_cell": {
    "cell_type": "raw",
    "source": [],
    "metadata": {
     "collapsed": false
    }
   }
  }
 },
 "nbformat": 4,
 "nbformat_minor": 2
}
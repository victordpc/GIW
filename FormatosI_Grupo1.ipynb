{
 "cells": [
  {
   "cell_type": "markdown",
   "metadata": {},
   "source": [
    "### Práctica de Formatos de datos: CSV y JSON"
   ]
  },
  {
   "cell_type": "markdown",
   "metadata": {},
   "source": [
    "#### Ejercicio 1[5 puntos]\n",
    "Considerar el archivo __Contaminación.csv__. El archivo contiene la información recogida por las estaciones de control de calidad del aire durante el año 2019.\n",
    "\n",
    "Una descripción detallada de la estructura de los datos se puede encontrar en el siguiente enlace: https://datos.madrid.es/FWProjects/egob/Catalogo/MedioAmbiente/Aire/Ficheros/Interprete_ficheros_%20calidad_%20del_%20aire_global.pdf\n",
    "\n",
    "La información contenida por columnas es la siguiente:\n",
    "* __PROVINCIA__: Código numérico que representa la provincia. \n",
    "* __MUNICIPIO__: Código numérico que representa el municipio. \n",
    "* __ESTACIÓN__: Código numérico de hasta dos dígitos que representa la estación. Consultar ANEXO I de la documentación\n",
    "* __MAGNITUD__: Código numérico de hasta dos dígitos que representa la magnitud.Consultar ANEXO II de la documentación\n",
    "* __PUNTO MUESTREO__: Código numérico formado por 3 subcódigos. El primer código representa la estación, el segundo código representa la magnitud, y el tercer código representa la técnica de medida.\n",
    "* __MES__: Mes de la toma de datos. Valor entre 1 y 12.\n",
    "* __D01-D31__: Medidas tomadas desde el día D01 hasta el día D31 del mes correspondiente.\n",
    "* __V01-V31__: Validez de las medidas tomadas desde el día D01 hasta el día D31 del mes correspondiente. Puede valer V(Válido), N(No válido), no se conoce(vacío) o bien otra cadena(se considera incorrecto).\n",
    "\n",
    "\n",
    "Se pide crear un programa que realice las siguientes operaciones:\n",
    "* Leer los datos del archivo __Contaminación.csv__\n",
    "* Transformar los datos leidos de manera que aquellos valores que no sean válidos (\"N\") su valor sea sustituido por 0.\n",
    "* Obtener y  mostrar por pantalla para cada tipo de contaminante (columna Magnitud) y para cada estación (columna ESTACIÓN), la suma total de la contaminación que se ha producido durante el año 2019, es decir:\n",
    "\n",
    "|Estación|Contaminante1| Contaminante2| Contaminante3| ....Contaminanten|\n",
    "|----|-------------|-------------|-------------|-------------|\n",
    "|Estación1|Subtotal11 |--- |--- |Subtotal1n|  \n",
    "|Estación2|--- |--- |--- |--- | \n",
    "|   ...|--- |--- |--- |--- |     \n",
    "|Estaciónn|Subtotal1n |--- |--- |Subtotalnn| \n",
    "     \n",
    "* Generar un documento __Salida.csv__ donde cada línea del documento contiene la siguiente información:\n",
    "    Estación1, Contaminante1,Subtotal1, Contaminante2,Subtotal2,......................,Contaminanten,Subtotaln\n",
    "    \n",
    "    Estaciónm, Contaminante1,Subtotal1, Contaminante2,Subtotal2,......................,Contaminanten,Subtotaln\n",
    "    \n",
    "Tanto en lo que mostréis por pantalla como lo que escribáis en el archivo usad los nombres de los contaminantes y de las estaciones que aparecen en los anexos de la documentación indicada más arriba.\n",
    "    "
   ]
  },
  {
   "cell_type": "markdown",
   "metadata": {},
   "source": [
    "Para leer los archivos usa un código como el siguiente:"
   ]
  },
  {
   "cell_type": "code",
   "execution_count": null,
   "metadata": {},
   "outputs": [],
   "source": [
    "import csv\n",
    "csvarchivo = open('Contaminación.csv',encoding=\"utf8\",errors='ignore')\n",
    "entrada = csv.reader(csvarchivo, delimiter=\";\")\n",
    "for i in entrada:\n",
    "    print(i)"
   ]
  },
  {
   "cell_type": "code",
   "execution_count": null,
   "metadata": {},
   "outputs": [],
   "source": []
  },
  {
   "cell_type": "markdown",
   "metadata": {},
   "source": [
    "#### Ejercicio 2[5 puntos]\n",
    "Considerar los archivos  __Estaciones.csv__ y __Museos.json__ que incluye información sobre las estaciones de control de la calidad del aire y sobre los museos de Madrid respectivamente.\n",
    "\n",
    "El objetivo de este ejercicio es utilizar la información obtenida en el ejercicio 1 de forma que para cada uno de los museos que aparece en el archivo dado realice las siguientes operaciones:\n",
    "* Obtener las 3 estaciones más cercanas a cada museo.\n",
    "* Obtener y mostrar por pantalla para cada museo la siguiente información donde ValorX es el subtotal del nivel de contaminación más alto de todos los contaminantes medidos en la estaciónX, y TipoContaminanteX es el tipo del contaminante cuyo valor es mostrado en la celda anterior.\n",
    "\n",
    "|Museo|Estación1|TipoContaminante1| Estación2|TipoContaminante2| Estación3|TipoContaminante3|\n",
    "|----|-------------|-------------|-------------|----|----|----|\n",
    "|Museo1|Valor1 |Tipo1 |Valor2|Tipo2|Valor3|  Tipo3 |\n",
    "|Museo2|--- |--- |--- |--- | --- | --- | \n",
    "|   ...|--- |--- |--- |--- | --- | --- |     \n",
    "|Museon|Valor1 |Tipo1 |Valor2|Tipo2|Valor3|  Tipo3 |\n",
    "\n",
    "* Generar un documento __Salida.json__ con la siguiente estructura:"
   ]
  },
  {
   "cell_type": "raw",
   "metadata": {},
   "source": [
    "{\n",
    "  \"año\": 2019,\n",
    "  \"fuente\": \"Ayuntamiento de Madrid\",\n",
    "  \"museos\": [\n",
    "    {\n",
    "      \"museo\": \"Museo xxxx\",\n",
    "      \"Estación 1\": {\n",
    "        \"Nombre\": \"Estación X\",\n",
    "        \"Valor\": XX,\n",
    "        \"Tipo\":TipoContaminante\n",
    "      },\n",
    "      \"Estación 2\": {\n",
    "        \"Nombre\": \"Estación Y\",\n",
    "        \"Valor\": XX,\n",
    "        \"Tipo\":TipoContaminante\n",
    "      },\n",
    "      \"Estación 3\": {\n",
    "        \"Nombre\": \"Estación Z\",\n",
    "        \"Valor\": XX,\n",
    "        \"Tipo\":TipoContaminante\n",
    "      }\n",
    "    },\n",
    "    ...\n",
    "    {\n",
    "      \"museo\": \"Museo xxxx\",\n",
    "      \"Estación 1\": {\n",
    "        \"Nombre\": \"Estación X\",\n",
    "        \"Valor\": XX,\n",
    "        \"Tipo\":TipoContaminante\n",
    "      },\n",
    "      \"Estación 2\": {\n",
    "        \"Nombre\": \"Estación Y\",\n",
    "        \"Valor\": XX,\n",
    "        \"Tipo\":TipoContaminante\n",
    "      },\n",
    "      \"Estación 3\": {\n",
    "        \"Nombre\": \"Estación Z\",\n",
    "        \"Valor\": XX,\n",
    "        \"Tipo\":TipoContaminante\n",
    "      }\n",
    "    }\n",
    "  ]\n",
    "}"
   ]
  },
  {
   "cell_type": "markdown",
   "metadata": {},
   "source": [
    "Tanto en lo que mostréis por pantalla como lo que escribáis en el archivo usad los nombres de los contaminantes y de las estaciones que aparecen en los anexos de la documentación indicada más arriba.\n",
    "\n",
    "Para leer los archivos usa un código como el siguiente:"
   ]
  },
  {
   "cell_type": "code",
   "execution_count": null,
   "metadata": {},
   "outputs": [],
   "source": [
    "import json\n",
    "leer = json.loads(open('Museos.json',encoding=\"utf8\").read())\n",
    "print(leer)"
   ]
  },
  {
   "cell_type": "markdown",
   "metadata": {},
   "source": [
    "En los documentos __Estación.csv__ y __Museos.json__ aparece la información de geolocalización en forma de longitud y latitud tanto de las estaciones como de los museos. En este sentido, para calcular la distancia entre dos puntos dadas sus coordenadas se utilizará la siguiente función en Python:"
   ]
  },
  {
   "cell_type": "raw",
   "metadata": {},
   "source": [
    "import math\n",
    "\n",
    "def haversine(lat1, lon1, lat2, lon2):\n",
    "    rad=math.pi/180\n",
    "    dlat=lat2-lat1\n",
    "    dlon=lon2-lon1\n",
    "    R=6372.795477598\n",
    "    a=(math.sin(rad*dlat/2))**2 + math.cos(rad*lat1)*math.cos(rad*lat2)*(math.sin(rad*dlon/2))**2\n",
    "    distancia=2*R*math.asin(math.sqrt(a))\n",
    "    return distancia"
   ]
  },
  {
   "cell_type": "markdown",
   "metadata": {},
   "source": [
    "#### Normas de entrega\n",
    "\n",
    "* Fecha tope de entrega: 03/10/2019\n",
    "* La entrega se realizará subiendo al campus virtual un notebook de Jupyter con la solución. El archivo tendrá como nombre FormatosI_GrupoX donde X será el número de grupo correspondiente."
   ]
  }
 ],
 "metadata": {
  "kernelspec": {
   "display_name": "Python 3",
   "language": "python",
   "name": "python3"
  },
  "language_info": {
   "codemirror_mode": {
    "name": "ipython",
    "version": 3
   },
   "file_extension": ".py",
   "mimetype": "text/x-python",
   "name": "python",
   "nbconvert_exporter": "python",
   "pygments_lexer": "ipython3",
   "version": "3.7.3"
  }
 },
 "nbformat": 4,
 "nbformat_minor": 2
}

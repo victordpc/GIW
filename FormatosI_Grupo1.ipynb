{
 "cells": [
  {
   "cell_type": "markdown",
   "metadata": {},
   "source": [
    "### Práctica de Formatos de datos: CSV y JSON"
   ]
  },
  {
   "cell_type": "markdown",
   "metadata": {},
   "source": [
    "#### Ejercicio 1[5 puntos]\n",
    "Considerar el archivo __Contaminación.csv__. El archivo contiene la información recogida por las estaciones de control de calidad del aire durante el año 2019.\n",
    "\n",
    "Una descripción detallada de la estructura de los datos se puede encontrar en el siguiente enlace: https://datos.madrid.es/FWProjects/egob/Catalogo/MedioAmbiente/Aire/Ficheros/Interprete_ficheros_%20calidad_%20del_%20aire_global.pdf\n",
    "\n",
    "La información contenida por columnas es la siguiente:\n",
    "* __PROVINCIA__: Código numérico que representa la provincia. \n",
    "* __MUNICIPIO__: Código numérico que representa el municipio. \n",
    "* __ESTACIÓN__: Código numérico de hasta dos dígitos que representa la estación. Consultar ANEXO I de la documentación\n",
    "* __MAGNITUD__: Código numérico de hasta dos dígitos que representa la magnitud.Consultar ANEXO II de la documentación\n",
    "* __PUNTO MUESTREO__: Código numérico formado por 3 subcódigos. El primer código representa la estación, el segundo código representa la magnitud, y el tercer código representa la técnica de medida.\n",
    "* __MES__: Mes de la toma de datos. Valor entre 1 y 12.\n",
    "* __D01-D31__: Medidas tomadas desde el día D01 hasta el día D31 del mes correspondiente.\n",
    "* __V01-V31__: Validez de las medidas tomadas desde el día D01 hasta el día D31 del mes correspondiente. Puede valer V(Válido), N(No válido), no se conoce(vacío) o bien otra cadena(se considera incorrecto).\n",
    "\n",
    "\n",
    "Se pide crear un programa que realice las siguientes operaciones:\n",
    "* Leer los datos del archivo __Contaminación.csv__\n",
    "* Transformar los datos leidos de manera que aquellos valores que no sean válidos (\"N\") su valor sea sustituido por 0.\n",
    "* Obtener y  mostrar por pantalla para cada tipo de contaminante (columna Magnitud) y para cada estación (columna ESTACIÓN), la suma total de la contaminación que se ha producido durante el año 2019, es decir:\n",
    "\n",
    "|Estación|Contaminante1| Contaminante2| Contaminante3| ....Contaminanten|\n",
    "|----|-------------|-------------|-------------|-------------|\n",
    "|Estación1|Subtotal11 |--- |--- |Subtotal1n|  \n",
    "|Estación2|--- |--- |--- |--- | \n",
    "|   ...|--- |--- |--- |--- |     \n",
    "|Estaciónn|Subtotal1n |--- |--- |Subtotalnn| \n",
    "     \n",
    "* Generar un documento __Salida.csv__ donde cada línea del documento contiene la siguiente información:\n",
    "    Estación1, Contaminante1,Subtotal1, Contaminante2,Subtotal2,......................,Contaminanten,Subtotaln\n",
    "    \n",
    "    Estaciónm, Contaminante1,Subtotal1, Contaminante2,Subtotal2,......................,Contaminanten,Subtotaln\n",
    "    \n",
    "Tanto en lo que mostréis por pantalla como lo que escribáis en el archivo usad los nombres de los contaminantes y de las estaciones que aparecen en los anexos de la documentación indicada más arriba.\n",
    "    "
   ]
  },
  {
   "cell_type": "markdown",
   "metadata": {},
   "source": [
    "Para leer los archivos usa un código como el siguiente:"
   ]
  },
  {
   "cell_type": "code",
   "execution_count": 1,
   "metadata": {},
   "outputs": [],
   "source": [
    "import csv\n",
    "\n",
    "medidas = {1: 'Dióxido de Azufre', 6: 'Monóxido de Carbono', 7: 'Monóxido de Nitrógeno', 8: 'Dióxido de Nitrógeno', 9: 'Partículas < 2.5 µm', 10: 'Partículas < 10 µm', 12: 'Óxidos de Nitrógeno', 14: 'Ozono',\n",
    "           20: 'Tolueno', 30: 'Benceno', 35: 'Etilbenceno', 37: 'Metaxileno', 38: 'Paraxileno', 39: 'Ortoxileno', 42: 'Hidrocarburos totales (Hexano)', 43: 'Metano', 44: 'Hidrocarburos no metánicos (hexano)'}\n",
    "\n",
    "\n",
    "def leer_estaciones():\n",
    "    resultado = dict()\n",
    "\n",
    "    with open('Estaciones.csv', encoding=\"utf8\", errors='ignore') as csvestaciones:\n",
    "        entrada = csv.reader(csvestaciones, delimiter=\";\")\n",
    "\n",
    "        for linea in entrada:\n",
    "            if entrada.line_num == 1:\n",
    "                continue\n",
    "            resultado[int(linea[1])] = linea[2]\n",
    "\n",
    "    return resultado\n",
    "\n",
    "\n",
    "def procesar_datos():\n",
    "    datos = dict()\n",
    "    with open('Contaminación.csv', encoding=\"utf8\", errors='ignore') as csvarchivo:\n",
    "        entrada = csv.reader(csvarchivo, delimiter=\";\")\n",
    "\n",
    "        for i in entrada:\n",
    "            if entrada.line_num == 1:\n",
    "                continue\n",
    "\n",
    "            estacion = int(i[2])\n",
    "            magnitud = int(i[3])\n",
    "\n",
    "            if estacion not in datos:\n",
    "                datos[estacion] = dict()\n",
    "\n",
    "            valor = 0.0\n",
    "            if magnitud in datos[estacion]:\n",
    "                valor = datos[estacion][magnitud]\n",
    "\n",
    "            # Columnas de valores de contaminación [7-68]\n",
    "            for celda in range(8, 69, 2):\n",
    "                if i[celda].upper() == \"V\":\n",
    "                    valor = valor+float(i[celda-1])\n",
    "\n",
    "            datos[estacion][magnitud] = valor\n",
    "    return datos\n",
    "\n",
    "\n",
    "def presentar_datos(datos):\n",
    "\n",
    "    with open('Salida.csv', 'w', encoding='utf8') as destino:\n",
    "        salida = csv.writer(destino,delimiter=';')\n",
    "\n",
    "        # Cabecera\n",
    "        cabecera=['Estación']\n",
    "        for contaminanteM in medidas.values():\n",
    "            cabecera.append(contaminanteM)\n",
    "        salida.writerow(cabecera)\n",
    "\n",
    "        for estacion in datos:\n",
    "            datosSalida = [estaciones[estacion]]\n",
    "\n",
    "            for valor in medidas.keys():\n",
    "                if valor in datos[estacion]:\n",
    "                    datosSalida.append(datos[estacion][valor])\n",
    "                else:\n",
    "                    datosSalida.append('---')\n",
    "            salida.writerow(datosSalida)"
   ]
  },
  {
   "cell_type": "code",
   "execution_count": 4,
   "metadata": {},
   "outputs": [
    {
     "name": "stdout",
     "output_type": "stream",
     "text": [
      "['Estación', 'Dióxido de Azufre', 'Monóxido de Carbono', 'Monóxido de Nitrógeno', 'Dióxido de Nitrógeno', 'Partículas < 2.5 µm', 'Partículas < 10 µm', 'Óxidos de Nitrógeno', 'Ozono', 'Tolueno', 'Benceno', 'Etilbenceno', 'Metaxileno', 'Paraxileno', 'Ortoxileno', 'Hidrocarburos totales (Hexano)', 'Metano', 'Hidrocarburos no metánicos (hexano)']\n",
      "[]\n",
      "['Pza. de España', '2016.0', '104.99999999999984', '6373.0', '10392.0', '---', '---', '20147.0', '---', '---', '---', '---', '---', '---', '---', '---', '---', '---']\n",
      "[]\n",
      "['Escuelas Aguirre', '2098.0', '46.700000000000145', '4819.0', '12109.0', '2595.0', '5230.0', '19486.0', '12049.0', '632.9000000000001', '146.8000000000002', '113.50000000000009', '---', '---', '---', '375.07000000000016', '352.2100000000001', '23.12']\n",
      "[]\n",
      "['Avda. Ramón y Cajal', '---', '---', '3417.0', '9288.0', '---', '---', '14549.0', '---', '396.3999999999997', '92.00000000000001', '69.30000000000014', '---', '---', '---', '---', '---', '---']\n",
      "[]\n",
      "['Arturo Soria', '---', '71.00000000000024', '2647.0', '8131.0', '---', '---', '12195.0', '9343.0', '---', '---', '---', '---', '---', '---', '---', '---', '---']\n",
      "[]\n",
      "['Villaverde', '2017.0', '---', '7030.0', '9433.0', '---', '---', '20215.0', '13818.0', '---', '---', '---', '---', '---', '---', '---', '---', '---']\n",
      "[]\n",
      "['Farolillo', '2811.0', '116.79999999999973', '3370.0', '7724.0', '---', '3727.0', '12894.0', '15462.0', '394.8', '83.29999999999991', '68.1000000000002', '---', '---', '---', '---', '---', '---']\n",
      "[]\n",
      "['Casa de Campo', '1103.0', '51.00000000000023', '1427.0', '4843.0', '2331.0', '3252.0', '7030.0', '16209.0', '278.5', '78.89999999999995', '42.600000000000215', '---', '---', '---', '307.67000000000013', '291.9799999999999', '15.76000000000001']\n",
      "[]\n",
      "['Barajas Pueblo', '---', '---', '3002.0', '8076.0', '---', '---', '12677.0', '14392.0', '---', '---', '---', '---', '---', '---', '---', '---', '---']\n",
      "[]\n",
      "['Pza. del Carmen', '3051.0', '97.90000000000015', '4068.0', '8304.0', '---', '---', '14542.0', '11870.0', '---', '---', '---', '---', '---', '---', '---', '---', '---']\n",
      "[]\n",
      "['Moratalaz', '2368.0', '76.4000000000002', '3572.0', '8521.0', '---', '5059.0', '13995.0', '---', '---', '---', '---', '---', '---', '---', '---', '---', '---']\n",
      "[]\n",
      "['Cuatro Caminos', '2304.0', '---', '4235.0', '8510.0', '2230.0', '4611.0', '14986.0', '---', '423.39999999999975', '107.80000000000003', '315.20000000000016', '---', '---', '---', '---', '---', '---']\n",
      "[]\n",
      "['Barrio del Pilar', '---', '77.00000000000016', '4605.0', '8492.0', '---', '---', '15536.0', '14484.0', '---', '---', '---', '---', '---', '---', '---', '---', '---']\n",
      "[]\n",
      "['Vallecas', '2307.0', '---', '3012.0', '8459.0', '---', '4313.0', '13080.0', '---', '---', '---', '---', '---', '---', '---', '---', '---', '---']\n",
      "[]\n",
      "['Mendez Alvaro', '---', '---', '3387.0', '7637.0', '2202.0', '4238.0', '12838.0', '---', '---', '---', '---', '---', '---', '---', '---', '---', '---']\n",
      "[]\n",
      "['Castellana', '---', '---', '2411.0', '7912.0', '2305.0', '4618.0', '11604.0', '---', '---', '---', '---', '---', '---', '---', '---', '---', '---']\n",
      "[]\n",
      "['Parque del Retiro', '---', '---', '1775.0', '5781.0', '---', '---', '8517.0', '14941.0', '---', '---', '---', '---', '---', '---', '---', '---', '---']\n",
      "[]\n",
      "['Plaza Castilla', '---', '---', '3670.0', '8840.0', '2261.0', '4830.0', '14454.0', '---', '---', '---', '---', '---', '---', '---', '---', '---', '---']\n",
      "[]\n",
      "['Ensanche de Vallecas', '---', '---', '3466.0', '8548.0', '---', '---', '13872.0', '14059.0', '---', '---', '---', '---', '---', '---', '---', '---', '---']\n",
      "[]\n",
      "['Urb. Embajada', '---', '---', '4152.0', '9275.0', '---', '5381.0', '15638.0', '---', '318.20000000000005', '83.20000000000005', '61.40000000000006', '---', '---', '---', '353.50000000000006', '323.2100000000003', '30.459999999999972']\n",
      "[]\n",
      "['Pza. Elíptica', '---', '76.30000000000008', '9535.0', '13286.0', '2859.0', '5174.0', '27888.0', '12441.0', '---', '---', '---', '---', '---', '---', '---', '---', '---']\n",
      "[]\n",
      "['Sanchinarro', '2325.0', '66.40000000000016', '2561.0', '7325.0', '---', '3689.0', '11251.0', '---', '---', '---', '---', '---', '---', '---', '---', '---', '---']\n",
      "[]\n",
      "['El Pardo', '---', '---', '905.0', '3702.0', '---', '---', '5098.0', '16015.0', '---', '---', '---', '---', '---', '---', '---', '---', '---']\n",
      "[]\n",
      "['Juan Carlos I', '---', '---', '1803.0', '5541.0', '---', '---', '8298.0', '14401.0', '---', '---', '---', '---', '---', '---', '---', '---', '---']\n",
      "[]\n",
      "['Tres Olivos', '---', '---', '2317.0', '6112.0', '---', '3708.0', '9656.0', '16864.0', '---', '---', '---', '---', '---', '---', '---', '---', '---']\n",
      "[]\n"
     ]
    }
   ],
   "source": [
    "estaciones = leer_estaciones()\n",
    "datos = procesar_datos()\n",
    "presentar_datos(datos)\n",
    "\n",
    "with open('Salida.csv', encoding='utf8',errors='ignore') as documento:\n",
    "    entrada = csv.reader(documento, delimiter=\";\")\n",
    "    for texto in entrada:\n",
    "        print(texto)\n"
   ]
  },
  {
   "cell_type": "code",
   "execution_count": null,
   "metadata": {},
   "outputs": [],
   "source": []
  },
  {
   "cell_type": "markdown",
   "metadata": {},
   "source": [
    "#### Ejercicio 2[5 puntos]\n",
    "Considerar los archivos  __Estaciones.csv__ y __Museos.json__ que incluye información sobre las estaciones de control de la calidad del aire y sobre los museos de Madrid respectivamente.\n",
    "\n",
    "El objetivo de este ejercicio es utilizar la información obtenida en el ejercicio 1 de forma que para cada uno de los museos que aparece en el archivo dado realice las siguientes operaciones:\n",
    "* Obtener las 3 estaciones más cercanas a cada museo.\n",
    "* Obtener y mostrar por pantalla para cada museo la siguiente información donde ValorX es el subtotal del nivel de contaminación más alto de todos los contaminantes medidos en la estaciónX, y TipoContaminanteX es el tipo del contaminante cuyo valor es mostrado en la celda anterior.\n",
    "\n",
    "|Museo|Estación1|TipoContaminante1| Estación2|TipoContaminante2| Estación3|TipoContaminante3|\n",
    "|----|-------------|-------------|-------------|----|----|----|\n",
    "|Museo1|Valor1 |Tipo1 |Valor2|Tipo2|Valor3|  Tipo3 |\n",
    "|Museo2|--- |--- |--- |--- | --- | --- | \n",
    "|   ...|--- |--- |--- |--- | --- | --- |     \n",
    "|Museon|Valor1 |Tipo1 |Valor2|Tipo2|Valor3|  Tipo3 |\n",
    "\n",
    "* Generar un documento __Salida.json__ con la siguiente estructura:"
   ]
  },
  {
   "cell_type": "raw",
   "metadata": {},
   "source": [
    "{\n",
    "  \"año\": 2019,\n",
    "  \"fuente\": \"Ayuntamiento de Madrid\",\n",
    "  \"museos\": [\n",
    "    {\n",
    "      \"museo\": \"Museo xxxx\",\n",
    "      \"Estación 1\": {\n",
    "        \"Nombre\": \"Estación X\",\n",
    "        \"Valor\": XX,\n",
    "        \"Tipo\":TipoContaminante\n",
    "      },\n",
    "      \"Estación 2\": {\n",
    "        \"Nombre\": \"Estación Y\",\n",
    "        \"Valor\": XX,\n",
    "        \"Tipo\":TipoContaminante\n",
    "      },\n",
    "      \"Estación 3\": {\n",
    "        \"Nombre\": \"Estación Z\",\n",
    "        \"Valor\": XX,\n",
    "        \"Tipo\":TipoContaminante\n",
    "      }\n",
    "    },\n",
    "    ...\n",
    "    {\n",
    "      \"museo\": \"Museo xxxx\",\n",
    "      \"Estación 1\": {\n",
    "        \"Nombre\": \"Estación X\",\n",
    "        \"Valor\": XX,\n",
    "        \"Tipo\":TipoContaminante\n",
    "      },\n",
    "      \"Estación 2\": {\n",
    "        \"Nombre\": \"Estación Y\",\n",
    "        \"Valor\": XX,\n",
    "        \"Tipo\":TipoContaminante\n",
    "      },\n",
    "      \"Estación 3\": {\n",
    "        \"Nombre\": \"Estación Z\",\n",
    "        \"Valor\": XX,\n",
    "        \"Tipo\":TipoContaminante\n",
    "      }\n",
    "    }\n",
    "  ]\n",
    "}"
   ]
  },
  {
   "cell_type": "markdown",
   "metadata": {},
   "source": [
    "Tanto en lo que mostréis por pantalla como lo que escribáis en el archivo usad los nombres de los contaminantes y de las estaciones que aparecen en los anexos de la documentación indicada más arriba.\n",
    "\n",
    "Para leer los archivos usa un código como el siguiente:"
   ]
  },
  {
   "cell_type": "code",
   "execution_count": null,
   "metadata": {},
   "outputs": [],
   "source": []
  },
  {
   "cell_type": "code",
   "execution_count": 3,
   "metadata": {},
   "outputs": [
    {
     "ename": "NameError",
     "evalue": "name 'leer_estaciones' is not defined",
     "output_type": "error",
     "traceback": [
      "\u001b[1;31m---------------------------------------------------------------------------\u001b[0m",
      "\u001b[1;31mNameError\u001b[0m                                 Traceback (most recent call last)",
      "\u001b[1;32m<ipython-input-3-d79c241db5d4>\u001b[0m in \u001b[0;36m<module>\u001b[1;34m\u001b[0m\n\u001b[1;32m----> 1\u001b[1;33m \u001b[0mestaciones\u001b[0m \u001b[1;33m=\u001b[0m \u001b[0mleer_estaciones\u001b[0m\u001b[1;33m(\u001b[0m\u001b[1;33m)\u001b[0m\u001b[1;33m\u001b[0m\u001b[1;33m\u001b[0m\u001b[0m\n\u001b[0m\u001b[0;32m      2\u001b[0m \u001b[0mmuseos\u001b[0m \u001b[1;33m=\u001b[0m \u001b[0mleer_museos\u001b[0m\u001b[1;33m(\u001b[0m\u001b[1;33m)\u001b[0m\u001b[1;33m\u001b[0m\u001b[1;33m\u001b[0m\u001b[0m\n\u001b[0;32m      3\u001b[0m \u001b[0mvalores\u001b[0m \u001b[1;33m=\u001b[0m \u001b[0mleer_valores\u001b[0m\u001b[1;33m(\u001b[0m\u001b[1;33m)\u001b[0m\u001b[1;33m\u001b[0m\u001b[1;33m\u001b[0m\u001b[0m\n\u001b[0;32m      4\u001b[0m \u001b[0mpresentar_datos\u001b[0m\u001b[1;33m(\u001b[0m\u001b[0mestaciones\u001b[0m\u001b[1;33m,\u001b[0m \u001b[0mvalores\u001b[0m\u001b[1;33m,\u001b[0m \u001b[0mmuseos\u001b[0m\u001b[1;33m)\u001b[0m\u001b[1;33m\u001b[0m\u001b[1;33m\u001b[0m\u001b[0m\n",
      "\u001b[1;31mNameError\u001b[0m: name 'leer_estaciones' is not defined"
     ]
    }
   ],
   "source": [
    "estaciones = leer_estaciones()\n",
    "museos = leer_museos()\n",
    "valores = leer_valores()\n",
    "presentar_datos(estaciones, valores, museos)"
   ]
  },
  {
   "cell_type": "code",
   "execution_count": 2,
   "metadata": {},
   "outputs": [
    {
     "name": "stdout",
     "output_type": "stream",
     "text": [
      "{'año': 2019, 'fuente': 'Ayuntamiento de Madrid', 'museos': [{'museo': 'Casa Museo Lope de Vega', 'Estación 1': {'Nombre': 'Pza. del Carmen', 'Valor': 14542.0, 'Tipo': 'Óxidos de Nitrógeno'}}, {'museo': 'Casita - Museo del Ratón Pérez', 'Estación 1': {'Nombre': 'Pza. del Carmen', 'Valor': 14542.0, 'Tipo': 'Óxidos de Nitrógeno'}}, {'museo': 'Castillo de la Alameda', 'Estación 1': {'Nombre': 'Urb. Embajada', 'Valor': 15638.0, 'Tipo': 'Óxidos de Nitrógeno'}}, {'museo': 'Casón del Buen Retiro', 'Estación 1': {'Nombre': 'Parque del Retiro', 'Valor': 14941.0, 'Tipo': 'Ozono'}}, {'museo': 'Centro Social y Cultural La Casa Encendida', 'Estación 1': {'Nombre': 'Mendez Alvaro', 'Valor': 12838.0, 'Tipo': 'Óxidos de Nitrógeno'}}, {'museo': 'Ermita de San Antonio de la Florida (Museo)', 'Estación 1': {'Nombre': 'Pza. de España', 'Valor': 20147.0, 'Tipo': 'Óxidos de Nitrógeno'}}, {'museo': 'Espacio Fundación Telefónica', 'Estación 1': {'Nombre': 'Pza. del Carmen', 'Valor': 14542.0, 'Tipo': 'Óxidos de Nitrógeno'}}, {'museo': 'Fundación AMYC (Arte Moderno y Contemporáneo). Casa - Museo Fuente del Rey', 'Estación 1': {'Nombre': 'Casa de Campo', 'Valor': 16209.0, 'Tipo': 'Ozono'}}, {'museo': 'Monasterio de las Descalzas Reales', 'Estación 1': {'Nombre': 'Pza. del Carmen', 'Valor': 14542.0, 'Tipo': 'Óxidos de Nitrógeno'}}, {'museo': 'Museo ABC', 'Estación 1': {'Nombre': 'Pza. de España', 'Valor': 20147.0, 'Tipo': 'Óxidos de Nitrógeno'}}, {'museo': 'Museo Africano Mundo Negro', 'Estación 1': {'Nombre': 'Arturo Soria', 'Valor': 12195.0, 'Tipo': 'Óxidos de Nitrógeno'}}, {'museo': 'Museo Arqueológico Nacional', 'Estación 1': {'Nombre': 'Escuelas Aguirre', 'Valor': 19486.0, 'Tipo': 'Óxidos de Nitrógeno'}}, {'museo': 'Museo Casa de la Moneda', 'Estación 1': {'Nombre': 'Escuelas Aguirre', 'Valor': 19486.0, 'Tipo': 'Óxidos de Nitrógeno'}}, {'museo': 'Museo Cerralbo', 'Estación 1': {'Nombre': 'Pza. de España', 'Valor': 20147.0, 'Tipo': 'Óxidos de Nitrógeno'}}, {'museo': 'Museo EMT', 'Estación 1': {'Nombre': 'Plaza Castilla', 'Valor': 14454.0, 'Tipo': 'Óxidos de Nitrógeno'}}, {'museo': 'Museo Félix Cañada', 'Estación 1': {'Nombre': 'Cuatro Caminos', 'Valor': 14986.0, 'Tipo': 'Óxidos de Nitrógeno'}}, {'museo': 'Museo Geominero', 'Estación 1': {'Nombre': 'Cuatro Caminos', 'Valor': 14986.0, 'Tipo': 'Óxidos de Nitrógeno'}}, {'museo': 'Museo Histórico Minero Don Felipe de Borbón y Grecia', 'Estación 1': {'Nombre': 'Cuatro Caminos', 'Valor': 14986.0, 'Tipo': 'Óxidos de Nitrógeno'}}, {'museo': 'Museo ICO', 'Estación 1': {'Nombre': 'Pza. del Carmen', 'Valor': 14542.0, 'Tipo': 'Óxidos de Nitrógeno'}}, {'museo': 'Museo Los Caños del Peral. Estación de Metro Ópera', 'Estación 1': {'Nombre': 'Pza. del Carmen', 'Valor': 14542.0, 'Tipo': 'Óxidos de Nitrógeno'}}, {'museo': 'Museo Lázaro Galdiano', 'Estación 1': {'Nombre': 'Castellana', 'Valor': 11604.0, 'Tipo': 'Óxidos de Nitrógeno'}}, {'museo': 'Museo Nacional Centro de Arte Reina Sofía (MNCARS)', 'Estación 1': {'Nombre': 'Parque del Retiro', 'Valor': 14941.0, 'Tipo': 'Ozono'}}, {'museo': 'Museo Nacional Thyssen-Bornemisza', 'Estación 1': {'Nombre': 'Pza. del Carmen', 'Valor': 14542.0, 'Tipo': 'Óxidos de Nitrógeno'}}, {'museo': 'Museo Nacional de Antropología', 'Estación 1': {'Nombre': 'Parque del Retiro', 'Valor': 14941.0, 'Tipo': 'Ozono'}}, {'museo': 'Museo Nacional de Artes Decorativas', 'Estación 1': {'Nombre': 'Parque del Retiro', 'Valor': 14941.0, 'Tipo': 'Ozono'}}, {'museo': 'Museo Nacional de Ciencias Naturales', 'Estación 1': {'Nombre': 'Castellana', 'Valor': 11604.0, 'Tipo': 'Óxidos de Nitrógeno'}}, {'museo': 'Museo Naval', 'Estación 1': {'Nombre': 'Pza. del Carmen', 'Valor': 14542.0, 'Tipo': 'Óxidos de Nitrógeno'}}, {'museo': 'Museo Postal y Telegráfico', 'Estación 1': {'Nombre': 'Barrio del Pilar', 'Valor': 15536.0, 'Tipo': 'Óxidos de Nitrógeno'}}, {'museo': 'Museo Sorolla', 'Estación 1': {'Nombre': 'Castellana', 'Valor': 11604.0, 'Tipo': 'Óxidos de Nitrógeno'}}, {'museo': 'Museo Taurino de la Comunidad de Madrid', 'Estación 1': {'Nombre': 'Escuelas Aguirre', 'Valor': 19486.0, 'Tipo': 'Óxidos de Nitrógeno'}}, {'museo': 'Museo Tiflológico', 'Estación 1': {'Nombre': 'Cuatro Caminos', 'Valor': 14986.0, 'Tipo': 'Óxidos de Nitrógeno'}}, {'museo': 'Museo de Aeronáutica y Astronáutica', 'Estación 1': {'Nombre': 'Farolillo', 'Valor': 15462.0, 'Tipo': 'Ozono'}}, {'museo': 'Museo de América', 'Estación 1': {'Nombre': 'Cuatro Caminos', 'Valor': 14986.0, 'Tipo': 'Óxidos de Nitrógeno'}}, {'museo': 'Museo de Arte Contemporáneo de Madrid', 'Estación 1': {'Nombre': 'Pza. de España', 'Valor': 20147.0, 'Tipo': 'Óxidos de Nitrógeno'}}, {'museo': 'Museo de Artes y Tradiciones Populares. Centro Cultural La Corrala', 'Estación 1': {'Nombre': 'Pza. del Carmen', 'Valor': 14542.0, 'Tipo': 'Óxidos de Nitrógeno'}}, {'museo': 'Museo de Astronomía y Geodesia', 'Estación 1': {'Nombre': 'Cuatro Caminos', 'Valor': 14986.0, 'Tipo': 'Óxidos de Nitrógeno'}}, {'museo': 'Museo de Bomberos', 'Estación 1': {'Nombre': 'Vallecas', 'Valor': 13080.0, 'Tipo': 'Óxidos de Nitrógeno'}}, {'museo': 'Museo de Calcografía Nacional', 'Estación 1': {'Nombre': 'Pza. del Carmen', 'Valor': 14542.0, 'Tipo': 'Óxidos de Nitrógeno'}}, {'museo': 'Museo de Cera', 'Estación 1': {'Nombre': 'Escuelas Aguirre', 'Valor': 19486.0, 'Tipo': 'Óxidos de Nitrógeno'}}, {'museo': 'Museo de Escultura al Aire Libre de la Castellana', 'Estación 1': {'Nombre': 'Castellana', 'Valor': 11604.0, 'Tipo': 'Óxidos de Nitrógeno'}}, {'museo': 'Museo de Historia de Madrid', 'Estación 1': {'Nombre': 'Pza. del Carmen', 'Valor': 14542.0, 'Tipo': 'Óxidos de Nitrógeno'}}, {'museo': 'Museo de Historia de la Comunidad Judía de Madrid', 'Estación 1': {'Nombre': 'Castellana', 'Valor': 11604.0, 'Tipo': 'Óxidos de Nitrógeno'}}, {'museo': 'Museo de San Isidro. Los Orígenes de Madrid', 'Estación 1': {'Nombre': 'Pza. del Carmen', 'Valor': 14542.0, 'Tipo': 'Óxidos de Nitrógeno'}}, {'museo': 'Museo de Sanidad e Higiene Pública', 'Estación 1': {'Nombre': 'Plaza Castilla', 'Valor': 14454.0, 'Tipo': 'Óxidos de Nitrógeno'}}, {'museo': 'Museo de la Biblioteca Nacional de España', 'Estación 1': {'Nombre': 'Escuelas Aguirre', 'Valor': 19486.0, 'Tipo': 'Óxidos de Nitrógeno'}}, {'museo': 'Museo de la Catedral de la Almudena', 'Estación 1': {'Nombre': 'Pza. de España', 'Valor': 20147.0, 'Tipo': 'Óxidos de Nitrógeno'}}, {'museo': 'Museo de la Farmacia Hispana', 'Estación 1': {'Nombre': 'Cuatro Caminos', 'Valor': 14986.0, 'Tipo': 'Óxidos de Nitrógeno'}}, {'museo': 'Museo de la Guardia Civil', 'Estación 1': {'Nombre': 'Cuatro Caminos', 'Valor': 14986.0, 'Tipo': 'Óxidos de Nitrógeno'}}, {'museo': 'Museo de la Real Academia de Bellas Artes de San Fernando', 'Estación 1': {'Nombre': 'Pza. del Carmen', 'Valor': 14542.0, 'Tipo': 'Óxidos de Nitrógeno'}}, {'museo': 'Museo del Ferrocarril de Madrid', 'Estación 1': {'Nombre': 'Mendez Alvaro', 'Valor': 12838.0, 'Tipo': 'Óxidos de Nitrógeno'}}, {'museo': 'Museo del Prado', 'Estación 1': {'Nombre': 'Parque del Retiro', 'Valor': 14941.0, 'Tipo': 'Ozono'}}, {'museo': 'Museo del Reloj Grassy', 'Estación 1': {'Nombre': 'Pza. del Carmen', 'Valor': 14542.0, 'Tipo': 'Óxidos de Nitrógeno'}}, {'museo': 'Museo del Romanticismo', 'Estación 1': {'Nombre': 'Pza. del Carmen', 'Valor': 14542.0, 'Tipo': 'Óxidos de Nitrógeno'}}, {'museo': 'Museo del Seguro. Fundación Mapfre', 'Estación 1': {'Nombre': 'Escuelas Aguirre', 'Valor': 19486.0, 'Tipo': 'Óxidos de Nitrógeno'}}, {'museo': 'Museo del Traje. Centro de Investigación del Patrimonio Etnológico (CIPE)', 'Estación 1': {'Nombre': 'Cuatro Caminos', 'Valor': 14986.0, 'Tipo': 'Óxidos de Nitrógeno'}}, {'museo': 'Palacio Real de El Pardo', 'Estación 1': {'Nombre': 'El Pardo', 'Valor': 16015.0, 'Tipo': 'Ozono'}}, {'museo': 'Palacio Real de Madrid', 'Estación 1': {'Nombre': 'Pza. de España', 'Valor': 20147.0, 'Tipo': 'Óxidos de Nitrógeno'}}, {'museo': 'Panteón de Hombres Ilustres', 'Estación 1': {'Nombre': 'Parque del Retiro', 'Valor': 14941.0, 'Tipo': 'Ozono'}}, {'museo': 'Parroquia Santa Cruz', 'Estación 1': {'Nombre': 'Pza. del Carmen', 'Valor': 14542.0, 'Tipo': 'Óxidos de Nitrógeno'}}, {'museo': 'Planetario de Madrid', 'Estación 1': {'Nombre': 'Mendez Alvaro', 'Valor': 12838.0, 'Tipo': 'Óxidos de Nitrógeno'}}, {'museo': 'Real Basílica San Francisco el Grande', 'Estación 1': {'Nombre': 'Pza. del Carmen', 'Valor': 14542.0, 'Tipo': 'Óxidos de Nitrógeno'}}, {'museo': 'Real Fábrica de Tapices', 'Estación 1': {'Nombre': 'Parque del Retiro', 'Valor': 14941.0, 'Tipo': 'Ozono'}}, {'museo': 'Real Monasterio de Santa Isabel', 'Estación 1': {'Nombre': 'Pza. del Carmen', 'Valor': 14542.0, 'Tipo': 'Óxidos de Nitrógeno'}}, {'museo': 'Real Monasterio de la Encarnación', 'Estación 1': {'Nombre': 'Pza. de España', 'Valor': 20147.0, 'Tipo': 'Óxidos de Nitrógeno'}}, {'museo': 'Templo de Debod', 'Estación 1': {'Nombre': 'Pza. de España', 'Valor': 20147.0, 'Tipo': 'Óxidos de Nitrógeno'}}, {'museo': 'The Robot Museum (Museo del Robot)', 'Estación 1': {'Nombre': 'Pza. de España', 'Valor': 20147.0, 'Tipo': 'Óxidos de Nitrógeno'}}, {'museo': 'Yacimiento paleontológico. Estación de Metro Carpetana', 'Estación 1': {'Nombre': 'Farolillo', 'Valor': 15462.0, 'Tipo': 'Ozono'}}, {'museo': 'Zapadores Ciudad del Arte. Museo Siglo XXI', 'Estación 1': {'Nombre': 'Tres Olivos', 'Valor': 16864.0, 'Tipo': 'Ozono'}}]}\n"
     ]
    }
   ],
   "source": [
    "leer = json.loads(open('Salida.json',encoding=\"utf8\").read())\n",
    "print(leer)"
   ]
  },
  {
   "cell_type": "markdown",
   "metadata": {},
   "source": [
    "En los documentos __Estación.csv__ y __Museos.json__ aparece la información de geolocalización en forma de longitud y latitud tanto de las estaciones como de los museos. En este sentido, para calcular la distancia entre dos puntos dadas sus coordenadas se utilizará la siguiente función en Python:"
   ]
  },
  {
   "cell_type": "raw",
   "metadata": {},
   "source": [
    "import math\n",
    "\n",
    "def haversine(lat1, lon1, lat2, lon2):\n",
    "    rad=math.pi/180\n",
    "    dlat=lat2-lat1\n",
    "    dlon=lon2-lon1\n",
    "    R=6372.795477598\n",
    "    a=(math.sin(rad*dlat/2))**2 + math.cos(rad*lat1)*math.cos(rad*lat2)*(math.sin(rad*dlon/2))**2\n",
    "    distancia=2*R*math.asin(math.sqrt(a))\n",
    "    return distancia"
   ]
  },
  {
   "cell_type": "markdown",
   "metadata": {},
   "source": [
    "#### Normas de entrega\n",
    "\n",
    "* Fecha tope de entrega: 03/10/2019\n",
    "* La entrega se realizará subiendo al campus virtual un notebook de Jupyter con la solución. El archivo tendrá como nombre FormatosI_GrupoX donde X será el número de grupo correspondiente."
   ]
  }
 ],
 "metadata": {
  "kernelspec": {
   "display_name": "Python 3",
   "language": "python",
   "name": "python3"
  },
  "language_info": {
   "codemirror_mode": {
    "name": "ipython",
    "version": 3
   },
   "file_extension": ".py",
   "mimetype": "text/x-python",
   "name": "python",
   "nbconvert_exporter": "python",
   "pygments_lexer": "ipython3",
   "version": "3.7.3"
  }
 },
 "nbformat": 4,
 "nbformat_minor": 2
}

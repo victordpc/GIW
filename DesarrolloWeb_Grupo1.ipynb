{
 "cells": [
  {
   "cell_type": "markdown",
   "metadata": {},
   "source": [
    "### Práctica sobre Desarrollo de aplicaciones web con Bottle"
   ]
  },
  {
   "cell_type": "markdown",
   "metadata": {},
   "source": [
    "Se desea ampliar la práctica 5 sobre las plantas medicinales creando una aplicación web que actúe a modo de capa de presentación. Para ello se va a utilizar Bottle.\n",
    "\n",
    "Se pide crear una aplicación web que tenga una página principal que mostrará un conjunto enlaces que representan los servicios que ofrece la aplicación[1 punto]:\n",
    "\n",
    "   * __Servicio 1__: Mostrar información sobre una planta seleccionada. Cuando el usuario pulsa sobre el servicio 1 se le mostrará un formulario en el que dispondrá varios desplegables donde podrá seleccionar la planta. Un seleccionable para elegir el grupo , y otro para seleccionar la planta del grupo que ha elegido.  Cuando pulse sobre un botón de tipo \"Enviar\", se le mostrará una nueva página que mostrará la descripción de la planta. En la página del formulario como en la del resultado habrá un enlace para volver a la página inicial[3 puntos]\n",
    "   \n",
    "   \n",
    "   * __Servicio 2__:Buscar planta por palabra clave. Si elige esta opción se le pedirá al usuario que introduzca un conjunto de palabras que se utilizarán para realizar una búsqueda sobre el texto de las descripciones asociadas a las plantas que aparecen en cada página. A continuación, si ha introducido más de una palabra, se le preguntará si quiere realizar una búsqueda de tipo \"AND\" o una búsqueda de tipo \"OR\", es decir si busca plantas donde aparece todas las palabras introducidas o si busca plantas donde aparecen alguna de las palabras introducidas. Cuando pulse sobre un botón de tipo \"Enviar\", se le mostrará una nueva página con un listado de todas las plantas junto a las descripciones de las mismas que cumplen las condiciones de búsqueda.  En la página del formulario como en la del resultado habrá un enlace para volver a la página inicial[3 puntos]\n",
    "\n",
    "   * __Servicio 3__:Buscar plantas por enfermedades. Si elige esta opción se le mostrará un listado chequeable donde seleccionará una o más enfermedades. Cuando pulse sobre un botón de tipo \"Enviar\", se le mostrará una nueva página con todas las plantas que pueden venir bien para esa enfermedad. Para ello se proporciona junto a la práctica un csv con nombres de enfermedades que servirá de entrada para generar el listado de enfermedades.En la página del formulario como en la del resultado habrá un enlace para volver a la página inicial[3 puntos]"
   ]
  },
  {
   "cell_type": "markdown",
   "metadata": {},
   "source": [
    "## Normas de entrega\n",
    "\n",
    "* Fecha tope de entrega: 31/10/2019\n",
    "* La entrega se realizará subiendo al campus virtual un notebook de Jupyter con la solución. El archivo tendrá como nombre DesarrolloWeb_GrupoX donde X será el número de grupo correspondiente."
   ]
  },
  {
   "cell_type": "code",
   "execution_count": 10,
   "metadata": {},
   "outputs": [],
   "source": [
    "from bottle import route, run\n"
   ]
  },
  {
   "cell_type": "code",
   "execution_count": null,
   "metadata": {},
   "outputs": [],
   "source": []
  }
 ],
 "metadata": {
  "kernelspec": {
   "display_name": "Python 3",
   "language": "python",
   "name": "python3"
  },
  "language_info": {
   "codemirror_mode": {
    "name": "ipython",
    "version": 3
   },
   "file_extension": ".py",
   "mimetype": "text/x-python",
   "name": "python",
   "nbconvert_exporter": "python",
   "pygments_lexer": "ipython3",
   "version": "3.7.4"
  }
 },
 "nbformat": 4,
 "nbformat_minor": 2
}
